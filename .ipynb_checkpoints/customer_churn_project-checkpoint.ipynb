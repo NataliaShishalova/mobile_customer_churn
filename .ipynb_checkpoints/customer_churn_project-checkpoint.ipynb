{
 "cells": [
  {
   "cell_type": "markdown",
   "metadata": {
    "toc": true
   },
   "source": [
    "<h1>Содержание<span class=\"tocSkip\"></span></h1>\n",
    "<div class=\"toc\"><ul class=\"toc-item\"><li><span><a href=\"#Обзор-данных\" data-toc-modified-id=\"Обзор-данных-1\"><span class=\"toc-item-num\">1&nbsp;&nbsp;</span>Обзор данных</a></span></li><li><span><a href=\"#Подготовка-данных\" data-toc-modified-id=\"Подготовка-данных-2\"><span class=\"toc-item-num\">2&nbsp;&nbsp;</span>Подготовка данных</a></span><ul class=\"toc-item\"><li><span><a href=\"#Предобработка-данных\" data-toc-modified-id=\"Предобработка-данных-2.1\"><span class=\"toc-item-num\">2.1&nbsp;&nbsp;</span>Предобработка данных</a></span></li><li><span><a href=\"#Подготовка-данных-для-обучения\" data-toc-modified-id=\"Подготовка-данных-для-обучения-2.2\"><span class=\"toc-item-num\">2.2&nbsp;&nbsp;</span>Подготовка данных для обучения</a></span></li><li><span><a href=\"#Деление-данных-на-выборки\" data-toc-modified-id=\"Деление-данных-на-выборки-2.3\"><span class=\"toc-item-num\">2.3&nbsp;&nbsp;</span>Деление данных на выборки</a></span></li></ul></li><li><span><a href=\"#Исследование-задачи\" data-toc-modified-id=\"Исследование-задачи-3\"><span class=\"toc-item-num\">3&nbsp;&nbsp;</span>Исследование задачи</a></span><ul class=\"toc-item\"><li><span><a href=\"#Дерево-решений\" data-toc-modified-id=\"Дерево-решений-3.1\"><span class=\"toc-item-num\">3.1&nbsp;&nbsp;</span>Дерево решений</a></span></li><li><span><a href=\"#Случайный-лес\" data-toc-modified-id=\"Случайный-лес-3.2\"><span class=\"toc-item-num\">3.2&nbsp;&nbsp;</span>Случайный лес</a></span></li><li><span><a href=\"#Логистическая-регрессия\" data-toc-modified-id=\"Логистическая-регрессия-3.3\"><span class=\"toc-item-num\">3.3&nbsp;&nbsp;</span>Логистическая регрессия</a></span></li></ul></li><li><span><a href=\"#Борьба-с-дисбалансом\" data-toc-modified-id=\"Борьба-с-дисбалансом-4\"><span class=\"toc-item-num\">4&nbsp;&nbsp;</span>Борьба с дисбалансом</a></span><ul class=\"toc-item\"><li><span><a href=\"#Взвешивание-классов\" data-toc-modified-id=\"Взвешивание-классов-4.1\"><span class=\"toc-item-num\">4.1&nbsp;&nbsp;</span>Взвешивание классов</a></span></li><li><span><a href=\"#Увеличение-выборки\" data-toc-modified-id=\"Увеличение-выборки-4.2\"><span class=\"toc-item-num\">4.2&nbsp;&nbsp;</span>Увеличение выборки</a></span></li><li><span><a href=\"#Уменьшение-выборки\" data-toc-modified-id=\"Уменьшение-выборки-4.3\"><span class=\"toc-item-num\">4.3&nbsp;&nbsp;</span>Уменьшение выборки</a></span></li></ul></li><li><span><a href=\"#Порог-классификации\" data-toc-modified-id=\"Порог-классификации-5\"><span class=\"toc-item-num\">5&nbsp;&nbsp;</span>Порог классификации</a></span><ul class=\"toc-item\"><li><span><a href=\"#Дерево-решений\" data-toc-modified-id=\"Дерево-решений-5.1\"><span class=\"toc-item-num\">5.1&nbsp;&nbsp;</span>Дерево решений</a></span></li><li><span><a href=\"#Случайный-лес\" data-toc-modified-id=\"Случайный-лес-5.2\"><span class=\"toc-item-num\">5.2&nbsp;&nbsp;</span>Случайный лес</a></span></li><li><span><a href=\"#Логистическая-регрессия\" data-toc-modified-id=\"Логистическая-регрессия-5.3\"><span class=\"toc-item-num\">5.3&nbsp;&nbsp;</span>Логистическая регрессия</a></span></li></ul></li><li><span><a href=\"#Тестирование-модели\" data-toc-modified-id=\"Тестирование-модели-6\"><span class=\"toc-item-num\">6&nbsp;&nbsp;</span>Тестирование модели</a></span></li><li><span><a href=\"#Общий-вывод\" data-toc-modified-id=\"Общий-вывод-7\"><span class=\"toc-item-num\">7&nbsp;&nbsp;</span>Общий вывод</a></span></li></ul></div>"
   ]
  },
  {
   "cell_type": "markdown",
   "metadata": {},
   "source": [
    "# Отток клиентов"
   ]
  },
  {
   "cell_type": "markdown",
   "metadata": {},
   "source": [
    "Из «Бета-Банка» стали уходить клиенты. Каждый месяц. Немного, но заметно. Банковские маркетологи посчитали: сохранять текущих клиентов дешевле, чем привлекать новых.\n",
    "\n",
    "Нужно спрогнозировать, уйдёт клиент из банка в ближайшее время или нет. Вам предоставлены исторические данные о поведении клиентов и расторжении договоров с банком. \n",
    "\n",
    "Постройте модель с предельно большим значением *F1*-меры. Чтобы сдать проект успешно, нужно довести метрику до 0.59. Проверьте *F1*-меру на тестовой выборке самостоятельно.\n",
    "\n",
    "Дополнительно измеряйте *AUC-ROC*, сравнивайте её значение с *F1*-мерой.\n",
    "\n",
    "Источник данных: [https://www.kaggle.com/barelydedicated/bank-customer-churn-modeling](https://www.kaggle.com/barelydedicated/bank-customer-churn-modeling)"
   ]
  },
  {
   "cell_type": "markdown",
   "metadata": {},
   "source": [
    "## Обзор данных"
   ]
  },
  {
   "cell_type": "markdown",
   "metadata": {},
   "source": [
    "У нас в распоряжении есть таблица  с необходимой информацией. Загрузим ее и выведем общую информацию."
   ]
  },
  {
   "cell_type": "code",
   "execution_count": 5,
   "metadata": {},
   "outputs": [],
   "source": [
    "# импорт необходимых библиотек \n",
    "import pandas as pd \n",
    "import matplotlib.pyplot as plt\n",
    "import seaborn as sns\n",
    "import numpy as np\n",
    "\n",
    "from sklearn.preprocessing import StandardScaler\n",
    "from sklearn.model_selection import train_test_split\n",
    "from sklearn.tree import DecisionTreeClassifier\n",
    "from sklearn.linear_model import LogisticRegression\n",
    "from sklearn.ensemble import RandomForestClassifier\n",
    "from sklearn.utils import shuffle\n",
    "from sklearn.metrics import confusion_matrix\n",
    "from sklearn.metrics import precision_score\n",
    "from sklearn.metrics import recall_score\n",
    "from sklearn.metrics import f1_score\n",
    "from sklearn.metrics import roc_curve\n",
    "from sklearn.metrics import accuracy_score\n",
    "from sklearn.metrics import roc_auc_score\n",
    "from sklearn.metrics import auc\n",
    "from sklearn.metrics import precision_recall_curve\n",
    "from tqdm.notebook import tqdm\n",
    "\n",
    "pd.options.mode.chained_assignment = None\n",
    "import warnings\n",
    "warnings.filterwarnings(\"ignore\")\n",
    "\n",
    "sns.set_style(\"darkgrid\")"
   ]
  },
  {
   "cell_type": "code",
   "execution_count": 7,
   "metadata": {},
   "outputs": [
    {
     "data": {
      "text/html": [
       "<div>\n",
       "<style scoped>\n",
       "    .dataframe tbody tr th:only-of-type {\n",
       "        vertical-align: middle;\n",
       "    }\n",
       "\n",
       "    .dataframe tbody tr th {\n",
       "        vertical-align: top;\n",
       "    }\n",
       "\n",
       "    .dataframe thead th {\n",
       "        text-align: right;\n",
       "    }\n",
       "</style>\n",
       "<table border=\"1\" class=\"dataframe\">\n",
       "  <thead>\n",
       "    <tr style=\"text-align: right;\">\n",
       "      <th></th>\n",
       "      <th>Unnamed: 0</th>\n",
       "      <th>RowNumber</th>\n",
       "      <th>CustomerId</th>\n",
       "      <th>Surname</th>\n",
       "      <th>CreditScore</th>\n",
       "      <th>Geography</th>\n",
       "      <th>Gender</th>\n",
       "      <th>Age</th>\n",
       "      <th>Tenure</th>\n",
       "      <th>Balance</th>\n",
       "      <th>NumOfProducts</th>\n",
       "      <th>HasCrCard</th>\n",
       "      <th>IsActiveMember</th>\n",
       "      <th>EstimatedSalary</th>\n",
       "      <th>Exited</th>\n",
       "    </tr>\n",
       "  </thead>\n",
       "  <tbody>\n",
       "    <tr>\n",
       "      <th>0</th>\n",
       "      <td>0</td>\n",
       "      <td>1</td>\n",
       "      <td>15634602</td>\n",
       "      <td>Hargrave</td>\n",
       "      <td>619</td>\n",
       "      <td>France</td>\n",
       "      <td>Female</td>\n",
       "      <td>42</td>\n",
       "      <td>2.0</td>\n",
       "      <td>0.00</td>\n",
       "      <td>1</td>\n",
       "      <td>1</td>\n",
       "      <td>1</td>\n",
       "      <td>101348.88</td>\n",
       "      <td>1</td>\n",
       "    </tr>\n",
       "    <tr>\n",
       "      <th>1</th>\n",
       "      <td>1</td>\n",
       "      <td>2</td>\n",
       "      <td>15647311</td>\n",
       "      <td>Hill</td>\n",
       "      <td>608</td>\n",
       "      <td>Spain</td>\n",
       "      <td>Female</td>\n",
       "      <td>41</td>\n",
       "      <td>1.0</td>\n",
       "      <td>83807.86</td>\n",
       "      <td>1</td>\n",
       "      <td>0</td>\n",
       "      <td>1</td>\n",
       "      <td>112542.58</td>\n",
       "      <td>0</td>\n",
       "    </tr>\n",
       "    <tr>\n",
       "      <th>2</th>\n",
       "      <td>2</td>\n",
       "      <td>3</td>\n",
       "      <td>15619304</td>\n",
       "      <td>Onio</td>\n",
       "      <td>502</td>\n",
       "      <td>France</td>\n",
       "      <td>Female</td>\n",
       "      <td>42</td>\n",
       "      <td>8.0</td>\n",
       "      <td>159660.80</td>\n",
       "      <td>3</td>\n",
       "      <td>1</td>\n",
       "      <td>0</td>\n",
       "      <td>113931.57</td>\n",
       "      <td>1</td>\n",
       "    </tr>\n",
       "    <tr>\n",
       "      <th>3</th>\n",
       "      <td>3</td>\n",
       "      <td>4</td>\n",
       "      <td>15701354</td>\n",
       "      <td>Boni</td>\n",
       "      <td>699</td>\n",
       "      <td>France</td>\n",
       "      <td>Female</td>\n",
       "      <td>39</td>\n",
       "      <td>1.0</td>\n",
       "      <td>0.00</td>\n",
       "      <td>2</td>\n",
       "      <td>0</td>\n",
       "      <td>0</td>\n",
       "      <td>93826.63</td>\n",
       "      <td>0</td>\n",
       "    </tr>\n",
       "    <tr>\n",
       "      <th>4</th>\n",
       "      <td>4</td>\n",
       "      <td>5</td>\n",
       "      <td>15737888</td>\n",
       "      <td>Mitchell</td>\n",
       "      <td>850</td>\n",
       "      <td>Spain</td>\n",
       "      <td>Female</td>\n",
       "      <td>43</td>\n",
       "      <td>2.0</td>\n",
       "      <td>125510.82</td>\n",
       "      <td>1</td>\n",
       "      <td>1</td>\n",
       "      <td>1</td>\n",
       "      <td>79084.10</td>\n",
       "      <td>0</td>\n",
       "    </tr>\n",
       "    <tr>\n",
       "      <th>5</th>\n",
       "      <td>5</td>\n",
       "      <td>6</td>\n",
       "      <td>15574012</td>\n",
       "      <td>Chu</td>\n",
       "      <td>645</td>\n",
       "      <td>Spain</td>\n",
       "      <td>Male</td>\n",
       "      <td>44</td>\n",
       "      <td>8.0</td>\n",
       "      <td>113755.78</td>\n",
       "      <td>2</td>\n",
       "      <td>1</td>\n",
       "      <td>0</td>\n",
       "      <td>149756.71</td>\n",
       "      <td>1</td>\n",
       "    </tr>\n",
       "    <tr>\n",
       "      <th>6</th>\n",
       "      <td>6</td>\n",
       "      <td>7</td>\n",
       "      <td>15592531</td>\n",
       "      <td>Bartlett</td>\n",
       "      <td>822</td>\n",
       "      <td>France</td>\n",
       "      <td>Male</td>\n",
       "      <td>50</td>\n",
       "      <td>7.0</td>\n",
       "      <td>0.00</td>\n",
       "      <td>2</td>\n",
       "      <td>1</td>\n",
       "      <td>1</td>\n",
       "      <td>10062.80</td>\n",
       "      <td>0</td>\n",
       "    </tr>\n",
       "    <tr>\n",
       "      <th>7</th>\n",
       "      <td>7</td>\n",
       "      <td>8</td>\n",
       "      <td>15656148</td>\n",
       "      <td>Obinna</td>\n",
       "      <td>376</td>\n",
       "      <td>Germany</td>\n",
       "      <td>Female</td>\n",
       "      <td>29</td>\n",
       "      <td>4.0</td>\n",
       "      <td>115046.74</td>\n",
       "      <td>4</td>\n",
       "      <td>1</td>\n",
       "      <td>0</td>\n",
       "      <td>119346.88</td>\n",
       "      <td>1</td>\n",
       "    </tr>\n",
       "    <tr>\n",
       "      <th>8</th>\n",
       "      <td>8</td>\n",
       "      <td>9</td>\n",
       "      <td>15792365</td>\n",
       "      <td>He</td>\n",
       "      <td>501</td>\n",
       "      <td>France</td>\n",
       "      <td>Male</td>\n",
       "      <td>44</td>\n",
       "      <td>4.0</td>\n",
       "      <td>142051.07</td>\n",
       "      <td>2</td>\n",
       "      <td>0</td>\n",
       "      <td>1</td>\n",
       "      <td>74940.50</td>\n",
       "      <td>0</td>\n",
       "    </tr>\n",
       "    <tr>\n",
       "      <th>9</th>\n",
       "      <td>9</td>\n",
       "      <td>10</td>\n",
       "      <td>15592389</td>\n",
       "      <td>H?</td>\n",
       "      <td>684</td>\n",
       "      <td>France</td>\n",
       "      <td>Male</td>\n",
       "      <td>27</td>\n",
       "      <td>2.0</td>\n",
       "      <td>134603.88</td>\n",
       "      <td>1</td>\n",
       "      <td>1</td>\n",
       "      <td>1</td>\n",
       "      <td>71725.73</td>\n",
       "      <td>0</td>\n",
       "    </tr>\n",
       "  </tbody>\n",
       "</table>\n",
       "</div>"
      ],
      "text/plain": [
       "   Unnamed: 0  RowNumber  CustomerId   Surname  CreditScore Geography  Gender  \\\n",
       "0           0          1    15634602  Hargrave          619    France  Female   \n",
       "1           1          2    15647311      Hill          608     Spain  Female   \n",
       "2           2          3    15619304      Onio          502    France  Female   \n",
       "3           3          4    15701354      Boni          699    France  Female   \n",
       "4           4          5    15737888  Mitchell          850     Spain  Female   \n",
       "5           5          6    15574012       Chu          645     Spain    Male   \n",
       "6           6          7    15592531  Bartlett          822    France    Male   \n",
       "7           7          8    15656148    Obinna          376   Germany  Female   \n",
       "8           8          9    15792365        He          501    France    Male   \n",
       "9           9         10    15592389        H?          684    France    Male   \n",
       "\n",
       "   Age  Tenure    Balance  NumOfProducts  HasCrCard  IsActiveMember  \\\n",
       "0   42     2.0       0.00              1          1               1   \n",
       "1   41     1.0   83807.86              1          0               1   \n",
       "2   42     8.0  159660.80              3          1               0   \n",
       "3   39     1.0       0.00              2          0               0   \n",
       "4   43     2.0  125510.82              1          1               1   \n",
       "5   44     8.0  113755.78              2          1               0   \n",
       "6   50     7.0       0.00              2          1               1   \n",
       "7   29     4.0  115046.74              4          1               0   \n",
       "8   44     4.0  142051.07              2          0               1   \n",
       "9   27     2.0  134603.88              1          1               1   \n",
       "\n",
       "   EstimatedSalary  Exited  \n",
       "0        101348.88       1  \n",
       "1        112542.58       0  \n",
       "2        113931.57       1  \n",
       "3         93826.63       0  \n",
       "4         79084.10       0  \n",
       "5        149756.71       1  \n",
       "6         10062.80       0  \n",
       "7        119346.88       1  \n",
       "8         74940.50       0  \n",
       "9         71725.73       0  "
      ]
     },
     "execution_count": 7,
     "metadata": {},
     "output_type": "execute_result"
    }
   ],
   "source": [
    "# загрузка файла Churn.csv\n",
    "data = pd.read_csv('datasets/Churn.csv')\n",
    "data.head(10)"
   ]
  },
  {
   "cell_type": "markdown",
   "metadata": {},
   "source": [
    "**Описание данных:**\n",
    "\n",
    "Таблица содержит множество информации о клиентов. Описание столбцов:\n",
    "\n",
    "+ *RowNumber* — индекс строки в данных\n",
    "+ *CustomerId* — уникальный идентификатор клиента\n",
    "+ *Surname* — фамилия\n",
    "+ *CreditScore* — кредитный рейтинг\n",
    "+ *Geography* — страна проживания\n",
    "+ *Gender* — пол\n",
    "+ *Age* — возраст\n",
    "+ *Tenure* — сколько лет человек является клиентом банка\n",
    "+ *Balance* — баланс на счёте\n",
    "+ *NumOfProducts* — количество продуктов банка, используемых клиентом\n",
    "+ *HasCrCard* — наличие кредитной карты\n",
    "+ *IsActiveMember* — активность клиента\n",
    "+ *EstimatedSalary* — предполагаемая зарплата\n",
    "\n",
    "Выведем теперь общую информацию о таблице\n"
   ]
  },
  {
   "cell_type": "code",
   "execution_count": 3,
   "metadata": {},
   "outputs": [
    {
     "name": "stdout",
     "output_type": "stream",
     "text": [
      "<class 'pandas.core.frame.DataFrame'>\n",
      "RangeIndex: 10000 entries, 0 to 9999\n",
      "Data columns (total 14 columns):\n",
      "RowNumber          10000 non-null int64\n",
      "CustomerId         10000 non-null int64\n",
      "Surname            10000 non-null object\n",
      "CreditScore        10000 non-null int64\n",
      "Geography          10000 non-null object\n",
      "Gender             10000 non-null object\n",
      "Age                10000 non-null int64\n",
      "Tenure             9091 non-null float64\n",
      "Balance            10000 non-null float64\n",
      "NumOfProducts      10000 non-null int64\n",
      "HasCrCard          10000 non-null int64\n",
      "IsActiveMember     10000 non-null int64\n",
      "EstimatedSalary    10000 non-null float64\n",
      "Exited             10000 non-null int64\n",
      "dtypes: float64(3), int64(8), object(3)\n",
      "memory usage: 1.1+ MB\n"
     ]
    }
   ],
   "source": [
    "#  вывод общей информации\n",
    "data.info()"
   ]
  },
  {
   "cell_type": "markdown",
   "metadata": {},
   "source": [
    "**Вывод**\n",
    "\n",
    "В нашей задаче необходимо построить модель, которая спрогнозирует уйдет ли клиент или нет. На первый взгляд кажется, что в таблице достаточно данных для этого. В одной из колонок есть пропуски, дальше нам стоит обработать их. \n",
    "Так же мы видим, что часть колонок не несут важной информации для модели. Нужна подготовка."
   ]
  },
  {
   "cell_type": "markdown",
   "metadata": {},
   "source": [
    "## Подготовка данных"
   ]
  },
  {
   "cell_type": "markdown",
   "metadata": {},
   "source": [
    "### Предобработка данных "
   ]
  },
  {
   "cell_type": "markdown",
   "metadata": {},
   "source": [
    "Переименум столбцы для более удобной работы - приведем все названия к змеиному языку."
   ]
  },
  {
   "cell_type": "code",
   "execution_count": 4,
   "metadata": {},
   "outputs": [
    {
     "data": {
      "text/plain": [
       "Index(['RowNumber', 'CustomerId', 'Surname', 'CreditScore', 'Geography',\n",
       "       'Gender', 'Age', 'Tenure', 'Balance', 'NumOfProducts', 'HasCrCard',\n",
       "       'IsActiveMember', 'EstimatedSalary', 'Exited'],\n",
       "      dtype='object')"
      ]
     },
     "execution_count": 4,
     "metadata": {},
     "output_type": "execute_result"
    }
   ],
   "source": [
    "data.columns"
   ]
  },
  {
   "cell_type": "code",
   "execution_count": 5,
   "metadata": {},
   "outputs": [],
   "source": [
    "# переименование столбцов \n",
    "data.columns = ['row_number', 'customer_id', 'surname', 'credit_score', 'geography',\n",
    "       'gender', 'age', 'tenure', 'balance', 'num_of_products', 'has_cr_card',\n",
    "       'is_active_member', 'estimated_salary', 'exited']"
   ]
  },
  {
   "cell_type": "markdown",
   "metadata": {},
   "source": [
    "Проверим таблицу на дубликаты "
   ]
  },
  {
   "cell_type": "code",
   "execution_count": 6,
   "metadata": {
    "scrolled": true
   },
   "outputs": [
    {
     "data": {
      "text/plain": [
       "0"
      ]
     },
     "execution_count": 6,
     "metadata": {},
     "output_type": "execute_result"
    }
   ],
   "source": [
    "# проверка на дубликаты\n",
    "data.duplicated().sum()"
   ]
  },
  {
   "cell_type": "markdown",
   "metadata": {},
   "source": [
    "Дубликатов нет. \n",
    "\n",
    "Теперь посмотрим на типы данных и пропуски. "
   ]
  },
  {
   "cell_type": "code",
   "execution_count": 7,
   "metadata": {
    "scrolled": true
   },
   "outputs": [
    {
     "data": {
      "text/plain": [
       "row_number            int64\n",
       "customer_id           int64\n",
       "surname              object\n",
       "credit_score          int64\n",
       "geography            object\n",
       "gender               object\n",
       "age                   int64\n",
       "tenure              float64\n",
       "balance             float64\n",
       "num_of_products       int64\n",
       "has_cr_card           int64\n",
       "is_active_member      int64\n",
       "estimated_salary    float64\n",
       "exited                int64\n",
       "dtype: object"
      ]
     },
     "execution_count": 7,
     "metadata": {},
     "output_type": "execute_result"
    }
   ],
   "source": [
    "# типы данных столбцов \n",
    "data.dtypes"
   ]
  },
  {
   "cell_type": "code",
   "execution_count": 8,
   "metadata": {},
   "outputs": [
    {
     "data": {
      "text/plain": [
       "row_number            0\n",
       "customer_id           0\n",
       "surname               0\n",
       "credit_score          0\n",
       "geography             0\n",
       "gender                0\n",
       "age                   0\n",
       "tenure              909\n",
       "balance               0\n",
       "num_of_products       0\n",
       "has_cr_card           0\n",
       "is_active_member      0\n",
       "estimated_salary      0\n",
       "exited                0\n",
       "dtype: int64"
      ]
     },
     "execution_count": 8,
     "metadata": {},
     "output_type": "execute_result"
    }
   ],
   "source": [
    "# сумма пропусков по столбцам\n",
    "data.isna().sum()"
   ]
  },
  {
   "cell_type": "markdown",
   "metadata": {},
   "source": [
    "В столбце tenure значение float вместо int. Это связано с наличием пропусков в данных. Как раз в этом столбце 9% пропусков. Посмотрим какие есть значения в этом столбце. "
   ]
  },
  {
   "cell_type": "code",
   "execution_count": 9,
   "metadata": {
    "scrolled": false
   },
   "outputs": [
    {
     "data": {
      "text/html": [
       "<div>\n",
       "<style scoped>\n",
       "    .dataframe tbody tr th:only-of-type {\n",
       "        vertical-align: middle;\n",
       "    }\n",
       "\n",
       "    .dataframe tbody tr th {\n",
       "        vertical-align: top;\n",
       "    }\n",
       "\n",
       "    .dataframe thead th {\n",
       "        text-align: right;\n",
       "    }\n",
       "</style>\n",
       "<table border=\"1\" class=\"dataframe\">\n",
       "  <thead>\n",
       "    <tr style=\"text-align: right;\">\n",
       "      <th></th>\n",
       "      <th>tenure</th>\n",
       "    </tr>\n",
       "  </thead>\n",
       "  <tbody>\n",
       "    <tr>\n",
       "      <td>1.0</td>\n",
       "      <td>952</td>\n",
       "    </tr>\n",
       "    <tr>\n",
       "      <td>2.0</td>\n",
       "      <td>950</td>\n",
       "    </tr>\n",
       "    <tr>\n",
       "      <td>8.0</td>\n",
       "      <td>933</td>\n",
       "    </tr>\n",
       "    <tr>\n",
       "      <td>3.0</td>\n",
       "      <td>928</td>\n",
       "    </tr>\n",
       "    <tr>\n",
       "      <td>5.0</td>\n",
       "      <td>927</td>\n",
       "    </tr>\n",
       "    <tr>\n",
       "      <td>7.0</td>\n",
       "      <td>925</td>\n",
       "    </tr>\n",
       "    <tr>\n",
       "      <td>4.0</td>\n",
       "      <td>885</td>\n",
       "    </tr>\n",
       "    <tr>\n",
       "      <td>9.0</td>\n",
       "      <td>882</td>\n",
       "    </tr>\n",
       "    <tr>\n",
       "      <td>6.0</td>\n",
       "      <td>881</td>\n",
       "    </tr>\n",
       "    <tr>\n",
       "      <td>10.0</td>\n",
       "      <td>446</td>\n",
       "    </tr>\n",
       "    <tr>\n",
       "      <td>0.0</td>\n",
       "      <td>382</td>\n",
       "    </tr>\n",
       "  </tbody>\n",
       "</table>\n",
       "</div>"
      ],
      "text/plain": [
       "      tenure\n",
       "1.0      952\n",
       "2.0      950\n",
       "8.0      933\n",
       "3.0      928\n",
       "5.0      927\n",
       "7.0      925\n",
       "4.0      885\n",
       "9.0      882\n",
       "6.0      881\n",
       "10.0     446\n",
       "0.0      382"
      ]
     },
     "execution_count": 9,
     "metadata": {},
     "output_type": "execute_result"
    }
   ],
   "source": [
    "data['tenure'].value_counts().to_frame()"
   ]
  },
  {
   "cell_type": "markdown",
   "metadata": {},
   "source": [
    "Столбец хранит число лет, на протяении которых клиент используюет продукты банка. Максимальное число - 10. Так же есть нулевые значения, они показывают, что клиент является клиентом банка меньше года. Надо решить, что делать с пропусками. Возможно 4 варианта: \n",
    "- удалить строки с пропусками в tunure. В этом случае потеряется 9% данных, что не очень хорошо для задачи. \n",
    "\n",
    "\n",
    "- заполнить пропуски медианным значением. Можно сгруппировать данные по нескольким столбцам, например полу и  возрасту, и заполнить пропуски медианным значением. \n",
    "\n",
    "\n",
    "- не влючать столбец tenure в список признаков. Допустим, что значение в tenure  сильно коррелируют с каким то другим столбцом. В этом случае достаточно включить в признаки только один из этих столбцов. \n",
    "\n",
    "- заполнить пропуски случайными числами, чтобы они никак не влияли на распределение\n",
    "\n",
    "Построим матрицу корреляции, чтобы проверить 3 гипотезу\n",
    "\n",
    "\n"
   ]
  },
  {
   "cell_type": "code",
   "execution_count": 10,
   "metadata": {
    "scrolled": true
   },
   "outputs": [
    {
     "data": {
      "text/html": [
       "<style  type=\"text/css\" >\n",
       "    #T_dadee6a4_23ae_11ec_8071_02420a391d73row0_col0 {\n",
       "            background-color:  #b40426;\n",
       "            color:  #f1f1f1;\n",
       "        }    #T_dadee6a4_23ae_11ec_8071_02420a391d73row0_col1 {\n",
       "            background-color:  #4257c9;\n",
       "            color:  #f1f1f1;\n",
       "        }    #T_dadee6a4_23ae_11ec_8071_02420a391d73row0_col2 {\n",
       "            background-color:  #445acc;\n",
       "            color:  #f1f1f1;\n",
       "        }    #T_dadee6a4_23ae_11ec_8071_02420a391d73row0_col3 {\n",
       "            background-color:  #4358cb;\n",
       "            color:  #f1f1f1;\n",
       "        }    #T_dadee6a4_23ae_11ec_8071_02420a391d73row0_col4 {\n",
       "            background-color:  #4257c9;\n",
       "            color:  #f1f1f1;\n",
       "        }    #T_dadee6a4_23ae_11ec_8071_02420a391d73row0_col5 {\n",
       "            background-color:  #84a7fc;\n",
       "            color:  #000000;\n",
       "        }    #T_dadee6a4_23ae_11ec_8071_02420a391d73row0_col6 {\n",
       "            background-color:  #89acfd;\n",
       "            color:  #000000;\n",
       "        }    #T_dadee6a4_23ae_11ec_8071_02420a391d73row0_col7 {\n",
       "            background-color:  #3e51c5;\n",
       "            color:  #f1f1f1;\n",
       "        }    #T_dadee6a4_23ae_11ec_8071_02420a391d73row0_col8 {\n",
       "            background-color:  #688aef;\n",
       "            color:  #000000;\n",
       "        }    #T_dadee6a4_23ae_11ec_8071_02420a391d73row0_col9 {\n",
       "            background-color:  #3c4ec2;\n",
       "            color:  #f1f1f1;\n",
       "        }    #T_dadee6a4_23ae_11ec_8071_02420a391d73row0_col10 {\n",
       "            background-color:  #5f7fe8;\n",
       "            color:  #000000;\n",
       "        }    #T_dadee6a4_23ae_11ec_8071_02420a391d73row1_col0 {\n",
       "            background-color:  #4055c8;\n",
       "            color:  #f1f1f1;\n",
       "        }    #T_dadee6a4_23ae_11ec_8071_02420a391d73row1_col1 {\n",
       "            background-color:  #b40426;\n",
       "            color:  #f1f1f1;\n",
       "        }    #T_dadee6a4_23ae_11ec_8071_02420a391d73row1_col2 {\n",
       "            background-color:  #445acc;\n",
       "            color:  #f1f1f1;\n",
       "        }    #T_dadee6a4_23ae_11ec_8071_02420a391d73row1_col3 {\n",
       "            background-color:  #455cce;\n",
       "            color:  #f1f1f1;\n",
       "        }    #T_dadee6a4_23ae_11ec_8071_02420a391d73row1_col4 {\n",
       "            background-color:  #3d50c3;\n",
       "            color:  #f1f1f1;\n",
       "        }    #T_dadee6a4_23ae_11ec_8071_02420a391d73row1_col5 {\n",
       "            background-color:  #84a7fc;\n",
       "            color:  #000000;\n",
       "        }    #T_dadee6a4_23ae_11ec_8071_02420a391d73row1_col6 {\n",
       "            background-color:  #8caffe;\n",
       "            color:  #000000;\n",
       "        }    #T_dadee6a4_23ae_11ec_8071_02420a391d73row1_col7 {\n",
       "            background-color:  #3b4cc0;\n",
       "            color:  #f1f1f1;\n",
       "        }    #T_dadee6a4_23ae_11ec_8071_02420a391d73row1_col8 {\n",
       "            background-color:  #6485ec;\n",
       "            color:  #000000;\n",
       "        }    #T_dadee6a4_23ae_11ec_8071_02420a391d73row1_col9 {\n",
       "            background-color:  #4257c9;\n",
       "            color:  #f1f1f1;\n",
       "        }    #T_dadee6a4_23ae_11ec_8071_02420a391d73row1_col10 {\n",
       "            background-color:  #6384eb;\n",
       "            color:  #000000;\n",
       "        }    #T_dadee6a4_23ae_11ec_8071_02420a391d73row2_col0 {\n",
       "            background-color:  #4055c8;\n",
       "            color:  #f1f1f1;\n",
       "        }    #T_dadee6a4_23ae_11ec_8071_02420a391d73row2_col1 {\n",
       "            background-color:  #4257c9;\n",
       "            color:  #f1f1f1;\n",
       "        }    #T_dadee6a4_23ae_11ec_8071_02420a391d73row2_col2 {\n",
       "            background-color:  #b40426;\n",
       "            color:  #f1f1f1;\n",
       "        }    #T_dadee6a4_23ae_11ec_8071_02420a391d73row2_col3 {\n",
       "            background-color:  #4257c9;\n",
       "            color:  #f1f1f1;\n",
       "        }    #T_dadee6a4_23ae_11ec_8071_02420a391d73row2_col4 {\n",
       "            background-color:  #4358cb;\n",
       "            color:  #f1f1f1;\n",
       "        }    #T_dadee6a4_23ae_11ec_8071_02420a391d73row2_col5 {\n",
       "            background-color:  #88abfd;\n",
       "            color:  #000000;\n",
       "        }    #T_dadee6a4_23ae_11ec_8071_02420a391d73row2_col6 {\n",
       "            background-color:  #8badfd;\n",
       "            color:  #000000;\n",
       "        }    #T_dadee6a4_23ae_11ec_8071_02420a391d73row2_col7 {\n",
       "            background-color:  #3d50c3;\n",
       "            color:  #f1f1f1;\n",
       "        }    #T_dadee6a4_23ae_11ec_8071_02420a391d73row2_col8 {\n",
       "            background-color:  #6c8ff1;\n",
       "            color:  #000000;\n",
       "        }    #T_dadee6a4_23ae_11ec_8071_02420a391d73row2_col9 {\n",
       "            background-color:  #3d50c3;\n",
       "            color:  #f1f1f1;\n",
       "        }    #T_dadee6a4_23ae_11ec_8071_02420a391d73row2_col10 {\n",
       "            background-color:  #5d7ce6;\n",
       "            color:  #000000;\n",
       "        }    #T_dadee6a4_23ae_11ec_8071_02420a391d73row3_col0 {\n",
       "            background-color:  #3f53c6;\n",
       "            color:  #f1f1f1;\n",
       "        }    #T_dadee6a4_23ae_11ec_8071_02420a391d73row3_col1 {\n",
       "            background-color:  #4358cb;\n",
       "            color:  #f1f1f1;\n",
       "        }    #T_dadee6a4_23ae_11ec_8071_02420a391d73row3_col2 {\n",
       "            background-color:  #4055c8;\n",
       "            color:  #f1f1f1;\n",
       "        }    #T_dadee6a4_23ae_11ec_8071_02420a391d73row3_col3 {\n",
       "            background-color:  #b40426;\n",
       "            color:  #f1f1f1;\n",
       "        }    #T_dadee6a4_23ae_11ec_8071_02420a391d73row3_col4 {\n",
       "            background-color:  #3f53c6;\n",
       "            color:  #f1f1f1;\n",
       "        }    #T_dadee6a4_23ae_11ec_8071_02420a391d73row3_col5 {\n",
       "            background-color:  #8fb1fe;\n",
       "            color:  #000000;\n",
       "        }    #T_dadee6a4_23ae_11ec_8071_02420a391d73row3_col6 {\n",
       "            background-color:  #7ea1fa;\n",
       "            color:  #000000;\n",
       "        }    #T_dadee6a4_23ae_11ec_8071_02420a391d73row3_col7 {\n",
       "            background-color:  #3b4cc0;\n",
       "            color:  #f1f1f1;\n",
       "        }    #T_dadee6a4_23ae_11ec_8071_02420a391d73row3_col8 {\n",
       "            background-color:  #7ea1fa;\n",
       "            color:  #000000;\n",
       "        }    #T_dadee6a4_23ae_11ec_8071_02420a391d73row3_col9 {\n",
       "            background-color:  #3c4ec2;\n",
       "            color:  #f1f1f1;\n",
       "        }    #T_dadee6a4_23ae_11ec_8071_02420a391d73row3_col10 {\n",
       "            background-color:  #bad0f8;\n",
       "            color:  #000000;\n",
       "        }    #T_dadee6a4_23ae_11ec_8071_02420a391d73row4_col0 {\n",
       "            background-color:  #3d50c3;\n",
       "            color:  #f1f1f1;\n",
       "        }    #T_dadee6a4_23ae_11ec_8071_02420a391d73row4_col1 {\n",
       "            background-color:  #3b4cc0;\n",
       "            color:  #f1f1f1;\n",
       "        }    #T_dadee6a4_23ae_11ec_8071_02420a391d73row4_col2 {\n",
       "            background-color:  #4257c9;\n",
       "            color:  #f1f1f1;\n",
       "        }    #T_dadee6a4_23ae_11ec_8071_02420a391d73row4_col3 {\n",
       "            background-color:  #3f53c6;\n",
       "            color:  #f1f1f1;\n",
       "        }    #T_dadee6a4_23ae_11ec_8071_02420a391d73row4_col4 {\n",
       "            background-color:  #b40426;\n",
       "            color:  #f1f1f1;\n",
       "        }    #T_dadee6a4_23ae_11ec_8071_02420a391d73row4_col5 {\n",
       "            background-color:  #85a8fc;\n",
       "            color:  #000000;\n",
       "        }    #T_dadee6a4_23ae_11ec_8071_02420a391d73row4_col6 {\n",
       "            background-color:  #8badfd;\n",
       "            color:  #000000;\n",
       "        }    #T_dadee6a4_23ae_11ec_8071_02420a391d73row4_col7 {\n",
       "            background-color:  #465ecf;\n",
       "            color:  #f1f1f1;\n",
       "        }    #T_dadee6a4_23ae_11ec_8071_02420a391d73row4_col8 {\n",
       "            background-color:  #5b7ae5;\n",
       "            color:  #000000;\n",
       "        }    #T_dadee6a4_23ae_11ec_8071_02420a391d73row4_col9 {\n",
       "            background-color:  #4055c8;\n",
       "            color:  #f1f1f1;\n",
       "        }    #T_dadee6a4_23ae_11ec_8071_02420a391d73row4_col10 {\n",
       "            background-color:  #5f7fe8;\n",
       "            color:  #000000;\n",
       "        }    #T_dadee6a4_23ae_11ec_8071_02420a391d73row5_col0 {\n",
       "            background-color:  #3c4ec2;\n",
       "            color:  #f1f1f1;\n",
       "        }    #T_dadee6a4_23ae_11ec_8071_02420a391d73row5_col1 {\n",
       "            background-color:  #3d50c3;\n",
       "            color:  #f1f1f1;\n",
       "        }    #T_dadee6a4_23ae_11ec_8071_02420a391d73row5_col2 {\n",
       "            background-color:  #445acc;\n",
       "            color:  #f1f1f1;\n",
       "        }    #T_dadee6a4_23ae_11ec_8071_02420a391d73row5_col3 {\n",
       "            background-color:  #4b64d5;\n",
       "            color:  #f1f1f1;\n",
       "        }    #T_dadee6a4_23ae_11ec_8071_02420a391d73row5_col4 {\n",
       "            background-color:  #4257c9;\n",
       "            color:  #f1f1f1;\n",
       "        }    #T_dadee6a4_23ae_11ec_8071_02420a391d73row5_col5 {\n",
       "            background-color:  #b40426;\n",
       "            color:  #f1f1f1;\n",
       "        }    #T_dadee6a4_23ae_11ec_8071_02420a391d73row5_col6 {\n",
       "            background-color:  #3b4cc0;\n",
       "            color:  #f1f1f1;\n",
       "        }    #T_dadee6a4_23ae_11ec_8071_02420a391d73row5_col7 {\n",
       "            background-color:  #3b4cc0;\n",
       "            color:  #f1f1f1;\n",
       "        }    #T_dadee6a4_23ae_11ec_8071_02420a391d73row5_col8 {\n",
       "            background-color:  #6282ea;\n",
       "            color:  #000000;\n",
       "        }    #T_dadee6a4_23ae_11ec_8071_02420a391d73row5_col9 {\n",
       "            background-color:  #4257c9;\n",
       "            color:  #f1f1f1;\n",
       "        }    #T_dadee6a4_23ae_11ec_8071_02420a391d73row5_col10 {\n",
       "            background-color:  #88abfd;\n",
       "            color:  #000000;\n",
       "        }    #T_dadee6a4_23ae_11ec_8071_02420a391d73row6_col0 {\n",
       "            background-color:  #4055c8;\n",
       "            color:  #f1f1f1;\n",
       "        }    #T_dadee6a4_23ae_11ec_8071_02420a391d73row6_col1 {\n",
       "            background-color:  #455cce;\n",
       "            color:  #f1f1f1;\n",
       "        }    #T_dadee6a4_23ae_11ec_8071_02420a391d73row6_col2 {\n",
       "            background-color:  #455cce;\n",
       "            color:  #f1f1f1;\n",
       "        }    #T_dadee6a4_23ae_11ec_8071_02420a391d73row6_col3 {\n",
       "            background-color:  #3b4cc0;\n",
       "            color:  #f1f1f1;\n",
       "        }    #T_dadee6a4_23ae_11ec_8071_02420a391d73row6_col4 {\n",
       "            background-color:  #465ecf;\n",
       "            color:  #f1f1f1;\n",
       "        }    #T_dadee6a4_23ae_11ec_8071_02420a391d73row6_col5 {\n",
       "            background-color:  #3b4cc0;\n",
       "            color:  #f1f1f1;\n",
       "        }    #T_dadee6a4_23ae_11ec_8071_02420a391d73row6_col6 {\n",
       "            background-color:  #b40426;\n",
       "            color:  #f1f1f1;\n",
       "        }    #T_dadee6a4_23ae_11ec_8071_02420a391d73row6_col7 {\n",
       "            background-color:  #3f53c6;\n",
       "            color:  #f1f1f1;\n",
       "        }    #T_dadee6a4_23ae_11ec_8071_02420a391d73row6_col8 {\n",
       "            background-color:  #6788ee;\n",
       "            color:  #000000;\n",
       "        }    #T_dadee6a4_23ae_11ec_8071_02420a391d73row6_col9 {\n",
       "            background-color:  #4257c9;\n",
       "            color:  #f1f1f1;\n",
       "        }    #T_dadee6a4_23ae_11ec_8071_02420a391d73row6_col10 {\n",
       "            background-color:  #5673e0;\n",
       "            color:  #000000;\n",
       "        }    #T_dadee6a4_23ae_11ec_8071_02420a391d73row7_col0 {\n",
       "            background-color:  #3f53c6;\n",
       "            color:  #f1f1f1;\n",
       "        }    #T_dadee6a4_23ae_11ec_8071_02420a391d73row7_col1 {\n",
       "            background-color:  #3c4ec2;\n",
       "            color:  #f1f1f1;\n",
       "        }    #T_dadee6a4_23ae_11ec_8071_02420a391d73row7_col2 {\n",
       "            background-color:  #4055c8;\n",
       "            color:  #f1f1f1;\n",
       "        }    #T_dadee6a4_23ae_11ec_8071_02420a391d73row7_col3 {\n",
       "            background-color:  #3f53c6;\n",
       "            color:  #f1f1f1;\n",
       "        }    #T_dadee6a4_23ae_11ec_8071_02420a391d73row7_col4 {\n",
       "            background-color:  #4b64d5;\n",
       "            color:  #f1f1f1;\n",
       "        }    #T_dadee6a4_23ae_11ec_8071_02420a391d73row7_col5 {\n",
       "            background-color:  #82a6fb;\n",
       "            color:  #000000;\n",
       "        }    #T_dadee6a4_23ae_11ec_8071_02420a391d73row7_col6 {\n",
       "            background-color:  #88abfd;\n",
       "            color:  #000000;\n",
       "        }    #T_dadee6a4_23ae_11ec_8071_02420a391d73row7_col7 {\n",
       "            background-color:  #b40426;\n",
       "            color:  #f1f1f1;\n",
       "        }    #T_dadee6a4_23ae_11ec_8071_02420a391d73row7_col8 {\n",
       "            background-color:  #6180e9;\n",
       "            color:  #000000;\n",
       "        }    #T_dadee6a4_23ae_11ec_8071_02420a391d73row7_col9 {\n",
       "            background-color:  #3b4cc0;\n",
       "            color:  #f1f1f1;\n",
       "        }    #T_dadee6a4_23ae_11ec_8071_02420a391d73row7_col10 {\n",
       "            background-color:  #6282ea;\n",
       "            color:  #000000;\n",
       "        }    #T_dadee6a4_23ae_11ec_8071_02420a391d73row8_col0 {\n",
       "            background-color:  #4358cb;\n",
       "            color:  #f1f1f1;\n",
       "        }    #T_dadee6a4_23ae_11ec_8071_02420a391d73row8_col1 {\n",
       "            background-color:  #4055c8;\n",
       "            color:  #f1f1f1;\n",
       "        }    #T_dadee6a4_23ae_11ec_8071_02420a391d73row8_col2 {\n",
       "            background-color:  #4a63d3;\n",
       "            color:  #f1f1f1;\n",
       "        }    #T_dadee6a4_23ae_11ec_8071_02420a391d73row8_col3 {\n",
       "            background-color:  #5d7ce6;\n",
       "            color:  #000000;\n",
       "        }    #T_dadee6a4_23ae_11ec_8071_02420a391d73row8_col4 {\n",
       "            background-color:  #3b4cc0;\n",
       "            color:  #f1f1f1;\n",
       "        }    #T_dadee6a4_23ae_11ec_8071_02420a391d73row8_col5 {\n",
       "            background-color:  #84a7fc;\n",
       "            color:  #000000;\n",
       "        }    #T_dadee6a4_23ae_11ec_8071_02420a391d73row8_col6 {\n",
       "            background-color:  #89acfd;\n",
       "            color:  #000000;\n",
       "        }    #T_dadee6a4_23ae_11ec_8071_02420a391d73row8_col7 {\n",
       "            background-color:  #3b4cc0;\n",
       "            color:  #f1f1f1;\n",
       "        }    #T_dadee6a4_23ae_11ec_8071_02420a391d73row8_col8 {\n",
       "            background-color:  #b40426;\n",
       "            color:  #f1f1f1;\n",
       "        }    #T_dadee6a4_23ae_11ec_8071_02420a391d73row8_col9 {\n",
       "            background-color:  #3b4cc0;\n",
       "            color:  #f1f1f1;\n",
       "        }    #T_dadee6a4_23ae_11ec_8071_02420a391d73row8_col10 {\n",
       "            background-color:  #3b4cc0;\n",
       "            color:  #f1f1f1;\n",
       "        }    #T_dadee6a4_23ae_11ec_8071_02420a391d73row9_col0 {\n",
       "            background-color:  #3d50c3;\n",
       "            color:  #f1f1f1;\n",
       "        }    #T_dadee6a4_23ae_11ec_8071_02420a391d73row9_col1 {\n",
       "            background-color:  #455cce;\n",
       "            color:  #f1f1f1;\n",
       "        }    #T_dadee6a4_23ae_11ec_8071_02420a391d73row9_col2 {\n",
       "            background-color:  #4257c9;\n",
       "            color:  #f1f1f1;\n",
       "        }    #T_dadee6a4_23ae_11ec_8071_02420a391d73row9_col3 {\n",
       "            background-color:  #4055c8;\n",
       "            color:  #f1f1f1;\n",
       "        }    #T_dadee6a4_23ae_11ec_8071_02420a391d73row9_col4 {\n",
       "            background-color:  #465ecf;\n",
       "            color:  #f1f1f1;\n",
       "        }    #T_dadee6a4_23ae_11ec_8071_02420a391d73row9_col5 {\n",
       "            background-color:  #8badfd;\n",
       "            color:  #000000;\n",
       "        }    #T_dadee6a4_23ae_11ec_8071_02420a391d73row9_col6 {\n",
       "            background-color:  #8badfd;\n",
       "            color:  #000000;\n",
       "        }    #T_dadee6a4_23ae_11ec_8071_02420a391d73row9_col7 {\n",
       "            background-color:  #3c4ec2;\n",
       "            color:  #f1f1f1;\n",
       "        }    #T_dadee6a4_23ae_11ec_8071_02420a391d73row9_col8 {\n",
       "            background-color:  #6282ea;\n",
       "            color:  #000000;\n",
       "        }    #T_dadee6a4_23ae_11ec_8071_02420a391d73row9_col9 {\n",
       "            background-color:  #b40426;\n",
       "            color:  #f1f1f1;\n",
       "        }    #T_dadee6a4_23ae_11ec_8071_02420a391d73row9_col10 {\n",
       "            background-color:  #688aef;\n",
       "            color:  #000000;\n",
       "        }    #T_dadee6a4_23ae_11ec_8071_02420a391d73row10_col0 {\n",
       "            background-color:  #3b4cc0;\n",
       "            color:  #f1f1f1;\n",
       "        }    #T_dadee6a4_23ae_11ec_8071_02420a391d73row10_col1 {\n",
       "            background-color:  #3e51c5;\n",
       "            color:  #f1f1f1;\n",
       "        }    #T_dadee6a4_23ae_11ec_8071_02420a391d73row10_col2 {\n",
       "            background-color:  #3b4cc0;\n",
       "            color:  #f1f1f1;\n",
       "        }    #T_dadee6a4_23ae_11ec_8071_02420a391d73row10_col3 {\n",
       "            background-color:  #a1c0ff;\n",
       "            color:  #000000;\n",
       "        }    #T_dadee6a4_23ae_11ec_8071_02420a391d73row10_col4 {\n",
       "            background-color:  #3e51c5;\n",
       "            color:  #f1f1f1;\n",
       "        }    #T_dadee6a4_23ae_11ec_8071_02420a391d73row10_col5 {\n",
       "            background-color:  #a6c4fe;\n",
       "            color:  #000000;\n",
       "        }    #T_dadee6a4_23ae_11ec_8071_02420a391d73row10_col6 {\n",
       "            background-color:  #7a9df8;\n",
       "            color:  #000000;\n",
       "        }    #T_dadee6a4_23ae_11ec_8071_02420a391d73row10_col7 {\n",
       "            background-color:  #3c4ec2;\n",
       "            color:  #f1f1f1;\n",
       "        }    #T_dadee6a4_23ae_11ec_8071_02420a391d73row10_col8 {\n",
       "            background-color:  #3b4cc0;\n",
       "            color:  #f1f1f1;\n",
       "        }    #T_dadee6a4_23ae_11ec_8071_02420a391d73row10_col9 {\n",
       "            background-color:  #4055c8;\n",
       "            color:  #f1f1f1;\n",
       "        }    #T_dadee6a4_23ae_11ec_8071_02420a391d73row10_col10 {\n",
       "            background-color:  #b40426;\n",
       "            color:  #f1f1f1;\n",
       "        }</style><table id=\"T_dadee6a4_23ae_11ec_8071_02420a391d73\" ><thead>    <tr>        <th class=\"blank level0\" ></th>        <th class=\"col_heading level0 col0\" >row_number</th>        <th class=\"col_heading level0 col1\" >customer_id</th>        <th class=\"col_heading level0 col2\" >credit_score</th>        <th class=\"col_heading level0 col3\" >age</th>        <th class=\"col_heading level0 col4\" >tenure</th>        <th class=\"col_heading level0 col5\" >balance</th>        <th class=\"col_heading level0 col6\" >num_of_products</th>        <th class=\"col_heading level0 col7\" >has_cr_card</th>        <th class=\"col_heading level0 col8\" >is_active_member</th>        <th class=\"col_heading level0 col9\" >estimated_salary</th>        <th class=\"col_heading level0 col10\" >exited</th>    </tr></thead><tbody>\n",
       "                <tr>\n",
       "                        <th id=\"T_dadee6a4_23ae_11ec_8071_02420a391d73level0_row0\" class=\"row_heading level0 row0\" >row_number</th>\n",
       "                        <td id=\"T_dadee6a4_23ae_11ec_8071_02420a391d73row0_col0\" class=\"data row0 col0\" >1</td>\n",
       "                        <td id=\"T_dadee6a4_23ae_11ec_8071_02420a391d73row0_col1\" class=\"data row0 col1\" >0.0042</td>\n",
       "                        <td id=\"T_dadee6a4_23ae_11ec_8071_02420a391d73row0_col2\" class=\"data row0 col2\" >0.0058</td>\n",
       "                        <td id=\"T_dadee6a4_23ae_11ec_8071_02420a391d73row0_col3\" class=\"data row0 col3\" >0.00078</td>\n",
       "                        <td id=\"T_dadee6a4_23ae_11ec_8071_02420a391d73row0_col4\" class=\"data row0 col4\" >-0.0073</td>\n",
       "                        <td id=\"T_dadee6a4_23ae_11ec_8071_02420a391d73row0_col5\" class=\"data row0 col5\" >-0.0091</td>\n",
       "                        <td id=\"T_dadee6a4_23ae_11ec_8071_02420a391d73row0_col6\" class=\"data row0 col6\" >0.0072</td>\n",
       "                        <td id=\"T_dadee6a4_23ae_11ec_8071_02420a391d73row0_col7\" class=\"data row0 col7\" >0.0006</td>\n",
       "                        <td id=\"T_dadee6a4_23ae_11ec_8071_02420a391d73row0_col8\" class=\"data row0 col8\" >0.012</td>\n",
       "                        <td id=\"T_dadee6a4_23ae_11ec_8071_02420a391d73row0_col9\" class=\"data row0 col9\" >-0.006</td>\n",
       "                        <td id=\"T_dadee6a4_23ae_11ec_8071_02420a391d73row0_col10\" class=\"data row0 col10\" >-0.017</td>\n",
       "            </tr>\n",
       "            <tr>\n",
       "                        <th id=\"T_dadee6a4_23ae_11ec_8071_02420a391d73level0_row1\" class=\"row_heading level0 row1\" >customer_id</th>\n",
       "                        <td id=\"T_dadee6a4_23ae_11ec_8071_02420a391d73row1_col0\" class=\"data row1 col0\" >0.0042</td>\n",
       "                        <td id=\"T_dadee6a4_23ae_11ec_8071_02420a391d73row1_col1\" class=\"data row1 col1\" >1</td>\n",
       "                        <td id=\"T_dadee6a4_23ae_11ec_8071_02420a391d73row1_col2\" class=\"data row1 col2\" >0.0053</td>\n",
       "                        <td id=\"T_dadee6a4_23ae_11ec_8071_02420a391d73row1_col3\" class=\"data row1 col3\" >0.0095</td>\n",
       "                        <td id=\"T_dadee6a4_23ae_11ec_8071_02420a391d73row1_col4\" class=\"data row1 col4\" >-0.021</td>\n",
       "                        <td id=\"T_dadee6a4_23ae_11ec_8071_02420a391d73row1_col5\" class=\"data row1 col5\" >-0.012</td>\n",
       "                        <td id=\"T_dadee6a4_23ae_11ec_8071_02420a391d73row1_col6\" class=\"data row1 col6\" >0.017</td>\n",
       "                        <td id=\"T_dadee6a4_23ae_11ec_8071_02420a391d73row1_col7\" class=\"data row1 col7\" >-0.014</td>\n",
       "                        <td id=\"T_dadee6a4_23ae_11ec_8071_02420a391d73row1_col8\" class=\"data row1 col8\" >0.0017</td>\n",
       "                        <td id=\"T_dadee6a4_23ae_11ec_8071_02420a391d73row1_col9\" class=\"data row1 col9\" >0.015</td>\n",
       "                        <td id=\"T_dadee6a4_23ae_11ec_8071_02420a391d73row1_col10\" class=\"data row1 col10\" >-0.0062</td>\n",
       "            </tr>\n",
       "            <tr>\n",
       "                        <th id=\"T_dadee6a4_23ae_11ec_8071_02420a391d73level0_row2\" class=\"row_heading level0 row2\" >credit_score</th>\n",
       "                        <td id=\"T_dadee6a4_23ae_11ec_8071_02420a391d73row2_col0\" class=\"data row2 col0\" >0.0058</td>\n",
       "                        <td id=\"T_dadee6a4_23ae_11ec_8071_02420a391d73row2_col1\" class=\"data row2 col1\" >0.0053</td>\n",
       "                        <td id=\"T_dadee6a4_23ae_11ec_8071_02420a391d73row2_col2\" class=\"data row2 col2\" >1</td>\n",
       "                        <td id=\"T_dadee6a4_23ae_11ec_8071_02420a391d73row2_col3\" class=\"data row2 col3\" >-0.004</td>\n",
       "                        <td id=\"T_dadee6a4_23ae_11ec_8071_02420a391d73row2_col4\" class=\"data row2 col4\" >-6.2e-05</td>\n",
       "                        <td id=\"T_dadee6a4_23ae_11ec_8071_02420a391d73row2_col5\" class=\"data row2 col5\" >0.0063</td>\n",
       "                        <td id=\"T_dadee6a4_23ae_11ec_8071_02420a391d73row2_col6\" class=\"data row2 col6\" >0.012</td>\n",
       "                        <td id=\"T_dadee6a4_23ae_11ec_8071_02420a391d73row2_col7\" class=\"data row2 col7\" >-0.0055</td>\n",
       "                        <td id=\"T_dadee6a4_23ae_11ec_8071_02420a391d73row2_col8\" class=\"data row2 col8\" >0.026</td>\n",
       "                        <td id=\"T_dadee6a4_23ae_11ec_8071_02420a391d73row2_col9\" class=\"data row2 col9\" >-0.0014</td>\n",
       "                        <td id=\"T_dadee6a4_23ae_11ec_8071_02420a391d73row2_col10\" class=\"data row2 col10\" >-0.027</td>\n",
       "            </tr>\n",
       "            <tr>\n",
       "                        <th id=\"T_dadee6a4_23ae_11ec_8071_02420a391d73level0_row3\" class=\"row_heading level0 row3\" >age</th>\n",
       "                        <td id=\"T_dadee6a4_23ae_11ec_8071_02420a391d73row3_col0\" class=\"data row3 col0\" >0.00078</td>\n",
       "                        <td id=\"T_dadee6a4_23ae_11ec_8071_02420a391d73row3_col1\" class=\"data row3 col1\" >0.0095</td>\n",
       "                        <td id=\"T_dadee6a4_23ae_11ec_8071_02420a391d73row3_col2\" class=\"data row3 col2\" >-0.004</td>\n",
       "                        <td id=\"T_dadee6a4_23ae_11ec_8071_02420a391d73row3_col3\" class=\"data row3 col3\" >1</td>\n",
       "                        <td id=\"T_dadee6a4_23ae_11ec_8071_02420a391d73row3_col4\" class=\"data row3 col4\" >-0.013</td>\n",
       "                        <td id=\"T_dadee6a4_23ae_11ec_8071_02420a391d73row3_col5\" class=\"data row3 col5\" >0.028</td>\n",
       "                        <td id=\"T_dadee6a4_23ae_11ec_8071_02420a391d73row3_col6\" class=\"data row3 col6\" >-0.031</td>\n",
       "                        <td id=\"T_dadee6a4_23ae_11ec_8071_02420a391d73row3_col7\" class=\"data row3 col7\" >-0.012</td>\n",
       "                        <td id=\"T_dadee6a4_23ae_11ec_8071_02420a391d73row3_col8\" class=\"data row3 col8\" >0.085</td>\n",
       "                        <td id=\"T_dadee6a4_23ae_11ec_8071_02420a391d73row3_col9\" class=\"data row3 col9\" >-0.0072</td>\n",
       "                        <td id=\"T_dadee6a4_23ae_11ec_8071_02420a391d73row3_col10\" class=\"data row3 col10\" >0.29</td>\n",
       "            </tr>\n",
       "            <tr>\n",
       "                        <th id=\"T_dadee6a4_23ae_11ec_8071_02420a391d73level0_row4\" class=\"row_heading level0 row4\" >tenure</th>\n",
       "                        <td id=\"T_dadee6a4_23ae_11ec_8071_02420a391d73row4_col0\" class=\"data row4 col0\" >-0.0073</td>\n",
       "                        <td id=\"T_dadee6a4_23ae_11ec_8071_02420a391d73row4_col1\" class=\"data row4 col1\" >-0.021</td>\n",
       "                        <td id=\"T_dadee6a4_23ae_11ec_8071_02420a391d73row4_col2\" class=\"data row4 col2\" >-6.2e-05</td>\n",
       "                        <td id=\"T_dadee6a4_23ae_11ec_8071_02420a391d73row4_col3\" class=\"data row4 col3\" >-0.013</td>\n",
       "                        <td id=\"T_dadee6a4_23ae_11ec_8071_02420a391d73row4_col4\" class=\"data row4 col4\" >1</td>\n",
       "                        <td id=\"T_dadee6a4_23ae_11ec_8071_02420a391d73row4_col5\" class=\"data row4 col5\" >-0.0079</td>\n",
       "                        <td id=\"T_dadee6a4_23ae_11ec_8071_02420a391d73row4_col6\" class=\"data row4 col6\" >0.012</td>\n",
       "                        <td id=\"T_dadee6a4_23ae_11ec_8071_02420a391d73row4_col7\" class=\"data row4 col7\" >0.027</td>\n",
       "                        <td id=\"T_dadee6a4_23ae_11ec_8071_02420a391d73row4_col8\" class=\"data row4 col8\" >-0.032</td>\n",
       "                        <td id=\"T_dadee6a4_23ae_11ec_8071_02420a391d73row4_col9\" class=\"data row4 col9\" >0.011</td>\n",
       "                        <td id=\"T_dadee6a4_23ae_11ec_8071_02420a391d73row4_col10\" class=\"data row4 col10\" >-0.017</td>\n",
       "            </tr>\n",
       "            <tr>\n",
       "                        <th id=\"T_dadee6a4_23ae_11ec_8071_02420a391d73level0_row5\" class=\"row_heading level0 row5\" >balance</th>\n",
       "                        <td id=\"T_dadee6a4_23ae_11ec_8071_02420a391d73row5_col0\" class=\"data row5 col0\" >-0.0091</td>\n",
       "                        <td id=\"T_dadee6a4_23ae_11ec_8071_02420a391d73row5_col1\" class=\"data row5 col1\" >-0.012</td>\n",
       "                        <td id=\"T_dadee6a4_23ae_11ec_8071_02420a391d73row5_col2\" class=\"data row5 col2\" >0.0063</td>\n",
       "                        <td id=\"T_dadee6a4_23ae_11ec_8071_02420a391d73row5_col3\" class=\"data row5 col3\" >0.028</td>\n",
       "                        <td id=\"T_dadee6a4_23ae_11ec_8071_02420a391d73row5_col4\" class=\"data row5 col4\" >-0.0079</td>\n",
       "                        <td id=\"T_dadee6a4_23ae_11ec_8071_02420a391d73row5_col5\" class=\"data row5 col5\" >1</td>\n",
       "                        <td id=\"T_dadee6a4_23ae_11ec_8071_02420a391d73row5_col6\" class=\"data row5 col6\" >-0.3</td>\n",
       "                        <td id=\"T_dadee6a4_23ae_11ec_8071_02420a391d73row5_col7\" class=\"data row5 col7\" >-0.015</td>\n",
       "                        <td id=\"T_dadee6a4_23ae_11ec_8071_02420a391d73row5_col8\" class=\"data row5 col8\" >-0.01</td>\n",
       "                        <td id=\"T_dadee6a4_23ae_11ec_8071_02420a391d73row5_col9\" class=\"data row5 col9\" >0.013</td>\n",
       "                        <td id=\"T_dadee6a4_23ae_11ec_8071_02420a391d73row5_col10\" class=\"data row5 col10\" >0.12</td>\n",
       "            </tr>\n",
       "            <tr>\n",
       "                        <th id=\"T_dadee6a4_23ae_11ec_8071_02420a391d73level0_row6\" class=\"row_heading level0 row6\" >num_of_products</th>\n",
       "                        <td id=\"T_dadee6a4_23ae_11ec_8071_02420a391d73row6_col0\" class=\"data row6 col0\" >0.0072</td>\n",
       "                        <td id=\"T_dadee6a4_23ae_11ec_8071_02420a391d73row6_col1\" class=\"data row6 col1\" >0.017</td>\n",
       "                        <td id=\"T_dadee6a4_23ae_11ec_8071_02420a391d73row6_col2\" class=\"data row6 col2\" >0.012</td>\n",
       "                        <td id=\"T_dadee6a4_23ae_11ec_8071_02420a391d73row6_col3\" class=\"data row6 col3\" >-0.031</td>\n",
       "                        <td id=\"T_dadee6a4_23ae_11ec_8071_02420a391d73row6_col4\" class=\"data row6 col4\" >0.012</td>\n",
       "                        <td id=\"T_dadee6a4_23ae_11ec_8071_02420a391d73row6_col5\" class=\"data row6 col5\" >-0.3</td>\n",
       "                        <td id=\"T_dadee6a4_23ae_11ec_8071_02420a391d73row6_col6\" class=\"data row6 col6\" >1</td>\n",
       "                        <td id=\"T_dadee6a4_23ae_11ec_8071_02420a391d73row6_col7\" class=\"data row6 col7\" >0.0032</td>\n",
       "                        <td id=\"T_dadee6a4_23ae_11ec_8071_02420a391d73row6_col8\" class=\"data row6 col8\" >0.0096</td>\n",
       "                        <td id=\"T_dadee6a4_23ae_11ec_8071_02420a391d73row6_col9\" class=\"data row6 col9\" >0.014</td>\n",
       "                        <td id=\"T_dadee6a4_23ae_11ec_8071_02420a391d73row6_col10\" class=\"data row6 col10\" >-0.048</td>\n",
       "            </tr>\n",
       "            <tr>\n",
       "                        <th id=\"T_dadee6a4_23ae_11ec_8071_02420a391d73level0_row7\" class=\"row_heading level0 row7\" >has_cr_card</th>\n",
       "                        <td id=\"T_dadee6a4_23ae_11ec_8071_02420a391d73row7_col0\" class=\"data row7 col0\" >0.0006</td>\n",
       "                        <td id=\"T_dadee6a4_23ae_11ec_8071_02420a391d73row7_col1\" class=\"data row7 col1\" >-0.014</td>\n",
       "                        <td id=\"T_dadee6a4_23ae_11ec_8071_02420a391d73row7_col2\" class=\"data row7 col2\" >-0.0055</td>\n",
       "                        <td id=\"T_dadee6a4_23ae_11ec_8071_02420a391d73row7_col3\" class=\"data row7 col3\" >-0.012</td>\n",
       "                        <td id=\"T_dadee6a4_23ae_11ec_8071_02420a391d73row7_col4\" class=\"data row7 col4\" >0.027</td>\n",
       "                        <td id=\"T_dadee6a4_23ae_11ec_8071_02420a391d73row7_col5\" class=\"data row7 col5\" >-0.015</td>\n",
       "                        <td id=\"T_dadee6a4_23ae_11ec_8071_02420a391d73row7_col6\" class=\"data row7 col6\" >0.0032</td>\n",
       "                        <td id=\"T_dadee6a4_23ae_11ec_8071_02420a391d73row7_col7\" class=\"data row7 col7\" >1</td>\n",
       "                        <td id=\"T_dadee6a4_23ae_11ec_8071_02420a391d73row7_col8\" class=\"data row7 col8\" >-0.012</td>\n",
       "                        <td id=\"T_dadee6a4_23ae_11ec_8071_02420a391d73row7_col9\" class=\"data row7 col9\" >-0.0099</td>\n",
       "                        <td id=\"T_dadee6a4_23ae_11ec_8071_02420a391d73row7_col10\" class=\"data row7 col10\" >-0.0071</td>\n",
       "            </tr>\n",
       "            <tr>\n",
       "                        <th id=\"T_dadee6a4_23ae_11ec_8071_02420a391d73level0_row8\" class=\"row_heading level0 row8\" >is_active_member</th>\n",
       "                        <td id=\"T_dadee6a4_23ae_11ec_8071_02420a391d73row8_col0\" class=\"data row8 col0\" >0.012</td>\n",
       "                        <td id=\"T_dadee6a4_23ae_11ec_8071_02420a391d73row8_col1\" class=\"data row8 col1\" >0.0017</td>\n",
       "                        <td id=\"T_dadee6a4_23ae_11ec_8071_02420a391d73row8_col2\" class=\"data row8 col2\" >0.026</td>\n",
       "                        <td id=\"T_dadee6a4_23ae_11ec_8071_02420a391d73row8_col3\" class=\"data row8 col3\" >0.085</td>\n",
       "                        <td id=\"T_dadee6a4_23ae_11ec_8071_02420a391d73row8_col4\" class=\"data row8 col4\" >-0.032</td>\n",
       "                        <td id=\"T_dadee6a4_23ae_11ec_8071_02420a391d73row8_col5\" class=\"data row8 col5\" >-0.01</td>\n",
       "                        <td id=\"T_dadee6a4_23ae_11ec_8071_02420a391d73row8_col6\" class=\"data row8 col6\" >0.0096</td>\n",
       "                        <td id=\"T_dadee6a4_23ae_11ec_8071_02420a391d73row8_col7\" class=\"data row8 col7\" >-0.012</td>\n",
       "                        <td id=\"T_dadee6a4_23ae_11ec_8071_02420a391d73row8_col8\" class=\"data row8 col8\" >1</td>\n",
       "                        <td id=\"T_dadee6a4_23ae_11ec_8071_02420a391d73row8_col9\" class=\"data row8 col9\" >-0.011</td>\n",
       "                        <td id=\"T_dadee6a4_23ae_11ec_8071_02420a391d73row8_col10\" class=\"data row8 col10\" >-0.16</td>\n",
       "            </tr>\n",
       "            <tr>\n",
       "                        <th id=\"T_dadee6a4_23ae_11ec_8071_02420a391d73level0_row9\" class=\"row_heading level0 row9\" >estimated_salary</th>\n",
       "                        <td id=\"T_dadee6a4_23ae_11ec_8071_02420a391d73row9_col0\" class=\"data row9 col0\" >-0.006</td>\n",
       "                        <td id=\"T_dadee6a4_23ae_11ec_8071_02420a391d73row9_col1\" class=\"data row9 col1\" >0.015</td>\n",
       "                        <td id=\"T_dadee6a4_23ae_11ec_8071_02420a391d73row9_col2\" class=\"data row9 col2\" >-0.0014</td>\n",
       "                        <td id=\"T_dadee6a4_23ae_11ec_8071_02420a391d73row9_col3\" class=\"data row9 col3\" >-0.0072</td>\n",
       "                        <td id=\"T_dadee6a4_23ae_11ec_8071_02420a391d73row9_col4\" class=\"data row9 col4\" >0.011</td>\n",
       "                        <td id=\"T_dadee6a4_23ae_11ec_8071_02420a391d73row9_col5\" class=\"data row9 col5\" >0.013</td>\n",
       "                        <td id=\"T_dadee6a4_23ae_11ec_8071_02420a391d73row9_col6\" class=\"data row9 col6\" >0.014</td>\n",
       "                        <td id=\"T_dadee6a4_23ae_11ec_8071_02420a391d73row9_col7\" class=\"data row9 col7\" >-0.0099</td>\n",
       "                        <td id=\"T_dadee6a4_23ae_11ec_8071_02420a391d73row9_col8\" class=\"data row9 col8\" >-0.011</td>\n",
       "                        <td id=\"T_dadee6a4_23ae_11ec_8071_02420a391d73row9_col9\" class=\"data row9 col9\" >1</td>\n",
       "                        <td id=\"T_dadee6a4_23ae_11ec_8071_02420a391d73row9_col10\" class=\"data row9 col10\" >0.012</td>\n",
       "            </tr>\n",
       "            <tr>\n",
       "                        <th id=\"T_dadee6a4_23ae_11ec_8071_02420a391d73level0_row10\" class=\"row_heading level0 row10\" >exited</th>\n",
       "                        <td id=\"T_dadee6a4_23ae_11ec_8071_02420a391d73row10_col0\" class=\"data row10 col0\" >-0.017</td>\n",
       "                        <td id=\"T_dadee6a4_23ae_11ec_8071_02420a391d73row10_col1\" class=\"data row10 col1\" >-0.0062</td>\n",
       "                        <td id=\"T_dadee6a4_23ae_11ec_8071_02420a391d73row10_col2\" class=\"data row10 col2\" >-0.027</td>\n",
       "                        <td id=\"T_dadee6a4_23ae_11ec_8071_02420a391d73row10_col3\" class=\"data row10 col3\" >0.29</td>\n",
       "                        <td id=\"T_dadee6a4_23ae_11ec_8071_02420a391d73row10_col4\" class=\"data row10 col4\" >-0.017</td>\n",
       "                        <td id=\"T_dadee6a4_23ae_11ec_8071_02420a391d73row10_col5\" class=\"data row10 col5\" >0.12</td>\n",
       "                        <td id=\"T_dadee6a4_23ae_11ec_8071_02420a391d73row10_col6\" class=\"data row10 col6\" >-0.048</td>\n",
       "                        <td id=\"T_dadee6a4_23ae_11ec_8071_02420a391d73row10_col7\" class=\"data row10 col7\" >-0.0071</td>\n",
       "                        <td id=\"T_dadee6a4_23ae_11ec_8071_02420a391d73row10_col8\" class=\"data row10 col8\" >-0.16</td>\n",
       "                        <td id=\"T_dadee6a4_23ae_11ec_8071_02420a391d73row10_col9\" class=\"data row10 col9\" >0.012</td>\n",
       "                        <td id=\"T_dadee6a4_23ae_11ec_8071_02420a391d73row10_col10\" class=\"data row10 col10\" >1</td>\n",
       "            </tr>\n",
       "    </tbody></table>"
      ],
      "text/plain": [
       "<pandas.io.formats.style.Styler at 0x7f9cef29e350>"
      ]
     },
     "execution_count": 10,
     "metadata": {},
     "output_type": "execute_result"
    }
   ],
   "source": [
    "# матрица корреляции\n",
    "corr_features = data.corr()\n",
    "corr_features.style.background_gradient(cmap='coolwarm').set_precision(2)"
   ]
  },
  {
   "cell_type": "markdown",
   "metadata": {},
   "source": [
    " Столбец tenure не коррелирует с другими величинами. И вообще не видно зависимости между признаками. \n",
    " \n",
    " Заполним тогда пропуски в tenure медианным значением по полу и возрасту. "
   ]
  },
  {
   "cell_type": "code",
   "execution_count": 11,
   "metadata": {
    "scrolled": false
   },
   "outputs": [
    {
     "data": {
      "text/plain": [
       "0"
      ]
     },
     "execution_count": 11,
     "metadata": {},
     "output_type": "execute_result"
    }
   ],
   "source": [
    "#заполним пропуски медианой по двум признакам возраст, пол \n",
    "data.fillna(round(data.groupby(['gender', 'age']).transform('median')), inplace = True)\n",
    "\n",
    "#проверим что в столбце tenure не осталочь нулевых значений\n",
    "data['tenure'].isna().sum()\n"
   ]
  },
  {
   "cell_type": "markdown",
   "metadata": {},
   "source": [
    "Теперь изменим тип данных в столбце tenure на int"
   ]
  },
  {
   "cell_type": "code",
   "execution_count": 12,
   "metadata": {},
   "outputs": [
    {
     "data": {
      "text/plain": [
       "dtype('int64')"
      ]
     },
     "execution_count": 12,
     "metadata": {},
     "output_type": "execute_result"
    }
   ],
   "source": [
    "# замена типа данных в столбце tenure\n",
    "data['tenure'] = data['tenure'].astype('int') \n",
    "data['tenure'].dtype"
   ]
  },
  {
   "cell_type": "markdown",
   "metadata": {},
   "source": [
    "###  Подготовка данных для обучения"
   ]
  },
  {
   "cell_type": "markdown",
   "metadata": {},
   "source": [
    "Теперь нужно выделить признаки и целевой признак. Еще раз посмотрим на таблицу "
   ]
  },
  {
   "cell_type": "code",
   "execution_count": 13,
   "metadata": {
    "scrolled": true
   },
   "outputs": [
    {
     "data": {
      "text/html": [
       "<div>\n",
       "<style scoped>\n",
       "    .dataframe tbody tr th:only-of-type {\n",
       "        vertical-align: middle;\n",
       "    }\n",
       "\n",
       "    .dataframe tbody tr th {\n",
       "        vertical-align: top;\n",
       "    }\n",
       "\n",
       "    .dataframe thead th {\n",
       "        text-align: right;\n",
       "    }\n",
       "</style>\n",
       "<table border=\"1\" class=\"dataframe\">\n",
       "  <thead>\n",
       "    <tr style=\"text-align: right;\">\n",
       "      <th></th>\n",
       "      <th>row_number</th>\n",
       "      <th>customer_id</th>\n",
       "      <th>surname</th>\n",
       "      <th>credit_score</th>\n",
       "      <th>geography</th>\n",
       "      <th>gender</th>\n",
       "      <th>age</th>\n",
       "      <th>tenure</th>\n",
       "      <th>balance</th>\n",
       "      <th>num_of_products</th>\n",
       "      <th>has_cr_card</th>\n",
       "      <th>is_active_member</th>\n",
       "      <th>estimated_salary</th>\n",
       "      <th>exited</th>\n",
       "    </tr>\n",
       "  </thead>\n",
       "  <tbody>\n",
       "    <tr>\n",
       "      <td>0</td>\n",
       "      <td>1</td>\n",
       "      <td>15634602</td>\n",
       "      <td>Hargrave</td>\n",
       "      <td>619</td>\n",
       "      <td>France</td>\n",
       "      <td>Female</td>\n",
       "      <td>42</td>\n",
       "      <td>2</td>\n",
       "      <td>0.00</td>\n",
       "      <td>1</td>\n",
       "      <td>1</td>\n",
       "      <td>1</td>\n",
       "      <td>101348.88</td>\n",
       "      <td>1</td>\n",
       "    </tr>\n",
       "    <tr>\n",
       "      <td>1</td>\n",
       "      <td>2</td>\n",
       "      <td>15647311</td>\n",
       "      <td>Hill</td>\n",
       "      <td>608</td>\n",
       "      <td>Spain</td>\n",
       "      <td>Female</td>\n",
       "      <td>41</td>\n",
       "      <td>1</td>\n",
       "      <td>83807.86</td>\n",
       "      <td>1</td>\n",
       "      <td>0</td>\n",
       "      <td>1</td>\n",
       "      <td>112542.58</td>\n",
       "      <td>0</td>\n",
       "    </tr>\n",
       "    <tr>\n",
       "      <td>2</td>\n",
       "      <td>3</td>\n",
       "      <td>15619304</td>\n",
       "      <td>Onio</td>\n",
       "      <td>502</td>\n",
       "      <td>France</td>\n",
       "      <td>Female</td>\n",
       "      <td>42</td>\n",
       "      <td>8</td>\n",
       "      <td>159660.80</td>\n",
       "      <td>3</td>\n",
       "      <td>1</td>\n",
       "      <td>0</td>\n",
       "      <td>113931.57</td>\n",
       "      <td>1</td>\n",
       "    </tr>\n",
       "    <tr>\n",
       "      <td>3</td>\n",
       "      <td>4</td>\n",
       "      <td>15701354</td>\n",
       "      <td>Boni</td>\n",
       "      <td>699</td>\n",
       "      <td>France</td>\n",
       "      <td>Female</td>\n",
       "      <td>39</td>\n",
       "      <td>1</td>\n",
       "      <td>0.00</td>\n",
       "      <td>2</td>\n",
       "      <td>0</td>\n",
       "      <td>0</td>\n",
       "      <td>93826.63</td>\n",
       "      <td>0</td>\n",
       "    </tr>\n",
       "    <tr>\n",
       "      <td>4</td>\n",
       "      <td>5</td>\n",
       "      <td>15737888</td>\n",
       "      <td>Mitchell</td>\n",
       "      <td>850</td>\n",
       "      <td>Spain</td>\n",
       "      <td>Female</td>\n",
       "      <td>43</td>\n",
       "      <td>2</td>\n",
       "      <td>125510.82</td>\n",
       "      <td>1</td>\n",
       "      <td>1</td>\n",
       "      <td>1</td>\n",
       "      <td>79084.10</td>\n",
       "      <td>0</td>\n",
       "    </tr>\n",
       "  </tbody>\n",
       "</table>\n",
       "</div>"
      ],
      "text/plain": [
       "   row_number  customer_id   surname  credit_score geography  gender  age  \\\n",
       "0           1     15634602  Hargrave           619    France  Female   42   \n",
       "1           2     15647311      Hill           608     Spain  Female   41   \n",
       "2           3     15619304      Onio           502    France  Female   42   \n",
       "3           4     15701354      Boni           699    France  Female   39   \n",
       "4           5     15737888  Mitchell           850     Spain  Female   43   \n",
       "\n",
       "   tenure    balance  num_of_products  has_cr_card  is_active_member  \\\n",
       "0       2       0.00                1            1                 1   \n",
       "1       1   83807.86                1            0                 1   \n",
       "2       8  159660.80                3            1                 0   \n",
       "3       1       0.00                2            0                 0   \n",
       "4       2  125510.82                1            1                 1   \n",
       "\n",
       "   estimated_salary  exited  \n",
       "0         101348.88       1  \n",
       "1         112542.58       0  \n",
       "2         113931.57       1  \n",
       "3          93826.63       0  \n",
       "4          79084.10       0  "
      ]
     },
     "execution_count": 13,
     "metadata": {},
     "output_type": "execute_result"
    }
   ],
   "source": [
    "data.head()"
   ]
  },
  {
   "cell_type": "markdown",
   "metadata": {},
   "source": [
    "Cледующие столбцы не будем включать в призники для обучения:\n",
    "\n",
    "+ *row_number* - фактически дублирует индекс в таблице\n",
    "+ *customer_id* - является уникальным идентификатором каждого пользователя\n",
    "+ *surname* - фамилия так же не может влиять на то уйдет клиент из банка или нет, фактически это тоже просто идентификация клиента\n",
    "\n",
    "Некоторые признаки важны, но чтобы включить их в модель нужно сначала закодировать с помощью OHE: *geography*, *gender*. \n",
    "\n",
    "Так же вижно, что у нас у некоторых признаков разный разброс в значениях. Например, возраст измерется в пределах 100. При этом зарплата доходит до 200 000. Чтобы модель рассматривала все признаки, как равнозначные, необходимо признаки масштабировать. \n",
    "\n",
    "C целевым признаком все понятно - им является столбец *exited*. "
   ]
  },
  {
   "cell_type": "code",
   "execution_count": 14,
   "metadata": {},
   "outputs": [],
   "source": [
    "# удаление лишних столбцов\n",
    "data =  data.drop(['row_number', 'customer_id', 'surname'], axis=1)\n",
    "\n",
    "# кодирование OHE \n",
    "data_ohe = pd.get_dummies(data, drop_first=True)"
   ]
  },
  {
   "cell_type": "code",
   "execution_count": 15,
   "metadata": {
    "scrolled": false
   },
   "outputs": [
    {
     "data": {
      "text/html": [
       "<div>\n",
       "<style scoped>\n",
       "    .dataframe tbody tr th:only-of-type {\n",
       "        vertical-align: middle;\n",
       "    }\n",
       "\n",
       "    .dataframe tbody tr th {\n",
       "        vertical-align: top;\n",
       "    }\n",
       "\n",
       "    .dataframe thead th {\n",
       "        text-align: right;\n",
       "    }\n",
       "</style>\n",
       "<table border=\"1\" class=\"dataframe\">\n",
       "  <thead>\n",
       "    <tr style=\"text-align: right;\">\n",
       "      <th></th>\n",
       "      <th>credit_score</th>\n",
       "      <th>age</th>\n",
       "      <th>tenure</th>\n",
       "      <th>balance</th>\n",
       "      <th>num_of_products</th>\n",
       "      <th>has_cr_card</th>\n",
       "      <th>is_active_member</th>\n",
       "      <th>estimated_salary</th>\n",
       "      <th>exited</th>\n",
       "      <th>geography_Germany</th>\n",
       "      <th>geography_Spain</th>\n",
       "      <th>gender_Male</th>\n",
       "    </tr>\n",
       "  </thead>\n",
       "  <tbody>\n",
       "    <tr>\n",
       "      <td>0</td>\n",
       "      <td>619</td>\n",
       "      <td>42</td>\n",
       "      <td>2</td>\n",
       "      <td>0.00</td>\n",
       "      <td>1</td>\n",
       "      <td>1</td>\n",
       "      <td>1</td>\n",
       "      <td>101348.88</td>\n",
       "      <td>1</td>\n",
       "      <td>0</td>\n",
       "      <td>0</td>\n",
       "      <td>0</td>\n",
       "    </tr>\n",
       "    <tr>\n",
       "      <td>1</td>\n",
       "      <td>608</td>\n",
       "      <td>41</td>\n",
       "      <td>1</td>\n",
       "      <td>83807.86</td>\n",
       "      <td>1</td>\n",
       "      <td>0</td>\n",
       "      <td>1</td>\n",
       "      <td>112542.58</td>\n",
       "      <td>0</td>\n",
       "      <td>0</td>\n",
       "      <td>1</td>\n",
       "      <td>0</td>\n",
       "    </tr>\n",
       "    <tr>\n",
       "      <td>2</td>\n",
       "      <td>502</td>\n",
       "      <td>42</td>\n",
       "      <td>8</td>\n",
       "      <td>159660.80</td>\n",
       "      <td>3</td>\n",
       "      <td>1</td>\n",
       "      <td>0</td>\n",
       "      <td>113931.57</td>\n",
       "      <td>1</td>\n",
       "      <td>0</td>\n",
       "      <td>0</td>\n",
       "      <td>0</td>\n",
       "    </tr>\n",
       "    <tr>\n",
       "      <td>3</td>\n",
       "      <td>699</td>\n",
       "      <td>39</td>\n",
       "      <td>1</td>\n",
       "      <td>0.00</td>\n",
       "      <td>2</td>\n",
       "      <td>0</td>\n",
       "      <td>0</td>\n",
       "      <td>93826.63</td>\n",
       "      <td>0</td>\n",
       "      <td>0</td>\n",
       "      <td>0</td>\n",
       "      <td>0</td>\n",
       "    </tr>\n",
       "    <tr>\n",
       "      <td>4</td>\n",
       "      <td>850</td>\n",
       "      <td>43</td>\n",
       "      <td>2</td>\n",
       "      <td>125510.82</td>\n",
       "      <td>1</td>\n",
       "      <td>1</td>\n",
       "      <td>1</td>\n",
       "      <td>79084.10</td>\n",
       "      <td>0</td>\n",
       "      <td>0</td>\n",
       "      <td>1</td>\n",
       "      <td>0</td>\n",
       "    </tr>\n",
       "  </tbody>\n",
       "</table>\n",
       "</div>"
      ],
      "text/plain": [
       "   credit_score  age  tenure    balance  num_of_products  has_cr_card  \\\n",
       "0           619   42       2       0.00                1            1   \n",
       "1           608   41       1   83807.86                1            0   \n",
       "2           502   42       8  159660.80                3            1   \n",
       "3           699   39       1       0.00                2            0   \n",
       "4           850   43       2  125510.82                1            1   \n",
       "\n",
       "   is_active_member  estimated_salary  exited  geography_Germany  \\\n",
       "0                 1         101348.88       1                  0   \n",
       "1                 1         112542.58       0                  0   \n",
       "2                 0         113931.57       1                  0   \n",
       "3                 0          93826.63       0                  0   \n",
       "4                 1          79084.10       0                  0   \n",
       "\n",
       "   geography_Spain  gender_Male  \n",
       "0                0            0  \n",
       "1                1            0  \n",
       "2                0            0  \n",
       "3                0            0  \n",
       "4                1            0  "
      ]
     },
     "execution_count": 15,
     "metadata": {},
     "output_type": "execute_result"
    }
   ],
   "source": [
    "# проверка\n",
    "data_ohe.head()"
   ]
  },
  {
   "cell_type": "code",
   "execution_count": 16,
   "metadata": {},
   "outputs": [],
   "source": [
    "# список столбцов которые нужно масштабировать\n",
    "numeric = ['credit_score', 'age', 'tenure', 'balance','num_of_products','estimated_salary']\n",
    "\n",
    "# масштабирование с использованием StandartScaler\n",
    "scaler = StandardScaler()\n",
    "scaler.fit(data_ohe[numeric])\n",
    "data_ohe[numeric] = scaler.transform(data_ohe[numeric])"
   ]
  },
  {
   "cell_type": "code",
   "execution_count": 17,
   "metadata": {
    "scrolled": true
   },
   "outputs": [
    {
     "data": {
      "text/html": [
       "<div>\n",
       "<style scoped>\n",
       "    .dataframe tbody tr th:only-of-type {\n",
       "        vertical-align: middle;\n",
       "    }\n",
       "\n",
       "    .dataframe tbody tr th {\n",
       "        vertical-align: top;\n",
       "    }\n",
       "\n",
       "    .dataframe thead th {\n",
       "        text-align: right;\n",
       "    }\n",
       "</style>\n",
       "<table border=\"1\" class=\"dataframe\">\n",
       "  <thead>\n",
       "    <tr style=\"text-align: right;\">\n",
       "      <th></th>\n",
       "      <th>credit_score</th>\n",
       "      <th>age</th>\n",
       "      <th>tenure</th>\n",
       "      <th>balance</th>\n",
       "      <th>num_of_products</th>\n",
       "      <th>has_cr_card</th>\n",
       "      <th>is_active_member</th>\n",
       "      <th>estimated_salary</th>\n",
       "      <th>exited</th>\n",
       "      <th>geography_Germany</th>\n",
       "      <th>geography_Spain</th>\n",
       "      <th>gender_Male</th>\n",
       "    </tr>\n",
       "  </thead>\n",
       "  <tbody>\n",
       "    <tr>\n",
       "      <td>0</td>\n",
       "      <td>-0.326221</td>\n",
       "      <td>0.293517</td>\n",
       "      <td>-1.082686</td>\n",
       "      <td>-1.225848</td>\n",
       "      <td>-0.911583</td>\n",
       "      <td>1</td>\n",
       "      <td>1</td>\n",
       "      <td>0.021886</td>\n",
       "      <td>1</td>\n",
       "      <td>0</td>\n",
       "      <td>0</td>\n",
       "      <td>0</td>\n",
       "    </tr>\n",
       "    <tr>\n",
       "      <td>1</td>\n",
       "      <td>-0.440036</td>\n",
       "      <td>0.198164</td>\n",
       "      <td>-1.444257</td>\n",
       "      <td>0.117350</td>\n",
       "      <td>-0.911583</td>\n",
       "      <td>0</td>\n",
       "      <td>1</td>\n",
       "      <td>0.216534</td>\n",
       "      <td>0</td>\n",
       "      <td>0</td>\n",
       "      <td>1</td>\n",
       "      <td>0</td>\n",
       "    </tr>\n",
       "    <tr>\n",
       "      <td>2</td>\n",
       "      <td>-1.536794</td>\n",
       "      <td>0.293517</td>\n",
       "      <td>1.086736</td>\n",
       "      <td>1.333053</td>\n",
       "      <td>2.527057</td>\n",
       "      <td>1</td>\n",
       "      <td>0</td>\n",
       "      <td>0.240687</td>\n",
       "      <td>1</td>\n",
       "      <td>0</td>\n",
       "      <td>0</td>\n",
       "      <td>0</td>\n",
       "    </tr>\n",
       "    <tr>\n",
       "      <td>3</td>\n",
       "      <td>0.501521</td>\n",
       "      <td>0.007457</td>\n",
       "      <td>-1.444257</td>\n",
       "      <td>-1.225848</td>\n",
       "      <td>0.807737</td>\n",
       "      <td>0</td>\n",
       "      <td>0</td>\n",
       "      <td>-0.108918</td>\n",
       "      <td>0</td>\n",
       "      <td>0</td>\n",
       "      <td>0</td>\n",
       "      <td>0</td>\n",
       "    </tr>\n",
       "    <tr>\n",
       "      <td>4</td>\n",
       "      <td>2.063884</td>\n",
       "      <td>0.388871</td>\n",
       "      <td>-1.082686</td>\n",
       "      <td>0.785728</td>\n",
       "      <td>-0.911583</td>\n",
       "      <td>1</td>\n",
       "      <td>1</td>\n",
       "      <td>-0.365276</td>\n",
       "      <td>0</td>\n",
       "      <td>0</td>\n",
       "      <td>1</td>\n",
       "      <td>0</td>\n",
       "    </tr>\n",
       "  </tbody>\n",
       "</table>\n",
       "</div>"
      ],
      "text/plain": [
       "   credit_score       age    tenure   balance  num_of_products  has_cr_card  \\\n",
       "0     -0.326221  0.293517 -1.082686 -1.225848        -0.911583            1   \n",
       "1     -0.440036  0.198164 -1.444257  0.117350        -0.911583            0   \n",
       "2     -1.536794  0.293517  1.086736  1.333053         2.527057            1   \n",
       "3      0.501521  0.007457 -1.444257 -1.225848         0.807737            0   \n",
       "4      2.063884  0.388871 -1.082686  0.785728        -0.911583            1   \n",
       "\n",
       "   is_active_member  estimated_salary  exited  geography_Germany  \\\n",
       "0                 1          0.021886       1                  0   \n",
       "1                 1          0.216534       0                  0   \n",
       "2                 0          0.240687       1                  0   \n",
       "3                 0         -0.108918       0                  0   \n",
       "4                 1         -0.365276       0                  0   \n",
       "\n",
       "   geography_Spain  gender_Male  \n",
       "0                0            0  \n",
       "1                1            0  \n",
       "2                0            0  \n",
       "3                0            0  \n",
       "4                1            0  "
      ]
     },
     "execution_count": 17,
     "metadata": {},
     "output_type": "execute_result"
    }
   ],
   "source": [
    "data_ohe.head()"
   ]
  },
  {
   "cell_type": "markdown",
   "metadata": {},
   "source": [
    "Признаки подготовлены. Посмотрим на баланс классов в целевом признаке 'exited'."
   ]
  },
  {
   "cell_type": "code",
   "execution_count": 18,
   "metadata": {
    "scrolled": true
   },
   "outputs": [
    {
     "data": {
      "text/html": [
       "<div>\n",
       "<style scoped>\n",
       "    .dataframe tbody tr th:only-of-type {\n",
       "        vertical-align: middle;\n",
       "    }\n",
       "\n",
       "    .dataframe tbody tr th {\n",
       "        vertical-align: top;\n",
       "    }\n",
       "\n",
       "    .dataframe thead th {\n",
       "        text-align: right;\n",
       "    }\n",
       "</style>\n",
       "<table border=\"1\" class=\"dataframe\">\n",
       "  <thead>\n",
       "    <tr style=\"text-align: right;\">\n",
       "      <th></th>\n",
       "      <th>exited</th>\n",
       "    </tr>\n",
       "  </thead>\n",
       "  <tbody>\n",
       "    <tr>\n",
       "      <td>0</td>\n",
       "      <td>7963</td>\n",
       "    </tr>\n",
       "    <tr>\n",
       "      <td>1</td>\n",
       "      <td>2037</td>\n",
       "    </tr>\n",
       "  </tbody>\n",
       "</table>\n",
       "</div>"
      ],
      "text/plain": [
       "   exited\n",
       "0    7963\n",
       "1    2037"
      ]
     },
     "metadata": {},
     "output_type": "display_data"
    },
    {
     "name": "stdout",
     "output_type": "stream",
     "text": [
      "Клиентов ушло: 20.4%\n",
      "Клиентов осталось: 79.6%\n"
     ]
    }
   ],
   "source": [
    "display(data_ohe['exited'].value_counts().to_frame())\n",
    "exited_part = data['exited'].mean()\n",
    "print('Клиентов ушло:', '{0:.1f}%'.format(exited_part*100))\n",
    "print('Клиентов осталось:', '{0:.1f}%'.format((1-exited_part)*100))"
   ]
  },
  {
   "cell_type": "markdown",
   "metadata": {},
   "source": [
    "Видим, что классы несбалансированны. Учтем это при разбиении данных на выборки и далее при обучении моделей."
   ]
  },
  {
   "cell_type": "markdown",
   "metadata": {},
   "source": [
    "###  Деление данных на выборки"
   ]
  },
  {
   "cell_type": "markdown",
   "metadata": {},
   "source": [
    "Для начала выделим признаки и целевой признак в отдельные таблицы"
   ]
  },
  {
   "cell_type": "code",
   "execution_count": 19,
   "metadata": {},
   "outputs": [],
   "source": [
    "# таблица с целевым признаком\n",
    "target = data_ohe['exited']\n",
    "\n",
    "# таблицы с признаками\n",
    "features = data_ohe.drop(['exited'], axis=1)"
   ]
  },
  {
   "cell_type": "markdown",
   "metadata": {},
   "source": [
    "В нашем распоряжении нет тестового набора данных на котором мы будем проверять нашу модель. Значит все необходимые выборки необходимо сгенерировать из существующей таблицы. Разобьем наши данные на три части в следующих соотношениях: \n",
    "- обучаюшая выборка - 60%\n",
    "- валидационная выборка - 20%\n",
    "- тестовая выборка - 20%"
   ]
  },
  {
   "cell_type": "code",
   "execution_count": 20,
   "metadata": {},
   "outputs": [],
   "source": [
    "# используем метод train_test_split для выделения тестовой выборки\n",
    "features_education, features_test, target_education, target_test = train_test_split(\n",
    "    features,target, test_size=0.2, random_state=12345, stratify = target)\n",
    "\n",
    "# используем метод train_test_split для выделения валидационной выборки\n",
    "features_train, features_valid, target_train, target_valid = train_test_split(\n",
    "    features_education, target_education, test_size=0.25, random_state=12345, stratify = target_education)"
   ]
  },
  {
   "cell_type": "markdown",
   "metadata": {},
   "source": [
    "При разбиении использовали параметр stratify, чтобы распределение для всех выборок было бы такое же, как и в изначальных данных (клиентов ушло -20.4%, клиентов осталось - 79.6%).\n",
    "\n",
    "Посмотрим на размеры получившихся таблиц. Для тестовой и валидационной выборок они должны совпадать. Данные для обучения должны быть в три раза больше."
   ]
  },
  {
   "cell_type": "code",
   "execution_count": 21,
   "metadata": {
    "scrolled": true
   },
   "outputs": [
    {
     "name": "stdout",
     "output_type": "stream",
     "text": [
      "(6000, 11)\n",
      "(2000, 11)\n",
      "(2000, 11)\n",
      "(6000,)\n",
      "(2000,)\n",
      "(2000,)\n"
     ]
    }
   ],
   "source": [
    "print(features_train.shape)\n",
    "print(features_valid.shape)\n",
    "print(features_test.shape)\n",
    "print(target_train.shape)\n",
    "print(target_valid.shape)\n",
    "print(target_test.shape)"
   ]
  },
  {
   "cell_type": "markdown",
   "metadata": {},
   "source": [
    "Размер соответствует ожиданиям в соответствии с пропорциями 3:1:1. "
   ]
  },
  {
   "cell_type": "markdown",
   "metadata": {},
   "source": [
    "**Вывод**\n",
    "\n",
    "В процессе подготовки данные сделано следующее: \n",
    "\n",
    "+ Пропуски в столбце tenure заполнены медианым значением. \n",
    "+ Неиформативные столбцы удалены из таблицы. \n",
    "+ Категориальные признаки закодированы с помощью OHE.\n",
    "+ Количественные признаки отмасштабированы. \n",
    "+ Данные разделены на три выборки train, test, valid в соотношение 3:1:1.\n"
   ]
  },
  {
   "cell_type": "markdown",
   "metadata": {},
   "source": [
    "## Исследование задачи"
   ]
  },
  {
   "cell_type": "markdown",
   "metadata": {},
   "source": [
    "У нас целевой признак - это уйдет клиет или нет. Он является категориальным, а так как возможных вариантов только 2, то можно сказать, что речь идет о бинарной классификации. Исследуем следующие модели и изучим для них различные метрики качества: \n",
    "\n",
    " - дерево решений\n",
    " - случайный лес\n",
    " - логистическая регрессия"
   ]
  },
  {
   "cell_type": "markdown",
   "metadata": {},
   "source": [
    "Основная метрика на которую мы будем смотреть - это F1 score. Будем записывать в таблицу промежуточные результаты. "
   ]
  },
  {
   "cell_type": "code",
   "execution_count": 22,
   "metadata": {},
   "outputs": [
    {
     "data": {
      "text/html": [
       "<div>\n",
       "<style scoped>\n",
       "    .dataframe tbody tr th:only-of-type {\n",
       "        vertical-align: middle;\n",
       "    }\n",
       "\n",
       "    .dataframe tbody tr th {\n",
       "        vertical-align: top;\n",
       "    }\n",
       "\n",
       "    .dataframe thead th {\n",
       "        text-align: right;\n",
       "    }\n",
       "</style>\n",
       "<table border=\"1\" class=\"dataframe\">\n",
       "  <thead>\n",
       "    <tr style=\"text-align: right;\">\n",
       "      <th></th>\n",
       "      <th>model</th>\n",
       "    </tr>\n",
       "  </thead>\n",
       "  <tbody>\n",
       "    <tr>\n",
       "      <td>0</td>\n",
       "      <td>Дерево решений</td>\n",
       "    </tr>\n",
       "    <tr>\n",
       "      <td>1</td>\n",
       "      <td>Случайный лес</td>\n",
       "    </tr>\n",
       "    <tr>\n",
       "      <td>2</td>\n",
       "      <td>Логистическая регрессия</td>\n",
       "    </tr>\n",
       "  </tbody>\n",
       "</table>\n",
       "</div>"
      ],
      "text/plain": [
       "                     model\n",
       "0           Дерево решений\n",
       "1            Случайный лес\n",
       "2  Логистическая регрессия"
      ]
     },
     "execution_count": 22,
     "metadata": {},
     "output_type": "execute_result"
    }
   ],
   "source": [
    "# создание таблицы для хранения значений F1 меры\n",
    "temp = {'model': ['Дерево решений','Случайный лес','Логистическая регрессия']}\n",
    "f1_results = pd.DataFrame(data=temp)\n",
    "f1_results"
   ]
  },
  {
   "cell_type": "markdown",
   "metadata": {},
   "source": [
    "### Дерево решений"
   ]
  },
  {
   "cell_type": "markdown",
   "metadata": {},
   "source": [
    "Обучим модель дерева решений со случайными параметрами и изучим основные характиристики: матрица ошибок, полнота, точность, F1."
   ]
  },
  {
   "cell_type": "code",
   "execution_count": 23,
   "metadata": {},
   "outputs": [],
   "source": [
    "# функция расчета метрик качества для значений моделей по умолчанию\n",
    "def model_analysis(model_name, model_n, features_train, target_train):\n",
    "    print(model_n, '\\n')\n",
    "    model = model_name(random_state=12345)\n",
    "    model.fit(features_train, target_train)\n",
    "    predicted_valid = model.predict(features_valid)\n",
    "    print('Точность(Accuracy):', round(accuracy_score(target_valid, predicted_valid),3))\n",
    "    print('Матрица ошибок:', confusion_matrix(target_valid, predicted_valid), sep='\\n', end = '\\n')\n",
    "    print('Точность(Precision):', round(precision_score(target_valid, predicted_valid),3))\n",
    "    print('Полнота:', round(recall_score(target_valid, predicted_valid),3))\n",
    "    print('F1-мера:', round(f1_score(target_valid, predicted_valid), 3))\n",
    "    \n",
    "    # рассчет метрики ROC-AUC\n",
    "    probabilities_valid = model.predict_proba(features_valid)\n",
    "    probabilities_one_valid = probabilities_valid[:, 1]\n",
    "    auc_roc = roc_auc_score(target_valid, probabilities_one_valid)\n",
    "\n",
    "    print('ROC-AUC:', round(auc_roc,3))\n",
    "    print('\\n')\n",
    "    \n",
    "    \n",
    "    \n",
    "    return round(f1_score(target_valid, predicted_valid),3)\n",
    "    \n",
    "    "
   ]
  },
  {
   "cell_type": "code",
   "execution_count": 24,
   "metadata": {},
   "outputs": [
    {
     "name": "stdout",
     "output_type": "stream",
     "text": [
      "Дерево решений \n",
      "\n",
      "Точность(Accuracy): 0.792\n",
      "Матрица ошибок:\n",
      "[[1380  213]\n",
      " [ 202  205]]\n",
      "Точность(Precision): 0.49\n",
      "Полнота: 0.504\n",
      "F1-мера: 0.497\n",
      "ROC-AUC: 0.685\n",
      "\n",
      "\n"
     ]
    }
   ],
   "source": [
    "f1_results.loc[0,'default'] = model_analysis(DecisionTreeClassifier,\n",
    "                                             'Дерево решений', \n",
    "                                             features_train, \n",
    "                                             target_train)"
   ]
  },
  {
   "cell_type": "markdown",
   "metadata": {},
   "source": [
    "Для дерева решений с гиперпараметрами по умолчанию мы получили точность предсказаний модели 0.79, что довольно хороший результат. Но в данном случае метрика обманчива, потомучто у нас несбалансированные классы. Если посмотреть на значение метрики полноты, то модель половину значений положительных не предсказывает. Тоже самое с точностью положительных предсказаний (precision) - большому количеству предсказывается ложноположительный результат.  F1-мера 0.49 и ROC-AUC 0.685, что является низкими результатами для модели."
   ]
  },
  {
   "cell_type": "markdown",
   "metadata": {},
   "source": [
    "### Случайный лес"
   ]
  },
  {
   "cell_type": "markdown",
   "metadata": {},
   "source": [
    "Проанализируем как ведет себя модель случайного леса. "
   ]
  },
  {
   "cell_type": "code",
   "execution_count": 25,
   "metadata": {},
   "outputs": [
    {
     "name": "stdout",
     "output_type": "stream",
     "text": [
      "Случайный лес \n",
      "\n",
      "Точность(Accuracy): 0.853\n",
      "Матрица ошибок:\n",
      "[[1528   65]\n",
      " [ 229  178]]\n",
      "Точность(Precision): 0.733\n",
      "Полнота: 0.437\n",
      "F1-мера: 0.548\n",
      "ROC-AUC: 0.821\n",
      "\n",
      "\n"
     ]
    }
   ],
   "source": [
    "f1_results.loc[1,'default'] = model_analysis(RandomForestClassifier,\n",
    "                                             'Случайный лес', \n",
    "                                             features_train, \n",
    "                                             target_train)"
   ]
  },
  {
   "cell_type": "markdown",
   "metadata": {},
   "source": [
    "Модель случайного леса имеет чуть лучше показатели. Но опять видны проблемы из за несбалансированности классов. При общей accuracy 0.853, F1-мера всего 0.548. Данная модель реже предсказывает ошибочно 1 (FP=65), соответственно значение метрики точности Precision у нее выше (0.73), чем у модели дерева решений. Метрика ROC-AUC 0.821, что является неплохим показателем."
   ]
  },
  {
   "cell_type": "markdown",
   "metadata": {},
   "source": [
    "### Логистическая регрессия\n"
   ]
  },
  {
   "cell_type": "markdown",
   "metadata": {},
   "source": [
    "Проанализируем как ведет себя модель логистической регрессии"
   ]
  },
  {
   "cell_type": "code",
   "execution_count": 26,
   "metadata": {},
   "outputs": [
    {
     "name": "stdout",
     "output_type": "stream",
     "text": [
      "Логистическая регрессия \n",
      "\n",
      "Точность(Accuracy): 0.818\n",
      "Матрица ошибок:\n",
      "[[1551   42]\n",
      " [ 321   86]]\n",
      "Точность(Precision): 0.672\n",
      "Полнота: 0.211\n",
      "F1-мера: 0.321\n",
      "ROC-AUC: 0.788\n",
      "\n",
      "\n"
     ]
    }
   ],
   "source": [
    "f1_results.loc[2,'default'] = model_analysis(LogisticRegression,\n",
    "                                             'Логистическая регрессия',\n",
    "                                             features_train, \n",
    "                                             target_train)"
   ]
  },
  {
   "cell_type": "markdown",
   "metadata": {},
   "source": [
    "Видим, что логистическая регрессия показывает совсем слабые результаты. При довольно высокой точности Accuracy 0,82 значение F1-меры 0.32, ROC-AUC 0.788. Полнота всего 0.21, модель практически не предсказывает положительные результаты (FN = 321, TP = 86)."
   ]
  },
  {
   "cell_type": "markdown",
   "metadata": {},
   "source": [
    "----"
   ]
  },
  {
   "cell_type": "markdown",
   "metadata": {},
   "source": [
    "**Вывод**\n",
    "\n",
    "Изучили метрики трех моделей (дерево решений, случайый лес, логистическая регрессия) с параметрами по умолчанию. Лучшее значение F1 меры - 0.548 у модели случайного леса. У нее же самые лучшие показатели ROC-AUC - 0.821 \n"
   ]
  },
  {
   "cell_type": "markdown",
   "metadata": {},
   "source": [
    "## Борьба с дисбалансом"
   ]
  },
  {
   "cell_type": "markdown",
   "metadata": {},
   "source": [
    "В нашей задаче слишком большой дисбаланс классов - в целевом признаке 20% единичек и 80% нулей. Попробуем решить это несколькими способами и переобучить модели:    \n",
    "+ Взвешивание классов. При обучении моделей укажем параметр class_weight='balanced'. В этом случае модель будет учиться с учетом дисбаланса.\n",
    "+ Увеличение выборки\n",
    "+ Уменьшение выборки"
   ]
  },
  {
   "cell_type": "markdown",
   "metadata": {},
   "source": [
    "### Взвешивание классов "
   ]
  },
  {
   "cell_type": "markdown",
   "metadata": {},
   "source": [
    "Переобучим наши модели и укажем параметр class_weight='balanced'.\n"
   ]
  },
  {
   "cell_type": "code",
   "execution_count": 27,
   "metadata": {},
   "outputs": [],
   "source": [
    "def model_analysis_bal(model_name, model_n):\n",
    "    print(model_n)\n",
    "    model = model_name(random_state=12345, class_weight='balanced')\n",
    "    model.fit(features_train, target_train)\n",
    "    predicted_valid = model.predict(features_valid)\n",
    "    print('F1-мера:', round(f1_score(target_valid, predicted_valid),3), end = '\\n\\n')\n",
    "    return round(f1_score(target_valid, predicted_valid),3)"
   ]
  },
  {
   "cell_type": "code",
   "execution_count": 28,
   "metadata": {
    "scrolled": true
   },
   "outputs": [
    {
     "name": "stdout",
     "output_type": "stream",
     "text": [
      "Дерево решений\n",
      "F1-мера: 0.472\n",
      "\n",
      "Случайный лес\n",
      "F1-мера: 0.522\n",
      "\n",
      "Логистическая регрессия\n",
      "F1-мера: 0.511\n",
      "\n"
     ]
    }
   ],
   "source": [
    "f1_results.loc[0,'balanced'] = model_analysis_bal(DecisionTreeClassifier, 'Дерево решений')\n",
    "\n",
    "f1_results.loc[1,'balanced'] = model_analysis_bal(RandomForestClassifier, 'Случайный лес')\n",
    "\n",
    "f1_results.loc[2,'balanced'] = model_analysis_bal(LogisticRegression, 'Логистическая регрессия')"
   ]
  },
  {
   "cell_type": "code",
   "execution_count": 29,
   "metadata": {},
   "outputs": [
    {
     "data": {
      "text/html": [
       "<div>\n",
       "<style scoped>\n",
       "    .dataframe tbody tr th:only-of-type {\n",
       "        vertical-align: middle;\n",
       "    }\n",
       "\n",
       "    .dataframe tbody tr th {\n",
       "        vertical-align: top;\n",
       "    }\n",
       "\n",
       "    .dataframe thead th {\n",
       "        text-align: right;\n",
       "    }\n",
       "</style>\n",
       "<table border=\"1\" class=\"dataframe\">\n",
       "  <thead>\n",
       "    <tr style=\"text-align: right;\">\n",
       "      <th></th>\n",
       "      <th>model</th>\n",
       "      <th>default</th>\n",
       "      <th>balanced</th>\n",
       "    </tr>\n",
       "  </thead>\n",
       "  <tbody>\n",
       "    <tr>\n",
       "      <td>0</td>\n",
       "      <td>Дерево решений</td>\n",
       "      <td>0.497</td>\n",
       "      <td>0.472</td>\n",
       "    </tr>\n",
       "    <tr>\n",
       "      <td>1</td>\n",
       "      <td>Случайный лес</td>\n",
       "      <td>0.548</td>\n",
       "      <td>0.522</td>\n",
       "    </tr>\n",
       "    <tr>\n",
       "      <td>2</td>\n",
       "      <td>Логистическая регрессия</td>\n",
       "      <td>0.321</td>\n",
       "      <td>0.511</td>\n",
       "    </tr>\n",
       "  </tbody>\n",
       "</table>\n",
       "</div>"
      ],
      "text/plain": [
       "                     model  default  balanced\n",
       "0           Дерево решений    0.497     0.472\n",
       "1            Случайный лес    0.548     0.522\n",
       "2  Логистическая регрессия    0.321     0.511"
      ]
     },
     "execution_count": 29,
     "metadata": {},
     "output_type": "execute_result"
    }
   ],
   "source": [
    "f1_results"
   ]
  },
  {
   "cell_type": "markdown",
   "metadata": {},
   "source": [
    "Значение F1-меры увеличилось только для логистической регрессии, для Дерева решений и Случайного леса значение  F1-меры уменьшилось. "
   ]
  },
  {
   "cell_type": "markdown",
   "metadata": {},
   "source": [
    "### Увеличение выборки"
   ]
  },
  {
   "cell_type": "markdown",
   "metadata": {},
   "source": [
    "Сбалансируем наши данные способом увеличения выборки. Для этого нужно скопировать несколько раз объекты меньшего класса и перемешать выборку. "
   ]
  },
  {
   "cell_type": "code",
   "execution_count": 30,
   "metadata": {},
   "outputs": [],
   "source": [
    "# функция для балансировки классов методом увеличения выборки\n",
    "def upsample(features, target, repeat):\n",
    "    features_zeros = features[target == 0]\n",
    "    features_ones = features[target == 1]\n",
    "    target_zeros = target[target == 0]\n",
    "    target_ones = target[target == 1]\n",
    "    features_upsampled = pd.concat([features_zeros] + [features_ones] * repeat)\n",
    "    target_upsampled = pd.concat([target_zeros] + [target_ones] * repeat)\n",
    "    features_upsampled, target_upsampled = shuffle(\n",
    "    features_upsampled, target_upsampled, random_state=12345)\n",
    "    return features_upsampled, target_upsampled\n",
    "\n",
    "# создание увеличенных тренировочных выборок\n",
    "features_upsampled, target_upsampled = upsample(features_train, target_train, 4)"
   ]
  },
  {
   "cell_type": "markdown",
   "metadata": {},
   "source": [
    "Проверим, что классы стали сбалансированны. Для этого посчитаем среднее по столбцу exited, оно должно быть в районе 0.5. "
   ]
  },
  {
   "cell_type": "code",
   "execution_count": 31,
   "metadata": {
    "scrolled": true
   },
   "outputs": [
    {
     "data": {
      "text/plain": [
       "0.5059468404178302"
      ]
     },
     "execution_count": 31,
     "metadata": {},
     "output_type": "execute_result"
    }
   ],
   "source": [
    "target_upsampled.mean()"
   ]
  },
  {
   "cell_type": "markdown",
   "metadata": {},
   "source": [
    "Посмотрим на метрики моделей обученных на данных увеличенной выборки. "
   ]
  },
  {
   "cell_type": "code",
   "execution_count": 32,
   "metadata": {},
   "outputs": [
    {
     "name": "stdout",
     "output_type": "stream",
     "text": [
      "Дерево решений \n",
      "\n",
      "Точность(Accuracy): 0.792\n",
      "Матрица ошибок:\n",
      "[[1386  207]\n",
      " [ 208  199]]\n",
      "Точность(Precision): 0.49\n",
      "Полнота: 0.489\n",
      "F1-мера: 0.49\n",
      "ROC-AUC: 0.679\n",
      "\n",
      "\n",
      "Случайный лес \n",
      "\n",
      "Точность(Accuracy): 0.845\n",
      "Матрица ошибок:\n",
      "[[1480  113]\n",
      " [ 197  210]]\n",
      "Точность(Precision): 0.65\n",
      "Полнота: 0.516\n",
      "F1-мера: 0.575\n",
      "ROC-AUC: 0.825\n",
      "\n",
      "\n",
      "Логистическая регрессия \n",
      "\n",
      "Точность(Accuracy): 0.714\n",
      "Матрица ошибок:\n",
      "[[1131  462]\n",
      " [ 111  296]]\n",
      "Точность(Precision): 0.391\n",
      "Полнота: 0.727\n",
      "F1-мера: 0.508\n",
      "ROC-AUC: 0.792\n",
      "\n",
      "\n"
     ]
    }
   ],
   "source": [
    "f1_results.loc[0,'upsampled'] = model_analysis(DecisionTreeClassifier,\n",
    "                                               'Дерево решений', \n",
    "                                               features_upsampled,\n",
    "                                               target_upsampled)\n",
    "\n",
    "f1_results.loc[1,'upsampled'] = model_analysis(RandomForestClassifier,\n",
    "                                               'Случайный лес',\n",
    "                                               features_upsampled, \n",
    "                                               target_upsampled)\n",
    "\n",
    "f1_results.loc[2,'upsampled'] = model_analysis(LogisticRegression, \n",
    "                                               'Логистическая регрессия',\n",
    "                                               features_upsampled, \n",
    "                                               target_upsampled)\n"
   ]
  },
  {
   "cell_type": "code",
   "execution_count": 33,
   "metadata": {
    "scrolled": true
   },
   "outputs": [
    {
     "data": {
      "text/html": [
       "<div>\n",
       "<style scoped>\n",
       "    .dataframe tbody tr th:only-of-type {\n",
       "        vertical-align: middle;\n",
       "    }\n",
       "\n",
       "    .dataframe tbody tr th {\n",
       "        vertical-align: top;\n",
       "    }\n",
       "\n",
       "    .dataframe thead th {\n",
       "        text-align: right;\n",
       "    }\n",
       "</style>\n",
       "<table border=\"1\" class=\"dataframe\">\n",
       "  <thead>\n",
       "    <tr style=\"text-align: right;\">\n",
       "      <th></th>\n",
       "      <th>model</th>\n",
       "      <th>default</th>\n",
       "      <th>balanced</th>\n",
       "      <th>upsampled</th>\n",
       "    </tr>\n",
       "  </thead>\n",
       "  <tbody>\n",
       "    <tr>\n",
       "      <td>0</td>\n",
       "      <td>Дерево решений</td>\n",
       "      <td>0.497</td>\n",
       "      <td>0.472</td>\n",
       "      <td>0.490</td>\n",
       "    </tr>\n",
       "    <tr>\n",
       "      <td>1</td>\n",
       "      <td>Случайный лес</td>\n",
       "      <td>0.548</td>\n",
       "      <td>0.522</td>\n",
       "      <td>0.575</td>\n",
       "    </tr>\n",
       "    <tr>\n",
       "      <td>2</td>\n",
       "      <td>Логистическая регрессия</td>\n",
       "      <td>0.321</td>\n",
       "      <td>0.511</td>\n",
       "      <td>0.508</td>\n",
       "    </tr>\n",
       "  </tbody>\n",
       "</table>\n",
       "</div>"
      ],
      "text/plain": [
       "                     model  default  balanced  upsampled\n",
       "0           Дерево решений    0.497     0.472      0.490\n",
       "1            Случайный лес    0.548     0.522      0.575\n",
       "2  Логистическая регрессия    0.321     0.511      0.508"
      ]
     },
     "execution_count": 33,
     "metadata": {},
     "output_type": "execute_result"
    }
   ],
   "source": [
    "f1_results"
   ]
  },
  {
   "cell_type": "markdown",
   "metadata": {},
   "source": [
    "Метрики модели Дерева решения практически не изменились.\n",
    "Для модели Случайного леса с помощью upsampling удалось прибавить 0.025 к занчению F1-меры. Логистическа регрессия тоже показывает улучшение результатов на увеличенной сбалансированной выборке -  значительно увеличилась F1-мера, и количество TP ответов. \n"
   ]
  },
  {
   "cell_type": "markdown",
   "metadata": {},
   "source": [
    "### Уменьшение выборки"
   ]
  },
  {
   "cell_type": "markdown",
   "metadata": {},
   "source": [
    "Сбалансируем наши данные способом уменьшения выборки. Для этого нужно уменьшить в несколько раз количество объектов большого класса случайным образом и перемешать выборку. "
   ]
  },
  {
   "cell_type": "code",
   "execution_count": 34,
   "metadata": {},
   "outputs": [],
   "source": [
    "# функция для балансировки классов методом уменьшения выборки\n",
    "def downsample(features, target, fraction):\n",
    "    features_zeros = features[target == 0]\n",
    "    features_ones = features[target == 1]\n",
    "    target_zeros = target[target == 0]\n",
    "    target_ones = target[target == 1]\n",
    "    \n",
    "    features_downsampled = pd.concat(\n",
    "        [features_zeros.sample(frac=fraction, random_state=12345)]\n",
    "        + [features_ones])\n",
    "    \n",
    "    target_downsampled = pd.concat(\n",
    "        [target_zeros.sample(frac=fraction, random_state=12345)] \n",
    "        + [target_ones])\n",
    "    \n",
    "    features_downsampled, target_downsampled = shuffle(\n",
    "        features_downsampled, target_downsampled, random_state=12345)\n",
    "    return features_downsampled, target_downsampled\n",
    "\n",
    "features_downsampled, target_downsampled = downsample(features_train, target_train, 0.25)\n"
   ]
  },
  {
   "cell_type": "markdown",
   "metadata": {},
   "source": [
    "Проверим, что классы стали сбалансированны. Для этого посчитаем среднее по столбцу exited, оно должно быть в районе 0.5. "
   ]
  },
  {
   "cell_type": "code",
   "execution_count": 35,
   "metadata": {},
   "outputs": [
    {
     "data": {
      "text/plain": [
       "0.5059991725279271"
      ]
     },
     "execution_count": 35,
     "metadata": {},
     "output_type": "execute_result"
    }
   ],
   "source": [
    "target_downsampled.mean()"
   ]
  },
  {
   "cell_type": "markdown",
   "metadata": {},
   "source": [
    "Посмотрим на метрики моделей, обученных на данных уменьшенной выборки. "
   ]
  },
  {
   "cell_type": "code",
   "execution_count": 36,
   "metadata": {
    "scrolled": false
   },
   "outputs": [
    {
     "name": "stdout",
     "output_type": "stream",
     "text": [
      "Дерево решений \n",
      "\n",
      "Точность(Accuracy): 0.702\n",
      "Матрица ошибок:\n",
      "[[1113  480]\n",
      " [ 116  291]]\n",
      "Точность(Precision): 0.377\n",
      "Полнота: 0.715\n",
      "F1-мера: 0.494\n",
      "ROC-AUC: 0.707\n",
      "\n",
      "\n",
      "Случайный лес \n",
      "\n",
      "Точность(Accuracy): 0.782\n",
      "Матрица ошибок:\n",
      "[[1271  322]\n",
      " [ 115  292]]\n",
      "Точность(Precision): 0.476\n",
      "Полнота: 0.717\n",
      "F1-мера: 0.572\n",
      "ROC-AUC: 0.839\n",
      "\n",
      "\n",
      "Логистическая регрессия \n",
      "\n",
      "Точность(Accuracy): 0.711\n",
      "Матрица ошибок:\n",
      "[[1128  465]\n",
      " [ 113  294]]\n",
      "Точность(Precision): 0.387\n",
      "Полнота: 0.722\n",
      "F1-мера: 0.504\n",
      "ROC-AUC: 0.791\n",
      "\n",
      "\n"
     ]
    }
   ],
   "source": [
    "f1_results.loc[0,'downsampled'] = model_analysis(DecisionTreeClassifier,\n",
    "                                                 'Дерево решений', \n",
    "                                                 features_downsampled,\n",
    "                                                 target_downsampled)\n",
    "\n",
    "f1_results.loc[1,'downsampled'] = model_analysis(RandomForestClassifier, \n",
    "                                                 'Случайный лес', \n",
    "                                                 features_downsampled, \n",
    "                                                 target_downsampled)\n",
    "\n",
    "f1_results.loc[2,'downsampled'] = model_analysis(LogisticRegression, \n",
    "                                                 'Логистическая регрессия', \n",
    "                                                 features_downsampled, \n",
    "                                                 target_downsampled)\n",
    "\n"
   ]
  },
  {
   "cell_type": "markdown",
   "metadata": {},
   "source": [
    "Получили в сренем такие же результаты как и для увеличенных данных. "
   ]
  },
  {
   "cell_type": "markdown",
   "metadata": {},
   "source": [
    "----"
   ]
  },
  {
   "cell_type": "markdown",
   "metadata": {},
   "source": [
    "Построим столбчатую диаграмму для моделей, обученных на разных данных. "
   ]
  },
  {
   "cell_type": "code",
   "execution_count": 37,
   "metadata": {},
   "outputs": [
    {
     "data": {
      "text/html": [
       "<div>\n",
       "<style scoped>\n",
       "    .dataframe tbody tr th:only-of-type {\n",
       "        vertical-align: middle;\n",
       "    }\n",
       "\n",
       "    .dataframe tbody tr th {\n",
       "        vertical-align: top;\n",
       "    }\n",
       "\n",
       "    .dataframe thead th {\n",
       "        text-align: right;\n",
       "    }\n",
       "</style>\n",
       "<table border=\"1\" class=\"dataframe\">\n",
       "  <thead>\n",
       "    <tr style=\"text-align: right;\">\n",
       "      <th></th>\n",
       "      <th>model</th>\n",
       "      <th>default</th>\n",
       "      <th>balanced</th>\n",
       "      <th>upsampled</th>\n",
       "      <th>downsampled</th>\n",
       "    </tr>\n",
       "  </thead>\n",
       "  <tbody>\n",
       "    <tr>\n",
       "      <td>0</td>\n",
       "      <td>Дерево решений</td>\n",
       "      <td>0.497</td>\n",
       "      <td>0.472</td>\n",
       "      <td>0.490</td>\n",
       "      <td>0.494</td>\n",
       "    </tr>\n",
       "    <tr>\n",
       "      <td>1</td>\n",
       "      <td>Случайный лес</td>\n",
       "      <td>0.548</td>\n",
       "      <td>0.522</td>\n",
       "      <td>0.575</td>\n",
       "      <td>0.572</td>\n",
       "    </tr>\n",
       "    <tr>\n",
       "      <td>2</td>\n",
       "      <td>Логистическая регрессия</td>\n",
       "      <td>0.321</td>\n",
       "      <td>0.511</td>\n",
       "      <td>0.508</td>\n",
       "      <td>0.504</td>\n",
       "    </tr>\n",
       "  </tbody>\n",
       "</table>\n",
       "</div>"
      ],
      "text/plain": [
       "                     model  default  balanced  upsampled  downsampled\n",
       "0           Дерево решений    0.497     0.472      0.490        0.494\n",
       "1            Случайный лес    0.548     0.522      0.575        0.572\n",
       "2  Логистическая регрессия    0.321     0.511      0.508        0.504"
      ]
     },
     "metadata": {},
     "output_type": "display_data"
    },
    {
     "data": {
      "image/png": "[encoded data removed]",
      "text/plain": [
       "<Figure size 648x360 with 1 Axes>"
      ]
     },
     "metadata": {},
     "output_type": "display_data"
    }
   ],
   "source": [
    "display(f1_results)\n",
    "\n",
    "# графики значений f1-меры для разных моделей\n",
    "fig, ax = plt.subplots(figsize = (9,5))\n",
    "f1_results.plot.bar(x='model', ax=ax, title = 'Сравени')\n",
    "ax.legend(loc='center left', bbox_to_anchor=(1, 0.5))\n",
    "plt.show()\n"
   ]
  },
  {
   "cell_type": "markdown",
   "metadata": {},
   "source": [
    "Из графика видно, что эффект от борьбы с дисбалансом больше всего виден для Логистической регрессии. Все три метода примерно одинакового повысли значение F1-меры (с 0.3 до 0.5). Но чуть-чуть лучше показатели у метода взвешивания классов, дальше его и используем для повышения качества модели. \n",
    "\n",
    "Для модели Дерева решений почти все 4 значения F1-меры одинаковы. Для дальнейшего обучения будет использовать изначальные данные. \n",
    "\n",
    "Модель Случайного леса показала наибольшиек значения F1-меры на увеличенной сбалансированной выборке. "
   ]
  },
  {
   "cell_type": "markdown",
   "metadata": {},
   "source": [
    "## Порог классификации"
   ]
  },
  {
   "cell_type": "markdown",
   "metadata": {},
   "source": [
    "Попробуем улучшить наши модели подбирая оптимальный порог классификации. \n",
    "Для этого сначала для каждой модели сначала найдем оптимальные гиперпараметры и потом найдем оптимальный порог.  "
   ]
  },
  {
   "cell_type": "markdown",
   "metadata": {},
   "source": [
    "### Дерево решений"
   ]
  },
  {
   "cell_type": "markdown",
   "metadata": {},
   "source": [
    "Для дерева решений сначала найдем оптимальную глубину дерева."
   ]
  },
  {
   "cell_type": "code",
   "execution_count": 38,
   "metadata": {},
   "outputs": [
    {
     "name": "stdout",
     "output_type": "stream",
     "text": [
      "Лучшие параметры модели Дерева решений:\n",
      "Лучшая глубина дерева: 8\n",
      "Лучшая метрика f1: 0.584\n",
      "Точность accuracy: 0.856\n"
     ]
    }
   ],
   "source": [
    "def decision_tree(min_d, max_d):\n",
    "    best_depth = 0 \n",
    "    best_f1 = 0\n",
    "    best_model = 0\n",
    "    best_acc = 0\n",
    "    for depth in range(min_d,max_d+1): \n",
    "        # обучение модели и рассчет точности \n",
    "        model_decision_tree = DecisionTreeClassifier(random_state=12345, max_depth = depth)\n",
    "        model_decision_tree.fit(features_train, target_train)\n",
    "        predicted_valid = model_decision_tree.predict(features_valid)\n",
    "        f1_sc = f1_score(target_valid, predicted_valid)\n",
    "        accuracy = accuracy_score(target_valid, predicted_valid)\n",
    "        # проверка является ли модель лучшей  \n",
    "        if f1_sc > best_f1: \n",
    "            best_depth = depth\n",
    "            best_f1 = f1_sc \n",
    "            best_model = model_decision_tree\n",
    "            best_acc = accuracy\n",
    "    \n",
    "    print('Лучшие параметры модели Дерева решений:')\n",
    "    print('Лучшая глубина дерева:',best_depth)\n",
    "    print('Лучшая метрика f1:', round(best_f1,3))\n",
    "    print('Точность accuracy:', round(best_acc,3))\n",
    "    return best_model\n",
    "\n",
    "dt_best = decision_tree(1,20)\n"
   ]
  },
  {
   "cell_type": "markdown",
   "metadata": {},
   "source": [
    "При глубине дерева 8 получили значение F1-меры 0.584. \n",
    "\n",
    "Теперь построим кривую ROC-Curve.\n",
    "По условию задачи нам нужно найти значение F1 меры не менее 0,59. Найдем оптимальный порог при котором значение F1 меры будет максимальное.\n",
    "\n"
   ]
  },
  {
   "cell_type": "code",
   "execution_count": 39,
   "metadata": {},
   "outputs": [],
   "source": [
    "def roc_f1_opt(model, name):\n",
    "    # находим score \n",
    "    probabilities = model.predict_proba(features_valid)\n",
    "    preds = probabilities[:,1]\n",
    "    \n",
    "    # считаем roc_curve и площадь под кривой auc\n",
    "    fpr, tpr, threshold = roc_curve(target_valid, preds)\n",
    "    roc_auc = auc(fpr, tpr)\n",
    "    \n",
    "    # график roc кривой\n",
    "    plt.figure(figsize=(8, 6))\n",
    "    plt.title(f'ROC кривая для модели {name}')\n",
    "    plt.plot(fpr, tpr, 'b', label = 'AUC = %0.2f' % roc_auc)\n",
    "    plt.legend(loc = 'lower right') \n",
    "    plt.plot([0, 1], [0, 1],'r--')\n",
    "    plt.xlim([0, 1])\n",
    "    plt.ylim([0, 1])\n",
    "    plt.ylabel('True Positive Rate')\n",
    "    plt.xlabel('False Positive Rate')\n",
    "    plt.show()\n",
    "    \n",
    "    # находим оптимаьный порог\n",
    "    precision, recall, thresholds = precision_recall_curve(target_valid, preds)\n",
    "    f1_scores = 2*recall*precision/(recall+precision)\n",
    "    best_f1 = round(np.max(f1_scores),3)\n",
    "    threshold_best = thresholds[np.argmax(f1_scores)]\n",
    "    \n",
    "    # результаты\n",
    "    print('Best threshold: ', round(threshold_best,3))\n",
    "    print('Best F1-Score: ', best_f1)\n",
    "    return threshold_best\n",
    "\n"
   ]
  },
  {
   "cell_type": "code",
   "execution_count": 40,
   "metadata": {},
   "outputs": [
    {
     "data": {
      "image/png": "[encoded data removed]",
      "text/plain": [
       "<Figure size 576x432 with 1 Axes>"
      ]
     },
     "metadata": {},
     "output_type": "display_data"
    },
    {
     "name": "stdout",
     "output_type": "stream",
     "text": [
      "Best threshold:  0.34\n",
      "Best F1-Score:  0.593\n"
     ]
    }
   ],
   "source": [
    "dt_threshold = roc_f1_opt(dt_best, 'Дерево решений')"
   ]
  },
  {
   "cell_type": "markdown",
   "metadata": {},
   "source": [
    "Получили довольно высокую метриук AUC = 0.81. Также выполнили условие задачи и получили высокий уровень F1-меры - 0.593 при пороге 0.34."
   ]
  },
  {
   "cell_type": "markdown",
   "metadata": {},
   "source": [
    "### Случайный лес"
   ]
  },
  {
   "cell_type": "markdown",
   "metadata": {},
   "source": [
    "Найдем оптимальные гиперпараметры для модели Случайного леса. Обучать модель будем на данных сбалансированных техникой upsampling."
   ]
  },
  {
   "cell_type": "code",
   "execution_count": 41,
   "metadata": {},
   "outputs": [
    {
     "data": {
      "application/vnd.jupyter.widget-view+json": {
       "model_id": "f5d723affdd64670b4114c0600ace6f3",
       "version_major": 2,
       "version_minor": 0
      },
      "text/plain": [
       "HBox(children=(HTML(value=''), FloatProgress(value=0.0, max=9.0), HTML(value='')))"
      ]
     },
     "metadata": {},
     "output_type": "display_data"
    },
    {
     "name": "stdout",
     "output_type": "stream",
     "text": [
      "\n",
      "Лучшие параметры модели Cлучайного леса:\n",
      "Оптимальное количество деревьев: 10\n",
      "Оптимальное глубина дерева: 8\n",
      "Оптимальное минимальное количество элементов листа: 30\n",
      "Лучшая метрика f1: 0.628\n",
      "Точность accuracy: 0.815\n"
     ]
    }
   ],
   "source": [
    "# задаем параметры \n",
    "rf_best  = 0\n",
    "best_n_estimators = 0\n",
    "best_depth = 0\n",
    "best_min_samples_leaf = 0\n",
    "best_f1 = 0\n",
    "acc = 0 \n",
    "\n",
    "# тройной цикл по минимальному колчеству элементов на листе, глубине дерева и количеству деревьев\n",
    "for leaf in tqdm(range(10, 100, 10)):\n",
    "    for depth in range(1,10):\n",
    "        for est in range (1,20):\n",
    "            \n",
    "            # обучаем модель \n",
    "            model_rf = RandomForestClassifier(random_state=12345, \n",
    "                                                         min_samples_leaf=leaf, \n",
    "                                                         max_depth=depth, \n",
    "                                                         n_estimators=est)\n",
    "            \n",
    "            model_rf.fit(features_upsampled, target_upsampled)\n",
    "            predicted_valid = model_rf.predict(features_valid)\n",
    "            f1_sc = f1_score(target_valid, predicted_valid)\n",
    "            accuracy = accuracy_score(target_valid, predicted_valid)\n",
    "                  \n",
    "            # проверка является ли модель лучшей \n",
    "            if f1_sc > best_f1:\n",
    "                rf_best = model_rf\n",
    "                best_n_estimators = est\n",
    "                acc = accuracy\n",
    "                best_depth = depth\n",
    "                best_min_samples_leaf = leaf\n",
    "                best_f1 = f1_sc \n",
    "\n",
    "print('Лучшие параметры модели Cлучайного леса:')\n",
    "print('Оптимальное количество деревьев:', best_n_estimators)\n",
    "print('Оптимальное глубина дерева:', best_depth)\n",
    "print('Оптимальное минимальное количество элементов листа:', best_min_samples_leaf)\n",
    "print('Лучшая метрика f1:', round(best_f1,3))\n",
    "print('Точность accuracy:', round(acc,3))"
   ]
  },
  {
   "cell_type": "code",
   "execution_count": 42,
   "metadata": {},
   "outputs": [
    {
     "data": {
      "image/png": "[encoded data removed]",
      "text/plain": [
       "<Figure size 576x432 with 1 Axes>"
      ]
     },
     "metadata": {},
     "output_type": "display_data"
    },
    {
     "name": "stdout",
     "output_type": "stream",
     "text": [
      "Best threshold:  0.559\n",
      "Best F1-Score:  0.645\n"
     ]
    }
   ],
   "source": [
    "rf_threshold = roc_f1_opt(rf_best, 'Случайный лес')"
   ]
  },
  {
   "cell_type": "markdown",
   "metadata": {},
   "source": [
    "Нашли оптимальные параметры гипермодели и оптимальный порог при котором достигается максимальное значение F1-меры 0.645: количество деревьев 10, глубина дерева 8, минимальное количество элементов листа 30, порог 0.559.\n",
    "\n",
    "Кривая ROC-AUC для модели располагается намного выше модели которая предсказывает случайным образом(красная линия), что показывает высокое качество модели. Метрика AUC отличная = 0.87."
   ]
  },
  {
   "cell_type": "markdown",
   "metadata": {},
   "source": [
    "### Логистическая регрессия"
   ]
  },
  {
   "cell_type": "markdown",
   "metadata": {},
   "source": [
    "Подберем оптимальный порог для логистической регрессии при котором получается оптимальное значение А1-меры."
   ]
  },
  {
   "cell_type": "code",
   "execution_count": 43,
   "metadata": {},
   "outputs": [
    {
     "name": "stdout",
     "output_type": "stream",
     "text": [
      "0.5113043478260869\n",
      "0.785\n"
     ]
    }
   ],
   "source": [
    "# создание моедли логистической регрессии\n",
    "lg_model = LogisticRegression(random_state=12345, solver='liblinear', class_weight='balanced')\n",
    "lg_model.fit(features_train, target_train)\n",
    "target_predicted = lg_model.predict(features_valid)\n",
    "\n",
    "# результаты точности для валидационной и тестовой выборки\n",
    "f1_sc = f1_score(target_valid, target_predicted)\n",
    "acc = accuracy_score(target_valid, predicted_valid)\n",
    "print(f1_sc)\n",
    "print(acc)"
   ]
  },
  {
   "cell_type": "code",
   "execution_count": 44,
   "metadata": {
    "scrolled": true
   },
   "outputs": [
    {
     "data": {
      "image/png": "[encoded data removed]",
      "text/plain": [
       "<Figure size 576x432 with 1 Axes>"
      ]
     },
     "metadata": {},
     "output_type": "display_data"
    },
    {
     "name": "stdout",
     "output_type": "stream",
     "text": [
      "Best threshold:  0.572\n",
      "Best F1-Score:  0.538\n"
     ]
    }
   ],
   "source": [
    "lg_threshold = roc_f1_opt(lg_model, 'Логистическая регрессия')"
   ]
  },
  {
   "cell_type": "markdown",
   "metadata": {},
   "source": [
    "Максмальное значение F1-меры достигается при значении порога 0.538. Метрика AUC = 0.79. Модели Логической регрессии не удалось приблизиться к отметке меры F1=0.59, что требуется в задаче."
   ]
  },
  {
   "cell_type": "markdown",
   "metadata": {},
   "source": [
    "**Вывод**\n",
    "\n",
    "Для каждой модели подобрали оптимальные параметры для максимального значение F1-меры: \n",
    "+ Дерево решений: F1-мера 0.593 при глубине дерева 8, порог 0.559\n",
    "+ Случайный лес: F1 мера 0.645, количество деревьев 10, глубина дерева 8, минимальное количество элементов листа 30, порог 0.559\n",
    "+ Логистическая регрессия: F1 мера 0.538, порог 0.572\n",
    "\n",
    "Лучшие результаты на валидационной выборке показала модель Случайного леса"
   ]
  },
  {
   "cell_type": "markdown",
   "metadata": {},
   "source": [
    "## Тестирование модели"
   ]
  },
  {
   "cell_type": "markdown",
   "metadata": {},
   "source": [
    "Проведем котрольное тестирование на тестовых данных и посчитаем значение F1-меры для лучших моделей, которые мы получили. "
   ]
  },
  {
   "cell_type": "code",
   "execution_count": 45,
   "metadata": {},
   "outputs": [],
   "source": [
    "# создание таблицы для результатов \n",
    "temp = {'F1-мера': [],'Точность (Accuracy)':[], 'ROC-AUC':[]}\n",
    "test_results = pd.DataFrame(data = temp)"
   ]
  },
  {
   "cell_type": "code",
   "execution_count": 46,
   "metadata": {},
   "outputs": [],
   "source": [
    "def test_scores(model, model_n, threshold):\n",
    "    target_pred = (model.predict_proba(features_test)[:,1] >= threshold).astype(bool)\n",
    "    f1_cs = round(f1_score(target_test, target_pred),3)\n",
    "    acc = round(accuracy_score(target_test, target_pred),3)\n",
    "    test_results.loc[model_n, 'F1-мера'] = f1_cs \n",
    "    test_results.loc[model_n, 'Точность (Accuracy)'] = acc\n",
    "    \n",
    "    probabilities_test = model.predict_proba(features_test)\n",
    "    probabilities_one_test = probabilities_test[:, 1]\n",
    "    auc_roc = round(roc_auc_score(target_test, probabilities_one_test),3)\n",
    "    test_results.loc[model_n, 'ROC-AUC'] = auc_roc"
   ]
  },
  {
   "cell_type": "code",
   "execution_count": 47,
   "metadata": {},
   "outputs": [],
   "source": [
    "test_scores(dt_best,'Дерево решений',dt_threshold)\n",
    "test_scores(rf_best,'Случайный лес',rf_threshold)\n",
    "test_scores(lg_model,'Логистическая регрессия',lg_threshold)"
   ]
  },
  {
   "cell_type": "code",
   "execution_count": 48,
   "metadata": {},
   "outputs": [
    {
     "data": {
      "text/html": [
       "<div>\n",
       "<style scoped>\n",
       "    .dataframe tbody tr th:only-of-type {\n",
       "        vertical-align: middle;\n",
       "    }\n",
       "\n",
       "    .dataframe tbody tr th {\n",
       "        vertical-align: top;\n",
       "    }\n",
       "\n",
       "    .dataframe thead th {\n",
       "        text-align: right;\n",
       "    }\n",
       "</style>\n",
       "<table border=\"1\" class=\"dataframe\">\n",
       "  <thead>\n",
       "    <tr style=\"text-align: right;\">\n",
       "      <th></th>\n",
       "      <th>F1-мера</th>\n",
       "      <th>Точность (Accuracy)</th>\n",
       "      <th>ROC-AUC</th>\n",
       "    </tr>\n",
       "  </thead>\n",
       "  <tbody>\n",
       "    <tr>\n",
       "      <td>Дерево решений</td>\n",
       "      <td>0.568</td>\n",
       "      <td>0.829</td>\n",
       "      <td>0.792</td>\n",
       "    </tr>\n",
       "    <tr>\n",
       "      <td>Случайный лес</td>\n",
       "      <td>0.612</td>\n",
       "      <td>0.827</td>\n",
       "      <td>0.857</td>\n",
       "    </tr>\n",
       "    <tr>\n",
       "      <td>Логистическая регрессия</td>\n",
       "      <td>0.512</td>\n",
       "      <td>0.760</td>\n",
       "      <td>0.781</td>\n",
       "    </tr>\n",
       "  </tbody>\n",
       "</table>\n",
       "</div>"
      ],
      "text/plain": [
       "                         F1-мера  Точность (Accuracy)  ROC-AUC\n",
       "Дерево решений             0.568                0.829    0.792\n",
       "Случайный лес              0.612                0.827    0.857\n",
       "Логистическая регрессия    0.512                0.760    0.781"
      ]
     },
     "execution_count": 48,
     "metadata": {},
     "output_type": "execute_result"
    }
   ],
   "source": [
    "test_results "
   ]
  },
  {
   "cell_type": "markdown",
   "metadata": {},
   "source": [
    "Лусшие показатели у модели Случайного леса - F1-мера 0.612. На втором месте Дерево решений с F1-мерой 0.568. При этом точность предсказаний у обеих моделей около 0.83, что является хорошим показателем."
   ]
  },
  {
   "cell_type": "markdown",
   "metadata": {},
   "source": [
    "Теперь попробуем еще немного улучшить модель Случайного леса, которая показала лучший результат. Можем обучить их на большем объеме данных. Включить в обучающую выборку данные для валидации, а это +25%. Таким образом, возможно, получим более высокое значение F1-меры. \n",
    "\n",
    "При делении данных на выборки, мы как раз сначала выделили тестовую и обучающую выборки. Используем для обучения следующие датасеты: features_education, target_education. Они как раз содержат в себе тренировочные и валидационные данные. Но сначала нужно к ним применить фуинкцию upsampling."
   ]
  },
  {
   "cell_type": "code",
   "execution_count": 49,
   "metadata": {},
   "outputs": [
    {
     "data": {
      "text/html": [
       "<div>\n",
       "<style scoped>\n",
       "    .dataframe tbody tr th:only-of-type {\n",
       "        vertical-align: middle;\n",
       "    }\n",
       "\n",
       "    .dataframe tbody tr th {\n",
       "        vertical-align: top;\n",
       "    }\n",
       "\n",
       "    .dataframe thead th {\n",
       "        text-align: right;\n",
       "    }\n",
       "</style>\n",
       "<table border=\"1\" class=\"dataframe\">\n",
       "  <thead>\n",
       "    <tr style=\"text-align: right;\">\n",
       "      <th></th>\n",
       "      <th>F1-мера</th>\n",
       "      <th>Точность (Accuracy)</th>\n",
       "      <th>ROC-AUC</th>\n",
       "    </tr>\n",
       "  </thead>\n",
       "  <tbody>\n",
       "    <tr>\n",
       "      <td>Дерево решений</td>\n",
       "      <td>0.568</td>\n",
       "      <td>0.829</td>\n",
       "      <td>0.792</td>\n",
       "    </tr>\n",
       "    <tr>\n",
       "      <td>Случайный лес</td>\n",
       "      <td>0.612</td>\n",
       "      <td>0.827</td>\n",
       "      <td>0.857</td>\n",
       "    </tr>\n",
       "    <tr>\n",
       "      <td>Логистическая регрессия</td>\n",
       "      <td>0.512</td>\n",
       "      <td>0.760</td>\n",
       "      <td>0.781</td>\n",
       "    </tr>\n",
       "    <tr>\n",
       "      <td>Случайный лес увел. выборка</td>\n",
       "      <td>0.621</td>\n",
       "      <td>0.832</td>\n",
       "      <td>0.856</td>\n",
       "    </tr>\n",
       "  </tbody>\n",
       "</table>\n",
       "</div>"
      ],
      "text/plain": [
       "                             F1-мера  Точность (Accuracy)  ROC-AUC\n",
       "Дерево решений                 0.568                0.829    0.792\n",
       "Случайный лес                  0.612                0.827    0.857\n",
       "Логистическая регрессия        0.512                0.760    0.781\n",
       "Случайный лес увел. выборка    0.621                0.832    0.856"
      ]
     },
     "execution_count": 49,
     "metadata": {},
     "output_type": "execute_result"
    }
   ],
   "source": [
    "# коррекция дисбалансов класса с помощью функции upsample\n",
    "features_upsampled_edu, target_upsampled_edu = upsample(features_education, \n",
    "                                                        target_education, 4)\n",
    "\n",
    "# переобучение модели на расширенных данных \n",
    "rf_best.fit(features_upsampled_edu, target_upsampled_edu)\n",
    "\n",
    "# рассчет метрик\n",
    "test_scores(rf_best,'Случайный лес увел. выборка',rf_threshold)\n",
    "\n",
    "test_results"
   ]
  },
  {
   "cell_type": "code",
   "execution_count": 50,
   "metadata": {},
   "outputs": [
    {
     "name": "stdout",
     "output_type": "stream",
     "text": [
      "Прирост F1-меры: 1.5%\n"
     ]
    }
   ],
   "source": [
    "# рассчет доли увеличения метрики f1\n",
    "f1_1 = test_results.loc['Случайный лес', 'F1-мера']\n",
    "f1_2 = test_results.loc['Случайный лес увел. выборка', 'F1-мера']\n",
    "print('Прирост F1-меры:', '{0:.1f}%'.format((f1_2-f1_1)/f1_1*100))"
   ]
  },
  {
   "cell_type": "markdown",
   "metadata": {},
   "source": [
    "За счет добавления валидационной выборки в обучающую удалось достичь значения F1-меры 0.623, что лучше предыдущего результаты на 1.5%. ROC-AUC осталась без изменений. "
   ]
  },
  {
   "cell_type": "markdown",
   "metadata": {},
   "source": [
    "----"
   ]
  },
  {
   "cell_type": "markdown",
   "metadata": {},
   "source": [
    "Посмотрим график, который иллюстрирует важность признаков. "
   ]
  },
  {
   "cell_type": "code",
   "execution_count": 51,
   "metadata": {},
   "outputs": [
    {
     "data": {
      "text/plain": [
       "<matplotlib.axes._subplots.AxesSubplot at 0x7f9d3819e2d0>"
      ]
     },
     "execution_count": 51,
     "metadata": {},
     "output_type": "execute_result"
    },
    {
     "data": {
      "image/png": "[encoded data removed]",
      "text/plain": [
       "<Figure size 432x288 with 1 Axes>"
      ]
     },
     "metadata": {},
     "output_type": "display_data"
    }
   ],
   "source": [
    "importances = pd.Series(rf_best.feature_importances_, index=features_test.columns)\n",
    "importances.nlargest(15).plot(kind='barh')"
   ]
  },
  {
   "cell_type": "markdown",
   "metadata": {},
   "source": [
    "Три наиболее значимые признаки это возраст, сколько продуктов используется и активность.  "
   ]
  },
  {
   "cell_type": "markdown",
   "metadata": {},
   "source": [
    "**Вывод**\n",
    "\n",
    "В результате контрольного тестирования получили следующие результаты F1-меры: дерево решений - 0.568, случайный лес - 0.612, логистичская регрессия - 0.512. Модель случаного леса переобучили на увеличенной выборке и увеличили F1- меру до 0.621.\n",
    "\n",
    "\n",
    "\n"
   ]
  },
  {
   "cell_type": "markdown",
   "metadata": {},
   "source": [
    "## Общий вывод"
   ]
  },
  {
   "cell_type": "markdown",
   "metadata": {},
   "source": [
    "В процессе подготовки данных были удалены неинформативные столбцы, заполнены пропуски, данные были отмасштабированы для обучения. Также выборка была разделена на три выборки train, test, valid в соотношение 3:1:1. "
   ]
  },
  {
   "cell_type": "markdown",
   "metadata": {},
   "source": [
    "Выявлен дисбаланс классов (20%/80%). Обучены три модели: дерево решений, случайный лес и логистическая регрессия. Для каждой модели был определен оптимальный способ борьбы с дисбалансом: взвешивание классов, увеличение или уменьшение выборки.  \n",
    "\n",
    "Для моделей подобраны гиперпараметры и оптимальное значение порога threshold для достижения максимального значения F1-меры. Проведено тестирование моделей на тестовой выборке: \n",
    "\n",
    "+ Дерево решений - F1-мера 0.568 и AUC - 0.81 при глубине дерева 8, порог 0.34.\n",
    "+ Случайный лес - F1-мера 0.612\tи AUC - 0.87 при количество деревьев - 10, глубина дерева - 8, минимальное количество элементов листа - 30, порог 0.559. \n",
    "+ Логистическая регрессия - F1-мера 0.538 и AUC - 0.79 при пороге 0.572.\n"
   ]
  },
  {
   "cell_type": "markdown",
   "metadata": {},
   "source": [
    "По результатам исследования лучшие результы показаны моделью Случайного леса. Также модель была дополнительно переобучена на расширенном наборе данных включающих валидационную выборку. В результате получилось увеличить значение F1-меры на 1.5% до 0.623."
   ]
  }
 ],
 "metadata": {
  "ExecuteTimeLog": [
   {
    "duration": 413,
    "start_time": "2021-09-20T14:06:01.693Z"
   },
   {
    "duration": 809,
    "start_time": "2021-09-20T14:06:06.073Z"
   },
   {
    "duration": 329,
    "start_time": "2021-09-20T14:06:06.885Z"
   },
   {
    "duration": 312,
    "start_time": "2021-09-20T14:06:12.502Z"
   },
   {
    "duration": 62,
    "start_time": "2021-09-20T14:06:17.417Z"
   },
   {
    "duration": 20,
    "start_time": "2021-09-20T14:06:35.046Z"
   },
   {
    "duration": 19,
    "start_time": "2021-09-20T14:06:37.414Z"
   },
   {
    "duration": 1145,
    "start_time": "2021-09-20T14:07:19.092Z"
   },
   {
    "duration": 479,
    "start_time": "2021-09-20T14:07:26.456Z"
   },
   {
    "duration": 11,
    "start_time": "2021-09-20T14:07:31.969Z"
   },
   {
    "duration": 487,
    "start_time": "2021-09-20T14:07:44.474Z"
   },
   {
    "duration": 8,
    "start_time": "2021-09-20T14:07:54.345Z"
   },
   {
    "duration": 93,
    "start_time": "2021-09-20T14:08:29.270Z"
   },
   {
    "duration": 39,
    "start_time": "2021-09-20T14:08:32.262Z"
   },
   {
    "duration": 1683,
    "start_time": "2021-09-21T11:07:32.298Z"
   },
   {
    "duration": 56,
    "start_time": "2021-09-21T11:08:10.036Z"
   },
   {
    "duration": 12,
    "start_time": "2021-09-21T11:08:31.229Z"
   },
   {
    "duration": 10,
    "start_time": "2021-09-21T11:12:52.207Z"
   },
   {
    "duration": 16,
    "start_time": "2021-09-21T11:16:36.490Z"
   },
   {
    "duration": 6,
    "start_time": "2021-09-21T11:17:04.760Z"
   },
   {
    "duration": 1517,
    "start_time": "2021-09-21T14:53:53.368Z"
   },
   {
    "duration": 54,
    "start_time": "2021-09-21T14:53:54.888Z"
   },
   {
    "duration": 10,
    "start_time": "2021-09-21T14:53:54.945Z"
   },
   {
    "duration": 551,
    "start_time": "2021-09-21T14:54:04.435Z"
   },
   {
    "duration": 6,
    "start_time": "2021-09-21T14:54:07.524Z"
   },
   {
    "duration": 5,
    "start_time": "2021-09-21T14:55:30.717Z"
   },
   {
    "duration": 5,
    "start_time": "2021-09-21T14:55:36.143Z"
   },
   {
    "duration": 4,
    "start_time": "2021-09-21T14:55:59.510Z"
   },
   {
    "duration": 21,
    "start_time": "2021-09-21T14:59:09.529Z"
   },
   {
    "duration": 18,
    "start_time": "2021-09-21T14:59:14.101Z"
   },
   {
    "duration": 8,
    "start_time": "2021-09-21T15:00:01.140Z"
   },
   {
    "duration": 7,
    "start_time": "2021-09-21T15:00:26.763Z"
   },
   {
    "duration": 10,
    "start_time": "2021-09-21T15:06:13.811Z"
   },
   {
    "duration": 10,
    "start_time": "2021-09-21T15:08:15.832Z"
   },
   {
    "duration": 1901,
    "start_time": "2021-09-23T12:18:33.751Z"
   },
   {
    "duration": 78,
    "start_time": "2021-09-23T12:18:35.656Z"
   },
   {
    "duration": 17,
    "start_time": "2021-09-23T12:18:35.738Z"
   },
   {
    "duration": 8,
    "start_time": "2021-09-23T12:18:35.758Z"
   },
   {
    "duration": 5,
    "start_time": "2021-09-23T12:18:35.769Z"
   },
   {
    "duration": 56,
    "start_time": "2021-09-23T12:18:35.777Z"
   },
   {
    "duration": 7,
    "start_time": "2021-09-23T12:18:35.836Z"
   },
   {
    "duration": 9,
    "start_time": "2021-09-23T12:18:35.850Z"
   },
   {
    "duration": 8,
    "start_time": "2021-09-23T12:18:36.584Z"
   },
   {
    "duration": 21,
    "start_time": "2021-09-23T12:18:47.033Z"
   },
   {
    "duration": 701,
    "start_time": "2021-09-23T12:25:14.705Z"
   },
   {
    "duration": 13,
    "start_time": "2021-09-23T12:25:16.632Z"
   },
   {
    "duration": 4,
    "start_time": "2021-09-23T14:34:24.218Z"
   },
   {
    "duration": 52,
    "start_time": "2021-09-23T14:34:24.348Z"
   },
   {
    "duration": 12,
    "start_time": "2021-09-23T14:34:24.615Z"
   },
   {
    "duration": 6,
    "start_time": "2021-09-23T14:34:25.804Z"
   },
   {
    "duration": 4,
    "start_time": "2021-09-23T14:34:25.971Z"
   },
   {
    "duration": 17,
    "start_time": "2021-09-23T14:34:26.441Z"
   },
   {
    "duration": 7,
    "start_time": "2021-09-23T14:34:26.738Z"
   },
   {
    "duration": 9,
    "start_time": "2021-09-23T14:34:26.876Z"
   },
   {
    "duration": 12,
    "start_time": "2021-09-23T14:34:27.864Z"
   },
   {
    "duration": 24,
    "start_time": "2021-09-23T14:42:12.262Z"
   },
   {
    "duration": 1000,
    "start_time": "2021-09-23T15:17:38.670Z"
   },
   {
    "duration": 5,
    "start_time": "2021-09-23T15:19:00.438Z"
   },
   {
    "duration": 81,
    "start_time": "2021-09-23T15:19:00.817Z"
   },
   {
    "duration": 11,
    "start_time": "2021-09-23T15:19:01.097Z"
   },
   {
    "duration": 6,
    "start_time": "2021-09-23T15:19:01.605Z"
   },
   {
    "duration": 4,
    "start_time": "2021-09-23T15:19:01.741Z"
   },
   {
    "duration": 17,
    "start_time": "2021-09-23T15:19:02.012Z"
   },
   {
    "duration": 7,
    "start_time": "2021-09-23T15:19:02.349Z"
   },
   {
    "duration": 10,
    "start_time": "2021-09-23T15:19:02.518Z"
   },
   {
    "duration": 12,
    "start_time": "2021-09-23T15:19:02.816Z"
   },
   {
    "duration": 74,
    "start_time": "2021-09-23T15:19:03.421Z"
   },
   {
    "duration": 1438,
    "start_time": "2021-09-27T07:04:31.929Z"
   },
   {
    "duration": 103,
    "start_time": "2021-09-27T07:04:33.369Z"
   },
   {
    "duration": 11,
    "start_time": "2021-09-27T07:04:33.475Z"
   },
   {
    "duration": 6,
    "start_time": "2021-09-27T07:04:34.085Z"
   },
   {
    "duration": 4,
    "start_time": "2021-09-27T07:04:34.273Z"
   },
   {
    "duration": 19,
    "start_time": "2021-09-27T07:04:34.597Z"
   },
   {
    "duration": 8,
    "start_time": "2021-09-27T07:04:34.871Z"
   },
   {
    "duration": 10,
    "start_time": "2021-09-27T07:04:35.164Z"
   },
   {
    "duration": 12,
    "start_time": "2021-09-27T07:04:35.452Z"
   },
   {
    "duration": 666,
    "start_time": "2021-09-27T07:04:35.761Z"
   },
   {
    "duration": 19,
    "start_time": "2021-09-27T07:04:36.430Z"
   },
   {
    "duration": 17,
    "start_time": "2021-09-27T07:05:32.133Z"
   },
   {
    "duration": 1020,
    "start_time": "2021-09-27T07:07:15.202Z"
   },
   {
    "duration": 9,
    "start_time": "2021-09-27T07:07:50.297Z"
   },
   {
    "duration": 5,
    "start_time": "2021-09-27T07:08:50.468Z"
   },
   {
    "duration": 52,
    "start_time": "2021-09-27T07:08:50.609Z"
   },
   {
    "duration": 14,
    "start_time": "2021-09-27T07:08:50.898Z"
   },
   {
    "duration": 7,
    "start_time": "2021-09-27T07:08:51.472Z"
   },
   {
    "duration": 5,
    "start_time": "2021-09-27T07:08:51.622Z"
   },
   {
    "duration": 20,
    "start_time": "2021-09-27T07:08:51.909Z"
   },
   {
    "duration": 7,
    "start_time": "2021-09-27T07:08:52.220Z"
   },
   {
    "duration": 12,
    "start_time": "2021-09-27T07:08:52.380Z"
   },
   {
    "duration": 14,
    "start_time": "2021-09-27T07:08:53.041Z"
   },
   {
    "duration": 77,
    "start_time": "2021-09-27T07:08:54.196Z"
   },
   {
    "duration": 20,
    "start_time": "2021-09-27T07:08:55.896Z"
   },
   {
    "duration": 1065,
    "start_time": "2021-09-27T07:08:56.752Z"
   },
   {
    "duration": 11,
    "start_time": "2021-09-27T07:09:09.171Z"
   },
   {
    "duration": 1089,
    "start_time": "2021-09-27T07:09:27.177Z"
   },
   {
    "duration": 992,
    "start_time": "2021-09-27T07:11:40.198Z"
   },
   {
    "duration": 417,
    "start_time": "2021-09-27T07:11:54.118Z"
   },
   {
    "duration": 6,
    "start_time": "2021-09-27T07:11:57.305Z"
   },
   {
    "duration": 6,
    "start_time": "2021-09-27T07:12:26.602Z"
   },
   {
    "duration": 1163,
    "start_time": "2021-09-27T07:12:44.683Z"
   },
   {
    "duration": 6,
    "start_time": "2021-09-27T07:13:46.017Z"
   },
   {
    "duration": 34,
    "start_time": "2021-09-27T07:15:01.263Z"
   },
   {
    "duration": 19,
    "start_time": "2021-09-27T07:15:04.628Z"
   },
   {
    "duration": 7,
    "start_time": "2021-09-27T07:34:17.510Z"
   },
   {
    "duration": 28,
    "start_time": "2021-09-27T07:34:21.888Z"
   },
   {
    "duration": 15,
    "start_time": "2021-09-27T07:35:47.533Z"
   },
   {
    "duration": 6,
    "start_time": "2021-09-27T07:36:01.512Z"
   },
   {
    "duration": 51,
    "start_time": "2021-09-27T07:36:01.638Z"
   },
   {
    "duration": 12,
    "start_time": "2021-09-27T07:36:01.911Z"
   },
   {
    "duration": 6,
    "start_time": "2021-09-27T07:36:02.568Z"
   },
   {
    "duration": 5,
    "start_time": "2021-09-27T07:36:02.709Z"
   },
   {
    "duration": 18,
    "start_time": "2021-09-27T07:36:02.979Z"
   },
   {
    "duration": 7,
    "start_time": "2021-09-27T07:36:03.271Z"
   },
   {
    "duration": 10,
    "start_time": "2021-09-27T07:36:03.408Z"
   },
   {
    "duration": 12,
    "start_time": "2021-09-27T07:36:03.772Z"
   },
   {
    "duration": 75,
    "start_time": "2021-09-27T07:36:04.220Z"
   },
   {
    "duration": 20,
    "start_time": "2021-09-27T07:36:05.064Z"
   },
   {
    "duration": 1016,
    "start_time": "2021-09-27T07:36:05.362Z"
   },
   {
    "duration": 7,
    "start_time": "2021-09-27T07:36:06.382Z"
   },
   {
    "duration": 19,
    "start_time": "2021-09-27T07:36:07.083Z"
   },
   {
    "duration": 23,
    "start_time": "2021-09-27T07:36:07.579Z"
   },
   {
    "duration": 32,
    "start_time": "2021-09-27T07:36:15.302Z"
   },
   {
    "duration": 9,
    "start_time": "2021-09-27T07:36:37.291Z"
   },
   {
    "duration": 6,
    "start_time": "2021-09-27T07:37:21.282Z"
   },
   {
    "duration": 9,
    "start_time": "2021-09-27T07:37:26.952Z"
   },
   {
    "duration": 4,
    "start_time": "2021-09-27T07:38:53.751Z"
   },
   {
    "duration": 50,
    "start_time": "2021-09-27T07:38:53.886Z"
   },
   {
    "duration": 11,
    "start_time": "2021-09-27T07:38:54.156Z"
   },
   {
    "duration": 6,
    "start_time": "2021-09-27T07:38:55.233Z"
   },
   {
    "duration": 5,
    "start_time": "2021-09-27T07:38:55.356Z"
   },
   {
    "duration": 20,
    "start_time": "2021-09-27T07:38:55.629Z"
   },
   {
    "duration": 7,
    "start_time": "2021-09-27T07:38:56.041Z"
   },
   {
    "duration": 11,
    "start_time": "2021-09-27T07:38:56.180Z"
   },
   {
    "duration": 12,
    "start_time": "2021-09-27T07:38:56.580Z"
   },
   {
    "duration": 74,
    "start_time": "2021-09-27T07:38:57.262Z"
   },
   {
    "duration": 19,
    "start_time": "2021-09-27T07:38:57.567Z"
   },
   {
    "duration": 1001,
    "start_time": "2021-09-27T07:38:57.868Z"
   },
   {
    "duration": 11,
    "start_time": "2021-09-27T07:38:58.872Z"
   },
   {
    "duration": 20,
    "start_time": "2021-09-27T07:39:01.009Z"
   },
   {
    "duration": 306,
    "start_time": "2021-09-27T07:39:01.600Z"
   },
   {
    "duration": 27,
    "start_time": "2021-09-27T07:39:10.743Z"
   },
   {
    "duration": 22,
    "start_time": "2021-09-27T07:39:56.982Z"
   },
   {
    "duration": 17,
    "start_time": "2021-09-27T07:39:57.510Z"
   },
   {
    "duration": 17,
    "start_time": "2021-09-27T07:40:08.430Z"
   },
   {
    "duration": 297,
    "start_time": "2021-09-27T07:41:15.017Z"
   },
   {
    "duration": 659,
    "start_time": "2021-09-27T07:41:19.889Z"
   },
   {
    "duration": 5,
    "start_time": "2021-09-27T07:41:25.334Z"
   },
   {
    "duration": 48,
    "start_time": "2021-09-27T07:41:25.471Z"
   },
   {
    "duration": 11,
    "start_time": "2021-09-27T07:41:25.742Z"
   },
   {
    "duration": 5,
    "start_time": "2021-09-27T07:41:26.422Z"
   },
   {
    "duration": 5,
    "start_time": "2021-09-27T07:41:26.559Z"
   },
   {
    "duration": 18,
    "start_time": "2021-09-27T07:41:26.850Z"
   },
   {
    "duration": 8,
    "start_time": "2021-09-27T07:41:27.143Z"
   },
   {
    "duration": 11,
    "start_time": "2021-09-27T07:41:27.283Z"
   },
   {
    "duration": 13,
    "start_time": "2021-09-27T07:41:27.586Z"
   },
   {
    "duration": 74,
    "start_time": "2021-09-27T07:41:28.352Z"
   },
   {
    "duration": 18,
    "start_time": "2021-09-27T07:41:28.621Z"
   },
   {
    "duration": 995,
    "start_time": "2021-09-27T07:41:28.756Z"
   },
   {
    "duration": 7,
    "start_time": "2021-09-27T07:41:29.754Z"
   },
   {
    "duration": 19,
    "start_time": "2021-09-27T07:41:30.388Z"
   },
   {
    "duration": 23,
    "start_time": "2021-09-27T07:41:30.690Z"
   },
   {
    "duration": 17,
    "start_time": "2021-09-27T07:41:30.789Z"
   },
   {
    "duration": 16,
    "start_time": "2021-09-27T07:41:31.241Z"
   },
   {
    "duration": 14,
    "start_time": "2021-09-27T07:41:31.858Z"
   },
   {
    "duration": 859,
    "start_time": "2021-09-27T07:41:32.515Z"
   },
   {
    "duration": 73646,
    "start_time": "2021-09-27T07:40:19.731Z"
   },
   {
    "duration": 38,
    "start_time": "2021-09-27T07:42:47.681Z"
   },
   {
    "duration": 48,
    "start_time": "2021-09-27T07:42:48.146Z"
   },
   {
    "duration": 12,
    "start_time": "2021-09-27T07:42:48.458Z"
   },
   {
    "duration": 6,
    "start_time": "2021-09-27T07:42:49.138Z"
   },
   {
    "duration": 4,
    "start_time": "2021-09-27T07:42:49.278Z"
   },
   {
    "duration": 18,
    "start_time": "2021-09-27T07:42:49.554Z"
   },
   {
    "duration": 11,
    "start_time": "2021-09-27T07:42:49.974Z"
   },
   {
    "duration": 22,
    "start_time": "2021-09-27T07:42:50.272Z"
   },
   {
    "duration": 12,
    "start_time": "2021-09-27T07:42:50.918Z"
   },
   {
    "duration": 74,
    "start_time": "2021-09-27T07:42:51.493Z"
   },
   {
    "duration": 18,
    "start_time": "2021-09-27T07:42:51.806Z"
   },
   {
    "duration": 981,
    "start_time": "2021-09-27T07:42:51.958Z"
   },
   {
    "duration": 6,
    "start_time": "2021-09-27T07:42:52.942Z"
   },
   {
    "duration": 19,
    "start_time": "2021-09-27T07:43:04.632Z"
   },
   {
    "duration": 23,
    "start_time": "2021-09-27T07:43:05.193Z"
   },
   {
    "duration": 19,
    "start_time": "2021-09-27T07:43:05.668Z"
   },
   {
    "duration": 450,
    "start_time": "2021-09-27T07:45:17.315Z"
   },
   {
    "duration": 7,
    "start_time": "2021-09-27T07:46:50.672Z"
   },
   {
    "duration": 69,
    "start_time": "2021-09-27T07:46:50.849Z"
   },
   {
    "duration": 12,
    "start_time": "2021-09-27T07:46:51.105Z"
   },
   {
    "duration": 5,
    "start_time": "2021-09-27T07:46:51.731Z"
   },
   {
    "duration": 5,
    "start_time": "2021-09-27T07:46:51.857Z"
   },
   {
    "duration": 17,
    "start_time": "2021-09-27T07:46:52.150Z"
   },
   {
    "duration": 8,
    "start_time": "2021-09-27T07:46:52.383Z"
   },
   {
    "duration": 11,
    "start_time": "2021-09-27T07:46:52.522Z"
   },
   {
    "duration": 13,
    "start_time": "2021-09-27T07:46:52.794Z"
   },
   {
    "duration": 74,
    "start_time": "2021-09-27T07:46:53.066Z"
   },
   {
    "duration": 20,
    "start_time": "2021-09-27T07:46:53.342Z"
   },
   {
    "duration": 1011,
    "start_time": "2021-09-27T07:46:53.489Z"
   },
   {
    "duration": 7,
    "start_time": "2021-09-27T07:46:54.503Z"
   },
   {
    "duration": 21,
    "start_time": "2021-09-27T07:46:54.512Z"
   },
   {
    "duration": 22,
    "start_time": "2021-09-27T07:46:54.750Z"
   },
   {
    "duration": 18,
    "start_time": "2021-09-27T07:46:55.106Z"
   },
   {
    "duration": 572,
    "start_time": "2021-09-27T07:46:55.486Z"
   },
   {
    "duration": 32,
    "start_time": "2021-09-27T07:50:08.678Z"
   },
   {
    "duration": 21,
    "start_time": "2021-09-27T07:50:17.402Z"
   },
   {
    "duration": 269,
    "start_time": "2021-09-27T07:56:29.151Z"
   },
   {
    "duration": 20,
    "start_time": "2021-09-27T07:56:39.031Z"
   },
   {
    "duration": 91,
    "start_time": "2021-09-27T07:58:19.907Z"
   },
   {
    "duration": 19,
    "start_time": "2021-09-27T07:59:13.128Z"
   },
   {
    "duration": 54,
    "start_time": "2021-09-27T07:59:13.250Z"
   },
   {
    "duration": 16,
    "start_time": "2021-09-27T07:59:13.495Z"
   },
   {
    "duration": 6,
    "start_time": "2021-09-27T07:59:14.142Z"
   },
   {
    "duration": 5,
    "start_time": "2021-09-27T07:59:14.269Z"
   },
   {
    "duration": 17,
    "start_time": "2021-09-27T07:59:14.543Z"
   },
   {
    "duration": 7,
    "start_time": "2021-09-27T07:59:14.820Z"
   },
   {
    "duration": 9,
    "start_time": "2021-09-27T07:59:14.953Z"
   },
   {
    "duration": 11,
    "start_time": "2021-09-27T07:59:15.230Z"
   },
   {
    "duration": 78,
    "start_time": "2021-09-27T07:59:15.513Z"
   },
   {
    "duration": 19,
    "start_time": "2021-09-27T07:59:15.822Z"
   },
   {
    "duration": 1104,
    "start_time": "2021-09-27T07:59:15.995Z"
   },
   {
    "duration": 9,
    "start_time": "2021-09-27T07:59:17.102Z"
   },
   {
    "duration": 19,
    "start_time": "2021-09-27T07:59:17.636Z"
   },
   {
    "duration": 22,
    "start_time": "2021-09-27T07:59:18.542Z"
   },
   {
    "duration": 18,
    "start_time": "2021-09-27T07:59:18.855Z"
   },
   {
    "duration": 27,
    "start_time": "2021-09-27T07:59:19.300Z"
   },
   {
    "duration": 17,
    "start_time": "2021-09-27T07:59:19.758Z"
   },
   {
    "duration": 16,
    "start_time": "2021-09-27T07:59:20.469Z"
   },
   {
    "duration": 9,
    "start_time": "2021-09-27T08:00:50.197Z"
   },
   {
    "duration": 12,
    "start_time": "2021-09-27T08:01:00.187Z"
   },
   {
    "duration": 26,
    "start_time": "2021-09-27T08:01:04.046Z"
   },
   {
    "duration": 20,
    "start_time": "2021-09-27T08:01:12.252Z"
   },
   {
    "duration": 7,
    "start_time": "2021-09-27T08:01:20.266Z"
   },
   {
    "duration": 27,
    "start_time": "2021-09-27T08:01:21.381Z"
   },
   {
    "duration": 23,
    "start_time": "2021-09-27T08:02:42.999Z"
   },
   {
    "duration": 8,
    "start_time": "2021-09-27T08:03:58.185Z"
   },
   {
    "duration": 7,
    "start_time": "2021-09-27T08:04:25.957Z"
   },
   {
    "duration": 75,
    "start_time": "2021-09-27T08:04:35.090Z"
   },
   {
    "duration": 30,
    "start_time": "2021-09-27T08:07:30.874Z"
   },
   {
    "duration": 282,
    "start_time": "2021-09-27T08:12:15.990Z"
   },
   {
    "duration": 287,
    "start_time": "2021-09-27T08:12:47.459Z"
   },
   {
    "duration": 1634,
    "start_time": "2021-09-27T08:12:57.026Z"
   },
   {
    "duration": 67,
    "start_time": "2021-09-27T08:12:58.663Z"
   },
   {
    "duration": 12,
    "start_time": "2021-09-27T08:12:58.733Z"
   },
   {
    "duration": 34,
    "start_time": "2021-09-27T08:12:58.748Z"
   },
   {
    "duration": 6,
    "start_time": "2021-09-27T08:12:58.785Z"
   },
   {
    "duration": 33,
    "start_time": "2021-09-27T08:12:58.793Z"
   },
   {
    "duration": 7,
    "start_time": "2021-09-27T08:12:58.828Z"
   },
   {
    "duration": 54,
    "start_time": "2021-09-27T08:12:58.839Z"
   },
   {
    "duration": 15,
    "start_time": "2021-09-27T08:12:58.898Z"
   },
   {
    "duration": 726,
    "start_time": "2021-09-27T08:12:58.917Z"
   },
   {
    "duration": 39,
    "start_time": "2021-09-27T08:12:59.646Z"
   },
   {
    "duration": 1097,
    "start_time": "2021-09-27T08:12:59.688Z"
   },
   {
    "duration": 8,
    "start_time": "2021-09-27T08:13:00.787Z"
   },
   {
    "duration": 45,
    "start_time": "2021-09-27T08:13:00.798Z"
   },
   {
    "duration": 58,
    "start_time": "2021-09-27T08:13:00.846Z"
   },
   {
    "duration": 44,
    "start_time": "2021-09-27T08:13:00.907Z"
   },
   {
    "duration": 58,
    "start_time": "2021-09-27T08:13:00.953Z"
   },
   {
    "duration": 30,
    "start_time": "2021-09-27T08:13:01.014Z"
   },
   {
    "duration": 17,
    "start_time": "2021-09-27T08:13:01.046Z"
   },
   {
    "duration": 32,
    "start_time": "2021-09-27T08:13:01.066Z"
   },
   {
    "duration": 45,
    "start_time": "2021-09-27T08:13:01.100Z"
   },
   {
    "duration": 13,
    "start_time": "2021-09-27T08:13:01.148Z"
   },
   {
    "duration": 96,
    "start_time": "2021-09-27T08:13:01.165Z"
   },
   {
    "duration": 1567,
    "start_time": "2021-09-27T08:19:02.681Z"
   },
   {
    "duration": 64,
    "start_time": "2021-09-27T08:19:04.251Z"
   },
   {
    "duration": 12,
    "start_time": "2021-09-27T08:19:04.318Z"
   },
   {
    "duration": 11,
    "start_time": "2021-09-27T08:19:04.333Z"
   },
   {
    "duration": 36,
    "start_time": "2021-09-27T08:19:04.347Z"
   },
   {
    "duration": 23,
    "start_time": "2021-09-27T08:19:04.387Z"
   },
   {
    "duration": 7,
    "start_time": "2021-09-27T08:19:04.413Z"
   },
   {
    "duration": 20,
    "start_time": "2021-09-27T08:19:04.424Z"
   },
   {
    "duration": 52,
    "start_time": "2021-09-27T08:19:04.446Z"
   },
   {
    "duration": 898,
    "start_time": "2021-09-27T08:19:04.501Z"
   },
   {
    "duration": 19,
    "start_time": "2021-09-27T08:19:05.402Z"
   },
   {
    "duration": 1086,
    "start_time": "2021-09-27T08:19:05.424Z"
   },
   {
    "duration": 7,
    "start_time": "2021-09-27T08:19:06.512Z"
   },
   {
    "duration": 23,
    "start_time": "2021-09-27T08:19:06.521Z"
   },
   {
    "duration": 57,
    "start_time": "2021-09-27T08:19:06.547Z"
   },
   {
    "duration": 16,
    "start_time": "2021-09-27T08:19:06.606Z"
   },
   {
    "duration": 32,
    "start_time": "2021-09-27T08:19:06.625Z"
   },
   {
    "duration": 43,
    "start_time": "2021-09-27T08:19:06.659Z"
   },
   {
    "duration": 15,
    "start_time": "2021-09-27T08:19:06.705Z"
   },
   {
    "duration": 7,
    "start_time": "2021-09-27T08:19:06.723Z"
   },
   {
    "duration": 70,
    "start_time": "2021-09-27T08:19:06.733Z"
   },
   {
    "duration": 7,
    "start_time": "2021-09-27T08:19:06.805Z"
   },
   {
    "duration": 87,
    "start_time": "2021-09-27T08:19:06.817Z"
   },
   {
    "duration": 496,
    "start_time": "2021-09-27T08:21:09.232Z"
   },
   {
    "duration": 282,
    "start_time": "2021-09-27T08:22:09.373Z"
   },
   {
    "duration": 46,
    "start_time": "2021-09-27T08:22:19.011Z"
   },
   {
    "duration": 61,
    "start_time": "2021-09-27T08:22:41.707Z"
   },
   {
    "duration": 52,
    "start_time": "2021-09-27T08:24:01.524Z"
   },
   {
    "duration": 91,
    "start_time": "2021-09-27T08:35:06.070Z"
   },
   {
    "duration": 6,
    "start_time": "2021-09-27T08:35:13.471Z"
   },
   {
    "duration": 57,
    "start_time": "2021-09-27T08:35:29.000Z"
   },
   {
    "duration": 5,
    "start_time": "2021-09-27T08:35:53.184Z"
   },
   {
    "duration": 56,
    "start_time": "2021-09-27T08:35:54.600Z"
   },
   {
    "duration": 5,
    "start_time": "2021-09-27T08:36:01.038Z"
   },
   {
    "duration": 56,
    "start_time": "2021-09-27T08:36:01.904Z"
   },
   {
    "duration": 5,
    "start_time": "2021-09-27T08:36:05.632Z"
   },
   {
    "duration": 54,
    "start_time": "2021-09-27T08:36:06.011Z"
   },
   {
    "duration": 7,
    "start_time": "2021-09-27T08:36:08.645Z"
   },
   {
    "duration": 56,
    "start_time": "2021-09-27T08:36:09.785Z"
   },
   {
    "duration": 6,
    "start_time": "2021-09-27T08:36:19.012Z"
   },
   {
    "duration": 55,
    "start_time": "2021-09-27T08:36:19.837Z"
   },
   {
    "duration": 6,
    "start_time": "2021-09-27T08:36:24.033Z"
   },
   {
    "duration": 56,
    "start_time": "2021-09-27T08:36:24.248Z"
   },
   {
    "duration": 6,
    "start_time": "2021-09-27T08:36:28.923Z"
   },
   {
    "duration": 53,
    "start_time": "2021-09-27T08:36:29.332Z"
   },
   {
    "duration": 6,
    "start_time": "2021-09-27T08:37:12.050Z"
   },
   {
    "duration": 54,
    "start_time": "2021-09-27T08:37:13.037Z"
   },
   {
    "duration": 122,
    "start_time": "2021-09-27T08:39:18.654Z"
   },
   {
    "duration": 237,
    "start_time": "2021-09-27T08:39:47.746Z"
   },
   {
    "duration": 31,
    "start_time": "2021-09-27T08:41:28.731Z"
   },
   {
    "duration": 6,
    "start_time": "2021-09-27T08:46:38.228Z"
   },
   {
    "duration": 6,
    "start_time": "2021-09-27T08:48:58.229Z"
   },
   {
    "duration": 582,
    "start_time": "2021-09-27T08:49:00.181Z"
   },
   {
    "duration": 7,
    "start_time": "2021-09-27T08:49:07.415Z"
   },
   {
    "duration": 6,
    "start_time": "2021-09-27T08:49:14.169Z"
   },
   {
    "duration": 55,
    "start_time": "2021-09-27T08:49:14.930Z"
   },
   {
    "duration": 5,
    "start_time": "2021-09-27T08:49:35.131Z"
   },
   {
    "duration": 59,
    "start_time": "2021-09-27T08:49:35.729Z"
   },
   {
    "duration": 6,
    "start_time": "2021-09-27T08:49:42.825Z"
   },
   {
    "duration": 57,
    "start_time": "2021-09-27T08:49:43.332Z"
   },
   {
    "duration": 1576,
    "start_time": "2021-09-27T08:51:15.864Z"
   },
   {
    "duration": 55,
    "start_time": "2021-09-27T08:51:17.443Z"
   },
   {
    "duration": 12,
    "start_time": "2021-09-27T08:51:17.501Z"
   },
   {
    "duration": 6,
    "start_time": "2021-09-27T08:51:17.516Z"
   },
   {
    "duration": 15,
    "start_time": "2021-09-27T08:51:17.525Z"
   },
   {
    "duration": 42,
    "start_time": "2021-09-27T08:51:17.542Z"
   },
   {
    "duration": 7,
    "start_time": "2021-09-27T08:51:17.587Z"
   },
   {
    "duration": 20,
    "start_time": "2021-09-27T08:51:17.597Z"
   },
   {
    "duration": 20,
    "start_time": "2021-09-27T08:51:17.620Z"
   },
   {
    "duration": 704,
    "start_time": "2021-09-27T08:51:17.643Z"
   },
   {
    "duration": 37,
    "start_time": "2021-09-27T08:51:18.349Z"
   },
   {
    "duration": 1044,
    "start_time": "2021-09-27T08:51:18.389Z"
   },
   {
    "duration": 6,
    "start_time": "2021-09-27T08:51:19.435Z"
   },
   {
    "duration": 23,
    "start_time": "2021-09-27T08:51:19.444Z"
   },
   {
    "duration": 35,
    "start_time": "2021-09-27T08:51:19.469Z"
   },
   {
    "duration": 16,
    "start_time": "2021-09-27T08:51:19.506Z"
   },
   {
    "duration": 32,
    "start_time": "2021-09-27T08:51:19.524Z"
   },
   {
    "duration": 18,
    "start_time": "2021-09-27T08:51:19.583Z"
   },
   {
    "duration": 19,
    "start_time": "2021-09-27T08:51:19.603Z"
   },
   {
    "duration": 6,
    "start_time": "2021-09-27T08:51:19.624Z"
   },
   {
    "duration": 51,
    "start_time": "2021-09-27T08:51:19.633Z"
   },
   {
    "duration": 6,
    "start_time": "2021-09-27T08:51:19.686Z"
   },
   {
    "duration": 7,
    "start_time": "2021-09-27T08:51:19.696Z"
   },
   {
    "duration": 81,
    "start_time": "2021-09-27T08:51:19.705Z"
   },
   {
    "duration": 134,
    "start_time": "2021-09-27T08:51:19.789Z"
   },
   {
    "duration": 160,
    "start_time": "2021-09-27T08:51:19.925Z"
   },
   {
    "duration": 8,
    "start_time": "2021-09-27T10:59:21.020Z"
   },
   {
    "duration": 49,
    "start_time": "2021-09-27T10:59:21.147Z"
   },
   {
    "duration": 11,
    "start_time": "2021-09-27T10:59:21.422Z"
   },
   {
    "duration": 6,
    "start_time": "2021-09-27T10:59:23.214Z"
   },
   {
    "duration": 6,
    "start_time": "2021-09-27T10:59:23.224Z"
   },
   {
    "duration": 19,
    "start_time": "2021-09-27T10:59:23.233Z"
   },
   {
    "duration": 6,
    "start_time": "2021-09-27T10:59:23.254Z"
   },
   {
    "duration": 22,
    "start_time": "2021-09-27T10:59:23.263Z"
   },
   {
    "duration": 12,
    "start_time": "2021-09-27T10:59:23.655Z"
   },
   {
    "duration": 75,
    "start_time": "2021-09-27T10:59:24.060Z"
   },
   {
    "duration": 18,
    "start_time": "2021-09-27T10:59:24.550Z"
   },
   {
    "duration": 1117,
    "start_time": "2021-09-27T10:59:24.713Z"
   },
   {
    "duration": 7,
    "start_time": "2021-09-27T10:59:25.833Z"
   },
   {
    "duration": 20,
    "start_time": "2021-09-27T10:59:25.842Z"
   },
   {
    "duration": 22,
    "start_time": "2021-09-27T10:59:25.884Z"
   },
   {
    "duration": 16,
    "start_time": "2021-09-27T10:59:25.909Z"
   },
   {
    "duration": 26,
    "start_time": "2021-09-27T10:59:25.976Z"
   },
   {
    "duration": 22,
    "start_time": "2021-09-27T10:59:26.145Z"
   },
   {
    "duration": 15,
    "start_time": "2021-09-27T10:59:26.452Z"
   },
   {
    "duration": 23,
    "start_time": "2021-09-27T10:59:27.162Z"
   },
   {
    "duration": 20,
    "start_time": "2021-09-27T10:59:27.618Z"
   },
   {
    "duration": 6,
    "start_time": "2021-09-27T10:59:28.071Z"
   },
   {
    "duration": 6,
    "start_time": "2021-09-27T10:59:29.909Z"
   },
   {
    "duration": 57,
    "start_time": "2021-09-27T10:59:30.368Z"
   },
   {
    "duration": 126,
    "start_time": "2021-09-27T10:59:31.206Z"
   },
   {
    "duration": 75,
    "start_time": "2021-09-27T10:59:31.718Z"
   },
   {
    "duration": 6,
    "start_time": "2021-09-27T11:00:05.897Z"
   },
   {
    "duration": 62,
    "start_time": "2021-09-27T11:00:07.746Z"
   },
   {
    "duration": 9,
    "start_time": "2021-09-27T11:01:08.293Z"
   },
   {
    "duration": 60,
    "start_time": "2021-09-27T11:01:41.277Z"
   },
   {
    "duration": 58,
    "start_time": "2021-09-27T11:01:58.454Z"
   },
   {
    "duration": 6,
    "start_time": "2021-09-27T11:01:59.999Z"
   },
   {
    "duration": 57,
    "start_time": "2021-09-27T11:02:00.283Z"
   },
   {
    "duration": 56,
    "start_time": "2021-09-27T11:02:14.428Z"
   },
   {
    "duration": 55,
    "start_time": "2021-09-27T11:02:17.059Z"
   },
   {
    "duration": 6,
    "start_time": "2021-09-27T11:02:26.788Z"
   },
   {
    "duration": 57,
    "start_time": "2021-09-27T11:02:28.336Z"
   },
   {
    "duration": 56,
    "start_time": "2021-09-27T11:10:11.075Z"
   },
   {
    "duration": 127,
    "start_time": "2021-09-27T11:10:16.611Z"
   },
   {
    "duration": 123,
    "start_time": "2021-09-27T11:16:18.115Z"
   },
   {
    "duration": 189,
    "start_time": "2021-09-27T11:37:37.897Z"
   },
   {
    "duration": 6,
    "start_time": "2021-09-27T12:30:08.425Z"
   },
   {
    "duration": 53,
    "start_time": "2021-09-27T12:30:24.351Z"
   },
   {
    "duration": 4,
    "start_time": "2021-09-27T12:32:43.264Z"
   },
   {
    "duration": 4,
    "start_time": "2021-09-27T12:33:23.962Z"
   },
   {
    "duration": 229,
    "start_time": "2021-09-27T12:33:24.267Z"
   },
   {
    "duration": 172,
    "start_time": "2021-09-27T12:33:50.152Z"
   },
   {
    "duration": 216,
    "start_time": "2021-09-27T12:34:32.675Z"
   },
   {
    "duration": 4,
    "start_time": "2021-09-27T12:34:46.123Z"
   },
   {
    "duration": 214,
    "start_time": "2021-09-27T12:34:47.271Z"
   },
   {
    "duration": 4,
    "start_time": "2021-09-27T12:34:51.638Z"
   },
   {
    "duration": 211,
    "start_time": "2021-09-27T12:34:52.973Z"
   },
   {
    "duration": 4,
    "start_time": "2021-09-27T12:34:58.462Z"
   },
   {
    "duration": 170,
    "start_time": "2021-09-27T12:34:58.914Z"
   },
   {
    "duration": 213,
    "start_time": "2021-09-27T12:35:27.576Z"
   },
   {
    "duration": 6,
    "start_time": "2021-09-27T12:43:05.120Z"
   },
   {
    "duration": 11,
    "start_time": "2021-09-27T12:43:09.275Z"
   },
   {
    "duration": 12,
    "start_time": "2021-09-27T12:43:17.851Z"
   },
   {
    "duration": 5,
    "start_time": "2021-09-27T12:43:39.738Z"
   },
   {
    "duration": 59,
    "start_time": "2021-09-27T12:44:19.718Z"
   },
   {
    "duration": 61,
    "start_time": "2021-09-27T12:45:13.334Z"
   },
   {
    "duration": 10,
    "start_time": "2021-09-27T12:45:22.591Z"
   },
   {
    "duration": 10,
    "start_time": "2021-09-27T12:45:43.362Z"
   },
   {
    "duration": 61,
    "start_time": "2021-09-27T12:45:53.144Z"
   },
   {
    "duration": 11,
    "start_time": "2021-09-27T12:45:54.839Z"
   },
   {
    "duration": 82,
    "start_time": "2021-09-27T12:46:07.012Z"
   },
   {
    "duration": 13,
    "start_time": "2021-09-27T12:46:07.993Z"
   },
   {
    "duration": 13,
    "start_time": "2021-09-27T12:46:18.598Z"
   },
   {
    "duration": 8,
    "start_time": "2021-09-27T12:46:19.251Z"
   },
   {
    "duration": 82,
    "start_time": "2021-09-27T12:46:19.372Z"
   },
   {
    "duration": 12,
    "start_time": "2021-09-27T12:46:20.125Z"
   },
   {
    "duration": 8,
    "start_time": "2021-09-27T12:46:29.926Z"
   },
   {
    "duration": 79,
    "start_time": "2021-09-27T12:46:30.203Z"
   },
   {
    "duration": 13,
    "start_time": "2021-09-27T12:46:31.003Z"
   },
   {
    "duration": 8,
    "start_time": "2021-09-27T12:46:36.479Z"
   },
   {
    "duration": 59,
    "start_time": "2021-09-27T12:46:36.635Z"
   },
   {
    "duration": 9,
    "start_time": "2021-09-27T12:46:37.381Z"
   },
   {
    "duration": 6,
    "start_time": "2021-09-27T12:46:40.972Z"
   },
   {
    "duration": 57,
    "start_time": "2021-09-27T12:46:41.092Z"
   },
   {
    "duration": 10,
    "start_time": "2021-09-27T12:46:41.232Z"
   },
   {
    "duration": 124,
    "start_time": "2021-09-27T12:47:13.807Z"
   },
   {
    "duration": 240,
    "start_time": "2021-09-27T12:47:39.856Z"
   },
   {
    "duration": 5,
    "start_time": "2021-09-27T12:48:20.707Z"
   },
   {
    "duration": 6,
    "start_time": "2021-09-27T13:00:27.365Z"
   },
   {
    "duration": 89,
    "start_time": "2021-09-27T13:02:34.484Z"
   },
   {
    "duration": 670,
    "start_time": "2021-09-27T13:02:42.767Z"
   },
   {
    "duration": 7,
    "start_time": "2021-09-27T13:03:04.678Z"
   },
   {
    "duration": 19,
    "start_time": "2021-09-27T13:03:10.747Z"
   },
   {
    "duration": 59,
    "start_time": "2021-09-27T13:05:03.623Z"
   },
   {
    "duration": 58,
    "start_time": "2021-09-27T13:05:09.656Z"
   },
   {
    "duration": 160,
    "start_time": "2021-09-27T13:05:26.021Z"
   },
   {
    "duration": 68,
    "start_time": "2021-09-27T13:05:53.116Z"
   },
   {
    "duration": 155,
    "start_time": "2021-09-27T13:06:22.907Z"
   },
   {
    "duration": 1555,
    "start_time": "2021-09-27T13:06:57.054Z"
   },
   {
    "duration": 53,
    "start_time": "2021-09-27T13:06:58.612Z"
   },
   {
    "duration": 20,
    "start_time": "2021-09-27T13:06:58.668Z"
   },
   {
    "duration": 6,
    "start_time": "2021-09-27T13:06:58.691Z"
   },
   {
    "duration": 5,
    "start_time": "2021-09-27T13:06:58.699Z"
   },
   {
    "duration": 23,
    "start_time": "2021-09-27T13:06:58.707Z"
   },
   {
    "duration": 11,
    "start_time": "2021-09-27T13:06:58.733Z"
   },
   {
    "duration": 41,
    "start_time": "2021-09-27T13:06:58.748Z"
   },
   {
    "duration": 17,
    "start_time": "2021-09-27T13:06:58.792Z"
   },
   {
    "duration": 802,
    "start_time": "2021-09-27T13:06:58.812Z"
   },
   {
    "duration": 31,
    "start_time": "2021-09-27T13:06:59.618Z"
   },
   {
    "duration": 1655,
    "start_time": "2021-09-27T13:06:59.652Z"
   },
   {
    "duration": 9,
    "start_time": "2021-09-27T13:07:01.311Z"
   },
   {
    "duration": 44,
    "start_time": "2021-09-27T13:07:01.322Z"
   },
   {
    "duration": 44,
    "start_time": "2021-09-27T13:07:01.369Z"
   },
   {
    "duration": 25,
    "start_time": "2021-09-27T13:07:01.417Z"
   },
   {
    "duration": 62,
    "start_time": "2021-09-27T13:07:01.446Z"
   },
   {
    "duration": 28,
    "start_time": "2021-09-27T13:07:01.511Z"
   },
   {
    "duration": 40,
    "start_time": "2021-09-27T13:07:01.542Z"
   },
   {
    "duration": 16,
    "start_time": "2021-09-27T13:07:01.586Z"
   },
   {
    "duration": 51,
    "start_time": "2021-09-27T13:07:01.606Z"
   },
   {
    "duration": 7,
    "start_time": "2021-09-27T13:07:01.661Z"
   },
   {
    "duration": 24,
    "start_time": "2021-09-27T13:07:01.687Z"
   },
   {
    "duration": 31,
    "start_time": "2021-09-27T13:07:01.714Z"
   },
   {
    "duration": 85,
    "start_time": "2021-09-27T13:07:01.748Z"
   },
   {
    "duration": 146,
    "start_time": "2021-09-27T13:07:01.836Z"
   },
   {
    "duration": 202,
    "start_time": "2021-09-27T13:07:01.985Z"
   },
   {
    "duration": 5,
    "start_time": "2021-09-27T13:07:02.190Z"
   },
   {
    "duration": 296,
    "start_time": "2021-09-27T13:07:02.197Z"
   },
   {
    "duration": 19,
    "start_time": "2021-09-27T13:07:02.584Z"
   },
   {
    "duration": 115,
    "start_time": "2021-09-27T13:07:02.605Z"
   },
   {
    "duration": 188,
    "start_time": "2021-09-27T13:07:02.723Z"
   },
   {
    "duration": 1460,
    "start_time": "2021-09-27T13:54:34.322Z"
   },
   {
    "duration": 53,
    "start_time": "2021-09-27T13:54:35.785Z"
   },
   {
    "duration": 12,
    "start_time": "2021-09-27T13:54:35.841Z"
   },
   {
    "duration": 6,
    "start_time": "2021-09-27T13:54:35.856Z"
   },
   {
    "duration": 4,
    "start_time": "2021-09-27T13:54:35.883Z"
   },
   {
    "duration": 23,
    "start_time": "2021-09-27T13:54:35.890Z"
   },
   {
    "duration": 7,
    "start_time": "2021-09-27T13:54:35.915Z"
   },
   {
    "duration": 9,
    "start_time": "2021-09-27T13:54:35.926Z"
   },
   {
    "duration": 54,
    "start_time": "2021-09-27T13:54:35.938Z"
   },
   {
    "duration": 674,
    "start_time": "2021-09-27T13:54:35.995Z"
   },
   {
    "duration": 21,
    "start_time": "2021-09-27T13:54:36.684Z"
   },
   {
    "duration": 1029,
    "start_time": "2021-09-27T13:54:36.708Z"
   },
   {
    "duration": 9,
    "start_time": "2021-09-27T13:54:37.740Z"
   },
   {
    "duration": 39,
    "start_time": "2021-09-27T13:54:37.753Z"
   },
   {
    "duration": 23,
    "start_time": "2021-09-27T13:54:37.795Z"
   },
   {
    "duration": 17,
    "start_time": "2021-09-27T13:54:37.820Z"
   },
   {
    "duration": 55,
    "start_time": "2021-09-27T13:54:37.840Z"
   },
   {
    "duration": 18,
    "start_time": "2021-09-27T13:54:37.898Z"
   },
   {
    "duration": 14,
    "start_time": "2021-09-27T13:54:37.919Z"
   },
   {
    "duration": 7,
    "start_time": "2021-09-27T13:54:37.937Z"
   },
   {
    "duration": 20,
    "start_time": "2021-09-27T13:54:37.982Z"
   },
   {
    "duration": 5,
    "start_time": "2021-09-27T13:54:38.005Z"
   },
   {
    "duration": 9,
    "start_time": "2021-09-27T13:54:38.015Z"
   },
   {
    "duration": 6,
    "start_time": "2021-09-27T13:54:38.027Z"
   },
   {
    "duration": 104,
    "start_time": "2021-09-27T13:54:38.036Z"
   },
   {
    "duration": 152,
    "start_time": "2021-09-27T13:54:38.143Z"
   },
   {
    "duration": 184,
    "start_time": "2021-09-27T13:54:38.299Z"
   },
   {
    "duration": 6,
    "start_time": "2021-09-27T13:54:38.487Z"
   },
   {
    "duration": 210,
    "start_time": "2021-09-27T13:54:38.496Z"
   },
   {
    "duration": 89,
    "start_time": "2021-09-27T13:54:38.709Z"
   },
   {
    "duration": 60,
    "start_time": "2021-09-27T13:54:38.884Z"
   },
   {
    "duration": 183,
    "start_time": "2021-09-27T13:54:38.947Z"
   },
   {
    "duration": 4,
    "start_time": "2021-09-27T14:03:18.808Z"
   },
   {
    "duration": 187,
    "start_time": "2021-09-27T14:03:19.198Z"
   },
   {
    "duration": 105,
    "start_time": "2021-09-27T14:05:59.934Z"
   },
   {
    "duration": 6,
    "start_time": "2021-09-27T14:06:03.502Z"
   },
   {
    "duration": 1576,
    "start_time": "2021-09-27T16:07:24.048Z"
   },
   {
    "duration": 55,
    "start_time": "2021-09-27T16:07:25.627Z"
   },
   {
    "duration": 12,
    "start_time": "2021-09-27T16:07:25.685Z"
   },
   {
    "duration": 6,
    "start_time": "2021-09-27T16:07:25.701Z"
   },
   {
    "duration": 5,
    "start_time": "2021-09-27T16:07:25.710Z"
   },
   {
    "duration": 24,
    "start_time": "2021-09-27T16:07:25.717Z"
   },
   {
    "duration": 8,
    "start_time": "2021-09-27T16:07:25.783Z"
   },
   {
    "duration": 10,
    "start_time": "2021-09-27T16:07:25.795Z"
   },
   {
    "duration": 13,
    "start_time": "2021-09-27T16:07:25.809Z"
   },
   {
    "duration": 686,
    "start_time": "2021-09-27T16:07:25.824Z"
   },
   {
    "duration": 20,
    "start_time": "2021-09-27T16:07:26.513Z"
   },
   {
    "duration": 1051,
    "start_time": "2021-09-27T16:07:26.536Z"
   },
   {
    "duration": 7,
    "start_time": "2021-09-27T16:07:27.590Z"
   },
   {
    "duration": 20,
    "start_time": "2021-09-27T16:07:27.600Z"
   },
   {
    "duration": 60,
    "start_time": "2021-09-27T16:07:27.623Z"
   },
   {
    "duration": 18,
    "start_time": "2021-09-27T16:07:27.686Z"
   },
   {
    "duration": 38,
    "start_time": "2021-09-27T16:07:27.707Z"
   },
   {
    "duration": 48,
    "start_time": "2021-09-27T16:07:27.748Z"
   },
   {
    "duration": 18,
    "start_time": "2021-09-27T16:07:27.799Z"
   },
   {
    "duration": 13,
    "start_time": "2021-09-27T16:07:27.820Z"
   },
   {
    "duration": 54,
    "start_time": "2021-09-27T16:07:27.836Z"
   },
   {
    "duration": 6,
    "start_time": "2021-09-27T16:07:27.893Z"
   },
   {
    "duration": 17,
    "start_time": "2021-09-27T16:07:27.903Z"
   },
   {
    "duration": 8,
    "start_time": "2021-09-27T16:07:27.924Z"
   },
   {
    "duration": 96,
    "start_time": "2021-09-27T16:07:27.935Z"
   },
   {
    "duration": 157,
    "start_time": "2021-09-27T16:07:28.033Z"
   },
   {
    "duration": 201,
    "start_time": "2021-09-27T16:07:28.192Z"
   },
   {
    "duration": 4,
    "start_time": "2021-09-27T16:07:28.395Z"
   },
   {
    "duration": 383,
    "start_time": "2021-09-27T16:07:28.402Z"
   },
   {
    "duration": 19,
    "start_time": "2021-09-27T16:07:28.788Z"
   },
   {
    "duration": 5,
    "start_time": "2021-09-27T16:07:28.810Z"
   },
   {
    "duration": 230,
    "start_time": "2021-09-27T16:07:28.817Z"
   },
   {
    "duration": 429,
    "start_time": "2021-09-27T16:07:57.668Z"
   },
   {
    "duration": 17,
    "start_time": "2021-09-27T16:08:09.991Z"
   },
   {
    "duration": 287,
    "start_time": "2021-09-27T16:08:17.698Z"
   },
   {
    "duration": 6,
    "start_time": "2021-09-27T16:08:20.427Z"
   },
   {
    "duration": 5,
    "start_time": "2021-09-27T16:08:31.255Z"
   },
   {
    "duration": 5,
    "start_time": "2021-09-27T16:08:41.658Z"
   },
   {
    "duration": 8,
    "start_time": "2021-09-27T16:09:27.241Z"
   },
   {
    "duration": 292,
    "start_time": "2021-09-27T16:11:16.445Z"
   },
   {
    "duration": 333,
    "start_time": "2021-09-27T16:11:18.842Z"
   },
   {
    "duration": 9,
    "start_time": "2021-09-27T16:11:28.843Z"
   },
   {
    "duration": 562,
    "start_time": "2021-09-27T16:11:42.151Z"
   },
   {
    "duration": 538,
    "start_time": "2021-09-27T16:11:50.248Z"
   },
   {
    "duration": 564,
    "start_time": "2021-09-27T16:12:07.221Z"
   },
   {
    "duration": 11,
    "start_time": "2021-09-27T16:12:11.264Z"
   },
   {
    "duration": 6,
    "start_time": "2021-09-27T16:12:12.142Z"
   },
   {
    "duration": 58,
    "start_time": "2021-09-27T16:12:12.335Z"
   },
   {
    "duration": 123,
    "start_time": "2021-09-27T16:12:12.913Z"
   },
   {
    "duration": 151,
    "start_time": "2021-09-27T16:12:14.432Z"
   },
   {
    "duration": 10,
    "start_time": "2021-09-27T16:12:17.193Z"
   },
   {
    "duration": 5,
    "start_time": "2021-09-27T16:13:14.008Z"
   },
   {
    "duration": 282,
    "start_time": "2021-09-27T16:13:16.003Z"
   },
   {
    "duration": 226,
    "start_time": "2021-09-27T16:14:20.359Z"
   },
   {
    "duration": 12,
    "start_time": "2021-09-27T16:14:28.925Z"
   },
   {
    "duration": 5,
    "start_time": "2021-09-27T16:15:32.152Z"
   },
   {
    "duration": 5,
    "start_time": "2021-09-27T16:15:54.900Z"
   },
   {
    "duration": 82,
    "start_time": "2021-09-27T16:17:19.612Z"
   },
   {
    "duration": 93,
    "start_time": "2021-09-27T16:17:33.441Z"
   },
   {
    "duration": 97,
    "start_time": "2021-09-27T16:17:42.709Z"
   },
   {
    "duration": 1129,
    "start_time": "2021-09-27T16:17:49.090Z"
   },
   {
    "duration": 471,
    "start_time": "2021-09-27T16:17:58.569Z"
   },
   {
    "duration": 592,
    "start_time": "2021-09-27T16:18:14.991Z"
   },
   {
    "duration": 168,
    "start_time": "2021-09-27T16:18:33.879Z"
   },
   {
    "duration": 4,
    "start_time": "2021-09-27T16:19:04.484Z"
   },
   {
    "duration": 11,
    "start_time": "2021-09-27T16:19:11.106Z"
   },
   {
    "duration": 259,
    "start_time": "2021-09-27T16:19:32.829Z"
   },
   {
    "duration": 4,
    "start_time": "2021-09-27T16:19:35.770Z"
   },
   {
    "duration": 12,
    "start_time": "2021-09-27T16:19:36.064Z"
   },
   {
    "duration": 231,
    "start_time": "2021-09-27T16:19:47.993Z"
   },
   {
    "duration": 4,
    "start_time": "2021-09-27T16:19:48.610Z"
   },
   {
    "duration": 12,
    "start_time": "2021-09-27T16:19:49.064Z"
   },
   {
    "duration": 265,
    "start_time": "2021-09-27T16:21:14.317Z"
   },
   {
    "duration": 5,
    "start_time": "2021-09-27T16:21:16.063Z"
   },
   {
    "duration": 12,
    "start_time": "2021-09-27T16:21:16.454Z"
   },
   {
    "duration": 1625,
    "start_time": "2021-09-27T18:08:46.262Z"
   },
   {
    "duration": 88,
    "start_time": "2021-09-27T18:08:47.892Z"
   },
   {
    "duration": 23,
    "start_time": "2021-09-27T18:08:47.985Z"
   },
   {
    "duration": 12,
    "start_time": "2021-09-27T18:08:48.012Z"
   },
   {
    "duration": 13,
    "start_time": "2021-09-27T18:08:48.028Z"
   },
   {
    "duration": 50,
    "start_time": "2021-09-27T18:08:48.044Z"
   },
   {
    "duration": 16,
    "start_time": "2021-09-27T18:08:48.097Z"
   },
   {
    "duration": 18,
    "start_time": "2021-09-27T18:08:48.119Z"
   },
   {
    "duration": 23,
    "start_time": "2021-09-27T18:08:48.140Z"
   },
   {
    "duration": 726,
    "start_time": "2021-09-27T18:08:48.165Z"
   },
   {
    "duration": 19,
    "start_time": "2021-09-27T18:08:48.894Z"
   },
   {
    "duration": 1014,
    "start_time": "2021-09-27T18:08:48.915Z"
   },
   {
    "duration": 7,
    "start_time": "2021-09-27T18:08:49.932Z"
   },
   {
    "duration": 24,
    "start_time": "2021-09-27T18:08:49.942Z"
   },
   {
    "duration": 25,
    "start_time": "2021-09-27T18:08:49.982Z"
   },
   {
    "duration": 17,
    "start_time": "2021-09-27T18:08:50.009Z"
   },
   {
    "duration": 53,
    "start_time": "2021-09-27T18:08:50.029Z"
   },
   {
    "duration": 17,
    "start_time": "2021-09-27T18:08:50.085Z"
   },
   {
    "duration": 19,
    "start_time": "2021-09-27T18:08:50.105Z"
   },
   {
    "duration": 12,
    "start_time": "2021-09-27T18:08:50.126Z"
   },
   {
    "duration": 51,
    "start_time": "2021-09-27T18:08:50.140Z"
   },
   {
    "duration": 5,
    "start_time": "2021-09-27T18:08:50.194Z"
   },
   {
    "duration": 25,
    "start_time": "2021-09-27T18:08:50.204Z"
   },
   {
    "duration": 21,
    "start_time": "2021-09-27T18:08:50.232Z"
   },
   {
    "duration": 68,
    "start_time": "2021-09-27T18:08:50.255Z"
   },
   {
    "duration": 131,
    "start_time": "2021-09-27T18:08:50.326Z"
   },
   {
    "duration": 223,
    "start_time": "2021-09-27T18:08:50.460Z"
   },
   {
    "duration": 9,
    "start_time": "2021-09-27T18:08:50.686Z"
   },
   {
    "duration": 8,
    "start_time": "2021-09-27T18:08:50.697Z"
   },
   {
    "duration": 279,
    "start_time": "2021-09-27T18:08:50.707Z"
   },
   {
    "duration": 100,
    "start_time": "2021-09-27T18:08:50.994Z"
   },
   {
    "duration": 20,
    "start_time": "2021-09-27T18:08:51.096Z"
   },
   {
    "duration": 6,
    "start_time": "2021-09-27T18:08:51.119Z"
   },
   {
    "duration": 363,
    "start_time": "2021-09-27T18:08:51.127Z"
   },
   {
    "duration": 94,
    "start_time": "2021-09-27T18:08:51.494Z"
   },
   {
    "duration": 112,
    "start_time": "2021-09-27T18:08:51.592Z"
   },
   {
    "duration": 171,
    "start_time": "2021-09-27T18:08:51.707Z"
   },
   {
    "duration": 1618,
    "start_time": "2021-09-29T07:09:54.090Z"
   },
   {
    "duration": 53,
    "start_time": "2021-09-29T07:09:55.711Z"
   },
   {
    "duration": 20,
    "start_time": "2021-09-29T07:09:55.767Z"
   },
   {
    "duration": 6,
    "start_time": "2021-09-29T07:09:57.167Z"
   },
   {
    "duration": 4,
    "start_time": "2021-09-29T07:09:57.591Z"
   },
   {
    "duration": 19,
    "start_time": "2021-09-29T07:09:58.307Z"
   },
   {
    "duration": 7,
    "start_time": "2021-09-29T07:09:58.752Z"
   },
   {
    "duration": 10,
    "start_time": "2021-09-29T07:09:59.155Z"
   },
   {
    "duration": 14,
    "start_time": "2021-09-29T07:09:59.840Z"
   },
   {
    "duration": 659,
    "start_time": "2021-09-29T07:10:00.634Z"
   },
   {
    "duration": 444,
    "start_time": "2021-09-29T07:12:40.993Z"
   },
   {
    "duration": 1038,
    "start_time": "2021-09-29T07:12:43.383Z"
   },
   {
    "duration": 7,
    "start_time": "2021-09-29T07:12:53.875Z"
   },
   {
    "duration": 57,
    "start_time": "2021-09-29T07:12:53.989Z"
   },
   {
    "duration": 12,
    "start_time": "2021-09-29T07:12:54.246Z"
   },
   {
    "duration": 6,
    "start_time": "2021-09-29T07:12:54.898Z"
   },
   {
    "duration": 5,
    "start_time": "2021-09-29T07:12:55.026Z"
   },
   {
    "duration": 18,
    "start_time": "2021-09-29T07:12:55.302Z"
   },
   {
    "duration": 7,
    "start_time": "2021-09-29T07:12:55.598Z"
   },
   {
    "duration": 9,
    "start_time": "2021-09-29T07:12:55.741Z"
   },
   {
    "duration": 13,
    "start_time": "2021-09-29T07:12:56.002Z"
   },
   {
    "duration": 78,
    "start_time": "2021-09-29T07:12:56.314Z"
   },
   {
    "duration": 18,
    "start_time": "2021-09-29T07:12:56.655Z"
   },
   {
    "duration": 991,
    "start_time": "2021-09-29T07:12:57.237Z"
   },
   {
    "duration": 6,
    "start_time": "2021-09-29T07:12:58.231Z"
   },
   {
    "duration": 20,
    "start_time": "2021-09-29T07:12:58.438Z"
   },
   {
    "duration": 24,
    "start_time": "2021-09-29T07:12:58.826Z"
   },
   {
    "duration": 22,
    "start_time": "2021-09-29T07:12:59.042Z"
   },
   {
    "duration": 25,
    "start_time": "2021-09-29T07:12:59.194Z"
   },
   {
    "duration": 19,
    "start_time": "2021-09-29T07:12:59.348Z"
   },
   {
    "duration": 15,
    "start_time": "2021-09-29T07:12:59.638Z"
   },
   {
    "duration": 7,
    "start_time": "2021-09-29T07:13:00.210Z"
   },
   {
    "duration": 21,
    "start_time": "2021-09-29T07:13:00.835Z"
   },
   {
    "duration": 7,
    "start_time": "2021-09-29T07:13:01.530Z"
   },
   {
    "duration": 10,
    "start_time": "2021-09-29T07:13:02.946Z"
   },
   {
    "duration": 7,
    "start_time": "2021-09-29T07:13:03.870Z"
   },
   {
    "duration": 59,
    "start_time": "2021-09-29T07:13:04.178Z"
   },
   {
    "duration": 124,
    "start_time": "2021-09-29T07:13:05.601Z"
   },
   {
    "duration": 104,
    "start_time": "2021-09-29T07:13:07.087Z"
   },
   {
    "duration": 10,
    "start_time": "2021-09-29T07:13:09.007Z"
   },
   {
    "duration": 11,
    "start_time": "2021-09-29T07:14:40.315Z"
   },
   {
    "duration": 1498,
    "start_time": "2021-09-29T07:14:47.399Z"
   },
   {
    "duration": 56,
    "start_time": "2021-09-29T07:14:48.900Z"
   },
   {
    "duration": 26,
    "start_time": "2021-09-29T07:14:48.960Z"
   },
   {
    "duration": 7,
    "start_time": "2021-09-29T07:14:48.990Z"
   },
   {
    "duration": 6,
    "start_time": "2021-09-29T07:14:49.000Z"
   },
   {
    "duration": 24,
    "start_time": "2021-09-29T07:14:49.008Z"
   },
   {
    "duration": 7,
    "start_time": "2021-09-29T07:14:49.034Z"
   },
   {
    "duration": 47,
    "start_time": "2021-09-29T07:14:49.043Z"
   },
   {
    "duration": 11,
    "start_time": "2021-09-29T07:14:49.095Z"
   },
   {
    "duration": 693,
    "start_time": "2021-09-29T07:14:49.109Z"
   },
   {
    "duration": 20,
    "start_time": "2021-09-29T07:14:49.804Z"
   },
   {
    "duration": 999,
    "start_time": "2021-09-29T07:14:49.826Z"
   },
   {
    "duration": 7,
    "start_time": "2021-09-29T07:14:50.827Z"
   },
   {
    "duration": 27,
    "start_time": "2021-09-29T07:14:50.837Z"
   },
   {
    "duration": 37,
    "start_time": "2021-09-29T07:14:50.866Z"
   },
   {
    "duration": 17,
    "start_time": "2021-09-29T07:14:50.905Z"
   },
   {
    "duration": 36,
    "start_time": "2021-09-29T07:14:50.924Z"
   },
   {
    "duration": 17,
    "start_time": "2021-09-29T07:14:50.983Z"
   },
   {
    "duration": 14,
    "start_time": "2021-09-29T07:14:51.002Z"
   },
   {
    "duration": 7,
    "start_time": "2021-09-29T07:14:51.018Z"
   },
   {
    "duration": 59,
    "start_time": "2021-09-29T07:14:51.027Z"
   },
   {
    "duration": 6,
    "start_time": "2021-09-29T07:14:51.088Z"
   },
   {
    "duration": 13,
    "start_time": "2021-09-29T07:14:51.096Z"
   },
   {
    "duration": 16,
    "start_time": "2021-09-29T07:14:51.112Z"
   },
   {
    "duration": 87,
    "start_time": "2021-09-29T07:14:51.131Z"
   },
   {
    "duration": 141,
    "start_time": "2021-09-29T07:14:51.221Z"
   },
   {
    "duration": 209,
    "start_time": "2021-09-29T07:14:51.383Z"
   },
   {
    "duration": 10,
    "start_time": "2021-09-29T07:14:51.594Z"
   },
   {
    "duration": 21,
    "start_time": "2021-09-29T07:14:51.606Z"
   },
   {
    "duration": 257,
    "start_time": "2021-09-29T07:14:51.630Z"
   },
   {
    "duration": 100,
    "start_time": "2021-09-29T07:14:51.890Z"
   },
   {
    "duration": 22,
    "start_time": "2021-09-29T07:14:51.993Z"
   },
   {
    "duration": 8,
    "start_time": "2021-09-29T07:14:52.017Z"
   },
   {
    "duration": 261,
    "start_time": "2021-09-29T07:14:52.027Z"
   },
   {
    "duration": 96,
    "start_time": "2021-09-29T07:14:52.292Z"
   },
   {
    "duration": 101,
    "start_time": "2021-09-29T07:14:52.390Z"
   },
   {
    "duration": 171,
    "start_time": "2021-09-29T07:14:52.494Z"
   },
   {
    "duration": 6,
    "start_time": "2021-09-29T07:22:33.845Z"
   },
   {
    "duration": 7,
    "start_time": "2021-09-29T07:24:54.493Z"
   },
   {
    "duration": 50,
    "start_time": "2021-09-29T07:24:54.646Z"
   },
   {
    "duration": 12,
    "start_time": "2021-09-29T07:24:55.093Z"
   },
   {
    "duration": 6,
    "start_time": "2021-09-29T07:24:56.050Z"
   },
   {
    "duration": 4,
    "start_time": "2021-09-29T07:24:56.196Z"
   },
   {
    "duration": 18,
    "start_time": "2021-09-29T07:24:56.573Z"
   },
   {
    "duration": 7,
    "start_time": "2021-09-29T07:24:56.937Z"
   },
   {
    "duration": 10,
    "start_time": "2021-09-29T07:24:57.129Z"
   },
   {
    "duration": 16,
    "start_time": "2021-09-29T07:24:57.577Z"
   },
   {
    "duration": 84,
    "start_time": "2021-09-29T07:24:58.135Z"
   },
   {
    "duration": 20,
    "start_time": "2021-09-29T07:24:58.849Z"
   },
   {
    "duration": 1230,
    "start_time": "2021-09-29T07:24:59.123Z"
   },
   {
    "duration": 7,
    "start_time": "2021-09-29T07:25:00.356Z"
   },
   {
    "duration": 19,
    "start_time": "2021-09-29T07:25:01.271Z"
   },
   {
    "duration": 24,
    "start_time": "2021-09-29T07:25:02.154Z"
   },
   {
    "duration": 18,
    "start_time": "2021-09-29T07:25:02.321Z"
   },
   {
    "duration": 25,
    "start_time": "2021-09-29T07:25:02.468Z"
   },
   {
    "duration": 17,
    "start_time": "2021-09-29T07:25:02.610Z"
   },
   {
    "duration": 14,
    "start_time": "2021-09-29T07:25:02.905Z"
   },
   {
    "duration": 6,
    "start_time": "2021-09-29T07:25:03.570Z"
   },
   {
    "duration": 21,
    "start_time": "2021-09-29T07:25:04.020Z"
   },
   {
    "duration": 5,
    "start_time": "2021-09-29T07:25:04.333Z"
   },
   {
    "duration": 10,
    "start_time": "2021-09-29T07:25:05.745Z"
   },
   {
    "duration": 6,
    "start_time": "2021-09-29T07:25:06.461Z"
   },
   {
    "duration": 60,
    "start_time": "2021-09-29T07:25:06.993Z"
   },
   {
    "duration": 121,
    "start_time": "2021-09-29T07:25:08.733Z"
   },
   {
    "duration": 59,
    "start_time": "2021-09-29T07:25:11.333Z"
   },
   {
    "duration": 10,
    "start_time": "2021-09-29T07:25:14.127Z"
   },
   {
    "duration": 4,
    "start_time": "2021-09-29T07:25:16.530Z"
   },
   {
    "duration": 219,
    "start_time": "2021-09-29T07:25:16.872Z"
   },
   {
    "duration": 10,
    "start_time": "2021-09-29T07:25:17.256Z"
   },
   {
    "duration": 17,
    "start_time": "2021-09-29T07:25:23.047Z"
   },
   {
    "duration": 4,
    "start_time": "2021-09-29T07:25:24.381Z"
   },
   {
    "duration": 239,
    "start_time": "2021-09-29T07:25:27.562Z"
   },
   {
    "duration": 506,
    "start_time": "2021-09-29T07:25:30.162Z"
   },
   {
    "duration": 6,
    "start_time": "2021-09-29T07:25:45.676Z"
   },
   {
    "duration": 49,
    "start_time": "2021-09-29T07:25:45.810Z"
   },
   {
    "duration": 13,
    "start_time": "2021-09-29T07:25:46.073Z"
   },
   {
    "duration": 6,
    "start_time": "2021-09-29T07:25:46.754Z"
   },
   {
    "duration": 5,
    "start_time": "2021-09-29T07:25:46.897Z"
   },
   {
    "duration": 19,
    "start_time": "2021-09-29T07:25:47.173Z"
   },
   {
    "duration": 6,
    "start_time": "2021-09-29T07:25:47.452Z"
   },
   {
    "duration": 10,
    "start_time": "2021-09-29T07:25:47.591Z"
   },
   {
    "duration": 14,
    "start_time": "2021-09-29T07:25:47.902Z"
   },
   {
    "duration": 78,
    "start_time": "2021-09-29T07:25:48.189Z"
   },
   {
    "duration": 18,
    "start_time": "2021-09-29T07:25:48.469Z"
   },
   {
    "duration": 991,
    "start_time": "2021-09-29T07:25:48.586Z"
   },
   {
    "duration": 9,
    "start_time": "2021-09-29T07:25:49.584Z"
   },
   {
    "duration": 18,
    "start_time": "2021-09-29T07:25:49.596Z"
   },
   {
    "duration": 25,
    "start_time": "2021-09-29T07:25:49.616Z"
   },
   {
    "duration": 17,
    "start_time": "2021-09-29T07:25:49.713Z"
   },
   {
    "duration": 28,
    "start_time": "2021-09-29T07:25:49.865Z"
   },
   {
    "duration": 22,
    "start_time": "2021-09-29T07:25:50.000Z"
   },
   {
    "duration": 15,
    "start_time": "2021-09-29T07:25:50.292Z"
   },
   {
    "duration": 8,
    "start_time": "2021-09-29T07:25:50.883Z"
   },
   {
    "duration": 20,
    "start_time": "2021-09-29T07:25:51.177Z"
   },
   {
    "duration": 6,
    "start_time": "2021-09-29T07:25:51.467Z"
   },
   {
    "duration": 10,
    "start_time": "2021-09-29T07:25:52.354Z"
   },
   {
    "duration": 7,
    "start_time": "2021-09-29T07:25:52.815Z"
   },
   {
    "duration": 56,
    "start_time": "2021-09-29T07:25:52.936Z"
   },
   {
    "duration": 118,
    "start_time": "2021-09-29T07:25:53.532Z"
   },
   {
    "duration": 104,
    "start_time": "2021-09-29T07:25:54.285Z"
   },
   {
    "duration": 10,
    "start_time": "2021-09-29T07:25:55.240Z"
   },
   {
    "duration": 5,
    "start_time": "2021-09-29T07:25:56.548Z"
   },
   {
    "duration": 201,
    "start_time": "2021-09-29T07:25:56.696Z"
   },
   {
    "duration": 97,
    "start_time": "2021-09-29T07:25:56.992Z"
   },
   {
    "duration": 16,
    "start_time": "2021-09-29T07:25:59.318Z"
   },
   {
    "duration": 5,
    "start_time": "2021-09-29T07:26:00.824Z"
   },
   {
    "duration": 241,
    "start_time": "2021-09-29T07:26:03.156Z"
   },
   {
    "duration": 66,
    "start_time": "2021-09-29T07:26:05.734Z"
   },
   {
    "duration": 6,
    "start_time": "2021-09-29T07:28:13.263Z"
   },
   {
    "duration": 7,
    "start_time": "2021-09-29T07:28:19.194Z"
   },
   {
    "duration": 49,
    "start_time": "2021-09-29T07:28:19.328Z"
   },
   {
    "duration": 13,
    "start_time": "2021-09-29T07:28:19.585Z"
   },
   {
    "duration": 5,
    "start_time": "2021-09-29T07:28:20.258Z"
   },
   {
    "duration": 4,
    "start_time": "2021-09-29T07:28:20.399Z"
   },
   {
    "duration": 16,
    "start_time": "2021-09-29T07:28:20.682Z"
   },
   {
    "duration": 6,
    "start_time": "2021-09-29T07:28:20.962Z"
   },
   {
    "duration": 9,
    "start_time": "2021-09-29T07:28:21.105Z"
   },
   {
    "duration": 12,
    "start_time": "2021-09-29T07:28:21.401Z"
   },
   {
    "duration": 74,
    "start_time": "2021-09-29T07:28:22.046Z"
   },
   {
    "duration": 19,
    "start_time": "2021-09-29T07:28:22.786Z"
   },
   {
    "duration": 960,
    "start_time": "2021-09-29T07:28:23.258Z"
   },
   {
    "duration": 6,
    "start_time": "2021-09-29T07:28:24.221Z"
   },
   {
    "duration": 18,
    "start_time": "2021-09-29T07:28:25.493Z"
   },
   {
    "duration": 21,
    "start_time": "2021-09-29T07:28:26.330Z"
   },
   {
    "duration": 16,
    "start_time": "2021-09-29T07:28:26.608Z"
   },
   {
    "duration": 24,
    "start_time": "2021-09-29T07:28:26.755Z"
   },
   {
    "duration": 16,
    "start_time": "2021-09-29T07:28:26.925Z"
   },
   {
    "duration": 14,
    "start_time": "2021-09-29T07:28:27.645Z"
   },
   {
    "duration": 8,
    "start_time": "2021-09-29T07:28:28.953Z"
   },
   {
    "duration": 21,
    "start_time": "2021-09-29T07:28:29.999Z"
   },
   {
    "duration": 5,
    "start_time": "2021-09-29T07:28:30.622Z"
   },
   {
    "duration": 10,
    "start_time": "2021-09-29T07:28:32.758Z"
   },
   {
    "duration": 6,
    "start_time": "2021-09-29T07:28:34.833Z"
   },
   {
    "duration": 59,
    "start_time": "2021-09-29T07:28:36.215Z"
   },
   {
    "duration": 128,
    "start_time": "2021-09-29T07:28:47.557Z"
   },
   {
    "duration": 103,
    "start_time": "2021-09-29T07:28:49.286Z"
   },
   {
    "duration": 9,
    "start_time": "2021-09-29T07:29:04.614Z"
   },
   {
    "duration": 5,
    "start_time": "2021-09-29T07:29:35.434Z"
   },
   {
    "duration": 229,
    "start_time": "2021-09-29T07:29:35.662Z"
   },
   {
    "duration": 11,
    "start_time": "2021-09-29T07:29:35.993Z"
   },
   {
    "duration": 5,
    "start_time": "2021-09-29T07:29:54.865Z"
   },
   {
    "duration": 556,
    "start_time": "2021-09-29T07:29:56.220Z"
   },
   {
    "duration": 88,
    "start_time": "2021-09-29T07:30:02.426Z"
   },
   {
    "duration": 568,
    "start_time": "2021-09-29T07:30:02.734Z"
   },
   {
    "duration": 790,
    "start_time": "2021-09-29T07:30:23.714Z"
   },
   {
    "duration": 114988,
    "start_time": "2021-09-29T07:28:29.518Z"
   },
   {
    "duration": 11,
    "start_time": "2021-09-29T07:30:24.793Z"
   },
   {
    "duration": 690,
    "start_time": "2021-09-29T07:31:12.454Z"
   },
   {
    "duration": 90,
    "start_time": "2021-09-29T07:31:16.923Z"
   },
   {
    "duration": 962,
    "start_time": "2021-09-29T07:31:25.071Z"
   },
   {
    "duration": 5,
    "start_time": "2021-09-29T07:31:51.686Z"
   },
   {
    "duration": 229,
    "start_time": "2021-09-29T07:31:52.062Z"
   },
   {
    "duration": 11,
    "start_time": "2021-09-29T07:31:55.048Z"
   },
   {
    "duration": 19,
    "start_time": "2021-09-29T07:31:58.068Z"
   },
   {
    "duration": 5,
    "start_time": "2021-09-29T07:31:59.224Z"
   },
   {
    "duration": 350,
    "start_time": "2021-09-29T07:32:00.433Z"
   },
   {
    "duration": 69,
    "start_time": "2021-09-29T07:32:03.411Z"
   },
   {
    "duration": 5,
    "start_time": "2021-09-29T07:32:26.060Z"
   },
   {
    "duration": 5,
    "start_time": "2021-09-29T07:32:39.313Z"
   },
   {
    "duration": 6,
    "start_time": "2021-09-29T07:32:59.850Z"
   },
   {
    "duration": 5930,
    "start_time": "2021-09-29T07:33:36.924Z"
   },
   {
    "duration": 114974,
    "start_time": "2021-09-29T07:32:01.571Z"
   },
   {
    "duration": 7,
    "start_time": "2021-09-29T07:34:05.956Z"
   },
   {
    "duration": 11,
    "start_time": "2021-09-29T07:34:20.892Z"
   },
   {
    "duration": 8,
    "start_time": "2021-09-29T07:34:34.070Z"
   },
   {
    "duration": 252,
    "start_time": "2021-09-29T07:52:35.843Z"
   },
   {
    "duration": 8,
    "start_time": "2021-09-29T07:52:39.006Z"
   },
   {
    "duration": 6,
    "start_time": "2021-09-29T07:52:43.232Z"
   },
   {
    "duration": 67,
    "start_time": "2021-09-29T07:53:14.861Z"
   },
   {
    "duration": 71,
    "start_time": "2021-09-29T07:53:30.685Z"
   },
   {
    "duration": 12,
    "start_time": "2021-09-29T07:53:34.276Z"
   },
   {
    "duration": 161,
    "start_time": "2021-09-29T07:54:33.168Z"
   },
   {
    "duration": 11,
    "start_time": "2021-09-29T07:54:36.106Z"
   },
   {
    "duration": 12,
    "start_time": "2021-09-29T07:54:38.885Z"
   },
   {
    "duration": 162,
    "start_time": "2021-09-29T07:54:45.820Z"
   },
   {
    "duration": 8,
    "start_time": "2021-09-29T07:55:44.792Z"
   },
   {
    "duration": 49,
    "start_time": "2021-09-29T07:55:44.920Z"
   },
   {
    "duration": 12,
    "start_time": "2021-09-29T07:55:45.172Z"
   },
   {
    "duration": 6,
    "start_time": "2021-09-29T07:55:46.125Z"
   },
   {
    "duration": 4,
    "start_time": "2021-09-29T07:55:46.221Z"
   },
   {
    "duration": 15,
    "start_time": "2021-09-29T07:55:46.377Z"
   },
   {
    "duration": 7,
    "start_time": "2021-09-29T07:55:46.544Z"
   },
   {
    "duration": 12,
    "start_time": "2021-09-29T07:55:46.635Z"
   },
   {
    "duration": 11,
    "start_time": "2021-09-29T07:55:46.801Z"
   },
   {
    "duration": 71,
    "start_time": "2021-09-29T07:55:46.969Z"
   },
   {
    "duration": 17,
    "start_time": "2021-09-29T07:55:47.131Z"
   },
   {
    "duration": 1138,
    "start_time": "2021-09-29T07:55:47.216Z"
   },
   {
    "duration": 7,
    "start_time": "2021-09-29T07:55:48.357Z"
   },
   {
    "duration": 18,
    "start_time": "2021-09-29T07:55:48.383Z"
   },
   {
    "duration": 20,
    "start_time": "2021-09-29T07:55:48.404Z"
   },
   {
    "duration": 16,
    "start_time": "2021-09-29T07:55:48.427Z"
   },
   {
    "duration": 57,
    "start_time": "2021-09-29T07:55:48.446Z"
   },
   {
    "duration": 17,
    "start_time": "2021-09-29T07:55:48.506Z"
   },
   {
    "duration": 14,
    "start_time": "2021-09-29T07:55:48.682Z"
   },
   {
    "duration": 7,
    "start_time": "2021-09-29T07:55:49.209Z"
   },
   {
    "duration": 20,
    "start_time": "2021-09-29T07:55:49.489Z"
   },
   {
    "duration": 6,
    "start_time": "2021-09-29T07:55:49.757Z"
   },
   {
    "duration": 10,
    "start_time": "2021-09-29T07:55:50.600Z"
   },
   {
    "duration": 7,
    "start_time": "2021-09-29T07:55:51.022Z"
   },
   {
    "duration": 60,
    "start_time": "2021-09-29T07:55:51.161Z"
   },
   {
    "duration": 117,
    "start_time": "2021-09-29T07:55:51.741Z"
   },
   {
    "duration": 202,
    "start_time": "2021-09-29T07:55:52.381Z"
   },
   {
    "duration": 10,
    "start_time": "2021-09-29T07:55:53.076Z"
   },
   {
    "duration": 5,
    "start_time": "2021-09-29T07:55:54.714Z"
   },
   {
    "duration": 237,
    "start_time": "2021-09-29T07:55:54.850Z"
   },
   {
    "duration": 9,
    "start_time": "2021-09-29T07:55:55.184Z"
   },
   {
    "duration": 18,
    "start_time": "2021-09-29T07:56:08.075Z"
   },
   {
    "duration": 6,
    "start_time": "2021-09-29T07:56:08.208Z"
   },
   {
    "duration": 70,
    "start_time": "2021-09-29T07:56:08.488Z"
   },
   {
    "duration": 159,
    "start_time": "2021-09-29T07:56:08.767Z"
   },
   {
    "duration": 163,
    "start_time": "2021-09-29T07:56:09.055Z"
   },
   {
    "duration": 3,
    "start_time": "2021-09-29T07:56:09.503Z"
   },
   {
    "duration": 11,
    "start_time": "2021-09-29T07:56:09.969Z"
   },
   {
    "duration": 148,
    "start_time": "2021-09-29T07:56:14.141Z"
   },
   {
    "duration": 12,
    "start_time": "2021-09-29T07:56:22.036Z"
   },
   {
    "duration": 6,
    "start_time": "2021-09-29T07:57:59.477Z"
   },
   {
    "duration": 57,
    "start_time": "2021-09-29T07:57:59.715Z"
   },
   {
    "duration": 123,
    "start_time": "2021-09-29T07:58:00.644Z"
   },
   {
    "duration": 126,
    "start_time": "2021-09-29T07:58:01.159Z"
   },
   {
    "duration": 13,
    "start_time": "2021-09-29T07:58:01.572Z"
   },
   {
    "duration": 5,
    "start_time": "2021-09-29T07:58:02.609Z"
   },
   {
    "duration": 326,
    "start_time": "2021-09-29T07:58:02.756Z"
   },
   {
    "duration": 11,
    "start_time": "2021-09-29T07:58:03.085Z"
   },
   {
    "duration": 18,
    "start_time": "2021-09-29T07:58:04.167Z"
   },
   {
    "duration": 6,
    "start_time": "2021-09-29T07:58:04.311Z"
   },
   {
    "duration": 69,
    "start_time": "2021-09-29T07:58:04.620Z"
   },
   {
    "duration": 157,
    "start_time": "2021-09-29T07:58:05.347Z"
   },
   {
    "duration": 161,
    "start_time": "2021-09-29T07:58:06.452Z"
   },
   {
    "duration": 160,
    "start_time": "2021-09-29T07:58:37.850Z"
   },
   {
    "duration": 68,
    "start_time": "2021-09-29T07:58:38.128Z"
   },
   {
    "duration": 11,
    "start_time": "2021-09-29T07:58:43.843Z"
   },
   {
    "duration": 361,
    "start_time": "2021-09-29T08:00:09.490Z"
   },
   {
    "duration": 591,
    "start_time": "2021-09-29T08:00:12.154Z"
   },
   {
    "duration": 114990,
    "start_time": "2021-09-29T07:58:17.758Z"
   },
   {
    "duration": 457,
    "start_time": "2021-09-29T08:00:35.414Z"
   },
   {
    "duration": 17,
    "start_time": "2021-09-29T08:00:48.278Z"
   },
   {
    "duration": 69,
    "start_time": "2021-09-29T08:00:50.114Z"
   },
   {
    "duration": 12,
    "start_time": "2021-09-29T08:01:00.330Z"
   },
   {
    "duration": 187,
    "start_time": "2021-09-29T08:01:45.102Z"
   },
   {
    "duration": 166,
    "start_time": "2021-09-29T08:01:46.811Z"
   },
   {
    "duration": 213,
    "start_time": "2021-09-29T08:01:48.471Z"
   },
   {
    "duration": 12,
    "start_time": "2021-09-29T08:01:48.744Z"
   },
   {
    "duration": 173,
    "start_time": "2021-09-29T08:03:36.582Z"
   },
   {
    "duration": 117,
    "start_time": "2021-09-29T08:08:57.982Z"
   },
   {
    "duration": 426,
    "start_time": "2021-09-29T08:14:02.783Z"
   },
   {
    "duration": 838,
    "start_time": "2021-09-29T08:14:22.696Z"
   },
   {
    "duration": 273,
    "start_time": "2021-09-29T08:14:35.576Z"
   },
   {
    "duration": 274,
    "start_time": "2021-09-29T08:16:20.444Z"
   },
   {
    "duration": 516,
    "start_time": "2021-09-29T08:16:40.725Z"
   },
   {
    "duration": 509,
    "start_time": "2021-09-29T08:16:44.260Z"
   },
   {
    "duration": 464,
    "start_time": "2021-09-29T08:16:48.379Z"
   },
   {
    "duration": 295,
    "start_time": "2021-09-29T08:16:52.069Z"
   },
   {
    "duration": 1850,
    "start_time": "2021-09-29T08:17:16.034Z"
   },
   {
    "duration": 146,
    "start_time": "2021-09-29T08:18:07.412Z"
   },
   {
    "duration": 166,
    "start_time": "2021-09-29T08:18:12.317Z"
   },
   {
    "duration": 267,
    "start_time": "2021-09-29T08:18:17.945Z"
   },
   {
    "duration": 267,
    "start_time": "2021-09-29T08:19:25.403Z"
   },
   {
    "duration": 257,
    "start_time": "2021-09-29T08:19:32.273Z"
   },
   {
    "duration": 274,
    "start_time": "2021-09-29T08:19:34.919Z"
   },
   {
    "duration": 219,
    "start_time": "2021-09-29T08:19:56.903Z"
   },
   {
    "duration": 412,
    "start_time": "2021-09-29T08:20:04.519Z"
   },
   {
    "duration": 610,
    "start_time": "2021-09-29T08:20:08.696Z"
   },
   {
    "duration": 446,
    "start_time": "2021-09-29T08:20:15.085Z"
   },
   {
    "duration": 249,
    "start_time": "2021-09-29T08:20:19.258Z"
   },
   {
    "duration": 700,
    "start_time": "2021-09-29T08:20:22.238Z"
   },
   {
    "duration": 585,
    "start_time": "2021-09-29T08:20:36.724Z"
   },
   {
    "duration": 577,
    "start_time": "2021-09-29T08:21:15.961Z"
   },
   {
    "duration": 4,
    "start_time": "2021-09-29T08:23:39.952Z"
   },
   {
    "duration": 5,
    "start_time": "2021-09-29T08:24:03.584Z"
   },
   {
    "duration": 596,
    "start_time": "2021-09-29T08:26:16.631Z"
   },
   {
    "duration": 7,
    "start_time": "2021-09-29T08:30:47.270Z"
   },
   {
    "duration": 53,
    "start_time": "2021-09-29T08:30:47.279Z"
   },
   {
    "duration": 7,
    "start_time": "2021-09-29T08:31:02.465Z"
   },
   {
    "duration": 49,
    "start_time": "2021-09-29T08:31:03.048Z"
   },
   {
    "duration": 13,
    "start_time": "2021-09-29T08:31:04.013Z"
   },
   {
    "duration": 6,
    "start_time": "2021-09-29T08:31:05.615Z"
   },
   {
    "duration": 4,
    "start_time": "2021-09-29T08:31:06.125Z"
   },
   {
    "duration": 18,
    "start_time": "2021-09-29T08:31:06.995Z"
   },
   {
    "duration": 7,
    "start_time": "2021-09-29T08:31:08.914Z"
   },
   {
    "duration": 9,
    "start_time": "2021-09-29T08:31:10.366Z"
   },
   {
    "duration": 12,
    "start_time": "2021-09-29T08:31:11.798Z"
   },
   {
    "duration": 75,
    "start_time": "2021-09-29T08:31:13.347Z"
   },
   {
    "duration": 18,
    "start_time": "2021-09-29T08:31:16.332Z"
   },
   {
    "duration": 997,
    "start_time": "2021-09-29T08:31:16.551Z"
   },
   {
    "duration": 7,
    "start_time": "2021-09-29T08:31:17.551Z"
   },
   {
    "duration": 18,
    "start_time": "2021-09-29T08:31:19.184Z"
   },
   {
    "duration": 24,
    "start_time": "2021-09-29T08:31:19.742Z"
   },
   {
    "duration": 17,
    "start_time": "2021-09-29T08:31:19.882Z"
   },
   {
    "duration": 27,
    "start_time": "2021-09-29T08:31:20.012Z"
   },
   {
    "duration": 19,
    "start_time": "2021-09-29T08:31:20.122Z"
   },
   {
    "duration": 14,
    "start_time": "2021-09-29T08:31:20.378Z"
   },
   {
    "duration": 7,
    "start_time": "2021-09-29T08:31:21.152Z"
   },
   {
    "duration": 20,
    "start_time": "2021-09-29T08:31:21.317Z"
   },
   {
    "duration": 6,
    "start_time": "2021-09-29T08:31:21.488Z"
   },
   {
    "duration": 10,
    "start_time": "2021-09-29T08:31:22.034Z"
   },
   {
    "duration": 6,
    "start_time": "2021-09-29T08:31:22.243Z"
   },
   {
    "duration": 57,
    "start_time": "2021-09-29T08:31:22.328Z"
   },
   {
    "duration": 596,
    "start_time": "2021-09-29T08:31:22.714Z"
   },
   {
    "duration": 127,
    "start_time": "2021-09-29T08:31:23.313Z"
   },
   {
    "duration": 242,
    "start_time": "2021-09-29T08:31:23.443Z"
   },
   {
    "duration": 9,
    "start_time": "2021-09-29T08:31:23.688Z"
   },
   {
    "duration": 5,
    "start_time": "2021-09-29T08:31:24.015Z"
   },
   {
    "duration": 207,
    "start_time": "2021-09-29T08:31:24.082Z"
   },
   {
    "duration": 192,
    "start_time": "2021-09-29T08:31:24.293Z"
   },
   {
    "duration": 17,
    "start_time": "2021-09-29T08:31:24.753Z"
   },
   {
    "duration": 6,
    "start_time": "2021-09-29T08:31:24.857Z"
   },
   {
    "duration": 69,
    "start_time": "2021-09-29T08:31:24.922Z"
   },
   {
    "duration": 160,
    "start_time": "2021-09-29T08:31:25.007Z"
   },
   {
    "duration": 222,
    "start_time": "2021-09-29T08:31:25.169Z"
   },
   {
    "duration": 18,
    "start_time": "2021-09-29T08:31:27.501Z"
   },
   {
    "duration": 71,
    "start_time": "2021-09-29T08:31:27.647Z"
   },
   {
    "duration": 170,
    "start_time": "2021-09-29T08:31:27.917Z"
   },
   {
    "duration": 82,
    "start_time": "2021-09-29T08:31:28.089Z"
   },
   {
    "duration": 205,
    "start_time": "2021-09-29T08:31:28.177Z"
   },
   {
    "duration": 13,
    "start_time": "2021-09-29T08:31:28.567Z"
   },
   {
    "duration": 592,
    "start_time": "2021-09-29T08:31:29.874Z"
   },
   {
    "duration": 6,
    "start_time": "2021-09-29T08:31:32.045Z"
   },
   {
    "duration": 6,
    "start_time": "2021-09-29T08:31:44.037Z"
   },
   {
    "duration": 334,
    "start_time": "2021-09-29T08:31:57.327Z"
   },
   {
    "duration": 286,
    "start_time": "2021-09-29T08:32:13.412Z"
   },
   {
    "duration": 5,
    "start_time": "2021-09-29T08:32:40.354Z"
   },
   {
    "duration": 306,
    "start_time": "2021-09-29T08:32:55.253Z"
   },
   {
    "duration": 328,
    "start_time": "2021-09-29T08:33:07.517Z"
   },
   {
    "duration": 5,
    "start_time": "2021-09-29T08:33:12.223Z"
   },
   {
    "duration": 279,
    "start_time": "2021-09-29T08:33:48.414Z"
   },
   {
    "duration": 667,
    "start_time": "2021-09-29T08:35:29.556Z"
   },
   {
    "duration": 5,
    "start_time": "2021-09-29T08:35:34.828Z"
   },
   {
    "duration": 6,
    "start_time": "2021-09-29T08:35:51.675Z"
   },
   {
    "duration": 301,
    "start_time": "2021-09-29T08:36:26.685Z"
   },
   {
    "duration": 246,
    "start_time": "2021-09-29T08:36:33.824Z"
   },
   {
    "duration": 291,
    "start_time": "2021-09-29T08:36:40.312Z"
   },
   {
    "duration": 7,
    "start_time": "2021-09-29T08:37:44.096Z"
   },
   {
    "duration": 6,
    "start_time": "2021-09-29T08:37:50.392Z"
   },
   {
    "duration": 410,
    "start_time": "2021-09-29T08:38:03.332Z"
   },
   {
    "duration": 410,
    "start_time": "2021-09-29T08:39:40.965Z"
   },
   {
    "duration": 422,
    "start_time": "2021-09-29T08:39:44.674Z"
   },
   {
    "duration": 406,
    "start_time": "2021-09-29T08:39:47.983Z"
   },
   {
    "duration": 401,
    "start_time": "2021-09-29T08:39:53.685Z"
   },
   {
    "duration": 401,
    "start_time": "2021-09-29T08:40:00.848Z"
   },
   {
    "duration": 703,
    "start_time": "2021-09-29T08:40:03.265Z"
   },
   {
    "duration": 475,
    "start_time": "2021-09-29T08:40:06.185Z"
   },
   {
    "duration": 390,
    "start_time": "2021-09-29T08:40:26.239Z"
   },
   {
    "duration": 387,
    "start_time": "2021-09-29T08:40:34.943Z"
   },
   {
    "duration": 287,
    "start_time": "2021-09-29T08:42:49.905Z"
   },
   {
    "duration": 7,
    "start_time": "2021-09-29T08:43:30.045Z"
   },
   {
    "duration": 1085,
    "start_time": "2021-09-29T10:48:40.142Z"
   },
   {
    "duration": 68,
    "start_time": "2021-09-29T10:48:41.229Z"
   },
   {
    "duration": 7,
    "start_time": "2021-09-29T10:48:41.300Z"
   },
   {
    "duration": 4,
    "start_time": "2021-09-29T10:48:41.309Z"
   },
   {
    "duration": 3,
    "start_time": "2021-09-29T10:48:41.360Z"
   },
   {
    "duration": 12,
    "start_time": "2021-09-29T10:48:41.630Z"
   },
   {
    "duration": 5,
    "start_time": "2021-09-29T10:48:41.900Z"
   },
   {
    "duration": 7,
    "start_time": "2021-09-29T10:48:42.040Z"
   },
   {
    "duration": 8,
    "start_time": "2021-09-29T10:48:42.341Z"
   },
   {
    "duration": 328,
    "start_time": "2021-09-29T10:48:42.604Z"
   },
   {
    "duration": 12,
    "start_time": "2021-09-29T10:48:42.934Z"
   },
   {
    "duration": 562,
    "start_time": "2021-09-29T10:48:43.028Z"
   },
   {
    "duration": 9,
    "start_time": "2021-09-29T10:48:43.591Z"
   },
   {
    "duration": 12,
    "start_time": "2021-09-29T10:48:43.813Z"
   },
   {
    "duration": 15,
    "start_time": "2021-09-29T10:48:44.409Z"
   },
   {
    "duration": 11,
    "start_time": "2021-09-29T10:48:44.484Z"
   },
   {
    "duration": 18,
    "start_time": "2021-09-29T10:48:44.584Z"
   },
   {
    "duration": 11,
    "start_time": "2021-09-29T10:48:44.645Z"
   },
   {
    "duration": 9,
    "start_time": "2021-09-29T10:48:45.250Z"
   },
   {
    "duration": 5,
    "start_time": "2021-09-29T10:48:45.800Z"
   },
   {
    "duration": 15,
    "start_time": "2021-09-29T10:48:46.061Z"
   },
   {
    "duration": 4,
    "start_time": "2021-09-29T10:48:46.319Z"
   },
   {
    "duration": 6,
    "start_time": "2021-09-29T10:48:47.309Z"
   },
   {
    "duration": 4,
    "start_time": "2021-09-29T10:48:47.529Z"
   },
   {
    "duration": 42,
    "start_time": "2021-09-29T10:48:47.613Z"
   },
   {
    "duration": 431,
    "start_time": "2021-09-29T10:48:47.870Z"
   },
   {
    "duration": 96,
    "start_time": "2021-09-29T10:48:48.303Z"
   },
   {
    "duration": 50,
    "start_time": "2021-09-29T10:48:48.453Z"
   },
   {
    "duration": 7,
    "start_time": "2021-09-29T10:48:48.708Z"
   },
   {
    "duration": 4,
    "start_time": "2021-09-29T10:48:49.294Z"
   },
   {
    "duration": 129,
    "start_time": "2021-09-29T10:48:49.374Z"
   },
   {
    "duration": 99,
    "start_time": "2021-09-29T10:48:49.505Z"
   },
   {
    "duration": 13,
    "start_time": "2021-09-29T10:48:50.059Z"
   },
   {
    "duration": 4,
    "start_time": "2021-09-29T10:48:50.136Z"
   },
   {
    "duration": 47,
    "start_time": "2021-09-29T10:48:50.293Z"
   },
   {
    "duration": 109,
    "start_time": "2021-09-29T10:48:50.438Z"
   },
   {
    "duration": 152,
    "start_time": "2021-09-29T10:48:50.552Z"
   },
   {
    "duration": 13,
    "start_time": "2021-09-29T10:48:51.528Z"
   },
   {
    "duration": 50,
    "start_time": "2021-09-29T10:48:51.648Z"
   },
   {
    "duration": 107,
    "start_time": "2021-09-29T10:48:52.528Z"
   },
   {
    "duration": 66,
    "start_time": "2021-09-29T10:48:52.960Z"
   },
   {
    "duration": 152,
    "start_time": "2021-09-29T10:48:53.348Z"
   },
   {
    "duration": 157,
    "start_time": "2021-09-29T10:49:02.943Z"
   },
   {
    "duration": 326,
    "start_time": "2021-09-29T10:49:18.568Z"
   },
   {
    "duration": 327,
    "start_time": "2021-09-29T10:49:36.728Z"
   },
   {
    "duration": 242,
    "start_time": "2021-09-29T10:49:44.701Z"
   },
   {
    "duration": 399,
    "start_time": "2021-09-29T10:49:47.968Z"
   },
   {
    "duration": 433,
    "start_time": "2021-09-29T10:51:39.549Z"
   },
   {
    "duration": 210,
    "start_time": "2021-09-29T10:52:00.440Z"
   },
   {
    "duration": 237,
    "start_time": "2021-09-29T10:52:08.211Z"
   },
   {
    "duration": 221,
    "start_time": "2021-09-29T10:52:27.749Z"
   },
   {
    "duration": 202,
    "start_time": "2021-09-29T10:53:38.479Z"
   },
   {
    "duration": 229,
    "start_time": "2021-09-29T10:53:43.873Z"
   },
   {
    "duration": 228,
    "start_time": "2021-09-29T10:53:48.650Z"
   },
   {
    "duration": 1435,
    "start_time": "2021-09-29T10:54:00.148Z"
   },
   {
    "duration": 114959,
    "start_time": "2021-09-29T10:52:06.627Z"
   },
   {
    "duration": 114957,
    "start_time": "2021-09-29T10:52:06.631Z"
   },
   {
    "duration": 114929,
    "start_time": "2021-09-29T10:52:06.660Z"
   },
   {
    "duration": 114924,
    "start_time": "2021-09-29T10:52:06.666Z"
   },
   {
    "duration": 114918,
    "start_time": "2021-09-29T10:52:06.672Z"
   },
   {
    "duration": 114915,
    "start_time": "2021-09-29T10:52:06.677Z"
   },
   {
    "duration": 114911,
    "start_time": "2021-09-29T10:52:06.681Z"
   },
   {
    "duration": 114909,
    "start_time": "2021-09-29T10:52:06.685Z"
   },
   {
    "duration": 114907,
    "start_time": "2021-09-29T10:52:06.688Z"
   },
   {
    "duration": 114903,
    "start_time": "2021-09-29T10:52:06.693Z"
   },
   {
    "duration": 114900,
    "start_time": "2021-09-29T10:52:06.697Z"
   },
   {
    "duration": 114897,
    "start_time": "2021-09-29T10:52:06.701Z"
   },
   {
    "duration": 114894,
    "start_time": "2021-09-29T10:52:06.705Z"
   },
   {
    "duration": 114889,
    "start_time": "2021-09-29T10:52:06.711Z"
   },
   {
    "duration": 114886,
    "start_time": "2021-09-29T10:52:06.715Z"
   },
   {
    "duration": 114884,
    "start_time": "2021-09-29T10:52:06.719Z"
   },
   {
    "duration": 114880,
    "start_time": "2021-09-29T10:52:06.724Z"
   },
   {
    "duration": 114877,
    "start_time": "2021-09-29T10:52:06.728Z"
   },
   {
    "duration": 114875,
    "start_time": "2021-09-29T10:52:06.731Z"
   },
   {
    "duration": 114872,
    "start_time": "2021-09-29T10:52:06.735Z"
   },
   {
    "duration": 114869,
    "start_time": "2021-09-29T10:52:06.739Z"
   },
   {
    "duration": 114865,
    "start_time": "2021-09-29T10:52:06.744Z"
   },
   {
    "duration": 114862,
    "start_time": "2021-09-29T10:52:06.748Z"
   },
   {
    "duration": 114858,
    "start_time": "2021-09-29T10:52:06.753Z"
   },
   {
    "duration": 114854,
    "start_time": "2021-09-29T10:52:06.758Z"
   },
   {
    "duration": 114851,
    "start_time": "2021-09-29T10:52:06.762Z"
   },
   {
    "duration": 114849,
    "start_time": "2021-09-29T10:52:06.765Z"
   },
   {
    "duration": 114846,
    "start_time": "2021-09-29T10:52:06.769Z"
   },
   {
    "duration": 114844,
    "start_time": "2021-09-29T10:52:06.772Z"
   },
   {
    "duration": 114840,
    "start_time": "2021-09-29T10:52:06.777Z"
   },
   {
    "duration": 114838,
    "start_time": "2021-09-29T10:52:06.781Z"
   },
   {
    "duration": 114835,
    "start_time": "2021-09-29T10:52:06.785Z"
   },
   {
    "duration": 114832,
    "start_time": "2021-09-29T10:52:06.788Z"
   },
   {
    "duration": 114829,
    "start_time": "2021-09-29T10:52:06.793Z"
   },
   {
    "duration": 114827,
    "start_time": "2021-09-29T10:52:06.796Z"
   },
   {
    "duration": 114824,
    "start_time": "2021-09-29T10:52:06.800Z"
   },
   {
    "duration": 114721,
    "start_time": "2021-09-29T10:52:06.904Z"
   },
   {
    "duration": 114716,
    "start_time": "2021-09-29T10:52:06.910Z"
   },
   {
    "duration": 114713,
    "start_time": "2021-09-29T10:52:06.914Z"
   },
   {
    "duration": 114710,
    "start_time": "2021-09-29T10:52:06.917Z"
   },
   {
    "duration": 114707,
    "start_time": "2021-09-29T10:52:06.921Z"
   },
   {
    "duration": 114705,
    "start_time": "2021-09-29T10:52:06.924Z"
   },
   {
    "duration": 114703,
    "start_time": "2021-09-29T10:52:06.927Z"
   },
   {
    "duration": 114701,
    "start_time": "2021-09-29T10:52:06.930Z"
   },
   {
    "duration": 114698,
    "start_time": "2021-09-29T10:52:06.934Z"
   },
   {
    "duration": 114696,
    "start_time": "2021-09-29T10:52:06.937Z"
   },
   {
    "duration": 114693,
    "start_time": "2021-09-29T10:52:06.940Z"
   },
   {
    "duration": 114691,
    "start_time": "2021-09-29T10:52:06.943Z"
   },
   {
    "duration": 114689,
    "start_time": "2021-09-29T10:52:06.946Z"
   },
   {
    "duration": 7,
    "start_time": "2021-09-29T10:55:12.861Z"
   },
   {
    "duration": 43,
    "start_time": "2021-09-29T10:55:13.800Z"
   },
   {
    "duration": 9,
    "start_time": "2021-09-29T10:55:15.180Z"
   },
   {
    "duration": 4,
    "start_time": "2021-09-29T10:55:16.158Z"
   },
   {
    "duration": 4,
    "start_time": "2021-09-29T10:55:16.274Z"
   },
   {
    "duration": 16,
    "start_time": "2021-09-29T10:55:16.522Z"
   },
   {
    "duration": 7,
    "start_time": "2021-09-29T10:55:17.160Z"
   },
   {
    "duration": 9,
    "start_time": "2021-09-29T10:55:17.232Z"
   },
   {
    "duration": 14,
    "start_time": "2021-09-29T10:55:17.395Z"
   },
   {
    "duration": 331,
    "start_time": "2021-09-29T10:55:17.558Z"
   },
   {
    "duration": 19,
    "start_time": "2021-09-29T10:55:17.891Z"
   },
   {
    "duration": 601,
    "start_time": "2021-09-29T10:55:17.912Z"
   },
   {
    "duration": 4,
    "start_time": "2021-09-29T10:55:18.515Z"
   },
   {
    "duration": 21,
    "start_time": "2021-09-29T10:55:18.520Z"
   },
   {
    "duration": 15,
    "start_time": "2021-09-29T10:55:18.543Z"
   },
   {
    "duration": 12,
    "start_time": "2021-09-29T10:55:18.560Z"
   },
   {
    "duration": 41,
    "start_time": "2021-09-29T10:55:18.575Z"
   },
   {
    "duration": 13,
    "start_time": "2021-09-29T10:55:18.653Z"
   },
   {
    "duration": 13,
    "start_time": "2021-09-29T10:55:18.833Z"
   },
   {
    "duration": 5,
    "start_time": "2021-09-29T10:55:19.148Z"
   },
   {
    "duration": 15,
    "start_time": "2021-09-29T10:55:19.323Z"
   },
   {
    "duration": 4,
    "start_time": "2021-09-29T10:55:19.491Z"
   },
   {
    "duration": 10,
    "start_time": "2021-09-29T10:55:20.000Z"
   },
   {
    "duration": 5,
    "start_time": "2021-09-29T10:55:20.246Z"
   },
   {
    "duration": 43,
    "start_time": "2021-09-29T10:55:20.331Z"
   },
   {
    "duration": 421,
    "start_time": "2021-09-29T10:55:20.574Z"
   },
   {
    "duration": 82,
    "start_time": "2021-09-29T10:55:21.000Z"
   },
   {
    "duration": 128,
    "start_time": "2021-09-29T10:55:21.173Z"
   },
   {
    "duration": 7,
    "start_time": "2021-09-29T10:55:21.413Z"
   },
   {
    "duration": 3,
    "start_time": "2021-09-29T10:55:22.026Z"
   },
   {
    "duration": 128,
    "start_time": "2021-09-29T10:55:22.083Z"
   },
   {
    "duration": 9,
    "start_time": "2021-09-29T10:55:22.879Z"
   },
   {
    "duration": 13,
    "start_time": "2021-09-29T10:55:24.321Z"
   },
   {
    "duration": 5,
    "start_time": "2021-09-29T10:55:24.690Z"
   },
   {
    "duration": 51,
    "start_time": "2021-09-29T10:55:24.924Z"
   },
   {
    "duration": 116,
    "start_time": "2021-09-29T10:55:25.168Z"
   },
   {
    "duration": 43,
    "start_time": "2021-09-29T10:55:25.766Z"
   },
   {
    "duration": 12,
    "start_time": "2021-09-29T10:55:29.056Z"
   },
   {
    "duration": 49,
    "start_time": "2021-09-29T10:55:29.244Z"
   },
   {
    "duration": 105,
    "start_time": "2021-09-29T10:55:29.643Z"
   },
   {
    "duration": 106,
    "start_time": "2021-09-29T10:55:30.098Z"
   },
   {
    "duration": 8,
    "start_time": "2021-09-29T10:55:35.390Z"
   },
   {
    "duration": 425,
    "start_time": "2021-09-29T10:55:37.252Z"
   },
   {
    "duration": 4,
    "start_time": "2021-09-29T10:55:40.383Z"
   },
   {
    "duration": 7,
    "start_time": "2021-09-29T10:55:42.000Z"
   },
   {
    "duration": 355,
    "start_time": "2021-09-29T10:55:42.520Z"
   },
   {
    "duration": 6,
    "start_time": "2021-09-29T10:55:46.390Z"
   },
   {
    "duration": 607,
    "start_time": "2021-09-29T11:00:09.176Z"
   },
   {
    "duration": 259,
    "start_time": "2021-09-29T11:00:32.317Z"
   },
   {
    "duration": 269,
    "start_time": "2021-09-29T11:00:39.993Z"
   },
   {
    "duration": 288,
    "start_time": "2021-09-29T11:01:17.828Z"
   },
   {
    "duration": 608,
    "start_time": "2021-09-29T11:01:25.572Z"
   },
   {
    "duration": 569,
    "start_time": "2021-09-29T11:01:47.844Z"
   },
   {
    "duration": 281,
    "start_time": "2021-09-29T11:02:26.263Z"
   },
   {
    "duration": 268,
    "start_time": "2021-09-29T11:02:40.001Z"
   },
   {
    "duration": 269,
    "start_time": "2021-09-29T11:02:59.600Z"
   },
   {
    "duration": 260,
    "start_time": "2021-09-29T11:03:07.133Z"
   },
   {
    "duration": 261,
    "start_time": "2021-09-29T11:03:12.014Z"
   },
   {
    "duration": 608,
    "start_time": "2021-09-29T11:03:47.011Z"
   },
   {
    "duration": 266,
    "start_time": "2021-09-29T11:03:59.208Z"
   },
   {
    "duration": 281,
    "start_time": "2021-09-29T11:04:03.979Z"
   },
   {
    "duration": 679,
    "start_time": "2021-09-29T11:05:09.122Z"
   },
   {
    "duration": 385,
    "start_time": "2021-09-29T11:05:20.372Z"
   },
   {
    "duration": 322,
    "start_time": "2021-09-29T11:05:28.859Z"
   },
   {
    "duration": 7,
    "start_time": "2021-09-29T11:05:42.909Z"
   },
   {
    "duration": 313,
    "start_time": "2021-09-29T11:05:44.970Z"
   },
   {
    "duration": 342,
    "start_time": "2021-09-29T15:28:19.261Z"
   },
   {
    "duration": 2,
    "start_time": "2021-09-29T15:28:24.548Z"
   },
   {
    "duration": 6,
    "start_time": "2021-09-29T15:28:31.818Z"
   },
   {
    "duration": 299,
    "start_time": "2021-09-29T15:28:38.528Z"
   },
   {
    "duration": 1171,
    "start_time": "2021-09-29T15:28:46.386Z"
   },
   {
    "duration": 52,
    "start_time": "2021-09-29T15:28:47.559Z"
   },
   {
    "duration": 8,
    "start_time": "2021-09-29T15:28:47.613Z"
   },
   {
    "duration": 5,
    "start_time": "2021-09-29T15:28:47.623Z"
   },
   {
    "duration": 5,
    "start_time": "2021-09-29T15:28:47.629Z"
   },
   {
    "duration": 18,
    "start_time": "2021-09-29T15:28:47.636Z"
   },
   {
    "duration": 4,
    "start_time": "2021-09-29T15:28:47.656Z"
   },
   {
    "duration": 8,
    "start_time": "2021-09-29T15:28:47.663Z"
   },
   {
    "duration": 8,
    "start_time": "2021-09-29T15:28:47.673Z"
   },
   {
    "duration": 571,
    "start_time": "2021-09-29T15:28:47.682Z"
   },
   {
    "duration": 14,
    "start_time": "2021-09-29T15:28:48.255Z"
   },
   {
    "duration": 582,
    "start_time": "2021-09-29T15:28:48.271Z"
   },
   {
    "duration": 5,
    "start_time": "2021-09-29T15:28:48.855Z"
   },
   {
    "duration": 15,
    "start_time": "2021-09-29T15:28:48.862Z"
   },
   {
    "duration": 21,
    "start_time": "2021-09-29T15:28:48.878Z"
   },
   {
    "duration": 12,
    "start_time": "2021-09-29T15:28:48.900Z"
   },
   {
    "duration": 40,
    "start_time": "2021-09-29T15:28:48.913Z"
   },
   {
    "duration": 10,
    "start_time": "2021-09-29T15:28:48.955Z"
   },
   {
    "duration": 11,
    "start_time": "2021-09-29T15:28:48.967Z"
   },
   {
    "duration": 5,
    "start_time": "2021-09-29T15:28:48.979Z"
   },
   {
    "duration": 17,
    "start_time": "2021-09-29T15:28:48.986Z"
   },
   {
    "duration": 4,
    "start_time": "2021-09-29T15:28:49.005Z"
   },
   {
    "duration": 39,
    "start_time": "2021-09-29T15:28:49.012Z"
   },
   {
    "duration": 5,
    "start_time": "2021-09-29T15:28:49.053Z"
   },
   {
    "duration": 46,
    "start_time": "2021-09-29T15:28:49.060Z"
   },
   {
    "duration": 557,
    "start_time": "2021-09-29T15:28:49.108Z"
   },
   {
    "duration": 149,
    "start_time": "2021-09-29T15:28:49.667Z"
   },
   {
    "duration": 56,
    "start_time": "2021-09-29T15:28:49.819Z"
   },
   {
    "duration": 99,
    "start_time": "2021-09-29T15:28:49.946Z"
   },
   {
    "duration": 4,
    "start_time": "2021-09-29T15:28:50.047Z"
   },
   {
    "duration": 194,
    "start_time": "2021-09-29T15:28:50.053Z"
   },
   {
    "duration": 98,
    "start_time": "2021-09-29T15:28:50.249Z"
   },
   {
    "duration": 14,
    "start_time": "2021-09-29T15:28:50.349Z"
   },
   {
    "duration": 4,
    "start_time": "2021-09-29T15:28:50.364Z"
   },
   {
    "duration": 49,
    "start_time": "2021-09-29T15:28:50.370Z"
   },
   {
    "duration": 115,
    "start_time": "2021-09-29T15:28:50.444Z"
   },
   {
    "duration": 88,
    "start_time": "2021-09-29T15:28:50.560Z"
   },
   {
    "duration": 104,
    "start_time": "2021-09-29T15:28:50.650Z"
   },
   {
    "duration": 66,
    "start_time": "2021-09-29T15:28:50.756Z"
   },
   {
    "duration": 116,
    "start_time": "2021-09-29T15:28:50.824Z"
   },
   {
    "duration": 201,
    "start_time": "2021-09-29T15:28:50.944Z"
   },
   {
    "duration": 8,
    "start_time": "2021-09-29T15:28:51.147Z"
   },
   {
    "duration": 458,
    "start_time": "2021-09-29T15:28:51.157Z"
   },
   {
    "duration": 5,
    "start_time": "2021-09-29T15:28:51.616Z"
   },
   {
    "duration": 357,
    "start_time": "2021-09-29T15:28:51.622Z"
   },
   {
    "duration": 2,
    "start_time": "2021-09-29T15:28:51.981Z"
   },
   {
    "duration": 418,
    "start_time": "2021-09-29T15:28:51.985Z"
   },
   {
    "duration": 5,
    "start_time": "2021-09-29T15:31:18.515Z"
   },
   {
    "duration": 261,
    "start_time": "2021-09-29T15:31:19.659Z"
   },
   {
    "duration": 5,
    "start_time": "2021-09-29T15:31:27.086Z"
   },
   {
    "duration": 266,
    "start_time": "2021-09-29T15:31:28.733Z"
   },
   {
    "duration": 4,
    "start_time": "2021-09-29T15:31:42.227Z"
   },
   {
    "duration": 268,
    "start_time": "2021-09-29T15:31:44.279Z"
   },
   {
    "duration": 5,
    "start_time": "2021-09-29T15:32:32.510Z"
   },
   {
    "duration": 6,
    "start_time": "2021-09-29T15:35:03.853Z"
   },
   {
    "duration": 856,
    "start_time": "2021-09-29T15:35:08.124Z"
   },
   {
    "duration": 6,
    "start_time": "2021-09-29T15:35:19.752Z"
   },
   {
    "duration": 289,
    "start_time": "2021-09-29T15:35:20.360Z"
   },
   {
    "duration": 5,
    "start_time": "2021-09-29T15:36:08.755Z"
   },
   {
    "duration": 272,
    "start_time": "2021-09-29T15:36:09.954Z"
   },
   {
    "duration": 5,
    "start_time": "2021-09-29T15:36:55.216Z"
   },
   {
    "duration": 269,
    "start_time": "2021-09-29T15:41:28.152Z"
   },
   {
    "duration": 8,
    "start_time": "2021-09-29T15:44:20.862Z"
   },
   {
    "duration": 4,
    "start_time": "2021-09-29T15:44:43.596Z"
   },
   {
    "duration": 1332,
    "start_time": "2021-09-29T15:45:03.738Z"
   },
   {
    "duration": 45,
    "start_time": "2021-09-29T15:45:05.072Z"
   },
   {
    "duration": 8,
    "start_time": "2021-09-29T15:45:05.119Z"
   },
   {
    "duration": 21,
    "start_time": "2021-09-29T15:45:05.129Z"
   },
   {
    "duration": 13,
    "start_time": "2021-09-29T15:45:05.152Z"
   },
   {
    "duration": 24,
    "start_time": "2021-09-29T15:45:05.167Z"
   },
   {
    "duration": 8,
    "start_time": "2021-09-29T15:45:05.193Z"
   },
   {
    "duration": 27,
    "start_time": "2021-09-29T15:45:05.204Z"
   },
   {
    "duration": 19,
    "start_time": "2021-09-29T15:45:05.233Z"
   },
   {
    "duration": 607,
    "start_time": "2021-09-29T15:45:05.253Z"
   },
   {
    "duration": 13,
    "start_time": "2021-09-29T15:45:05.862Z"
   },
   {
    "duration": 607,
    "start_time": "2021-09-29T15:45:05.877Z"
   },
   {
    "duration": 5,
    "start_time": "2021-09-29T15:45:06.486Z"
   },
   {
    "duration": 14,
    "start_time": "2021-09-29T15:45:06.493Z"
   },
   {
    "duration": 17,
    "start_time": "2021-09-29T15:45:06.509Z"
   },
   {
    "duration": 12,
    "start_time": "2021-09-29T15:45:06.544Z"
   },
   {
    "duration": 20,
    "start_time": "2021-09-29T15:45:06.558Z"
   },
   {
    "duration": 11,
    "start_time": "2021-09-29T15:45:06.580Z"
   },
   {
    "duration": 11,
    "start_time": "2021-09-29T15:45:06.593Z"
   },
   {
    "duration": 5,
    "start_time": "2021-09-29T15:45:06.605Z"
   },
   {
    "duration": 45,
    "start_time": "2021-09-29T15:45:06.612Z"
   },
   {
    "duration": 5,
    "start_time": "2021-09-29T15:45:06.659Z"
   },
   {
    "duration": 9,
    "start_time": "2021-09-29T15:45:06.668Z"
   },
   {
    "duration": 6,
    "start_time": "2021-09-29T15:45:06.679Z"
   },
   {
    "duration": 71,
    "start_time": "2021-09-29T15:45:06.687Z"
   },
   {
    "duration": 441,
    "start_time": "2021-09-29T15:45:06.759Z"
   },
   {
    "duration": 96,
    "start_time": "2021-09-29T15:45:07.202Z"
   },
   {
    "duration": 158,
    "start_time": "2021-09-29T15:45:07.299Z"
   },
   {
    "duration": 7,
    "start_time": "2021-09-29T15:45:07.458Z"
   },
   {
    "duration": 3,
    "start_time": "2021-09-29T15:45:07.545Z"
   },
   {
    "duration": 207,
    "start_time": "2021-09-29T15:45:07.550Z"
   },
   {
    "duration": 8,
    "start_time": "2021-09-29T15:45:07.845Z"
   },
   {
    "duration": 14,
    "start_time": "2021-09-29T15:45:07.854Z"
   },
   {
    "duration": 4,
    "start_time": "2021-09-29T15:45:07.870Z"
   },
   {
    "duration": 78,
    "start_time": "2021-09-29T15:45:07.876Z"
   },
   {
    "duration": 124,
    "start_time": "2021-09-29T15:45:07.955Z"
   },
   {
    "duration": 167,
    "start_time": "2021-09-29T15:45:08.081Z"
   },
   {
    "duration": 12,
    "start_time": "2021-09-29T15:45:08.250Z"
   },
   {
    "duration": 81,
    "start_time": "2021-09-29T15:45:08.264Z"
   },
   {
    "duration": 124,
    "start_time": "2021-09-29T15:45:08.347Z"
   },
   {
    "duration": 171,
    "start_time": "2021-09-29T15:45:08.473Z"
   },
   {
    "duration": 10,
    "start_time": "2021-09-29T15:45:08.646Z"
   },
   {
    "duration": 622,
    "start_time": "2021-09-29T15:45:08.658Z"
   },
   {
    "duration": 5,
    "start_time": "2021-09-29T15:45:09.282Z"
   },
   {
    "duration": 389,
    "start_time": "2021-09-29T15:45:09.289Z"
   },
   {
    "duration": 8,
    "start_time": "2021-09-29T15:45:09.680Z"
   },
   {
    "duration": 4,
    "start_time": "2021-09-29T15:46:19.738Z"
   },
   {
    "duration": 6,
    "start_time": "2021-09-29T15:46:27.024Z"
   },
   {
    "duration": 4,
    "start_time": "2021-09-29T15:46:29.678Z"
   },
   {
    "duration": 400,
    "start_time": "2021-09-29T15:46:43.613Z"
   },
   {
    "duration": 4,
    "start_time": "2021-09-29T15:46:46.075Z"
   },
   {
    "duration": 7,
    "start_time": "2021-09-29T15:47:23.280Z"
   },
   {
    "duration": 4,
    "start_time": "2021-09-29T15:47:30.771Z"
   },
   {
    "duration": 320,
    "start_time": "2021-09-29T15:47:45.345Z"
   },
   {
    "duration": 390,
    "start_time": "2021-09-29T15:47:48.727Z"
   },
   {
    "duration": 7,
    "start_time": "2021-09-29T15:47:59.172Z"
   },
   {
    "duration": 287,
    "start_time": "2021-09-29T15:49:07.610Z"
   },
   {
    "duration": 607,
    "start_time": "2021-09-29T15:49:15.476Z"
   },
   {
    "duration": 619,
    "start_time": "2021-09-29T15:50:21.974Z"
   },
   {
    "duration": 6,
    "start_time": "2021-09-29T15:50:31.660Z"
   },
   {
    "duration": 14,
    "start_time": "2021-09-29T15:50:58.910Z"
   },
   {
    "duration": 7,
    "start_time": "2021-09-29T15:51:00.060Z"
   },
   {
    "duration": 4,
    "start_time": "2021-09-29T15:51:02.566Z"
   },
   {
    "duration": 4,
    "start_time": "2021-09-29T15:51:03.061Z"
   },
   {
    "duration": 4,
    "start_time": "2021-09-29T15:51:24.986Z"
   },
   {
    "duration": 12,
    "start_time": "2021-09-29T15:51:41.873Z"
   },
   {
    "duration": 25,
    "start_time": "2021-09-29T15:51:42.470Z"
   },
   {
    "duration": 50,
    "start_time": "2021-09-29T15:51:43.803Z"
   },
   {
    "duration": 37,
    "start_time": "2021-09-29T15:51:45.513Z"
   },
   {
    "duration": 8,
    "start_time": "2021-09-29T15:51:47.268Z"
   },
   {
    "duration": 14204,
    "start_time": "2021-09-29T16:10:31.618Z"
   },
   {
    "duration": 1432,
    "start_time": "2021-09-30T07:24:55.160Z"
   },
   {
    "duration": 42,
    "start_time": "2021-09-30T07:24:56.594Z"
   },
   {
    "duration": 8,
    "start_time": "2021-09-30T07:24:56.656Z"
   },
   {
    "duration": 4,
    "start_time": "2021-09-30T07:24:58.740Z"
   },
   {
    "duration": 3,
    "start_time": "2021-09-30T07:24:59.407Z"
   },
   {
    "duration": 13,
    "start_time": "2021-09-30T07:25:00.806Z"
   },
   {
    "duration": 451,
    "start_time": "2021-09-30T07:26:50.120Z"
   },
   {
    "duration": 536,
    "start_time": "2021-09-30T07:26:57.411Z"
   },
   {
    "duration": 6,
    "start_time": "2021-09-30T07:27:02.263Z"
   },
   {
    "duration": 37,
    "start_time": "2021-09-30T07:27:02.396Z"
   },
   {
    "duration": 9,
    "start_time": "2021-09-30T07:27:02.658Z"
   },
   {
    "duration": 4,
    "start_time": "2021-09-30T07:27:03.411Z"
   },
   {
    "duration": 3,
    "start_time": "2021-09-30T07:27:03.507Z"
   },
   {
    "duration": 12,
    "start_time": "2021-09-30T07:27:03.814Z"
   },
   {
    "duration": 5,
    "start_time": "2021-09-30T07:27:04.579Z"
   },
   {
    "duration": 7,
    "start_time": "2021-09-30T07:27:04.909Z"
   },
   {
    "duration": 8,
    "start_time": "2021-09-30T07:27:05.584Z"
   },
   {
    "duration": 599,
    "start_time": "2021-09-30T07:27:06.917Z"
   },
   {
    "duration": 570,
    "start_time": "2021-09-30T07:27:09.076Z"
   },
   {
    "duration": 6,
    "start_time": "2021-09-30T07:27:10.712Z"
   },
   {
    "duration": 15,
    "start_time": "2021-09-30T07:27:49.111Z"
   },
   {
    "duration": 12,
    "start_time": "2021-09-30T07:27:52.972Z"
   },
   {
    "duration": 11,
    "start_time": "2021-09-30T07:28:00.113Z"
   },
   {
    "duration": 18,
    "start_time": "2021-09-30T07:28:49.392Z"
   },
   {
    "duration": 12,
    "start_time": "2021-09-30T07:28:49.742Z"
   },
   {
    "duration": 7,
    "start_time": "2021-09-30T07:38:49.738Z"
   },
   {
    "duration": 5,
    "start_time": "2021-09-30T07:41:31.736Z"
   },
   {
    "duration": 355,
    "start_time": "2021-09-30T07:41:56.273Z"
   },
   {
    "duration": 5,
    "start_time": "2021-09-30T07:42:07.211Z"
   },
   {
    "duration": 42,
    "start_time": "2021-09-30T07:42:07.339Z"
   },
   {
    "duration": 8,
    "start_time": "2021-09-30T07:42:07.598Z"
   },
   {
    "duration": 4,
    "start_time": "2021-09-30T07:42:08.255Z"
   },
   {
    "duration": 4,
    "start_time": "2021-09-30T07:42:08.386Z"
   },
   {
    "duration": 13,
    "start_time": "2021-09-30T07:42:08.786Z"
   },
   {
    "duration": 5,
    "start_time": "2021-09-30T07:42:09.066Z"
   },
   {
    "duration": 7,
    "start_time": "2021-09-30T07:42:09.202Z"
   },
   {
    "duration": 10,
    "start_time": "2021-09-30T07:42:09.479Z"
   },
   {
    "duration": 49,
    "start_time": "2021-09-30T07:42:09.760Z"
   },
   {
    "duration": 681,
    "start_time": "2021-09-30T07:42:10.041Z"
   },
   {
    "duration": 5,
    "start_time": "2021-09-30T07:42:10.724Z"
   },
   {
    "duration": 13,
    "start_time": "2021-09-30T07:42:10.733Z"
   },
   {
    "duration": 15,
    "start_time": "2021-09-30T07:42:11.023Z"
   },
   {
    "duration": 10,
    "start_time": "2021-09-30T07:42:11.154Z"
   },
   {
    "duration": 21,
    "start_time": "2021-09-30T07:42:11.296Z"
   },
   {
    "duration": 12,
    "start_time": "2021-09-30T07:42:11.442Z"
   },
   {
    "duration": 10,
    "start_time": "2021-09-30T07:42:11.728Z"
   },
   {
    "duration": 6,
    "start_time": "2021-09-30T07:42:12.740Z"
   },
   {
    "duration": 15,
    "start_time": "2021-09-30T07:42:13.234Z"
   },
   {
    "duration": 4,
    "start_time": "2021-09-30T07:42:13.726Z"
   },
   {
    "duration": 7,
    "start_time": "2021-09-30T07:42:15.670Z"
   },
   {
    "duration": 6,
    "start_time": "2021-09-30T07:42:17.343Z"
   },
   {
    "duration": 44,
    "start_time": "2021-09-30T07:42:18.329Z"
   },
   {
    "duration": 54,
    "start_time": "2021-09-30T07:42:22.330Z"
   },
   {
    "duration": 41,
    "start_time": "2021-09-30T07:42:35.814Z"
   },
   {
    "duration": 42,
    "start_time": "2021-09-30T07:43:19.109Z"
   },
   {
    "duration": 106,
    "start_time": "2021-09-30T07:44:33.363Z"
   },
   {
    "duration": 570,
    "start_time": "2021-09-30T07:44:38.322Z"
   },
   {
    "duration": 152,
    "start_time": "2021-09-30T07:45:12.446Z"
   },
   {
    "duration": 219,
    "start_time": "2021-09-30T07:45:24.360Z"
   },
   {
    "duration": 127,
    "start_time": "2021-09-30T07:45:29.469Z"
   },
   {
    "duration": 7,
    "start_time": "2021-09-30T07:46:15.469Z"
   },
   {
    "duration": 4,
    "start_time": "2021-09-30T07:56:36.909Z"
   },
   {
    "duration": 220,
    "start_time": "2021-09-30T07:56:37.366Z"
   },
   {
    "duration": 8,
    "start_time": "2021-09-30T07:56:38.410Z"
   },
   {
    "duration": 160,
    "start_time": "2021-09-30T07:56:48.422Z"
   },
   {
    "duration": 4,
    "start_time": "2021-09-30T07:56:56.961Z"
   },
   {
    "duration": 267,
    "start_time": "2021-09-30T07:56:57.310Z"
   },
   {
    "duration": 10,
    "start_time": "2021-09-30T07:59:29.675Z"
   },
   {
    "duration": 556,
    "start_time": "2021-09-30T08:01:47.687Z"
   },
   {
    "duration": 116201,
    "start_time": "2021-09-30T07:59:52.044Z"
   },
   {
    "duration": 763,
    "start_time": "2021-09-30T08:01:50.457Z"
   },
   {
    "duration": 13,
    "start_time": "2021-09-30T08:01:52.149Z"
   },
   {
    "duration": 4,
    "start_time": "2021-09-30T08:01:53.330Z"
   },
   {
    "duration": 3,
    "start_time": "2021-09-30T08:02:15.605Z"
   },
   {
    "duration": 48,
    "start_time": "2021-09-30T08:05:31.608Z"
   },
   {
    "duration": 244,
    "start_time": "2021-09-30T08:07:49.146Z"
   },
   {
    "duration": 5,
    "start_time": "2021-09-30T08:08:24.858Z"
   },
   {
    "duration": 332,
    "start_time": "2021-09-30T08:08:28.767Z"
   },
   {
    "duration": 9,
    "start_time": "2021-09-30T08:08:37.690Z"
   },
   {
    "duration": 382,
    "start_time": "2021-09-30T08:12:35.771Z"
   },
   {
    "duration": 13,
    "start_time": "2021-09-30T08:13:08.495Z"
   },
   {
    "duration": 33,
    "start_time": "2021-09-30T08:13:09.064Z"
   },
   {
    "duration": 5,
    "start_time": "2021-09-30T08:13:55.701Z"
   },
   {
    "duration": 107,
    "start_time": "2021-09-30T08:15:12.994Z"
   },
   {
    "duration": 8,
    "start_time": "2021-09-30T08:15:41.191Z"
   },
   {
    "duration": 99,
    "start_time": "2021-09-30T08:16:29.283Z"
   },
   {
    "duration": 428,
    "start_time": "2021-09-30T08:21:07.519Z"
   },
   {
    "duration": 12,
    "start_time": "2021-09-30T08:21:12.856Z"
   },
   {
    "duration": 10224,
    "start_time": "2021-09-30T08:21:27.132Z"
   },
   {
    "duration": 259,
    "start_time": "2021-09-30T08:21:59.330Z"
   },
   {
    "duration": 234,
    "start_time": "2021-09-30T08:22:09.334Z"
   },
   {
    "duration": 302,
    "start_time": "2021-09-30T08:22:12.859Z"
   },
   {
    "duration": 281,
    "start_time": "2021-09-30T08:22:19.483Z"
   },
   {
    "duration": 273,
    "start_time": "2021-09-30T08:22:26.720Z"
   },
   {
    "duration": 264,
    "start_time": "2021-09-30T08:22:36.451Z"
   },
   {
    "duration": 275,
    "start_time": "2021-09-30T08:22:39.513Z"
   },
   {
    "duration": 279,
    "start_time": "2021-09-30T08:24:11.844Z"
   },
   {
    "duration": 301,
    "start_time": "2021-09-30T08:24:18.523Z"
   },
   {
    "duration": 395,
    "start_time": "2021-09-30T08:24:21.149Z"
   },
   {
    "duration": 290,
    "start_time": "2021-09-30T08:24:25.729Z"
   },
   {
    "duration": 334,
    "start_time": "2021-09-30T08:24:36.996Z"
   },
   {
    "duration": 274,
    "start_time": "2021-09-30T08:24:42.816Z"
   },
   {
    "duration": 293,
    "start_time": "2021-09-30T08:25:04.204Z"
   },
   {
    "duration": 264,
    "start_time": "2021-09-30T08:25:09.565Z"
   },
   {
    "duration": 251,
    "start_time": "2021-09-30T08:25:13.790Z"
   },
   {
    "duration": 231,
    "start_time": "2021-09-30T08:26:01.840Z"
   },
   {
    "duration": 466,
    "start_time": "2021-09-30T08:32:00.655Z"
   },
   {
    "duration": 5,
    "start_time": "2021-09-30T08:33:15.106Z"
   },
   {
    "duration": 6,
    "start_time": "2021-09-30T08:33:24.224Z"
   },
   {
    "duration": 296,
    "start_time": "2021-09-30T08:33:24.625Z"
   },
   {
    "duration": 9,
    "start_time": "2021-09-30T08:35:12.055Z"
   },
   {
    "duration": 324,
    "start_time": "2021-09-30T08:35:13.084Z"
   },
   {
    "duration": 6,
    "start_time": "2021-09-30T08:35:39.622Z"
   },
   {
    "duration": 324,
    "start_time": "2021-09-30T08:35:43.487Z"
   },
   {
    "duration": 571,
    "start_time": "2021-09-30T08:36:37.081Z"
   },
   {
    "duration": 13,
    "start_time": "2021-09-30T08:36:40.508Z"
   },
   {
    "duration": 355,
    "start_time": "2021-09-30T08:45:31.300Z"
   },
   {
    "duration": 430,
    "start_time": "2021-09-30T08:45:35.568Z"
   },
   {
    "duration": 388,
    "start_time": "2021-09-30T08:45:51.633Z"
   },
   {
    "duration": 24,
    "start_time": "2021-09-30T08:46:10.156Z"
   },
   {
    "duration": 24,
    "start_time": "2021-09-30T08:46:51.123Z"
   },
   {
    "duration": 306,
    "start_time": "2021-09-30T08:47:32.696Z"
   },
   {
    "duration": 452,
    "start_time": "2021-09-30T08:47:51.442Z"
   },
   {
    "duration": 31,
    "start_time": "2021-09-30T08:48:12.916Z"
   },
   {
    "duration": 525,
    "start_time": "2021-09-30T08:48:13.568Z"
   },
   {
    "duration": 24,
    "start_time": "2021-09-30T08:48:28.808Z"
   },
   {
    "duration": 485,
    "start_time": "2021-09-30T08:48:29.865Z"
   },
   {
    "duration": 15,
    "start_time": "2021-09-30T08:50:05.175Z"
   },
   {
    "duration": 586,
    "start_time": "2021-09-30T08:52:30.001Z"
   },
   {
    "duration": 488,
    "start_time": "2021-09-30T08:52:36.686Z"
   },
   {
    "duration": 5,
    "start_time": "2021-09-30T08:52:38.843Z"
   },
   {
    "duration": 488,
    "start_time": "2021-09-30T08:52:49.401Z"
   },
   {
    "duration": 8,
    "start_time": "2021-09-30T08:52:50.101Z"
   },
   {
    "duration": 16004,
    "start_time": "2021-09-30T08:53:42.427Z"
   },
   {
    "duration": 362,
    "start_time": "2021-09-30T08:54:08.796Z"
   },
   {
    "duration": 16511,
    "start_time": "2021-09-30T08:54:14.106Z"
   },
   {
    "duration": 472,
    "start_time": "2021-09-30T08:54:56.258Z"
   },
   {
    "duration": 306,
    "start_time": "2021-09-30T08:55:11.943Z"
   },
   {
    "duration": 309641,
    "start_time": "2021-09-30T08:56:23.819Z"
   },
   {
    "duration": 345,
    "start_time": "2021-09-30T09:29:55.804Z"
   },
   {
    "duration": 14,
    "start_time": "2021-09-30T09:30:01.044Z"
   },
   {
    "duration": 86283,
    "start_time": "2021-09-30T09:30:09.170Z"
   },
   {
    "duration": 8,
    "start_time": "2021-09-30T09:31:35.455Z"
   },
   {
    "duration": 326,
    "start_time": "2021-09-30T09:31:40.366Z"
   },
   {
    "duration": 20,
    "start_time": "2021-09-30T09:31:46.278Z"
   },
   {
    "duration": 123,
    "start_time": "2021-09-30T09:36:17.052Z"
   },
   {
    "duration": 9,
    "start_time": "2021-09-30T09:45:21.851Z"
   },
   {
    "duration": 5,
    "start_time": "2021-09-30T09:48:21.948Z"
   },
   {
    "duration": 28,
    "start_time": "2021-09-30T09:49:35.754Z"
   },
   {
    "duration": 453,
    "start_time": "2021-09-30T09:49:40.462Z"
   },
   {
    "duration": 400,
    "start_time": "2021-09-30T09:49:49.519Z"
   },
   {
    "duration": 415,
    "start_time": "2021-09-30T09:49:53.110Z"
   },
   {
    "duration": 402,
    "start_time": "2021-09-30T09:50:06.908Z"
   },
   {
    "duration": 369,
    "start_time": "2021-09-30T09:50:16.637Z"
   },
   {
    "duration": 387,
    "start_time": "2021-09-30T09:50:28.863Z"
   },
   {
    "duration": 461,
    "start_time": "2021-09-30T09:50:46.554Z"
   },
   {
    "duration": 119,
    "start_time": "2021-09-30T09:50:49.472Z"
   },
   {
    "duration": 447,
    "start_time": "2021-09-30T09:50:53.610Z"
   },
   {
    "duration": 424,
    "start_time": "2021-09-30T09:51:01.198Z"
   },
   {
    "duration": 811,
    "start_time": "2021-09-30T09:51:22.804Z"
   },
   {
    "duration": 1252,
    "start_time": "2021-09-30T09:51:33.762Z"
   },
   {
    "duration": 45,
    "start_time": "2021-09-30T09:51:35.016Z"
   },
   {
    "duration": 24,
    "start_time": "2021-09-30T09:51:35.063Z"
   },
   {
    "duration": 8,
    "start_time": "2021-09-30T09:51:35.089Z"
   },
   {
    "duration": 11,
    "start_time": "2021-09-30T09:51:35.099Z"
   },
   {
    "duration": 23,
    "start_time": "2021-09-30T09:51:35.112Z"
   },
   {
    "duration": 5,
    "start_time": "2021-09-30T09:51:35.136Z"
   },
   {
    "duration": 8,
    "start_time": "2021-09-30T09:51:35.144Z"
   },
   {
    "duration": 33,
    "start_time": "2021-09-30T09:51:35.155Z"
   },
   {
    "duration": 581,
    "start_time": "2021-09-30T09:51:35.190Z"
   },
   {
    "duration": 614,
    "start_time": "2021-09-30T09:51:35.773Z"
   },
   {
    "duration": 6,
    "start_time": "2021-09-30T09:51:36.389Z"
   },
   {
    "duration": 24,
    "start_time": "2021-09-30T09:51:36.396Z"
   },
   {
    "duration": 20,
    "start_time": "2021-09-30T09:51:36.422Z"
   },
   {
    "duration": 11,
    "start_time": "2021-09-30T09:51:36.444Z"
   },
   {
    "duration": 35,
    "start_time": "2021-09-30T09:51:36.456Z"
   },
   {
    "duration": 12,
    "start_time": "2021-09-30T09:51:36.493Z"
   },
   {
    "duration": 10,
    "start_time": "2021-09-30T09:51:36.506Z"
   },
   {
    "duration": 5,
    "start_time": "2021-09-30T09:51:36.518Z"
   },
   {
    "duration": 17,
    "start_time": "2021-09-30T09:51:36.524Z"
   },
   {
    "duration": 34,
    "start_time": "2021-09-30T09:51:36.543Z"
   },
   {
    "duration": 15,
    "start_time": "2021-09-30T09:51:36.580Z"
   },
   {
    "duration": 5,
    "start_time": "2021-09-30T09:51:36.599Z"
   },
   {
    "duration": 45,
    "start_time": "2021-09-30T09:51:36.606Z"
   },
   {
    "duration": 106,
    "start_time": "2021-09-30T09:51:36.652Z"
   },
   {
    "duration": 132,
    "start_time": "2021-09-30T09:51:36.759Z"
   },
   {
    "duration": 8,
    "start_time": "2021-09-30T09:51:36.977Z"
   },
   {
    "duration": 194,
    "start_time": "2021-09-30T09:51:36.991Z"
   },
   {
    "duration": 101,
    "start_time": "2021-09-30T09:51:37.188Z"
   },
   {
    "duration": 13,
    "start_time": "2021-09-30T09:51:37.291Z"
   },
   {
    "duration": 4,
    "start_time": "2021-09-30T09:51:37.305Z"
   },
   {
    "duration": 366,
    "start_time": "2021-09-30T09:51:37.311Z"
   },
   {
    "duration": 9,
    "start_time": "2021-09-30T09:51:37.689Z"
   },
   {
    "duration": 12,
    "start_time": "2021-09-30T09:51:37.700Z"
   },
   {
    "duration": 4,
    "start_time": "2021-09-30T09:51:37.714Z"
   },
   {
    "duration": 171,
    "start_time": "2021-09-30T09:51:37.719Z"
   },
   {
    "duration": 96,
    "start_time": "2021-09-30T09:51:37.892Z"
   },
   {
    "duration": 335,
    "start_time": "2021-09-30T09:51:37.990Z"
   },
   {
    "duration": 467,
    "start_time": "2021-09-30T09:51:38.327Z"
   },
   {
    "duration": 6,
    "start_time": "2021-09-30T09:51:38.795Z"
   },
   {
    "duration": 315,
    "start_time": "2021-09-30T09:51:38.803Z"
   },
   {
    "duration": 86102,
    "start_time": "2021-09-30T09:51:39.120Z"
   },
   {
    "duration": 311,
    "start_time": "2021-09-30T09:53:05.224Z"
   },
   {
    "duration": 54,
    "start_time": "2021-09-30T09:53:05.537Z"
   },
   {
    "duration": 564,
    "start_time": "2021-09-30T09:53:05.593Z"
   },
   {
    "duration": 456,
    "start_time": "2021-09-30T10:04:35.208Z"
   },
   {
    "duration": 357,
    "start_time": "2021-09-30T10:05:24.998Z"
   },
   {
    "duration": 4,
    "start_time": "2021-09-30T10:05:35.546Z"
   },
   {
    "duration": 4,
    "start_time": "2021-09-30T10:06:09.559Z"
   },
   {
    "duration": 3,
    "start_time": "2021-09-30T10:06:16.003Z"
   },
   {
    "duration": 6,
    "start_time": "2021-09-30T10:07:32.362Z"
   },
   {
    "duration": 5,
    "start_time": "2021-09-30T10:08:54.034Z"
   },
   {
    "duration": 6,
    "start_time": "2021-09-30T10:09:03.298Z"
   },
   {
    "duration": 4,
    "start_time": "2021-09-30T10:10:13.848Z"
   },
   {
    "duration": 5,
    "start_time": "2021-09-30T10:10:25.117Z"
   },
   {
    "duration": 5,
    "start_time": "2021-09-30T10:10:29.825Z"
   },
   {
    "duration": 11,
    "start_time": "2021-09-30T10:10:57.264Z"
   },
   {
    "duration": 6,
    "start_time": "2021-09-30T10:10:58.763Z"
   },
   {
    "duration": 6,
    "start_time": "2021-09-30T10:10:59.631Z"
   },
   {
    "duration": 126,
    "start_time": "2021-09-30T10:11:26.889Z"
   },
   {
    "duration": 12,
    "start_time": "2021-09-30T10:11:34.141Z"
   },
   {
    "duration": 6,
    "start_time": "2021-09-30T10:11:35.537Z"
   },
   {
    "duration": 9,
    "start_time": "2021-09-30T10:11:36.281Z"
   },
   {
    "duration": 7,
    "start_time": "2021-09-30T10:11:38.398Z"
   },
   {
    "duration": 5,
    "start_time": "2021-09-30T10:11:39.190Z"
   },
   {
    "duration": 119,
    "start_time": "2021-09-30T10:14:00.175Z"
   },
   {
    "duration": 4,
    "start_time": "2021-09-30T10:14:04.746Z"
   },
   {
    "duration": 5,
    "start_time": "2021-09-30T10:16:36.676Z"
   },
   {
    "duration": 4,
    "start_time": "2021-09-30T10:17:10.821Z"
   },
   {
    "duration": 363,
    "start_time": "2021-09-30T10:17:16.969Z"
   },
   {
    "duration": 5,
    "start_time": "2021-09-30T10:17:19.973Z"
   },
   {
    "duration": 7,
    "start_time": "2021-09-30T10:17:25.007Z"
   },
   {
    "duration": 980,
    "start_time": "2021-09-30T10:17:52.220Z"
   },
   {
    "duration": 1068,
    "start_time": "2021-09-30T10:18:07.359Z"
   },
   {
    "duration": 11,
    "start_time": "2021-09-30T10:18:16.985Z"
   },
   {
    "duration": 761,
    "start_time": "2021-09-30T10:19:02.206Z"
   },
   {
    "duration": 5,
    "start_time": "2021-09-30T10:19:47.433Z"
   },
   {
    "duration": 6,
    "start_time": "2021-09-30T10:19:56.774Z"
   },
   {
    "duration": 6,
    "start_time": "2021-09-30T10:20:00.444Z"
   },
   {
    "duration": 5,
    "start_time": "2021-09-30T10:20:06.685Z"
   },
   {
    "duration": 12,
    "start_time": "2021-09-30T10:20:09.497Z"
   },
   {
    "duration": 6,
    "start_time": "2021-09-30T10:20:11.720Z"
   },
   {
    "duration": 4,
    "start_time": "2021-09-30T10:20:31.605Z"
   },
   {
    "duration": 5,
    "start_time": "2021-09-30T10:20:32.932Z"
   },
   {
    "duration": 12,
    "start_time": "2021-09-30T10:20:35.126Z"
   },
   {
    "duration": 6,
    "start_time": "2021-09-30T10:20:43.183Z"
   },
   {
    "duration": 5,
    "start_time": "2021-09-30T10:20:47.114Z"
   },
   {
    "duration": 12,
    "start_time": "2021-09-30T10:20:47.598Z"
   },
   {
    "duration": 6,
    "start_time": "2021-09-30T10:20:48.149Z"
   },
   {
    "duration": 5,
    "start_time": "2021-09-30T10:21:13.559Z"
   },
   {
    "duration": 12,
    "start_time": "2021-09-30T10:21:14.339Z"
   },
   {
    "duration": 6,
    "start_time": "2021-09-30T10:21:14.829Z"
   },
   {
    "duration": 112,
    "start_time": "2021-09-30T10:22:12.364Z"
   },
   {
    "duration": 4,
    "start_time": "2021-09-30T10:22:18.463Z"
   },
   {
    "duration": 6,
    "start_time": "2021-09-30T10:22:29.674Z"
   },
   {
    "duration": 5,
    "start_time": "2021-09-30T10:22:46.338Z"
   },
   {
    "duration": 13,
    "start_time": "2021-09-30T10:22:47.487Z"
   },
   {
    "duration": 6,
    "start_time": "2021-09-30T10:22:48.485Z"
   },
   {
    "duration": 4,
    "start_time": "2021-09-30T10:22:52.812Z"
   },
   {
    "duration": 5,
    "start_time": "2021-09-30T10:22:53.260Z"
   },
   {
    "duration": 5,
    "start_time": "2021-09-30T10:22:54.409Z"
   },
   {
    "duration": 12,
    "start_time": "2021-09-30T10:22:58.866Z"
   },
   {
    "duration": 7,
    "start_time": "2021-09-30T10:23:01.845Z"
   },
   {
    "duration": 5,
    "start_time": "2021-09-30T10:23:15.872Z"
   },
   {
    "duration": 5,
    "start_time": "2021-09-30T10:23:21.051Z"
   },
   {
    "duration": 12,
    "start_time": "2021-09-30T10:23:21.689Z"
   },
   {
    "duration": 7,
    "start_time": "2021-09-30T10:23:22.972Z"
   },
   {
    "duration": 4,
    "start_time": "2021-09-30T10:23:42.297Z"
   },
   {
    "duration": 6,
    "start_time": "2021-09-30T10:23:42.493Z"
   },
   {
    "duration": 4,
    "start_time": "2021-09-30T10:23:42.681Z"
   },
   {
    "duration": 13,
    "start_time": "2021-09-30T10:23:43.277Z"
   },
   {
    "duration": 6,
    "start_time": "2021-09-30T10:23:45.586Z"
   },
   {
    "duration": 3,
    "start_time": "2021-09-30T10:24:23.049Z"
   },
   {
    "duration": 5,
    "start_time": "2021-09-30T10:24:24.541Z"
   },
   {
    "duration": 3,
    "start_time": "2021-09-30T10:24:39.674Z"
   },
   {
    "duration": 12,
    "start_time": "2021-09-30T10:24:40.156Z"
   },
   {
    "duration": 6,
    "start_time": "2021-09-30T10:31:53.473Z"
   },
   {
    "duration": 337,
    "start_time": "2021-09-30T10:33:43.907Z"
   },
   {
    "duration": 1187,
    "start_time": "2021-09-30T10:33:52.498Z"
   },
   {
    "duration": 43,
    "start_time": "2021-09-30T10:33:53.687Z"
   },
   {
    "duration": 10,
    "start_time": "2021-09-30T10:33:53.733Z"
   },
   {
    "duration": 6,
    "start_time": "2021-09-30T10:33:53.745Z"
   },
   {
    "duration": 23,
    "start_time": "2021-09-30T10:33:53.753Z"
   },
   {
    "duration": 13,
    "start_time": "2021-09-30T10:33:53.778Z"
   },
   {
    "duration": 9,
    "start_time": "2021-09-30T10:33:53.793Z"
   },
   {
    "duration": 19,
    "start_time": "2021-09-30T10:33:53.805Z"
   },
   {
    "duration": 21,
    "start_time": "2021-09-30T10:33:53.826Z"
   },
   {
    "duration": 576,
    "start_time": "2021-09-30T10:33:53.849Z"
   },
   {
    "duration": 594,
    "start_time": "2021-09-30T10:33:54.428Z"
   },
   {
    "duration": 6,
    "start_time": "2021-09-30T10:33:55.025Z"
   },
   {
    "duration": 13,
    "start_time": "2021-09-30T10:33:55.033Z"
   },
   {
    "duration": 37,
    "start_time": "2021-09-30T10:33:55.048Z"
   },
   {
    "duration": 11,
    "start_time": "2021-09-30T10:33:55.087Z"
   },
   {
    "duration": 20,
    "start_time": "2021-09-30T10:33:55.100Z"
   },
   {
    "duration": 13,
    "start_time": "2021-09-30T10:33:55.122Z"
   },
   {
    "duration": 43,
    "start_time": "2021-09-30T10:33:55.137Z"
   },
   {
    "duration": 4,
    "start_time": "2021-09-30T10:33:55.182Z"
   },
   {
    "duration": 18,
    "start_time": "2021-09-30T10:33:55.188Z"
   },
   {
    "duration": 4,
    "start_time": "2021-09-30T10:33:55.208Z"
   },
   {
    "duration": 9,
    "start_time": "2021-09-30T10:33:55.213Z"
   },
   {
    "duration": 4,
    "start_time": "2021-09-30T10:33:55.226Z"
   },
   {
    "duration": 79,
    "start_time": "2021-09-30T10:33:55.232Z"
   },
   {
    "duration": 92,
    "start_time": "2021-09-30T10:33:55.312Z"
   },
   {
    "duration": 81,
    "start_time": "2021-09-30T10:33:55.405Z"
   },
   {
    "duration": 5,
    "start_time": "2021-09-30T10:33:55.577Z"
   },
   {
    "duration": 192,
    "start_time": "2021-09-30T10:33:55.585Z"
   },
   {
    "duration": 98,
    "start_time": "2021-09-30T10:33:55.780Z"
   },
   {
    "duration": 13,
    "start_time": "2021-09-30T10:33:55.881Z"
   },
   {
    "duration": 14,
    "start_time": "2021-09-30T10:33:55.895Z"
   },
   {
    "duration": 366,
    "start_time": "2021-09-30T10:33:55.911Z"
   },
   {
    "duration": 8,
    "start_time": "2021-09-30T10:33:56.279Z"
   },
   {
    "duration": 15,
    "start_time": "2021-09-30T10:33:56.288Z"
   },
   {
    "duration": 4,
    "start_time": "2021-09-30T10:33:56.304Z"
   },
   {
    "duration": 173,
    "start_time": "2021-09-30T10:33:56.310Z"
   },
   {
    "duration": 93,
    "start_time": "2021-09-30T10:33:56.485Z"
   },
   {
    "duration": 317,
    "start_time": "2021-09-30T10:33:56.580Z"
   },
   {
    "duration": 451,
    "start_time": "2021-09-30T10:33:56.899Z"
   },
   {
    "duration": 5,
    "start_time": "2021-09-30T10:33:57.352Z"
   },
   {
    "duration": 285,
    "start_time": "2021-09-30T10:33:57.359Z"
   },
   {
    "duration": 80472,
    "start_time": "2021-09-30T10:33:57.646Z"
   },
   {
    "duration": 306,
    "start_time": "2021-09-30T10:35:18.120Z"
   },
   {
    "duration": 54,
    "start_time": "2021-09-30T10:35:18.428Z"
   },
   {
    "duration": 563,
    "start_time": "2021-09-30T10:35:18.485Z"
   },
   {
    "duration": 4,
    "start_time": "2021-09-30T10:35:19.049Z"
   },
   {
    "duration": 241,
    "start_time": "2021-09-30T10:35:19.055Z"
   },
   {
    "duration": 509,
    "start_time": "2021-09-30T10:35:19.298Z"
   },
   {
    "duration": 115835,
    "start_time": "2021-09-30T10:33:23.974Z"
   },
   {
    "duration": 115832,
    "start_time": "2021-09-30T10:33:23.978Z"
   },
   {
    "duration": 115827,
    "start_time": "2021-09-30T10:33:23.984Z"
   },
   {
    "duration": 115823,
    "start_time": "2021-09-30T10:33:23.989Z"
   },
   {
    "duration": 463,
    "start_time": "2021-09-30T10:36:03.255Z"
   },
   {
    "duration": 383,
    "start_time": "2021-09-30T10:36:07.655Z"
   },
   {
    "duration": 464,
    "start_time": "2021-09-30T10:36:16.537Z"
   },
   {
    "duration": 22,
    "start_time": "2021-09-30T10:36:20.076Z"
   },
   {
    "duration": 6,
    "start_time": "2021-09-30T10:36:21.983Z"
   },
   {
    "duration": 4,
    "start_time": "2021-09-30T10:36:29.800Z"
   },
   {
    "duration": 23,
    "start_time": "2021-09-30T10:36:30.376Z"
   },
   {
    "duration": 8,
    "start_time": "2021-09-30T10:36:31.493Z"
   },
   {
    "duration": 3,
    "start_time": "2021-09-30T10:36:37.906Z"
   },
   {
    "duration": 4,
    "start_time": "2021-09-30T10:36:38.239Z"
   },
   {
    "duration": 23,
    "start_time": "2021-09-30T10:36:38.515Z"
   },
   {
    "duration": 7,
    "start_time": "2021-09-30T10:36:38.785Z"
   },
   {
    "duration": 4,
    "start_time": "2021-09-30T10:37:37.938Z"
   },
   {
    "duration": 23,
    "start_time": "2021-09-30T10:37:38.664Z"
   },
   {
    "duration": 8,
    "start_time": "2021-09-30T10:37:38.962Z"
   },
   {
    "duration": 369,
    "start_time": "2021-09-30T10:37:40.088Z"
   },
   {
    "duration": 3,
    "start_time": "2021-09-30T10:37:46.656Z"
   },
   {
    "duration": 4,
    "start_time": "2021-09-30T10:37:47.025Z"
   },
   {
    "duration": 24,
    "start_time": "2021-09-30T10:37:47.373Z"
   },
   {
    "duration": 8,
    "start_time": "2021-09-30T10:37:47.793Z"
   },
   {
    "duration": 5,
    "start_time": "2021-09-30T10:37:55.004Z"
   },
   {
    "duration": 4,
    "start_time": "2021-09-30T10:37:55.157Z"
   },
   {
    "duration": 25,
    "start_time": "2021-09-30T10:37:55.285Z"
   },
   {
    "duration": 7,
    "start_time": "2021-09-30T10:37:55.432Z"
   },
   {
    "duration": 4,
    "start_time": "2021-09-30T10:38:34.139Z"
   },
   {
    "duration": 4,
    "start_time": "2021-09-30T10:38:53.254Z"
   },
   {
    "duration": 32,
    "start_time": "2021-09-30T10:38:53.747Z"
   },
   {
    "duration": 7,
    "start_time": "2021-09-30T10:38:55.504Z"
   },
   {
    "duration": 4,
    "start_time": "2021-09-30T10:39:14.227Z"
   },
   {
    "duration": 273,
    "start_time": "2021-09-30T10:39:27.129Z"
   },
   {
    "duration": 6,
    "start_time": "2021-09-30T10:39:50.278Z"
   },
   {
    "duration": 271,
    "start_time": "2021-09-30T10:39:50.823Z"
   },
   {
    "duration": 429,
    "start_time": "2021-09-30T10:39:59.558Z"
   },
   {
    "duration": 5,
    "start_time": "2021-09-30T10:40:00.360Z"
   },
   {
    "duration": 273,
    "start_time": "2021-09-30T10:40:02.695Z"
   },
   {
    "duration": 6,
    "start_time": "2021-09-30T10:41:08.003Z"
   },
   {
    "duration": 1519,
    "start_time": "2021-09-30T10:41:15.152Z"
   },
   {
    "duration": 42,
    "start_time": "2021-09-30T10:41:16.673Z"
   },
   {
    "duration": 7,
    "start_time": "2021-09-30T10:41:16.717Z"
   },
   {
    "duration": 4,
    "start_time": "2021-09-30T10:41:16.726Z"
   },
   {
    "duration": 21,
    "start_time": "2021-09-30T10:41:16.731Z"
   },
   {
    "duration": 25,
    "start_time": "2021-09-30T10:41:16.753Z"
   },
   {
    "duration": 4,
    "start_time": "2021-09-30T10:41:16.780Z"
   },
   {
    "duration": 16,
    "start_time": "2021-09-30T10:41:16.787Z"
   },
   {
    "duration": 17,
    "start_time": "2021-09-30T10:41:16.805Z"
   },
   {
    "duration": 567,
    "start_time": "2021-09-30T10:41:16.824Z"
   },
   {
    "duration": 572,
    "start_time": "2021-09-30T10:41:17.393Z"
   },
   {
    "duration": 4,
    "start_time": "2021-09-30T10:41:17.967Z"
   },
   {
    "duration": 26,
    "start_time": "2021-09-30T10:41:17.976Z"
   },
   {
    "duration": 27,
    "start_time": "2021-09-30T10:41:18.004Z"
   },
   {
    "duration": 10,
    "start_time": "2021-09-30T10:41:18.033Z"
   },
   {
    "duration": 22,
    "start_time": "2021-09-30T10:41:18.044Z"
   },
   {
    "duration": 10,
    "start_time": "2021-09-30T10:41:18.068Z"
   },
   {
    "duration": 21,
    "start_time": "2021-09-30T10:41:18.080Z"
   },
   {
    "duration": 17,
    "start_time": "2021-09-30T10:41:18.103Z"
   },
   {
    "duration": 31,
    "start_time": "2021-09-30T10:41:18.122Z"
   },
   {
    "duration": 12,
    "start_time": "2021-09-30T10:41:18.155Z"
   },
   {
    "duration": 19,
    "start_time": "2021-09-30T10:41:18.168Z"
   },
   {
    "duration": 13,
    "start_time": "2021-09-30T10:41:18.191Z"
   },
   {
    "duration": 57,
    "start_time": "2021-09-30T10:41:18.207Z"
   },
   {
    "duration": 92,
    "start_time": "2021-09-30T10:41:18.266Z"
   },
   {
    "duration": 123,
    "start_time": "2021-09-30T10:41:18.360Z"
   },
   {
    "duration": 101,
    "start_time": "2021-09-30T10:41:18.485Z"
   },
   {
    "duration": 189,
    "start_time": "2021-09-30T10:41:18.588Z"
   },
   {
    "duration": 99,
    "start_time": "2021-09-30T10:41:18.779Z"
   },
   {
    "duration": 16,
    "start_time": "2021-09-30T10:41:18.880Z"
   },
   {
    "duration": 5,
    "start_time": "2021-09-30T10:41:18.897Z"
   },
   {
    "duration": 373,
    "start_time": "2021-09-30T10:41:18.904Z"
   },
   {
    "duration": 7,
    "start_time": "2021-09-30T10:41:19.279Z"
   },
   {
    "duration": 20,
    "start_time": "2021-09-30T10:41:19.288Z"
   },
   {
    "duration": 12,
    "start_time": "2021-09-30T10:41:19.309Z"
   },
   {
    "duration": 253,
    "start_time": "2021-09-30T10:41:19.323Z"
   },
   {
    "duration": 8,
    "start_time": "2021-09-30T10:41:19.578Z"
   },
   {
    "duration": 334,
    "start_time": "2021-09-30T10:41:19.587Z"
   },
   {
    "duration": 440,
    "start_time": "2021-09-30T10:41:19.923Z"
   },
   {
    "duration": 14,
    "start_time": "2021-09-30T10:41:20.365Z"
   },
   {
    "duration": 290,
    "start_time": "2021-09-30T10:41:20.381Z"
   },
   {
    "duration": 80223,
    "start_time": "2021-09-30T10:41:20.673Z"
   },
   {
    "duration": 292,
    "start_time": "2021-09-30T10:42:40.898Z"
   },
   {
    "duration": 85,
    "start_time": "2021-09-30T10:42:41.192Z"
   },
   {
    "duration": 459,
    "start_time": "2021-09-30T10:42:41.280Z"
   },
   {
    "duration": 3,
    "start_time": "2021-09-30T10:42:41.741Z"
   },
   {
    "duration": 8,
    "start_time": "2021-09-30T10:42:41.746Z"
   },
   {
    "duration": 4,
    "start_time": "2021-09-30T10:42:41.756Z"
   },
   {
    "duration": 19,
    "start_time": "2021-09-30T10:42:41.777Z"
   },
   {
    "duration": 87,
    "start_time": "2021-09-30T10:42:41.798Z"
   },
   {
    "duration": 465,
    "start_time": "2021-09-30T10:42:41.886Z"
   },
   {
    "duration": 115850,
    "start_time": "2021-09-30T10:40:46.503Z"
   },
   {
    "duration": 115846,
    "start_time": "2021-09-30T10:40:46.507Z"
   },
   {
    "duration": 4,
    "start_time": "2021-09-30T10:45:24.797Z"
   },
   {
    "duration": 23,
    "start_time": "2021-09-30T10:45:25.562Z"
   },
   {
    "duration": 7,
    "start_time": "2021-09-30T10:45:25.932Z"
   },
   {
    "duration": 4,
    "start_time": "2021-09-30T10:45:29.849Z"
   },
   {
    "duration": 84,
    "start_time": "2021-09-30T10:45:30.193Z"
   },
   {
    "duration": 16,
    "start_time": "2021-09-30T10:45:30.376Z"
   },
   {
    "duration": 1237,
    "start_time": "2021-09-30T10:45:39.446Z"
   },
   {
    "duration": 43,
    "start_time": "2021-09-30T10:45:40.685Z"
   },
   {
    "duration": 7,
    "start_time": "2021-09-30T10:45:40.730Z"
   },
   {
    "duration": 34,
    "start_time": "2021-09-30T10:45:40.739Z"
   },
   {
    "duration": 29,
    "start_time": "2021-09-30T10:45:40.775Z"
   },
   {
    "duration": 56,
    "start_time": "2021-09-30T10:45:40.805Z"
   },
   {
    "duration": 11,
    "start_time": "2021-09-30T10:45:40.862Z"
   },
   {
    "duration": 23,
    "start_time": "2021-09-30T10:45:40.875Z"
   },
   {
    "duration": 34,
    "start_time": "2021-09-30T10:45:40.901Z"
   },
   {
    "duration": 924,
    "start_time": "2021-09-30T10:45:40.938Z"
   },
   {
    "duration": 593,
    "start_time": "2021-09-30T10:45:41.864Z"
   },
   {
    "duration": 5,
    "start_time": "2021-09-30T10:45:42.459Z"
   },
   {
    "duration": 21,
    "start_time": "2021-09-30T10:45:42.466Z"
   },
   {
    "duration": 15,
    "start_time": "2021-09-30T10:45:42.489Z"
   },
   {
    "duration": 10,
    "start_time": "2021-09-30T10:45:42.506Z"
   },
   {
    "duration": 19,
    "start_time": "2021-09-30T10:45:42.518Z"
   },
   {
    "duration": 12,
    "start_time": "2021-09-30T10:45:42.539Z"
   },
   {
    "duration": 14,
    "start_time": "2021-09-30T10:45:42.579Z"
   },
   {
    "duration": 5,
    "start_time": "2021-09-30T10:45:42.596Z"
   },
   {
    "duration": 21,
    "start_time": "2021-09-30T10:45:42.603Z"
   },
   {
    "duration": 4,
    "start_time": "2021-09-30T10:45:42.626Z"
   },
   {
    "duration": 13,
    "start_time": "2021-09-30T10:45:42.632Z"
   },
   {
    "duration": 33,
    "start_time": "2021-09-30T10:45:42.646Z"
   },
   {
    "duration": 49,
    "start_time": "2021-09-30T10:45:42.681Z"
   },
   {
    "duration": 106,
    "start_time": "2021-09-30T10:45:42.732Z"
   },
   {
    "duration": 50,
    "start_time": "2021-09-30T10:45:42.840Z"
   },
   {
    "duration": 93,
    "start_time": "2021-09-30T10:45:42.894Z"
   },
   {
    "duration": 192,
    "start_time": "2021-09-30T10:45:42.990Z"
   },
   {
    "duration": 99,
    "start_time": "2021-09-30T10:45:43.185Z"
   },
   {
    "duration": 14,
    "start_time": "2021-09-30T10:45:43.289Z"
   },
   {
    "duration": 9,
    "start_time": "2021-09-30T10:45:43.304Z"
   },
   {
    "duration": 287,
    "start_time": "2021-09-30T10:45:43.314Z"
   },
   {
    "duration": 15,
    "start_time": "2021-09-30T10:45:43.677Z"
   },
   {
    "duration": 15,
    "start_time": "2021-09-30T10:45:43.693Z"
   },
   {
    "duration": 4,
    "start_time": "2021-09-30T10:45:43.709Z"
   },
   {
    "duration": 274,
    "start_time": "2021-09-30T10:45:43.715Z"
   },
   {
    "duration": 85,
    "start_time": "2021-09-30T10:45:43.998Z"
   },
   {
    "duration": 454,
    "start_time": "2021-09-30T10:45:44.085Z"
   },
   {
    "duration": 461,
    "start_time": "2021-09-30T10:45:44.541Z"
   },
   {
    "duration": 6,
    "start_time": "2021-09-30T10:45:45.004Z"
   },
   {
    "duration": 296,
    "start_time": "2021-09-30T10:45:45.012Z"
   },
   {
    "duration": 91577,
    "start_time": "2021-09-30T10:45:45.310Z"
   },
   {
    "duration": 305,
    "start_time": "2021-09-30T10:47:16.889Z"
   },
   {
    "duration": 96,
    "start_time": "2021-09-30T10:47:17.196Z"
   },
   {
    "duration": 564,
    "start_time": "2021-09-30T10:47:17.294Z"
   },
   {
    "duration": 4,
    "start_time": "2021-09-30T10:47:17.859Z"
   },
   {
    "duration": 6,
    "start_time": "2021-09-30T10:47:17.879Z"
   },
   {
    "duration": 8,
    "start_time": "2021-09-30T10:47:17.888Z"
   },
   {
    "duration": 28,
    "start_time": "2021-09-30T10:47:17.898Z"
   },
   {
    "duration": 11,
    "start_time": "2021-09-30T10:47:17.981Z"
   },
   {
    "duration": 4,
    "start_time": "2021-09-30T10:49:48.439Z"
   },
   {
    "duration": 4,
    "start_time": "2021-09-30T10:49:54.450Z"
   },
   {
    "duration": 4,
    "start_time": "2021-09-30T10:50:42.304Z"
   },
   {
    "duration": 6,
    "start_time": "2021-09-30T10:50:43.668Z"
   },
   {
    "duration": 23,
    "start_time": "2021-09-30T10:51:33.043Z"
   },
   {
    "duration": 8,
    "start_time": "2021-09-30T10:51:34.389Z"
   },
   {
    "duration": 133,
    "start_time": "2021-09-30T10:52:01.004Z"
   },
   {
    "duration": 25,
    "start_time": "2021-09-30T10:52:07.779Z"
   },
   {
    "duration": 9,
    "start_time": "2021-09-30T10:52:08.791Z"
   },
   {
    "duration": 21,
    "start_time": "2021-09-30T10:54:42.020Z"
   },
   {
    "duration": 9,
    "start_time": "2021-09-30T10:54:43.032Z"
   },
   {
    "duration": 4,
    "start_time": "2021-09-30T10:54:45.067Z"
   },
   {
    "duration": 5,
    "start_time": "2021-09-30T10:54:46.845Z"
   },
   {
    "duration": 21,
    "start_time": "2021-09-30T10:54:50.632Z"
   },
   {
    "duration": 8,
    "start_time": "2021-09-30T10:54:51.892Z"
   },
   {
    "duration": 4,
    "start_time": "2021-09-30T10:55:12.202Z"
   },
   {
    "duration": 12,
    "start_time": "2021-09-30T10:55:13.633Z"
   },
   {
    "duration": 7,
    "start_time": "2021-09-30T10:55:19.713Z"
   },
   {
    "duration": 68,
    "start_time": "2021-09-30T10:55:28.915Z"
   },
   {
    "duration": 8,
    "start_time": "2021-09-30T10:55:29.604Z"
   },
   {
    "duration": 4,
    "start_time": "2021-09-30T10:55:34.840Z"
   },
   {
    "duration": 475,
    "start_time": "2021-09-30T10:55:36.658Z"
   },
   {
    "duration": 15,
    "start_time": "2021-09-30T10:56:16.805Z"
   },
   {
    "duration": 7,
    "start_time": "2021-09-30T10:56:21.733Z"
   },
   {
    "duration": 4,
    "start_time": "2021-09-30T10:56:24.949Z"
   },
   {
    "duration": 6,
    "start_time": "2021-09-30T10:56:27.551Z"
   },
   {
    "duration": 397,
    "start_time": "2021-09-30T10:56:31.560Z"
   },
   {
    "duration": 17,
    "start_time": "2021-09-30T10:56:35.769Z"
   },
   {
    "duration": 7,
    "start_time": "2021-09-30T10:57:25.096Z"
   },
   {
    "duration": 4,
    "start_time": "2021-09-30T10:57:29.350Z"
   },
   {
    "duration": 4,
    "start_time": "2021-09-30T10:57:38.638Z"
   },
   {
    "duration": 341,
    "start_time": "2021-09-30T10:57:45.777Z"
   },
   {
    "duration": 11,
    "start_time": "2021-09-30T10:58:14.640Z"
   },
   {
    "duration": 10,
    "start_time": "2021-09-30T10:58:19.064Z"
   },
   {
    "duration": 21,
    "start_time": "2021-09-30T10:58:19.833Z"
   },
   {
    "duration": 6,
    "start_time": "2021-09-30T10:58:21.146Z"
   },
   {
    "duration": 18,
    "start_time": "2021-09-30T10:58:24.072Z"
   },
   {
    "duration": 4,
    "start_time": "2021-09-30T10:58:40.709Z"
   },
   {
    "duration": 346,
    "start_time": "2021-09-30T10:58:41.331Z"
   },
   {
    "duration": 21,
    "start_time": "2021-09-30T10:58:57.702Z"
   },
   {
    "duration": 7,
    "start_time": "2021-09-30T10:58:59.224Z"
   },
   {
    "duration": 1279,
    "start_time": "2021-09-30T11:13:48.511Z"
   },
   {
    "duration": 44,
    "start_time": "2021-09-30T11:13:49.792Z"
   },
   {
    "duration": 9,
    "start_time": "2021-09-30T11:13:49.840Z"
   },
   {
    "duration": 9,
    "start_time": "2021-09-30T11:13:49.850Z"
   },
   {
    "duration": 19,
    "start_time": "2021-09-30T11:13:49.861Z"
   },
   {
    "duration": 16,
    "start_time": "2021-09-30T11:13:49.887Z"
   },
   {
    "duration": 4,
    "start_time": "2021-09-30T11:13:49.906Z"
   },
   {
    "duration": 8,
    "start_time": "2021-09-30T11:13:49.913Z"
   },
   {
    "duration": 8,
    "start_time": "2021-09-30T11:13:49.923Z"
   },
   {
    "duration": 732,
    "start_time": "2021-09-30T11:13:49.933Z"
   },
   {
    "duration": 696,
    "start_time": "2021-09-30T11:13:50.667Z"
   },
   {
    "duration": 5,
    "start_time": "2021-09-30T11:13:51.364Z"
   },
   {
    "duration": 20,
    "start_time": "2021-09-30T11:13:51.385Z"
   },
   {
    "duration": 17,
    "start_time": "2021-09-30T11:13:51.407Z"
   },
   {
    "duration": 10,
    "start_time": "2021-09-30T11:13:51.426Z"
   },
   {
    "duration": 39,
    "start_time": "2021-09-30T11:13:51.438Z"
   },
   {
    "duration": 16,
    "start_time": "2021-09-30T11:13:51.481Z"
   },
   {
    "duration": 12,
    "start_time": "2021-09-30T11:13:51.499Z"
   },
   {
    "duration": 6,
    "start_time": "2021-09-30T11:13:51.514Z"
   },
   {
    "duration": 17,
    "start_time": "2021-09-30T11:13:51.522Z"
   },
   {
    "duration": 4,
    "start_time": "2021-09-30T11:13:51.541Z"
   },
   {
    "duration": 16,
    "start_time": "2021-09-30T11:13:51.579Z"
   },
   {
    "duration": 6,
    "start_time": "2021-09-30T11:13:51.597Z"
   },
   {
    "duration": 47,
    "start_time": "2021-09-30T11:13:51.606Z"
   },
   {
    "duration": 133,
    "start_time": "2021-09-30T11:13:51.655Z"
   },
   {
    "duration": 98,
    "start_time": "2021-09-30T11:13:51.790Z"
   },
   {
    "duration": 14,
    "start_time": "2021-09-30T11:13:51.891Z"
   },
   {
    "duration": 201,
    "start_time": "2021-09-30T11:13:51.983Z"
   },
   {
    "duration": 90,
    "start_time": "2021-09-30T11:13:52.186Z"
   },
   {
    "duration": 20,
    "start_time": "2021-09-30T11:13:52.278Z"
   },
   {
    "duration": 6,
    "start_time": "2021-09-30T11:13:52.300Z"
   },
   {
    "duration": 279,
    "start_time": "2021-09-30T11:13:52.309Z"
   },
   {
    "duration": 86,
    "start_time": "2021-09-30T11:13:52.590Z"
   },
   {
    "duration": 19,
    "start_time": "2021-09-30T11:13:52.679Z"
   },
   {
    "duration": 5,
    "start_time": "2021-09-30T11:13:52.701Z"
   },
   {
    "duration": 177,
    "start_time": "2021-09-30T11:13:52.708Z"
   },
   {
    "duration": 92,
    "start_time": "2021-09-30T11:13:52.889Z"
   },
   {
    "duration": 416,
    "start_time": "2021-09-30T11:13:52.989Z"
   },
   {
    "duration": 499,
    "start_time": "2021-09-30T11:13:53.408Z"
   },
   {
    "duration": 8,
    "start_time": "2021-09-30T11:13:53.911Z"
   },
   {
    "duration": 325,
    "start_time": "2021-09-30T11:13:53.921Z"
   },
   {
    "duration": 91961,
    "start_time": "2021-09-30T11:13:54.247Z"
   },
   {
    "duration": 315,
    "start_time": "2021-09-30T11:15:26.210Z"
   },
   {
    "duration": 57,
    "start_time": "2021-09-30T11:15:26.527Z"
   },
   {
    "duration": 500,
    "start_time": "2021-09-30T11:15:26.591Z"
   },
   {
    "duration": 3,
    "start_time": "2021-09-30T11:15:27.093Z"
   },
   {
    "duration": 6,
    "start_time": "2021-09-30T11:15:27.099Z"
   },
   {
    "duration": 80,
    "start_time": "2021-09-30T11:15:27.107Z"
   },
   {
    "duration": 98,
    "start_time": "2021-09-30T11:15:27.189Z"
   },
   {
    "duration": 14,
    "start_time": "2021-09-30T11:17:15.444Z"
   },
   {
    "duration": 463,
    "start_time": "2021-09-30T11:17:26.891Z"
   },
   {
    "duration": 346,
    "start_time": "2021-09-30T11:17:36.690Z"
   },
   {
    "duration": 94,
    "start_time": "2021-09-30T11:18:00.595Z"
   },
   {
    "duration": 301,
    "start_time": "2021-09-30T11:18:36.769Z"
   },
   {
    "duration": 10,
    "start_time": "2021-09-30T11:19:00.826Z"
   },
   {
    "duration": 7,
    "start_time": "2021-09-30T11:19:13.958Z"
   },
   {
    "duration": 11,
    "start_time": "2021-09-30T11:19:46.907Z"
   },
   {
    "duration": 10,
    "start_time": "2021-09-30T11:19:49.594Z"
   },
   {
    "duration": 8,
    "start_time": "2021-09-30T11:19:49.804Z"
   },
   {
    "duration": 4,
    "start_time": "2021-09-30T11:19:55.612Z"
   },
   {
    "duration": 5,
    "start_time": "2021-09-30T11:19:55.784Z"
   },
   {
    "duration": 40,
    "start_time": "2021-09-30T11:19:55.956Z"
   },
   {
    "duration": 13,
    "start_time": "2021-09-30T11:19:56.178Z"
   },
   {
    "duration": 12,
    "start_time": "2021-09-30T11:19:56.521Z"
   },
   {
    "duration": 93,
    "start_time": "2021-09-30T11:19:56.671Z"
   },
   {
    "duration": 284,
    "start_time": "2021-09-30T11:19:56.796Z"
   },
   {
    "duration": 11,
    "start_time": "2021-09-30T11:19:57.089Z"
   },
   {
    "duration": 6,
    "start_time": "2021-09-30T11:19:57.103Z"
   },
   {
    "duration": 5,
    "start_time": "2021-09-30T11:20:06.386Z"
   },
   {
    "duration": 3,
    "start_time": "2021-09-30T11:20:08.091Z"
   },
   {
    "duration": 4,
    "start_time": "2021-09-30T11:20:08.409Z"
   },
   {
    "duration": 20,
    "start_time": "2021-09-30T11:20:09.124Z"
   },
   {
    "duration": 8,
    "start_time": "2021-09-30T11:20:12.426Z"
   },
   {
    "duration": 13,
    "start_time": "2021-09-30T11:20:13.609Z"
   },
   {
    "duration": 91,
    "start_time": "2021-09-30T11:20:13.812Z"
   },
   {
    "duration": 289,
    "start_time": "2021-09-30T11:20:14.219Z"
   },
   {
    "duration": 10,
    "start_time": "2021-09-30T11:20:14.652Z"
   },
   {
    "duration": 13,
    "start_time": "2021-09-30T11:20:24.666Z"
   },
   {
    "duration": 7,
    "start_time": "2021-09-30T11:20:25.317Z"
   },
   {
    "duration": 4,
    "start_time": "2021-09-30T11:20:38.769Z"
   },
   {
    "duration": 4,
    "start_time": "2021-09-30T11:20:39.131Z"
   },
   {
    "duration": 20,
    "start_time": "2021-09-30T11:20:39.502Z"
   },
   {
    "duration": 7,
    "start_time": "2021-09-30T11:20:40.233Z"
   },
   {
    "duration": 12,
    "start_time": "2021-09-30T11:20:43.032Z"
   },
   {
    "duration": 92,
    "start_time": "2021-09-30T11:20:44.730Z"
   },
   {
    "duration": 291,
    "start_time": "2021-09-30T11:20:49.687Z"
   },
   {
    "duration": 12,
    "start_time": "2021-09-30T11:20:51.385Z"
   },
   {
    "duration": 7,
    "start_time": "2021-09-30T11:20:51.990Z"
   },
   {
    "duration": 11,
    "start_time": "2021-09-30T11:21:58.287Z"
   },
   {
    "duration": 7,
    "start_time": "2021-09-30T11:21:58.814Z"
   },
   {
    "duration": 4,
    "start_time": "2021-09-30T11:22:05.059Z"
   },
   {
    "duration": 4,
    "start_time": "2021-09-30T11:22:05.290Z"
   },
   {
    "duration": 24,
    "start_time": "2021-09-30T11:22:05.640Z"
   },
   {
    "duration": 9,
    "start_time": "2021-09-30T11:22:05.944Z"
   },
   {
    "duration": 14,
    "start_time": "2021-09-30T11:22:06.510Z"
   },
   {
    "duration": 91,
    "start_time": "2021-09-30T11:22:06.656Z"
   },
   {
    "duration": 12,
    "start_time": "2021-09-30T11:22:06.797Z"
   },
   {
    "duration": 7,
    "start_time": "2021-09-30T11:22:07.980Z"
   },
   {
    "duration": 1187,
    "start_time": "2021-09-30T11:22:34.124Z"
   },
   {
    "duration": 43,
    "start_time": "2021-09-30T11:22:35.313Z"
   },
   {
    "duration": 8,
    "start_time": "2021-09-30T11:22:35.358Z"
   },
   {
    "duration": 11,
    "start_time": "2021-09-30T11:22:35.368Z"
   },
   {
    "duration": 6,
    "start_time": "2021-09-30T11:22:35.381Z"
   },
   {
    "duration": 27,
    "start_time": "2021-09-30T11:22:35.388Z"
   },
   {
    "duration": 6,
    "start_time": "2021-09-30T11:22:35.417Z"
   },
   {
    "duration": 15,
    "start_time": "2021-09-30T11:22:35.426Z"
   },
   {
    "duration": 17,
    "start_time": "2021-09-30T11:22:35.444Z"
   },
   {
    "duration": 613,
    "start_time": "2021-09-30T11:22:35.463Z"
   },
   {
    "duration": 603,
    "start_time": "2021-09-30T11:22:36.078Z"
   },
   {
    "duration": 5,
    "start_time": "2021-09-30T11:22:36.682Z"
   },
   {
    "duration": 21,
    "start_time": "2021-09-30T11:22:36.689Z"
   },
   {
    "duration": 27,
    "start_time": "2021-09-30T11:22:36.712Z"
   },
   {
    "duration": 13,
    "start_time": "2021-09-30T11:22:36.741Z"
   },
   {
    "duration": 32,
    "start_time": "2021-09-30T11:22:36.756Z"
   },
   {
    "duration": 10,
    "start_time": "2021-09-30T11:22:36.790Z"
   },
   {
    "duration": 17,
    "start_time": "2021-09-30T11:22:36.802Z"
   },
   {
    "duration": 17,
    "start_time": "2021-09-30T11:22:36.820Z"
   },
   {
    "duration": 29,
    "start_time": "2021-09-30T11:22:36.839Z"
   },
   {
    "duration": 4,
    "start_time": "2021-09-30T11:22:36.869Z"
   },
   {
    "duration": 17,
    "start_time": "2021-09-30T11:22:36.875Z"
   },
   {
    "duration": 11,
    "start_time": "2021-09-30T11:22:36.896Z"
   },
   {
    "duration": 49,
    "start_time": "2021-09-30T11:22:36.910Z"
   },
   {
    "duration": 91,
    "start_time": "2021-09-30T11:22:36.961Z"
   },
   {
    "duration": 124,
    "start_time": "2021-09-30T11:22:37.054Z"
   },
   {
    "duration": 5,
    "start_time": "2021-09-30T11:22:37.180Z"
   },
   {
    "duration": 202,
    "start_time": "2021-09-30T11:22:37.277Z"
   },
   {
    "duration": 96,
    "start_time": "2021-09-30T11:22:37.482Z"
   },
   {
    "duration": 14,
    "start_time": "2021-09-30T11:22:37.581Z"
   },
   {
    "duration": 4,
    "start_time": "2021-09-30T11:22:37.597Z"
   },
   {
    "duration": 375,
    "start_time": "2021-09-30T11:22:37.602Z"
   },
   {
    "duration": 8,
    "start_time": "2021-09-30T11:22:37.979Z"
   },
   {
    "duration": 17,
    "start_time": "2021-09-30T11:22:37.989Z"
   },
   {
    "duration": 4,
    "start_time": "2021-09-30T11:22:38.008Z"
   },
   {
    "duration": 171,
    "start_time": "2021-09-30T11:22:38.014Z"
   },
   {
    "duration": 95,
    "start_time": "2021-09-30T11:22:38.187Z"
   },
   {
    "duration": 335,
    "start_time": "2021-09-30T11:22:38.284Z"
   },
   {
    "duration": 460,
    "start_time": "2021-09-30T11:22:38.621Z"
   },
   {
    "duration": 6,
    "start_time": "2021-09-30T11:22:39.083Z"
   },
   {
    "duration": 307,
    "start_time": "2021-09-30T11:22:39.091Z"
   },
   {
    "duration": 83950,
    "start_time": "2021-09-30T11:22:39.400Z"
   },
   {
    "duration": 299,
    "start_time": "2021-09-30T11:24:03.351Z"
   },
   {
    "duration": 32,
    "start_time": "2021-09-30T11:24:03.652Z"
   },
   {
    "duration": 562,
    "start_time": "2021-09-30T11:24:03.687Z"
   },
   {
    "duration": 4,
    "start_time": "2021-09-30T11:24:04.250Z"
   },
   {
    "duration": 375,
    "start_time": "2021-09-30T11:24:04.255Z"
   },
   {
    "duration": 39,
    "start_time": "2021-09-30T11:24:04.632Z"
   },
   {
    "duration": 100,
    "start_time": "2021-09-30T11:24:04.678Z"
   },
   {
    "duration": 105,
    "start_time": "2021-09-30T11:24:04.781Z"
   },
   {
    "duration": 105,
    "start_time": "2021-09-30T11:24:04.888Z"
   },
   {
    "duration": 10,
    "start_time": "2021-09-30T11:24:04.995Z"
   },
   {
    "duration": 7,
    "start_time": "2021-09-30T11:24:05.007Z"
   },
   {
    "duration": 11,
    "start_time": "2021-09-30T11:33:14.334Z"
   },
   {
    "duration": 103,
    "start_time": "2021-09-30T11:34:48.719Z"
   },
   {
    "duration": 110,
    "start_time": "2021-09-30T11:34:54.664Z"
   },
   {
    "duration": 126,
    "start_time": "2021-09-30T11:37:20.366Z"
   },
   {
    "duration": 116453,
    "start_time": "2021-09-30T11:35:59.162Z"
   },
   {
    "duration": 348,
    "start_time": "2021-09-30T11:38:02.650Z"
   },
   {
    "duration": 11274,
    "start_time": "2021-09-30T11:38:05.611Z"
   },
   {
    "duration": 116399,
    "start_time": "2021-09-30T11:36:20.487Z"
   },
   {
    "duration": 8989,
    "start_time": "2021-09-30T11:38:20.705Z"
   },
   {
    "duration": 116391,
    "start_time": "2021-09-30T11:36:33.305Z"
   },
   {
    "duration": 107,
    "start_time": "2021-09-30T11:38:40.593Z"
   },
   {
    "duration": 9281,
    "start_time": "2021-09-30T11:38:42.606Z"
   },
   {
    "duration": 4,
    "start_time": "2021-09-30T11:39:09.184Z"
   },
   {
    "duration": 4,
    "start_time": "2021-09-30T11:39:38.758Z"
   },
   {
    "duration": 5,
    "start_time": "2021-09-30T11:40:24.833Z"
   },
   {
    "duration": 5,
    "start_time": "2021-09-30T11:42:48.399Z"
   },
   {
    "duration": 4,
    "start_time": "2021-09-30T11:42:54.014Z"
   },
   {
    "duration": 4,
    "start_time": "2021-09-30T11:42:58.843Z"
   },
   {
    "duration": 1474,
    "start_time": "2021-09-30T12:28:15.960Z"
   },
   {
    "duration": 53,
    "start_time": "2021-09-30T12:28:17.436Z"
   },
   {
    "duration": 8,
    "start_time": "2021-09-30T12:28:17.492Z"
   },
   {
    "duration": 13,
    "start_time": "2021-09-30T12:28:17.502Z"
   },
   {
    "duration": 15,
    "start_time": "2021-09-30T12:28:17.517Z"
   },
   {
    "duration": 18,
    "start_time": "2021-09-30T12:28:17.534Z"
   },
   {
    "duration": 5,
    "start_time": "2021-09-30T12:28:17.554Z"
   },
   {
    "duration": 20,
    "start_time": "2021-09-30T12:28:17.562Z"
   },
   {
    "duration": 9,
    "start_time": "2021-09-30T12:28:17.585Z"
   },
   {
    "duration": 572,
    "start_time": "2021-09-30T12:28:17.597Z"
   },
   {
    "duration": 597,
    "start_time": "2021-09-30T12:28:18.171Z"
   },
   {
    "duration": 7,
    "start_time": "2021-09-30T12:28:18.770Z"
   },
   {
    "duration": 19,
    "start_time": "2021-09-30T12:28:18.779Z"
   },
   {
    "duration": 19,
    "start_time": "2021-09-30T12:28:18.799Z"
   },
   {
    "duration": 12,
    "start_time": "2021-09-30T12:28:18.819Z"
   },
   {
    "duration": 25,
    "start_time": "2021-09-30T12:28:18.833Z"
   },
   {
    "duration": 26,
    "start_time": "2021-09-30T12:28:18.861Z"
   },
   {
    "duration": 12,
    "start_time": "2021-09-30T12:28:18.890Z"
   },
   {
    "duration": 6,
    "start_time": "2021-09-30T12:28:18.904Z"
   },
   {
    "duration": 22,
    "start_time": "2021-09-30T12:28:18.912Z"
   },
   {
    "duration": 5,
    "start_time": "2021-09-30T12:28:18.936Z"
   },
   {
    "duration": 8,
    "start_time": "2021-09-30T12:28:18.977Z"
   },
   {
    "duration": 8,
    "start_time": "2021-09-30T12:28:18.990Z"
   },
   {
    "duration": 54,
    "start_time": "2021-09-30T12:28:19.000Z"
   },
   {
    "duration": 106,
    "start_time": "2021-09-30T12:28:19.055Z"
   },
   {
    "duration": 214,
    "start_time": "2021-09-30T12:28:19.163Z"
   },
   {
    "duration": 3,
    "start_time": "2021-09-30T12:28:19.379Z"
   },
   {
    "duration": 197,
    "start_time": "2021-09-30T12:28:19.384Z"
   },
   {
    "duration": 98,
    "start_time": "2021-09-30T12:28:19.584Z"
   },
   {
    "duration": 15,
    "start_time": "2021-09-30T12:28:19.684Z"
   },
   {
    "duration": 4,
    "start_time": "2021-09-30T12:28:19.701Z"
   },
   {
    "duration": 374,
    "start_time": "2021-09-30T12:28:19.706Z"
   },
   {
    "duration": 8,
    "start_time": "2021-09-30T12:28:20.082Z"
   },
   {
    "duration": 21,
    "start_time": "2021-09-30T12:28:20.091Z"
   },
   {
    "duration": 7,
    "start_time": "2021-09-30T12:28:20.114Z"
   },
   {
    "duration": 158,
    "start_time": "2021-09-30T12:28:20.123Z"
   },
   {
    "duration": 99,
    "start_time": "2021-09-30T12:28:20.284Z"
   },
   {
    "duration": 332,
    "start_time": "2021-09-30T12:28:20.385Z"
   },
   {
    "duration": 462,
    "start_time": "2021-09-30T12:28:20.719Z"
   },
   {
    "duration": 9,
    "start_time": "2021-09-30T12:28:21.182Z"
   },
   {
    "duration": 301,
    "start_time": "2021-09-30T12:28:21.193Z"
   },
   {
    "duration": 85097,
    "start_time": "2021-09-30T12:28:21.496Z"
   },
   {
    "duration": 400,
    "start_time": "2021-09-30T12:29:46.594Z"
   },
   {
    "duration": 82,
    "start_time": "2021-09-30T12:29:46.995Z"
   },
   {
    "duration": 511,
    "start_time": "2021-09-30T12:29:47.079Z"
   },
   {
    "duration": 4,
    "start_time": "2021-09-30T12:29:47.592Z"
   },
   {
    "duration": 13,
    "start_time": "2021-09-30T12:29:47.597Z"
   },
   {
    "duration": 65,
    "start_time": "2021-09-30T12:29:47.612Z"
   },
   {
    "duration": 99,
    "start_time": "2021-09-30T12:29:47.680Z"
   },
   {
    "duration": 121,
    "start_time": "2021-09-30T12:29:47.781Z"
   },
   {
    "duration": 4,
    "start_time": "2021-09-30T12:29:47.903Z"
   },
   {
    "duration": 4,
    "start_time": "2021-09-30T12:34:00.139Z"
   },
   {
    "duration": 202,
    "start_time": "2021-09-30T12:56:14.476Z"
   },
   {
    "duration": 113,
    "start_time": "2021-09-30T12:56:16.096Z"
   },
   {
    "duration": 1348,
    "start_time": "2021-09-30T13:26:28.246Z"
   },
   {
    "duration": 46,
    "start_time": "2021-09-30T13:26:29.596Z"
   },
   {
    "duration": 11,
    "start_time": "2021-09-30T13:26:29.644Z"
   },
   {
    "duration": 21,
    "start_time": "2021-09-30T13:26:29.657Z"
   },
   {
    "duration": 3,
    "start_time": "2021-09-30T13:26:29.680Z"
   },
   {
    "duration": 30,
    "start_time": "2021-09-30T13:26:29.685Z"
   },
   {
    "duration": 4,
    "start_time": "2021-09-30T13:26:29.717Z"
   },
   {
    "duration": 18,
    "start_time": "2021-09-30T13:26:29.724Z"
   },
   {
    "duration": 12,
    "start_time": "2021-09-30T13:26:29.744Z"
   },
   {
    "duration": 608,
    "start_time": "2021-09-30T13:26:29.758Z"
   },
   {
    "duration": 599,
    "start_time": "2021-09-30T13:26:30.368Z"
   },
   {
    "duration": 8,
    "start_time": "2021-09-30T13:26:30.969Z"
   },
   {
    "duration": 17,
    "start_time": "2021-09-30T13:26:30.979Z"
   },
   {
    "duration": 18,
    "start_time": "2021-09-30T13:26:30.998Z"
   },
   {
    "duration": 11,
    "start_time": "2021-09-30T13:26:31.018Z"
   },
   {
    "duration": 45,
    "start_time": "2021-09-30T13:26:31.031Z"
   },
   {
    "duration": 11,
    "start_time": "2021-09-30T13:26:31.079Z"
   },
   {
    "duration": 26,
    "start_time": "2021-09-30T13:26:31.092Z"
   },
   {
    "duration": 12,
    "start_time": "2021-09-30T13:26:31.120Z"
   },
   {
    "duration": 32,
    "start_time": "2021-09-30T13:26:31.133Z"
   },
   {
    "duration": 4,
    "start_time": "2021-09-30T13:26:31.167Z"
   },
   {
    "duration": 14,
    "start_time": "2021-09-30T13:26:31.173Z"
   },
   {
    "duration": 12,
    "start_time": "2021-09-30T13:26:31.191Z"
   },
   {
    "duration": 63,
    "start_time": "2021-09-30T13:26:31.205Z"
   },
   {
    "duration": 90,
    "start_time": "2021-09-30T13:26:31.270Z"
   },
   {
    "duration": 117,
    "start_time": "2021-09-30T13:26:31.361Z"
   },
   {
    "duration": 5,
    "start_time": "2021-09-30T13:26:31.481Z"
   },
   {
    "duration": 200,
    "start_time": "2021-09-30T13:26:31.577Z"
   },
   {
    "duration": 98,
    "start_time": "2021-09-30T13:26:31.780Z"
   },
   {
    "duration": 38,
    "start_time": "2021-09-30T13:26:31.879Z"
   },
   {
    "duration": 18,
    "start_time": "2021-09-30T13:26:31.918Z"
   },
   {
    "duration": 342,
    "start_time": "2021-09-30T13:26:31.938Z"
   },
   {
    "duration": 9,
    "start_time": "2021-09-30T13:26:32.282Z"
   },
   {
    "duration": 14,
    "start_time": "2021-09-30T13:26:32.292Z"
   },
   {
    "duration": 4,
    "start_time": "2021-09-30T13:26:32.308Z"
   },
   {
    "duration": 267,
    "start_time": "2021-09-30T13:26:32.314Z"
   },
   {
    "duration": 9,
    "start_time": "2021-09-30T13:26:32.583Z"
   },
   {
    "duration": 335,
    "start_time": "2021-09-30T13:26:32.594Z"
   },
   {
    "duration": 469,
    "start_time": "2021-09-30T13:26:32.931Z"
   },
   {
    "duration": 6,
    "start_time": "2021-09-30T13:26:33.402Z"
   },
   {
    "duration": 289,
    "start_time": "2021-09-30T13:26:33.410Z"
   },
   {
    "duration": 84723,
    "start_time": "2021-09-30T13:26:33.701Z"
   },
   {
    "duration": 315,
    "start_time": "2021-09-30T13:27:58.426Z"
   },
   {
    "duration": 42,
    "start_time": "2021-09-30T13:27:58.743Z"
   },
   {
    "duration": 548,
    "start_time": "2021-09-30T13:27:58.788Z"
   },
   {
    "duration": 3,
    "start_time": "2021-09-30T13:27:59.338Z"
   },
   {
    "duration": 5,
    "start_time": "2021-09-30T13:27:59.343Z"
   },
   {
    "duration": 32,
    "start_time": "2021-09-30T13:27:59.350Z"
   },
   {
    "duration": 100,
    "start_time": "2021-09-30T13:27:59.385Z"
   },
   {
    "duration": 8999,
    "start_time": "2021-09-30T13:27:59.487Z"
   },
   {
    "duration": 591,
    "start_time": "2021-09-30T13:33:22.932Z"
   },
   {
    "duration": 472,
    "start_time": "2021-09-30T13:33:43.181Z"
   },
   {
    "duration": 133,
    "start_time": "2021-09-30T13:37:35.491Z"
   },
   {
    "duration": 10288,
    "start_time": "2021-09-30T13:37:38.498Z"
   },
   {
    "duration": 115594,
    "start_time": "2021-09-30T13:35:53.194Z"
   },
   {
    "duration": 169,
    "start_time": "2021-09-30T13:37:51.910Z"
   },
   {
    "duration": 20,
    "start_time": "2021-09-30T13:38:22.645Z"
   },
   {
    "duration": 7,
    "start_time": "2021-09-30T13:38:23.363Z"
   },
   {
    "duration": 116,
    "start_time": "2021-09-30T13:38:49.198Z"
   },
   {
    "duration": 4,
    "start_time": "2021-09-30T13:38:52.163Z"
   },
   {
    "duration": 1221,
    "start_time": "2021-09-30T13:38:59.885Z"
   },
   {
    "duration": 46,
    "start_time": "2021-09-30T13:39:01.108Z"
   },
   {
    "duration": 23,
    "start_time": "2021-09-30T13:39:01.158Z"
   },
   {
    "duration": 6,
    "start_time": "2021-09-30T13:39:01.182Z"
   },
   {
    "duration": 10,
    "start_time": "2021-09-30T13:39:01.190Z"
   },
   {
    "duration": 24,
    "start_time": "2021-09-30T13:39:01.202Z"
   },
   {
    "duration": 5,
    "start_time": "2021-09-30T13:39:01.228Z"
   },
   {
    "duration": 14,
    "start_time": "2021-09-30T13:39:01.235Z"
   },
   {
    "duration": 9,
    "start_time": "2021-09-30T13:39:01.251Z"
   },
   {
    "duration": 624,
    "start_time": "2021-09-30T13:39:01.261Z"
   },
   {
    "duration": 618,
    "start_time": "2021-09-30T13:39:01.887Z"
   },
   {
    "duration": 4,
    "start_time": "2021-09-30T13:39:02.507Z"
   },
   {
    "duration": 16,
    "start_time": "2021-09-30T13:39:02.513Z"
   },
   {
    "duration": 33,
    "start_time": "2021-09-30T13:39:02.531Z"
   },
   {
    "duration": 11,
    "start_time": "2021-09-30T13:39:02.565Z"
   },
   {
    "duration": 27,
    "start_time": "2021-09-30T13:39:02.578Z"
   },
   {
    "duration": 11,
    "start_time": "2021-09-30T13:39:02.606Z"
   },
   {
    "duration": 15,
    "start_time": "2021-09-30T13:39:02.619Z"
   },
   {
    "duration": 19,
    "start_time": "2021-09-30T13:39:02.635Z"
   },
   {
    "duration": 25,
    "start_time": "2021-09-30T13:39:02.656Z"
   },
   {
    "duration": 5,
    "start_time": "2021-09-30T13:39:02.683Z"
   },
   {
    "duration": 9,
    "start_time": "2021-09-30T13:39:02.692Z"
   },
   {
    "duration": 8,
    "start_time": "2021-09-30T13:39:02.703Z"
   },
   {
    "duration": 45,
    "start_time": "2021-09-30T13:39:02.713Z"
   },
   {
    "duration": 117,
    "start_time": "2021-09-30T13:39:02.759Z"
   },
   {
    "duration": 199,
    "start_time": "2021-09-30T13:39:02.878Z"
   },
   {
    "duration": 3,
    "start_time": "2021-09-30T13:39:03.079Z"
   },
   {
    "duration": 196,
    "start_time": "2021-09-30T13:39:03.084Z"
   },
   {
    "duration": 98,
    "start_time": "2021-09-30T13:39:03.283Z"
   },
   {
    "duration": 24,
    "start_time": "2021-09-30T13:39:03.383Z"
   },
   {
    "duration": 18,
    "start_time": "2021-09-30T13:39:03.409Z"
   },
   {
    "duration": 255,
    "start_time": "2021-09-30T13:39:03.430Z"
   },
   {
    "duration": 8,
    "start_time": "2021-09-30T13:39:03.776Z"
   },
   {
    "duration": 14,
    "start_time": "2021-09-30T13:39:03.786Z"
   },
   {
    "duration": 4,
    "start_time": "2021-09-30T13:39:03.802Z"
   },
   {
    "duration": 271,
    "start_time": "2021-09-30T13:39:03.808Z"
   },
   {
    "duration": 9,
    "start_time": "2021-09-30T13:39:04.081Z"
   },
   {
    "duration": 330,
    "start_time": "2021-09-30T13:39:04.091Z"
   },
   {
    "duration": 439,
    "start_time": "2021-09-30T13:39:04.423Z"
   },
   {
    "duration": 5,
    "start_time": "2021-09-30T13:39:04.863Z"
   },
   {
    "duration": 295,
    "start_time": "2021-09-30T13:39:04.870Z"
   },
   {
    "duration": 82451,
    "start_time": "2021-09-30T13:39:05.167Z"
   },
   {
    "duration": 289,
    "start_time": "2021-09-30T13:40:27.620Z"
   },
   {
    "duration": 66,
    "start_time": "2021-09-30T13:40:27.911Z"
   },
   {
    "duration": 469,
    "start_time": "2021-09-30T13:40:27.979Z"
   },
   {
    "duration": 3,
    "start_time": "2021-09-30T13:40:28.449Z"
   },
   {
    "duration": 6,
    "start_time": "2021-09-30T13:40:28.454Z"
   },
   {
    "duration": 34,
    "start_time": "2021-09-30T13:40:28.461Z"
   },
   {
    "duration": 100,
    "start_time": "2021-09-30T13:40:28.577Z"
   },
   {
    "duration": 115,
    "start_time": "2021-09-30T13:40:28.679Z"
   },
   {
    "duration": 3,
    "start_time": "2021-09-30T13:40:28.796Z"
   },
   {
    "duration": 1275,
    "start_time": "2021-09-30T13:41:26.832Z"
   },
   {
    "duration": 44,
    "start_time": "2021-09-30T13:41:28.109Z"
   },
   {
    "duration": 8,
    "start_time": "2021-09-30T13:41:28.155Z"
   },
   {
    "duration": 12,
    "start_time": "2021-09-30T13:41:28.165Z"
   },
   {
    "duration": 3,
    "start_time": "2021-09-30T13:41:28.179Z"
   },
   {
    "duration": 15,
    "start_time": "2021-09-30T13:41:28.184Z"
   },
   {
    "duration": 5,
    "start_time": "2021-09-30T13:41:28.201Z"
   },
   {
    "duration": 7,
    "start_time": "2021-09-30T13:41:28.209Z"
   },
   {
    "duration": 8,
    "start_time": "2021-09-30T13:41:28.218Z"
   },
   {
    "duration": 650,
    "start_time": "2021-09-30T13:41:28.228Z"
   },
   {
    "duration": 689,
    "start_time": "2021-09-30T13:41:28.880Z"
   },
   {
    "duration": 9,
    "start_time": "2021-09-30T13:41:29.570Z"
   },
   {
    "duration": 17,
    "start_time": "2021-09-30T13:41:29.581Z"
   },
   {
    "duration": 16,
    "start_time": "2021-09-30T13:41:29.599Z"
   },
   {
    "duration": 10,
    "start_time": "2021-09-30T13:41:29.617Z"
   },
   {
    "duration": 20,
    "start_time": "2021-09-30T13:41:29.629Z"
   },
   {
    "duration": 13,
    "start_time": "2021-09-30T13:41:29.676Z"
   },
   {
    "duration": 11,
    "start_time": "2021-09-30T13:41:29.691Z"
   },
   {
    "duration": 5,
    "start_time": "2021-09-30T13:41:29.704Z"
   },
   {
    "duration": 17,
    "start_time": "2021-09-30T13:41:29.711Z"
   },
   {
    "duration": 4,
    "start_time": "2021-09-30T13:41:29.729Z"
   },
   {
    "duration": 43,
    "start_time": "2021-09-30T13:41:29.735Z"
   },
   {
    "duration": 5,
    "start_time": "2021-09-30T13:41:29.781Z"
   },
   {
    "duration": 48,
    "start_time": "2021-09-30T13:41:29.788Z"
   },
   {
    "duration": 108,
    "start_time": "2021-09-30T13:41:29.838Z"
   },
   {
    "duration": 133,
    "start_time": "2021-09-30T13:41:29.947Z"
   },
   {
    "duration": 94,
    "start_time": "2021-09-30T13:41:30.083Z"
   },
   {
    "duration": 209,
    "start_time": "2021-09-30T13:41:30.179Z"
   },
   {
    "duration": 7,
    "start_time": "2021-09-30T13:41:30.478Z"
   },
   {
    "duration": 15,
    "start_time": "2021-09-30T13:41:30.487Z"
   },
   {
    "duration": 4,
    "start_time": "2021-09-30T13:41:30.504Z"
   },
   {
    "duration": 472,
    "start_time": "2021-09-30T13:41:30.509Z"
   },
   {
    "duration": 8,
    "start_time": "2021-09-30T13:41:30.982Z"
   },
   {
    "duration": 18,
    "start_time": "2021-09-30T13:41:30.992Z"
   },
   {
    "duration": 5,
    "start_time": "2021-09-30T13:41:31.012Z"
   },
   {
    "duration": 169,
    "start_time": "2021-09-30T13:41:31.019Z"
   },
   {
    "duration": 8,
    "start_time": "2021-09-30T13:41:31.277Z"
   },
   {
    "duration": 327,
    "start_time": "2021-09-30T13:41:31.287Z"
   },
   {
    "duration": 476,
    "start_time": "2021-09-30T13:41:31.616Z"
   },
   {
    "duration": 6,
    "start_time": "2021-09-30T13:41:32.094Z"
   },
   {
    "duration": 306,
    "start_time": "2021-09-30T13:41:32.102Z"
   },
   {
    "duration": 86948,
    "start_time": "2021-09-30T13:41:32.410Z"
   },
   {
    "duration": 312,
    "start_time": "2021-09-30T13:42:59.359Z"
   },
   {
    "duration": 28,
    "start_time": "2021-09-30T13:42:59.676Z"
   },
   {
    "duration": 677,
    "start_time": "2021-09-30T13:42:59.706Z"
   },
   {
    "duration": 5,
    "start_time": "2021-09-30T13:43:00.385Z"
   },
   {
    "duration": 12,
    "start_time": "2021-09-30T13:43:00.392Z"
   },
   {
    "duration": 71,
    "start_time": "2021-09-30T13:43:00.406Z"
   },
   {
    "duration": 100,
    "start_time": "2021-09-30T13:43:00.479Z"
   },
   {
    "duration": 130,
    "start_time": "2021-09-30T13:43:00.581Z"
   },
   {
    "duration": 4,
    "start_time": "2021-09-30T13:43:00.712Z"
   },
   {
    "duration": 1261,
    "start_time": "2021-09-30T13:46:05.340Z"
   },
   {
    "duration": 44,
    "start_time": "2021-09-30T13:46:06.602Z"
   },
   {
    "duration": 8,
    "start_time": "2021-09-30T13:46:06.649Z"
   },
   {
    "duration": 4,
    "start_time": "2021-09-30T13:46:06.659Z"
   },
   {
    "duration": 13,
    "start_time": "2021-09-30T13:46:06.665Z"
   },
   {
    "duration": 16,
    "start_time": "2021-09-30T13:46:06.679Z"
   },
   {
    "duration": 4,
    "start_time": "2021-09-30T13:46:06.697Z"
   },
   {
    "duration": 10,
    "start_time": "2021-09-30T13:46:06.704Z"
   },
   {
    "duration": 8,
    "start_time": "2021-09-30T13:46:06.716Z"
   },
   {
    "duration": 616,
    "start_time": "2021-09-30T13:46:06.726Z"
   },
   {
    "duration": 607,
    "start_time": "2021-09-30T13:46:07.344Z"
   },
   {
    "duration": 5,
    "start_time": "2021-09-30T13:46:07.953Z"
   },
   {
    "duration": 22,
    "start_time": "2021-09-30T13:46:07.959Z"
   },
   {
    "duration": 17,
    "start_time": "2021-09-30T13:46:07.983Z"
   },
   {
    "duration": 10,
    "start_time": "2021-09-30T13:46:08.002Z"
   },
   {
    "duration": 20,
    "start_time": "2021-09-30T13:46:08.014Z"
   },
   {
    "duration": 11,
    "start_time": "2021-09-30T13:46:08.036Z"
   },
   {
    "duration": 32,
    "start_time": "2021-09-30T13:46:08.049Z"
   },
   {
    "duration": 4,
    "start_time": "2021-09-30T13:46:08.083Z"
   },
   {
    "duration": 16,
    "start_time": "2021-09-30T13:46:08.089Z"
   },
   {
    "duration": 4,
    "start_time": "2021-09-30T13:46:08.106Z"
   },
   {
    "duration": 8,
    "start_time": "2021-09-30T13:46:08.112Z"
   },
   {
    "duration": 5,
    "start_time": "2021-09-30T13:46:08.125Z"
   },
   {
    "duration": 88,
    "start_time": "2021-09-30T13:46:08.132Z"
   },
   {
    "duration": 99,
    "start_time": "2021-09-30T13:46:08.222Z"
   },
   {
    "duration": 154,
    "start_time": "2021-09-30T13:46:08.323Z"
   },
   {
    "duration": 3,
    "start_time": "2021-09-30T13:46:08.479Z"
   },
   {
    "duration": 196,
    "start_time": "2021-09-30T13:46:08.484Z"
   },
   {
    "duration": 97,
    "start_time": "2021-09-30T13:46:08.683Z"
   },
   {
    "duration": 16,
    "start_time": "2021-09-30T13:46:08.782Z"
   },
   {
    "duration": 4,
    "start_time": "2021-09-30T13:46:08.800Z"
   },
   {
    "duration": 371,
    "start_time": "2021-09-30T13:46:08.806Z"
   },
   {
    "duration": 8,
    "start_time": "2021-09-30T13:46:09.179Z"
   },
   {
    "duration": 13,
    "start_time": "2021-09-30T13:46:09.189Z"
   },
   {
    "duration": 5,
    "start_time": "2021-09-30T13:46:09.203Z"
   },
   {
    "duration": 269,
    "start_time": "2021-09-30T13:46:09.209Z"
   },
   {
    "duration": 8,
    "start_time": "2021-09-30T13:46:09.480Z"
   },
   {
    "duration": 332,
    "start_time": "2021-09-30T13:46:09.489Z"
   },
   {
    "duration": 468,
    "start_time": "2021-09-30T13:46:09.823Z"
   },
   {
    "duration": 5,
    "start_time": "2021-09-30T13:46:10.293Z"
   },
   {
    "duration": 295,
    "start_time": "2021-09-30T13:46:10.301Z"
   },
   {
    "duration": 84026,
    "start_time": "2021-09-30T13:46:10.598Z"
   },
   {
    "duration": 295,
    "start_time": "2021-09-30T13:47:34.626Z"
   },
   {
    "duration": 60,
    "start_time": "2021-09-30T13:47:34.924Z"
   },
   {
    "duration": 551,
    "start_time": "2021-09-30T13:47:34.986Z"
   },
   {
    "duration": 4,
    "start_time": "2021-09-30T13:47:35.539Z"
   },
   {
    "duration": 19,
    "start_time": "2021-09-30T13:47:35.545Z"
   },
   {
    "duration": 33,
    "start_time": "2021-09-30T13:47:35.565Z"
   },
   {
    "duration": 84,
    "start_time": "2021-09-30T13:47:35.601Z"
   },
   {
    "duration": 121,
    "start_time": "2021-09-30T13:47:35.777Z"
   },
   {
    "duration": 4,
    "start_time": "2021-09-30T13:47:35.899Z"
   },
   {
    "duration": 36,
    "start_time": "2021-09-30T13:52:02.247Z"
   },
   {
    "duration": 5,
    "start_time": "2021-09-30T13:54:35.437Z"
   },
   {
    "duration": 8,
    "start_time": "2021-09-30T14:04:47.112Z"
   },
   {
    "duration": 228,
    "start_time": "2021-09-30T14:04:48.754Z"
   },
   {
    "duration": 1456,
    "start_time": "2021-09-30T14:18:45.115Z"
   },
   {
    "duration": 56,
    "start_time": "2021-09-30T14:18:46.573Z"
   },
   {
    "duration": 11,
    "start_time": "2021-09-30T14:18:46.632Z"
   },
   {
    "duration": 5,
    "start_time": "2021-09-30T14:18:46.646Z"
   },
   {
    "duration": 23,
    "start_time": "2021-09-30T14:18:46.653Z"
   },
   {
    "duration": 14,
    "start_time": "2021-09-30T14:18:46.678Z"
   },
   {
    "duration": 5,
    "start_time": "2021-09-30T14:18:46.694Z"
   },
   {
    "duration": 11,
    "start_time": "2021-09-30T14:18:46.701Z"
   },
   {
    "duration": 10,
    "start_time": "2021-09-30T14:18:46.714Z"
   },
   {
    "duration": 635,
    "start_time": "2021-09-30T14:18:46.726Z"
   },
   {
    "duration": 726,
    "start_time": "2021-09-30T14:18:47.364Z"
   },
   {
    "duration": 5,
    "start_time": "2021-09-30T14:18:48.092Z"
   },
   {
    "duration": 14,
    "start_time": "2021-09-30T14:18:48.099Z"
   },
   {
    "duration": 17,
    "start_time": "2021-09-30T14:18:48.115Z"
   },
   {
    "duration": 11,
    "start_time": "2021-09-30T14:18:48.134Z"
   },
   {
    "duration": 48,
    "start_time": "2021-09-30T14:18:48.147Z"
   },
   {
    "duration": 12,
    "start_time": "2021-09-30T14:18:48.197Z"
   },
   {
    "duration": 19,
    "start_time": "2021-09-30T14:18:48.211Z"
   },
   {
    "duration": 10,
    "start_time": "2021-09-30T14:18:48.232Z"
   },
   {
    "duration": 53,
    "start_time": "2021-09-30T14:18:48.244Z"
   },
   {
    "duration": 6,
    "start_time": "2021-09-30T14:18:48.299Z"
   },
   {
    "duration": 10,
    "start_time": "2021-09-30T14:18:48.307Z"
   },
   {
    "duration": 5,
    "start_time": "2021-09-30T14:18:48.321Z"
   },
   {
    "duration": 78,
    "start_time": "2021-09-30T14:18:48.328Z"
   },
   {
    "duration": 124,
    "start_time": "2021-09-30T14:18:48.409Z"
   },
   {
    "duration": 157,
    "start_time": "2021-09-30T14:18:48.535Z"
   },
   {
    "duration": 85,
    "start_time": "2021-09-30T14:18:48.694Z"
   },
   {
    "duration": 206,
    "start_time": "2021-09-30T14:18:48.781Z"
   },
   {
    "duration": 9,
    "start_time": "2021-09-30T14:18:49.077Z"
   },
   {
    "duration": 16,
    "start_time": "2021-09-30T14:18:49.088Z"
   },
   {
    "duration": 4,
    "start_time": "2021-09-30T14:18:49.106Z"
   },
   {
    "duration": 376,
    "start_time": "2021-09-30T14:18:49.111Z"
   },
   {
    "duration": 9,
    "start_time": "2021-09-30T14:18:49.577Z"
   },
   {
    "duration": 15,
    "start_time": "2021-09-30T14:18:49.589Z"
   },
   {
    "duration": 5,
    "start_time": "2021-09-30T14:18:49.606Z"
   },
   {
    "duration": 267,
    "start_time": "2021-09-30T14:18:49.613Z"
   },
   {
    "duration": 396,
    "start_time": "2021-09-30T14:18:49.882Z"
   },
   {
    "duration": 541,
    "start_time": "2021-09-30T14:18:50.280Z"
   },
   {
    "duration": 7,
    "start_time": "2021-09-30T14:18:50.824Z"
   },
   {
    "duration": 357,
    "start_time": "2021-09-30T14:18:50.833Z"
   },
   {
    "duration": 93870,
    "start_time": "2021-09-30T14:18:51.192Z"
   },
   {
    "duration": 305,
    "start_time": "2021-09-30T14:20:25.077Z"
   },
   {
    "duration": 107,
    "start_time": "2021-09-30T14:20:25.384Z"
   },
   {
    "duration": 477,
    "start_time": "2021-09-30T14:20:25.578Z"
   },
   {
    "duration": 3,
    "start_time": "2021-09-30T14:20:26.057Z"
   },
   {
    "duration": 15,
    "start_time": "2021-09-30T14:20:26.062Z"
   },
   {
    "duration": 25,
    "start_time": "2021-09-30T14:20:26.079Z"
   },
   {
    "duration": 171,
    "start_time": "2021-09-30T14:20:26.107Z"
   },
   {
    "duration": 174,
    "start_time": "2021-09-30T14:20:26.280Z"
   },
   {
    "duration": 5,
    "start_time": "2021-09-30T14:20:26.456Z"
   },
   {
    "duration": 1257,
    "start_time": "2021-09-30T17:56:08.847Z"
   },
   {
    "duration": 45,
    "start_time": "2021-09-30T17:56:10.107Z"
   },
   {
    "duration": 9,
    "start_time": "2021-09-30T17:56:10.154Z"
   },
   {
    "duration": 12,
    "start_time": "2021-09-30T17:56:10.165Z"
   },
   {
    "duration": 3,
    "start_time": "2021-09-30T17:56:10.179Z"
   },
   {
    "duration": 17,
    "start_time": "2021-09-30T17:56:10.184Z"
   },
   {
    "duration": 5,
    "start_time": "2021-09-30T17:56:10.202Z"
   },
   {
    "duration": 14,
    "start_time": "2021-09-30T17:56:10.210Z"
   },
   {
    "duration": 9,
    "start_time": "2021-09-30T17:56:10.226Z"
   },
   {
    "duration": 629,
    "start_time": "2021-09-30T17:56:10.237Z"
   },
   {
    "duration": 707,
    "start_time": "2021-09-30T17:56:10.869Z"
   },
   {
    "duration": 5,
    "start_time": "2021-09-30T17:56:11.578Z"
   },
   {
    "duration": 14,
    "start_time": "2021-09-30T17:56:11.585Z"
   },
   {
    "duration": 18,
    "start_time": "2021-09-30T17:56:11.600Z"
   },
   {
    "duration": 10,
    "start_time": "2021-09-30T17:56:11.620Z"
   },
   {
    "duration": 48,
    "start_time": "2021-09-30T17:56:11.631Z"
   },
   {
    "duration": 12,
    "start_time": "2021-09-30T17:56:11.681Z"
   },
   {
    "duration": 14,
    "start_time": "2021-09-30T17:56:11.694Z"
   },
   {
    "duration": 4,
    "start_time": "2021-09-30T17:56:11.710Z"
   },
   {
    "duration": 16,
    "start_time": "2021-09-30T17:56:11.716Z"
   },
   {
    "duration": 4,
    "start_time": "2021-09-30T17:56:11.733Z"
   },
   {
    "duration": 39,
    "start_time": "2021-09-30T17:56:11.739Z"
   },
   {
    "duration": 4,
    "start_time": "2021-09-30T17:56:11.782Z"
   },
   {
    "duration": 46,
    "start_time": "2021-09-30T17:56:11.789Z"
   },
   {
    "duration": 111,
    "start_time": "2021-09-30T17:56:11.837Z"
   },
   {
    "duration": 227,
    "start_time": "2021-09-30T17:56:11.950Z"
   },
   {
    "duration": 4,
    "start_time": "2021-09-30T17:56:12.179Z"
   },
   {
    "duration": 194,
    "start_time": "2021-09-30T17:56:12.184Z"
   },
   {
    "duration": 98,
    "start_time": "2021-09-30T17:56:12.380Z"
   },
   {
    "duration": 17,
    "start_time": "2021-09-30T17:56:12.480Z"
   },
   {
    "duration": 5,
    "start_time": "2021-09-30T17:56:12.499Z"
   },
   {
    "duration": 377,
    "start_time": "2021-09-30T17:56:12.506Z"
   },
   {
    "duration": 93,
    "start_time": "2021-09-30T17:56:12.886Z"
   },
   {
    "duration": 13,
    "start_time": "2021-09-30T17:56:12.980Z"
   },
   {
    "duration": 4,
    "start_time": "2021-09-30T17:56:12.995Z"
   },
   {
    "duration": 277,
    "start_time": "2021-09-30T17:56:13.000Z"
   },
   {
    "duration": 349,
    "start_time": "2021-09-30T17:56:13.278Z"
   },
   {
    "duration": 471,
    "start_time": "2021-09-30T17:56:13.629Z"
   },
   {
    "duration": 6,
    "start_time": "2021-09-30T17:56:14.102Z"
   },
   {
    "duration": 296,
    "start_time": "2021-09-30T17:56:14.109Z"
   },
   {
    "duration": 86791,
    "start_time": "2021-09-30T17:56:14.408Z"
   },
   {
    "duration": 320,
    "start_time": "2021-09-30T17:57:41.201Z"
   },
   {
    "duration": 61,
    "start_time": "2021-09-30T17:57:41.523Z"
   },
   {
    "duration": 562,
    "start_time": "2021-09-30T17:57:41.587Z"
   },
   {
    "duration": 3,
    "start_time": "2021-09-30T17:57:42.151Z"
   },
   {
    "duration": 9,
    "start_time": "2021-09-30T17:57:42.156Z"
   },
   {
    "duration": 33,
    "start_time": "2021-09-30T17:57:42.166Z"
   },
   {
    "duration": 81,
    "start_time": "2021-09-30T17:57:42.200Z"
   },
   {
    "duration": 212,
    "start_time": "2021-09-30T17:57:42.283Z"
   },
   {
    "duration": 4,
    "start_time": "2021-09-30T17:57:42.496Z"
   },
   {
    "duration": 1322,
    "start_time": "2021-09-30T18:09:55.267Z"
   },
   {
    "duration": 46,
    "start_time": "2021-09-30T18:09:56.591Z"
   },
   {
    "duration": 9,
    "start_time": "2021-09-30T18:09:56.639Z"
   },
   {
    "duration": 5,
    "start_time": "2021-09-30T18:09:56.650Z"
   },
   {
    "duration": 7,
    "start_time": "2021-09-30T18:09:56.657Z"
   },
   {
    "duration": 16,
    "start_time": "2021-09-30T18:09:56.666Z"
   },
   {
    "duration": 4,
    "start_time": "2021-09-30T18:09:56.684Z"
   },
   {
    "duration": 8,
    "start_time": "2021-09-30T18:09:56.690Z"
   },
   {
    "duration": 7,
    "start_time": "2021-09-30T18:09:56.700Z"
   },
   {
    "duration": 603,
    "start_time": "2021-09-30T18:09:56.709Z"
   },
   {
    "duration": 602,
    "start_time": "2021-09-30T18:09:57.314Z"
   },
   {
    "duration": 5,
    "start_time": "2021-09-30T18:09:57.917Z"
   },
   {
    "duration": 15,
    "start_time": "2021-09-30T18:09:57.924Z"
   },
   {
    "duration": 16,
    "start_time": "2021-09-30T18:09:57.941Z"
   },
   {
    "duration": 28,
    "start_time": "2021-09-30T18:09:57.959Z"
   },
   {
    "duration": 22,
    "start_time": "2021-09-30T18:09:57.988Z"
   },
   {
    "duration": 14,
    "start_time": "2021-09-30T18:09:58.011Z"
   },
   {
    "duration": 20,
    "start_time": "2021-09-30T18:09:58.027Z"
   },
   {
    "duration": 13,
    "start_time": "2021-09-30T18:09:58.048Z"
   },
   {
    "duration": 25,
    "start_time": "2021-09-30T18:09:58.063Z"
   },
   {
    "duration": 5,
    "start_time": "2021-09-30T18:09:58.089Z"
   },
   {
    "duration": 8,
    "start_time": "2021-09-30T18:09:58.096Z"
   },
   {
    "duration": 4,
    "start_time": "2021-09-30T18:09:58.108Z"
   },
   {
    "duration": 70,
    "start_time": "2021-09-30T18:09:58.114Z"
   },
   {
    "duration": 99,
    "start_time": "2021-09-30T18:09:58.186Z"
   },
   {
    "duration": 190,
    "start_time": "2021-09-30T18:09:58.287Z"
   },
   {
    "duration": 4,
    "start_time": "2021-09-30T18:09:58.479Z"
   },
   {
    "duration": 149,
    "start_time": "2021-09-30T18:09:58.485Z"
   },
   {
    "duration": 101,
    "start_time": "2021-09-30T18:09:58.677Z"
   },
   {
    "duration": 13,
    "start_time": "2021-09-30T18:09:58.779Z"
   },
   {
    "duration": 5,
    "start_time": "2021-09-30T18:09:58.793Z"
   },
   {
    "duration": 290,
    "start_time": "2021-09-30T18:09:58.800Z"
   },
   {
    "duration": 90,
    "start_time": "2021-09-30T18:09:59.092Z"
   },
   {
    "duration": 17,
    "start_time": "2021-09-30T18:09:59.183Z"
   },
   {
    "duration": 8,
    "start_time": "2021-09-30T18:09:59.202Z"
   },
   {
    "duration": 177,
    "start_time": "2021-09-30T18:09:59.211Z"
   },
   {
    "duration": 411,
    "start_time": "2021-09-30T18:09:59.390Z"
   },
   {
    "duration": 461,
    "start_time": "2021-09-30T18:09:59.802Z"
   },
   {
    "duration": 12,
    "start_time": "2021-09-30T18:10:00.265Z"
   },
   {
    "duration": 314,
    "start_time": "2021-09-30T18:10:00.279Z"
   },
   {
    "duration": 87259,
    "start_time": "2021-09-30T18:10:00.594Z"
   },
   {
    "duration": 307,
    "start_time": "2021-09-30T18:11:27.855Z"
   },
   {
    "duration": 36,
    "start_time": "2021-09-30T18:11:28.164Z"
   },
   {
    "duration": 471,
    "start_time": "2021-09-30T18:11:28.278Z"
   },
   {
    "duration": 4,
    "start_time": "2021-09-30T18:11:28.751Z"
   },
   {
    "duration": 6,
    "start_time": "2021-09-30T18:11:28.756Z"
   },
   {
    "duration": 32,
    "start_time": "2021-09-30T18:11:28.764Z"
   },
   {
    "duration": 87,
    "start_time": "2021-09-30T18:11:28.799Z"
   },
   {
    "duration": 131,
    "start_time": "2021-09-30T18:11:28.977Z"
   },
   {
    "duration": 4,
    "start_time": "2021-09-30T18:11:29.110Z"
   },
   {
    "duration": 1219,
    "start_time": "2021-09-30T18:17:46.398Z"
   },
   {
    "duration": 45,
    "start_time": "2021-09-30T18:17:47.619Z"
   },
   {
    "duration": 15,
    "start_time": "2021-09-30T18:17:47.667Z"
   },
   {
    "duration": 5,
    "start_time": "2021-09-30T18:17:47.685Z"
   },
   {
    "duration": 5,
    "start_time": "2021-09-30T18:17:47.692Z"
   },
   {
    "duration": 18,
    "start_time": "2021-09-30T18:17:47.698Z"
   },
   {
    "duration": 5,
    "start_time": "2021-09-30T18:17:47.718Z"
   },
   {
    "duration": 9,
    "start_time": "2021-09-30T18:17:47.725Z"
   },
   {
    "duration": 45,
    "start_time": "2021-09-30T18:17:47.738Z"
   },
   {
    "duration": 546,
    "start_time": "2021-09-30T18:17:47.785Z"
   },
   {
    "duration": 616,
    "start_time": "2021-09-30T18:17:48.333Z"
   },
   {
    "duration": 5,
    "start_time": "2021-09-30T18:17:48.951Z"
   },
   {
    "duration": 23,
    "start_time": "2021-09-30T18:17:48.958Z"
   },
   {
    "duration": 16,
    "start_time": "2021-09-30T18:17:48.983Z"
   },
   {
    "duration": 11,
    "start_time": "2021-09-30T18:17:49.000Z"
   },
   {
    "duration": 20,
    "start_time": "2021-09-30T18:17:49.013Z"
   },
   {
    "duration": 12,
    "start_time": "2021-09-30T18:17:49.035Z"
   },
   {
    "duration": 37,
    "start_time": "2021-09-30T18:17:49.049Z"
   },
   {
    "duration": 4,
    "start_time": "2021-09-30T18:17:49.088Z"
   },
   {
    "duration": 21,
    "start_time": "2021-09-30T18:17:49.094Z"
   },
   {
    "duration": 9,
    "start_time": "2021-09-30T18:17:49.117Z"
   },
   {
    "duration": 15,
    "start_time": "2021-09-30T18:17:49.128Z"
   },
   {
    "duration": 32,
    "start_time": "2021-09-30T18:17:49.145Z"
   },
   {
    "duration": 45,
    "start_time": "2021-09-30T18:17:49.179Z"
   },
   {
    "duration": 102,
    "start_time": "2021-09-30T18:17:49.226Z"
   },
   {
    "duration": 152,
    "start_time": "2021-09-30T18:17:49.330Z"
   },
   {
    "duration": 4,
    "start_time": "2021-09-30T18:17:49.486Z"
   },
   {
    "duration": 284,
    "start_time": "2021-09-30T18:17:49.492Z"
   },
   {
    "duration": 98,
    "start_time": "2021-09-30T18:17:49.780Z"
   },
   {
    "duration": 22,
    "start_time": "2021-09-30T18:17:49.880Z"
   },
   {
    "duration": 8,
    "start_time": "2021-09-30T18:17:49.904Z"
   },
   {
    "duration": 273,
    "start_time": "2021-09-30T18:17:49.914Z"
   },
   {
    "duration": 9,
    "start_time": "2021-09-30T18:17:50.277Z"
   },
   {
    "duration": 26,
    "start_time": "2021-09-30T18:17:50.288Z"
   },
   {
    "duration": 4,
    "start_time": "2021-09-30T18:17:50.316Z"
   },
   {
    "duration": 259,
    "start_time": "2021-09-30T18:17:50.322Z"
   },
   {
    "duration": 345,
    "start_time": "2021-09-30T18:17:50.583Z"
   },
   {
    "duration": 464,
    "start_time": "2021-09-30T18:17:50.930Z"
   },
   {
    "duration": 6,
    "start_time": "2021-09-30T18:17:51.396Z"
   },
   {
    "duration": 293,
    "start_time": "2021-09-30T18:17:51.404Z"
   },
   {
    "duration": 87520,
    "start_time": "2021-09-30T18:17:51.699Z"
   },
   {
    "duration": 298,
    "start_time": "2021-09-30T18:19:19.220Z"
   },
   {
    "duration": 57,
    "start_time": "2021-09-30T18:19:19.520Z"
   },
   {
    "duration": 575,
    "start_time": "2021-09-30T18:19:19.579Z"
   },
   {
    "duration": 4,
    "start_time": "2021-09-30T18:19:20.156Z"
   },
   {
    "duration": 16,
    "start_time": "2021-09-30T18:19:20.162Z"
   },
   {
    "duration": 97,
    "start_time": "2021-09-30T18:19:20.180Z"
   },
   {
    "duration": 99,
    "start_time": "2021-09-30T18:19:20.279Z"
   },
   {
    "duration": 128,
    "start_time": "2021-09-30T18:19:20.380Z"
   },
   {
    "duration": 5,
    "start_time": "2021-09-30T18:19:20.510Z"
   },
   {
    "duration": 1258,
    "start_time": "2021-09-30T18:26:35.057Z"
   },
   {
    "duration": 43,
    "start_time": "2021-09-30T18:26:36.317Z"
   },
   {
    "duration": 9,
    "start_time": "2021-09-30T18:26:36.362Z"
   },
   {
    "duration": 5,
    "start_time": "2021-09-30T18:26:36.373Z"
   },
   {
    "duration": 4,
    "start_time": "2021-09-30T18:26:36.380Z"
   },
   {
    "duration": 16,
    "start_time": "2021-09-30T18:26:36.386Z"
   },
   {
    "duration": 5,
    "start_time": "2021-09-30T18:26:36.404Z"
   },
   {
    "duration": 7,
    "start_time": "2021-09-30T18:26:36.411Z"
   },
   {
    "duration": 8,
    "start_time": "2021-09-30T18:26:36.420Z"
   },
   {
    "duration": 588,
    "start_time": "2021-09-30T18:26:36.430Z"
   },
   {
    "duration": 703,
    "start_time": "2021-09-30T18:26:37.021Z"
   },
   {
    "duration": 5,
    "start_time": "2021-09-30T18:26:37.726Z"
   },
   {
    "duration": 12,
    "start_time": "2021-09-30T18:26:37.733Z"
   },
   {
    "duration": 37,
    "start_time": "2021-09-30T18:26:37.747Z"
   },
   {
    "duration": 11,
    "start_time": "2021-09-30T18:26:37.786Z"
   },
   {
    "duration": 20,
    "start_time": "2021-09-30T18:26:37.799Z"
   },
   {
    "duration": 12,
    "start_time": "2021-09-30T18:26:37.821Z"
   },
   {
    "duration": 14,
    "start_time": "2021-09-30T18:26:37.835Z"
   },
   {
    "duration": 6,
    "start_time": "2021-09-30T18:26:37.878Z"
   },
   {
    "duration": 18,
    "start_time": "2021-09-30T18:26:37.886Z"
   },
   {
    "duration": 4,
    "start_time": "2021-09-30T18:26:37.906Z"
   },
   {
    "duration": 9,
    "start_time": "2021-09-30T18:26:37.912Z"
   },
   {
    "duration": 5,
    "start_time": "2021-09-30T18:26:37.923Z"
   },
   {
    "duration": 80,
    "start_time": "2021-09-30T18:26:37.930Z"
   },
   {
    "duration": 104,
    "start_time": "2021-09-30T18:26:38.012Z"
   },
   {
    "duration": 163,
    "start_time": "2021-09-30T18:26:38.118Z"
   },
   {
    "duration": 4,
    "start_time": "2021-09-30T18:26:38.285Z"
   },
   {
    "duration": 204,
    "start_time": "2021-09-30T18:26:38.291Z"
   },
   {
    "duration": 100,
    "start_time": "2021-09-30T18:26:38.578Z"
   },
   {
    "duration": 14,
    "start_time": "2021-09-30T18:26:38.680Z"
   },
   {
    "duration": 3,
    "start_time": "2021-09-30T18:26:38.696Z"
   },
   {
    "duration": 303,
    "start_time": "2021-09-30T18:26:38.701Z"
   },
   {
    "duration": 10,
    "start_time": "2021-09-30T18:26:39.078Z"
   },
   {
    "duration": 14,
    "start_time": "2021-09-30T18:26:39.090Z"
   },
   {
    "duration": 4,
    "start_time": "2021-09-30T18:26:39.106Z"
   },
   {
    "duration": 266,
    "start_time": "2021-09-30T18:26:39.112Z"
   },
   {
    "duration": 342,
    "start_time": "2021-09-30T18:26:39.379Z"
   },
   {
    "duration": 565,
    "start_time": "2021-09-30T18:26:39.723Z"
   },
   {
    "duration": 6,
    "start_time": "2021-09-30T18:26:40.290Z"
   },
   {
    "duration": 368,
    "start_time": "2021-09-30T18:26:40.298Z"
   },
   {
    "duration": 86271,
    "start_time": "2021-09-30T18:26:40.668Z"
   },
   {
    "duration": 305,
    "start_time": "2021-09-30T18:28:06.940Z"
   },
   {
    "duration": 36,
    "start_time": "2021-09-30T18:28:07.247Z"
   },
   {
    "duration": 557,
    "start_time": "2021-09-30T18:28:07.286Z"
   },
   {
    "duration": 4,
    "start_time": "2021-09-30T18:28:07.845Z"
   },
   {
    "duration": 6,
    "start_time": "2021-09-30T18:28:07.850Z"
   },
   {
    "duration": 39,
    "start_time": "2021-09-30T18:28:07.858Z"
   },
   {
    "duration": 82,
    "start_time": "2021-09-30T18:28:07.899Z"
   },
   {
    "duration": 215,
    "start_time": "2021-09-30T18:28:07.985Z"
   },
   {
    "duration": 4,
    "start_time": "2021-09-30T18:28:08.202Z"
   },
   {
    "duration": 963,
    "start_time": "2021-09-30T19:36:16.398Z"
   },
   {
    "duration": 1276,
    "start_time": "2021-10-01T17:49:28.722Z"
   },
   {
    "duration": 43,
    "start_time": "2021-10-01T17:49:29.999Z"
   },
   {
    "duration": 9,
    "start_time": "2021-10-01T17:49:30.044Z"
   },
   {
    "duration": 5,
    "start_time": "2021-10-01T17:49:31.673Z"
   },
   {
    "duration": 15,
    "start_time": "2021-10-01T17:49:31.680Z"
   },
   {
    "duration": 41,
    "start_time": "2021-10-01T17:49:31.698Z"
   },
   {
    "duration": 5,
    "start_time": "2021-10-01T17:49:31.741Z"
   },
   {
    "duration": 8,
    "start_time": "2021-10-01T17:49:31.865Z"
   },
   {
    "duration": 10,
    "start_time": "2021-10-01T17:49:32.515Z"
   },
   {
    "duration": 638,
    "start_time": "2021-10-01T17:49:33.922Z"
   },
   {
    "duration": 641,
    "start_time": "2021-10-01T17:49:34.710Z"
   },
   {
    "duration": 6,
    "start_time": "2021-10-01T17:49:35.974Z"
   },
   {
    "duration": 13,
    "start_time": "2021-10-01T17:49:37.054Z"
   },
   {
    "duration": 16,
    "start_time": "2021-10-01T17:49:37.792Z"
   },
   {
    "duration": 12,
    "start_time": "2021-10-01T17:49:38.592Z"
   },
   {
    "duration": 21,
    "start_time": "2021-10-01T17:49:39.233Z"
   },
   {
    "duration": 19,
    "start_time": "2021-10-01T17:49:52.232Z"
   },
   {
    "duration": 15,
    "start_time": "2021-10-01T17:49:53.012Z"
   },
   {
    "duration": 5,
    "start_time": "2021-10-01T17:49:54.470Z"
   },
   {
    "duration": 17,
    "start_time": "2021-10-01T17:49:55.225Z"
   },
   {
    "duration": 5,
    "start_time": "2021-10-01T17:49:55.957Z"
   },
   {
    "duration": 9,
    "start_time": "2021-10-01T17:49:58.604Z"
   },
   {
    "duration": 6,
    "start_time": "2021-10-01T17:50:02.425Z"
   },
   {
    "duration": 50,
    "start_time": "2021-10-01T17:50:07.546Z"
   },
   {
    "duration": 6,
    "start_time": "2021-10-01T17:50:29.860Z"
   },
   {
    "duration": 48,
    "start_time": "2021-10-01T17:50:30.893Z"
   },
   {
    "duration": 106,
    "start_time": "2021-10-01T17:51:38.273Z"
   },
   {
    "duration": 236,
    "start_time": "2021-10-01T17:52:10.650Z"
   },
   {
    "duration": 132,
    "start_time": "2021-10-01T18:05:59.276Z"
   },
   {
    "duration": 1322,
    "start_time": "2021-10-01T18:08:30.689Z"
   },
   {
    "duration": 44,
    "start_time": "2021-10-01T18:08:32.014Z"
   },
   {
    "duration": 9,
    "start_time": "2021-10-01T18:08:32.060Z"
   },
   {
    "duration": 7,
    "start_time": "2021-10-01T18:08:32.078Z"
   },
   {
    "duration": 4,
    "start_time": "2021-10-01T18:08:32.087Z"
   },
   {
    "duration": 14,
    "start_time": "2021-10-01T18:08:32.094Z"
   },
   {
    "duration": 4,
    "start_time": "2021-10-01T18:08:32.110Z"
   },
   {
    "duration": 8,
    "start_time": "2021-10-01T18:08:32.117Z"
   },
   {
    "duration": 51,
    "start_time": "2021-10-01T18:08:32.127Z"
   },
   {
    "duration": 605,
    "start_time": "2021-10-01T18:08:32.180Z"
   },
   {
    "duration": 667,
    "start_time": "2021-10-01T18:08:32.788Z"
   },
   {
    "duration": 5,
    "start_time": "2021-10-01T18:08:33.457Z"
   },
   {
    "duration": 27,
    "start_time": "2021-10-01T18:08:33.464Z"
   },
   {
    "duration": 17,
    "start_time": "2021-10-01T18:08:33.493Z"
   },
   {
    "duration": 10,
    "start_time": "2021-10-01T18:08:33.512Z"
   },
   {
    "duration": 20,
    "start_time": "2021-10-01T18:08:33.524Z"
   },
   {
    "duration": 49,
    "start_time": "2021-10-01T18:08:33.546Z"
   },
   {
    "duration": 11,
    "start_time": "2021-10-01T18:08:33.597Z"
   },
   {
    "duration": 12,
    "start_time": "2021-10-01T18:08:33.610Z"
   },
   {
    "duration": 16,
    "start_time": "2021-10-01T18:08:33.624Z"
   },
   {
    "duration": 4,
    "start_time": "2021-10-01T18:08:33.642Z"
   },
   {
    "duration": 38,
    "start_time": "2021-10-01T18:08:33.648Z"
   },
   {
    "duration": 7,
    "start_time": "2021-10-01T18:08:33.692Z"
   },
   {
    "duration": 55,
    "start_time": "2021-10-01T18:08:33.701Z"
   },
   {
    "duration": 142,
    "start_time": "2021-10-01T18:08:33.758Z"
   },
   {
    "duration": 197,
    "start_time": "2021-10-01T18:08:33.902Z"
   },
   {
    "duration": 76,
    "start_time": "2021-10-01T18:08:34.101Z"
   },
   {
    "duration": 297,
    "start_time": "2021-10-01T18:08:34.180Z"
   },
   {
    "duration": 15,
    "start_time": "2021-10-01T18:08:34.480Z"
   },
   {
    "duration": 19,
    "start_time": "2021-10-01T18:08:34.578Z"
   },
   {
    "duration": 6,
    "start_time": "2021-10-01T18:08:34.599Z"
   },
   {
    "duration": 282,
    "start_time": "2021-10-01T18:08:34.608Z"
   },
   {
    "duration": 86,
    "start_time": "2021-10-01T18:08:34.892Z"
   },
   {
    "duration": 108,
    "start_time": "2021-10-01T18:08:34.981Z"
   },
   {
    "duration": 5,
    "start_time": "2021-10-01T18:08:35.091Z"
   },
   {
    "duration": 191,
    "start_time": "2021-10-01T18:08:35.098Z"
   },
   {
    "duration": 527,
    "start_time": "2021-10-01T18:08:35.293Z"
   },
   {
    "duration": 496,
    "start_time": "2021-10-01T18:08:35.822Z"
   },
   {
    "duration": 6,
    "start_time": "2021-10-01T18:08:36.320Z"
   },
   {
    "duration": 341,
    "start_time": "2021-10-01T18:08:36.329Z"
   },
   {
    "duration": 100258,
    "start_time": "2021-10-01T18:08:36.672Z"
   },
   {
    "duration": 333,
    "start_time": "2021-10-01T18:10:16.932Z"
   },
   {
    "duration": 212,
    "start_time": "2021-10-01T18:10:17.267Z"
   },
   {
    "duration": 480,
    "start_time": "2021-10-01T18:10:17.482Z"
   },
   {
    "duration": 14,
    "start_time": "2021-10-01T18:10:17.964Z"
   },
   {
    "duration": 6,
    "start_time": "2021-10-01T18:10:17.981Z"
   },
   {
    "duration": 94,
    "start_time": "2021-10-01T18:10:17.990Z"
   },
   {
    "duration": 98,
    "start_time": "2021-10-01T18:10:18.086Z"
   },
   {
    "duration": 262,
    "start_time": "2021-10-01T18:10:18.187Z"
   },
   {
    "duration": 5,
    "start_time": "2021-10-01T18:10:18.451Z"
   },
   {
    "duration": 5,
    "start_time": "2021-10-01T18:11:14.262Z"
   },
   {
    "duration": 67,
    "start_time": "2021-10-01T18:11:15.032Z"
   },
   {
    "duration": 8,
    "start_time": "2021-10-01T18:11:15.662Z"
   },
   {
    "duration": 6,
    "start_time": "2021-10-01T18:11:21.691Z"
   },
   {
    "duration": 305,
    "start_time": "2021-10-01T18:11:21.871Z"
   },
   {
    "duration": 9,
    "start_time": "2021-10-01T18:11:22.178Z"
   },
   {
    "duration": 6,
    "start_time": "2021-10-01T18:11:31.774Z"
   },
   {
    "duration": 5,
    "start_time": "2021-10-01T18:11:32.031Z"
   },
   {
    "duration": 115,
    "start_time": "2021-10-01T18:11:32.362Z"
   },
   {
    "duration": 8,
    "start_time": "2021-10-01T18:11:32.692Z"
   },
   {
    "duration": 149,
    "start_time": "2021-10-01T18:11:41.062Z"
   },
   {
    "duration": 5,
    "start_time": "2021-10-01T18:11:41.219Z"
   },
   {
    "duration": 4,
    "start_time": "2021-10-01T18:11:57.039Z"
   },
   {
    "duration": 7,
    "start_time": "2021-10-01T18:11:57.774Z"
   },
   {
    "duration": 194,
    "start_time": "2021-10-01T18:11:58.302Z"
   },
   {
    "duration": 9,
    "start_time": "2021-10-01T18:11:58.739Z"
   },
   {
    "duration": 173,
    "start_time": "2021-10-01T18:12:01.722Z"
   },
   {
    "duration": 5,
    "start_time": "2021-10-01T18:12:09.651Z"
   },
   {
    "duration": 1405,
    "start_time": "2021-10-01T18:12:41.065Z"
   },
   {
    "duration": 56,
    "start_time": "2021-10-01T18:12:42.473Z"
   },
   {
    "duration": 11,
    "start_time": "2021-10-01T18:12:42.533Z"
   },
   {
    "duration": 6,
    "start_time": "2021-10-01T18:12:42.547Z"
   },
   {
    "duration": 4,
    "start_time": "2021-10-01T18:12:42.555Z"
   },
   {
    "duration": 22,
    "start_time": "2021-10-01T18:12:42.576Z"
   },
   {
    "duration": 7,
    "start_time": "2021-10-01T18:12:42.600Z"
   },
   {
    "duration": 9,
    "start_time": "2021-10-01T18:12:42.611Z"
   },
   {
    "duration": 10,
    "start_time": "2021-10-01T18:12:42.622Z"
   },
   {
    "duration": 681,
    "start_time": "2021-10-01T18:12:42.634Z"
   },
   {
    "duration": 680,
    "start_time": "2021-10-01T18:12:43.317Z"
   },
   {
    "duration": 5,
    "start_time": "2021-10-01T18:12:44.000Z"
   },
   {
    "duration": 18,
    "start_time": "2021-10-01T18:12:44.008Z"
   },
   {
    "duration": 23,
    "start_time": "2021-10-01T18:12:44.028Z"
   },
   {
    "duration": 35,
    "start_time": "2021-10-01T18:12:44.052Z"
   },
   {
    "duration": 22,
    "start_time": "2021-10-01T18:12:44.089Z"
   },
   {
    "duration": 13,
    "start_time": "2021-10-01T18:12:44.113Z"
   },
   {
    "duration": 10,
    "start_time": "2021-10-01T18:12:44.128Z"
   },
   {
    "duration": 6,
    "start_time": "2021-10-01T18:12:44.176Z"
   },
   {
    "duration": 17,
    "start_time": "2021-10-01T18:12:44.184Z"
   },
   {
    "duration": 5,
    "start_time": "2021-10-01T18:12:44.203Z"
   },
   {
    "duration": 9,
    "start_time": "2021-10-01T18:12:44.210Z"
   },
   {
    "duration": 6,
    "start_time": "2021-10-01T18:12:44.223Z"
   },
   {
    "duration": 102,
    "start_time": "2021-10-01T18:12:44.231Z"
   },
   {
    "duration": 124,
    "start_time": "2021-10-01T18:12:44.335Z"
   },
   {
    "duration": 130,
    "start_time": "2021-10-01T18:12:44.461Z"
   },
   {
    "duration": 6,
    "start_time": "2021-10-01T18:12:44.593Z"
   },
   {
    "duration": 381,
    "start_time": "2021-10-01T18:12:44.601Z"
   },
   {
    "duration": 95,
    "start_time": "2021-10-01T18:12:44.984Z"
   },
   {
    "duration": 18,
    "start_time": "2021-10-01T18:12:45.082Z"
   },
   {
    "duration": 4,
    "start_time": "2021-10-01T18:12:45.102Z"
   },
   {
    "duration": 487,
    "start_time": "2021-10-01T18:12:45.108Z"
   },
   {
    "duration": 89,
    "start_time": "2021-10-01T18:12:45.599Z"
   },
   {
    "duration": 16,
    "start_time": "2021-10-01T18:12:45.690Z"
   },
   {
    "duration": 4,
    "start_time": "2021-10-01T18:12:45.708Z"
   },
   {
    "duration": 263,
    "start_time": "2021-10-01T18:12:45.714Z"
   },
   {
    "duration": 484,
    "start_time": "2021-10-01T18:12:45.982Z"
   },
   {
    "duration": 493,
    "start_time": "2021-10-01T18:12:46.469Z"
   },
   {
    "duration": 11,
    "start_time": "2021-10-01T18:12:46.965Z"
   },
   {
    "duration": 327,
    "start_time": "2021-10-01T18:12:46.978Z"
   },
   {
    "duration": 98103,
    "start_time": "2021-10-01T18:12:47.307Z"
   },
   {
    "duration": 355,
    "start_time": "2021-10-01T18:14:25.413Z"
   },
   {
    "duration": 35,
    "start_time": "2021-10-01T18:14:25.770Z"
   },
   {
    "duration": 494,
    "start_time": "2021-10-01T18:14:25.877Z"
   },
   {
    "duration": 6,
    "start_time": "2021-10-01T18:14:26.377Z"
   },
   {
    "duration": 11,
    "start_time": "2021-10-01T18:14:26.386Z"
   },
   {
    "duration": 90,
    "start_time": "2021-10-01T18:14:26.399Z"
   },
   {
    "duration": 15,
    "start_time": "2021-10-01T18:14:26.585Z"
   },
   {
    "duration": 188,
    "start_time": "2021-10-01T18:14:26.602Z"
   },
   {
    "duration": 5,
    "start_time": "2021-10-01T18:14:26.792Z"
   },
   {
    "duration": 1938,
    "start_time": "2021-10-02T18:18:56.175Z"
   },
   {
    "duration": 71,
    "start_time": "2021-10-02T18:18:58.116Z"
   },
   {
    "duration": 11,
    "start_time": "2021-10-02T18:18:58.190Z"
   },
   {
    "duration": 19,
    "start_time": "2021-10-02T18:18:58.203Z"
   },
   {
    "duration": 19,
    "start_time": "2021-10-02T18:18:58.225Z"
   },
   {
    "duration": 31,
    "start_time": "2021-10-02T18:18:58.246Z"
   },
   {
    "duration": 33,
    "start_time": "2021-10-02T18:18:58.280Z"
   },
   {
    "duration": 18,
    "start_time": "2021-10-02T18:18:58.318Z"
   },
   {
    "duration": 17,
    "start_time": "2021-10-02T18:18:58.340Z"
   },
   {
    "duration": 648,
    "start_time": "2021-10-02T18:18:58.360Z"
   },
   {
    "duration": 557,
    "start_time": "2021-10-02T18:18:59.011Z"
   },
   {
    "duration": 6,
    "start_time": "2021-10-02T18:18:59.570Z"
   },
   {
    "duration": 18,
    "start_time": "2021-10-02T18:18:59.578Z"
   },
   {
    "duration": 15,
    "start_time": "2021-10-02T18:18:59.597Z"
   },
   {
    "duration": 11,
    "start_time": "2021-10-02T18:18:59.613Z"
   },
   {
    "duration": 34,
    "start_time": "2021-10-02T18:18:59.626Z"
   },
   {
    "duration": 10,
    "start_time": "2021-10-02T18:18:59.662Z"
   },
   {
    "duration": 9,
    "start_time": "2021-10-02T18:18:59.674Z"
   },
   {
    "duration": 6,
    "start_time": "2021-10-02T18:18:59.684Z"
   },
   {
    "duration": 16,
    "start_time": "2021-10-02T18:18:59.692Z"
   },
   {
    "duration": 35,
    "start_time": "2021-10-02T18:18:59.709Z"
   },
   {
    "duration": 6,
    "start_time": "2021-10-02T18:18:59.746Z"
   },
   {
    "duration": 6,
    "start_time": "2021-10-02T18:18:59.755Z"
   },
   {
    "duration": 48,
    "start_time": "2021-10-02T18:18:59.763Z"
   },
   {
    "duration": 120,
    "start_time": "2021-10-02T18:18:59.813Z"
   },
   {
    "duration": 224,
    "start_time": "2021-10-02T18:18:59.935Z"
   },
   {
    "duration": 9,
    "start_time": "2021-10-02T18:19:00.247Z"
   },
   {
    "duration": 217,
    "start_time": "2021-10-02T18:19:00.258Z"
   },
   {
    "duration": 77,
    "start_time": "2021-10-02T18:19:00.477Z"
   },
   {
    "duration": 101,
    "start_time": "2021-10-02T18:19:00.556Z"
   },
   {
    "duration": 5,
    "start_time": "2021-10-02T18:19:00.659Z"
   },
   {
    "duration": 579,
    "start_time": "2021-10-02T18:19:00.666Z"
   },
   {
    "duration": 15,
    "start_time": "2021-10-02T18:19:01.248Z"
   },
   {
    "duration": 34,
    "start_time": "2021-10-02T18:19:01.266Z"
   },
   {
    "duration": 7,
    "start_time": "2021-10-02T18:19:01.303Z"
   },
   {
    "duration": 534,
    "start_time": "2021-10-02T18:19:01.312Z"
   },
   {
    "duration": 611,
    "start_time": "2021-10-02T18:19:01.848Z"
   },
   {
    "duration": 683,
    "start_time": "2021-10-02T18:19:02.462Z"
   },
   {
    "duration": 11,
    "start_time": "2021-10-02T18:19:03.148Z"
   },
   {
    "duration": 546,
    "start_time": "2021-10-02T18:19:03.162Z"
   },
   {
    "duration": 76119,
    "start_time": "2021-10-02T18:19:03.711Z"
   },
   {
    "duration": 280,
    "start_time": "2021-10-02T18:20:19.831Z"
   },
   {
    "duration": 45,
    "start_time": "2021-10-02T18:20:20.112Z"
   },
   {
    "duration": 452,
    "start_time": "2021-10-02T18:20:20.246Z"
   },
   {
    "duration": 4,
    "start_time": "2021-10-02T18:20:20.699Z"
   },
   {
    "duration": 5,
    "start_time": "2021-10-02T18:20:20.705Z"
   },
   {
    "duration": 45,
    "start_time": "2021-10-02T18:20:20.711Z"
   },
   {
    "duration": 100,
    "start_time": "2021-10-02T18:20:20.845Z"
   },
   {
    "duration": 116,
    "start_time": "2021-10-02T18:20:20.947Z"
   },
   {
    "duration": 4,
    "start_time": "2021-10-02T18:20:21.065Z"
   },
   {
    "duration": 254,
    "start_time": "2021-10-02T18:22:58.690Z"
   },
   {
    "duration": 253,
    "start_time": "2021-10-02T18:23:16.068Z"
   },
   {
    "duration": 259,
    "start_time": "2021-10-02T18:23:20.843Z"
   },
   {
    "duration": 264,
    "start_time": "2021-10-02T18:27:04.234Z"
   },
   {
    "duration": 84,
    "start_time": "2021-10-02T18:28:21.956Z"
   },
   {
    "duration": 265,
    "start_time": "2021-10-02T18:28:41.682Z"
   },
   {
    "duration": 261,
    "start_time": "2021-10-02T18:28:50.306Z"
   },
   {
    "duration": 380,
    "start_time": "2021-10-02T18:29:04.475Z"
   },
   {
    "duration": 486,
    "start_time": "2021-10-02T18:29:10.799Z"
   },
   {
    "duration": 1171,
    "start_time": "2021-10-02T18:30:42.644Z"
   },
   {
    "duration": 42,
    "start_time": "2021-10-02T18:30:43.816Z"
   },
   {
    "duration": 8,
    "start_time": "2021-10-02T18:30:43.860Z"
   },
   {
    "duration": 5,
    "start_time": "2021-10-02T18:30:43.870Z"
   },
   {
    "duration": 6,
    "start_time": "2021-10-02T18:30:43.877Z"
   },
   {
    "duration": 14,
    "start_time": "2021-10-02T18:30:43.884Z"
   },
   {
    "duration": 4,
    "start_time": "2021-10-02T18:30:43.900Z"
   },
   {
    "duration": 22,
    "start_time": "2021-10-02T18:30:43.907Z"
   },
   {
    "duration": 16,
    "start_time": "2021-10-02T18:30:43.931Z"
   },
   {
    "duration": 557,
    "start_time": "2021-10-02T18:30:43.948Z"
   },
   {
    "duration": 562,
    "start_time": "2021-10-02T18:30:44.507Z"
   },
   {
    "duration": 5,
    "start_time": "2021-10-02T18:30:45.071Z"
   },
   {
    "duration": 15,
    "start_time": "2021-10-02T18:30:45.077Z"
   },
   {
    "duration": 15,
    "start_time": "2021-10-02T18:30:45.094Z"
   },
   {
    "duration": 9,
    "start_time": "2021-10-02T18:30:45.111Z"
   },
   {
    "duration": 38,
    "start_time": "2021-10-02T18:30:45.121Z"
   },
   {
    "duration": 14,
    "start_time": "2021-10-02T18:30:45.161Z"
   },
   {
    "duration": 12,
    "start_time": "2021-10-02T18:30:45.177Z"
   },
   {
    "duration": 5,
    "start_time": "2021-10-02T18:30:45.191Z"
   },
   {
    "duration": 47,
    "start_time": "2021-10-02T18:30:45.198Z"
   },
   {
    "duration": 4,
    "start_time": "2021-10-02T18:30:45.247Z"
   },
   {
    "duration": 14,
    "start_time": "2021-10-02T18:30:45.253Z"
   },
   {
    "duration": 5,
    "start_time": "2021-10-02T18:30:45.271Z"
   },
   {
    "duration": 49,
    "start_time": "2021-10-02T18:30:45.278Z"
   },
   {
    "duration": 86,
    "start_time": "2021-10-02T18:30:45.344Z"
   },
   {
    "duration": 221,
    "start_time": "2021-10-02T18:30:45.432Z"
   },
   {
    "duration": 5,
    "start_time": "2021-10-02T18:30:45.744Z"
   },
   {
    "duration": 201,
    "start_time": "2021-10-02T18:30:45.750Z"
   },
   {
    "duration": 98,
    "start_time": "2021-10-02T18:30:45.954Z"
   },
   {
    "duration": 13,
    "start_time": "2021-10-02T18:30:46.054Z"
   },
   {
    "duration": 4,
    "start_time": "2021-10-02T18:30:46.069Z"
   },
   {
    "duration": 381,
    "start_time": "2021-10-02T18:30:46.074Z"
   },
   {
    "duration": 101,
    "start_time": "2021-10-02T18:30:46.545Z"
   },
   {
    "duration": 13,
    "start_time": "2021-10-02T18:30:46.648Z"
   },
   {
    "duration": 4,
    "start_time": "2021-10-02T18:30:46.662Z"
   },
   {
    "duration": 288,
    "start_time": "2021-10-02T18:30:46.668Z"
   },
   {
    "duration": 482,
    "start_time": "2021-10-02T18:30:46.958Z"
   },
   {
    "duration": 603,
    "start_time": "2021-10-02T18:30:47.444Z"
   },
   {
    "duration": 9,
    "start_time": "2021-10-02T18:30:48.049Z"
   },
   {
    "duration": 395,
    "start_time": "2021-10-02T18:30:48.060Z"
   },
   {
    "duration": 94287,
    "start_time": "2021-10-02T18:30:48.457Z"
   },
   {
    "duration": 286,
    "start_time": "2021-10-02T18:32:22.746Z"
   },
   {
    "duration": 35,
    "start_time": "2021-10-02T18:32:23.034Z"
   },
   {
    "duration": 457,
    "start_time": "2021-10-02T18:32:23.146Z"
   },
   {
    "duration": 3,
    "start_time": "2021-10-02T18:32:23.605Z"
   },
   {
    "duration": 22,
    "start_time": "2021-10-02T18:32:23.610Z"
   },
   {
    "duration": 211,
    "start_time": "2021-10-02T18:32:23.633Z"
   },
   {
    "duration": 100,
    "start_time": "2021-10-02T18:32:23.846Z"
   },
   {
    "duration": 161,
    "start_time": "2021-10-02T18:32:23.948Z"
   },
   {
    "duration": 5,
    "start_time": "2021-10-02T18:32:24.111Z"
   },
   {
    "duration": 416,
    "start_time": "2021-10-02T18:32:24.118Z"
   }
  ],
  "kernelspec": {
   "display_name": "Python 3",
   "language": "python",
   "name": "python3"
  },
  "language_info": {
   "codemirror_mode": {
    "name": "ipython",
    "version": 3
   },
   "file_extension": ".py",
   "mimetype": "text/x-python",
   "name": "python",
   "nbconvert_exporter": "python",
   "pygments_lexer": "ipython3",
   "version": "3.8.5"
  },
  "toc": {
   "base_numbering": 1,
   "nav_menu": {},
   "number_sections": true,
   "sideBar": true,
   "skip_h1_title": true,
   "title_cell": "Содержание",
   "title_sidebar": "Contents",
   "toc_cell": true,
   "toc_position": {
    "height": "calc(100% - 180px)",
    "left": "10px",
    "top": "150px",
    "width": "238.391px"
   },
   "toc_section_display": true,
   "toc_window_display": true
  }
 },
 "nbformat": 4,
 "nbformat_minor": 2
}
